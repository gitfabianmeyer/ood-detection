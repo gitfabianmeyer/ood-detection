{
 "cells": [
  {
   "cell_type": "code",
   "execution_count": null,
   "id": "ac06c7c5-0c88-4e7d-b574-4fff89b4b82e",
   "metadata": {},
   "outputs": [],
   "source": [
    "%load_ext autoreload\n",
    "%autoreload 2\n",
    "\n",
    "import matplotlib.pyplot as plt\n",
    "# Configure Matplotlib to use LaTeX for text rendering\n",
    "plt.rcParams['text.usetex'] = True\n",
    "\n",
    "# Set fonts for Matplotlib\n",
    "plt.rcParams['font.serif'] = 'Palatino'\n",
    "plt.rcParams['font.sans-serif'] = 'Helvetica'\n",
    "plt.rcParams['font.monospace'] = 'Courier'\n",
    "plt.rcParams['font.size'] = 11\n",
    "width_cm = 15\n",
    "height_cm = 6\n",
    "# Convert centimeters to inches\n",
    "width_in = width_cm / 2.54\n",
    "height_in = height_cm / 2.54\n",
    "import seaborn as sns\n",
    "sns.set_theme()\n",
    "figsize= (width_in, height_in)\n",
    "\n",
    "\n",
    "\n",
    "import os\n",
    "from metrics.plotting_utils import save_plot, get_history_from_project, save_csv, get_dataset_name_mapping\n",
    "import numpy as np\n",
    "import matplotlib.pyplot as plt\n",
    "import pandas as pd \n",
    "import wandb\n",
    "api = wandb.Api()\n",
    "from ood_detection.config import Config\n",
    "from datasets.config import DATASETS_DICT\n",
    "dataset_mapping = get_dataset_name_mapping()\n"
   ]
  },
  {
   "cell_type": "code",
   "execution_count": null,
   "id": "0ae34652-8af9-4f42-a830-e2277dbe6ebe",
   "metadata": {},
   "outputs": [],
   "source": [
    "df = get_history_from_project('thesis-logreg_linear_ablation-10-runs')"
   ]
  },
  {
   "cell_type": "code",
   "execution_count": null,
   "id": "d35d0218-fa20-4fc0-b7b5-48c8769ef2ec",
   "metadata": {},
   "outputs": [],
   "source": [
    "working_df = df.copy()"
   ]
  },
  {
   "cell_type": "code",
   "execution_count": null,
   "id": "e7a5cfb5-8ebe-4fd9-846b-73b3f1e5ff1e",
   "metadata": {},
   "outputs": [],
   "source": [
    "working_df = working_df.sort_index()"
   ]
  },
  {
   "cell_type": "code",
   "execution_count": null,
   "id": "b4132666-1f97-4ecc-8c4a-38f5c48cee8e",
   "metadata": {},
   "outputs": [],
   "source": [
    "working_df.drop([col for col in working_df.columns if \"_std\" in col], axis=1).plot(figsize=(14,6), kind='bar')"
   ]
  },
  {
   "cell_type": "code",
   "execution_count": null,
   "id": "a4b51e4c-370d-4613-b532-2493811e53ac",
   "metadata": {},
   "outputs": [],
   "source": [
    "def plot_errorbar(df, value_column, name):\n",
    "    error_corr = .5 * df[value_column + '_std']\n",
    "    lower = df[value_column] - error_corr\n",
    "    upper = df[value_column] + error_corr\n",
    "    #mean = df[value_column].mean().round(3)\n",
    "    #std = u\"\\u00B1{})\".format(df[value_column+'-std'].mean().round(2))\n",
    "    #label = name + f' (\\u03bc= {mean}' + std\n",
    "    \n",
    "    ax.plot(df[value_column], label = name)\n",
    "    ax.plot(lower, color='tab:blue', alpha=.1)\n",
    "    ax.plot(upper, color='tab:blue', alpha=.1)\n",
    "    ax.fill_between(range(len(df)), lower, upper, alpha=.3)"
   ]
  },
  {
   "cell_type": "code",
   "execution_count": null,
   "id": "0b43048f-7996-4d81-9069-b8b6fc74f571",
   "metadata": {},
   "outputs": [],
   "source": [
    "fig, ax = plt.subplots(figsize=figsize)\n",
    "plot_errorbar(working_df, 'linear', 'Linear Head')\n",
    "plot_errorbar(working_df, 'logreg', 'Logistic Head')\n",
    "ax.hlines(0.5, xmin=-.5, xmax=[len(working_df)], colors='darkgrey', alpha=0.9, linestyles='--', lw=2, label='Uninformed Guesser')\n",
    "ax.vlines([range(len(working_df))], ymin=0, ymax=working_df.max(axis=1),color='darkgrey', alpha=0.6)\n",
    "\n",
    "ax.set_ylim(0.2,1.1)\n",
    "ax.set_xticklabels([dataset_mapping[ind] for ind in working_df.index], rotation=45, ha='right')\n",
    "ax.legend(fontsize=7)\n",
    "ax.set_xlabel('ID / OOD Dataset')\n",
    "ax.set_ylabel('AUROC')\n",
    "# ax.set_title('Near-OOD Detection with Zero-Shot Methods')\n",
    "#plt.tight_layout()\n",
    "plt.show()\n",
    "save_plot(fig, 'logreg_vs_linear', 'appendix', False)"
   ]
  },
  {
   "cell_type": "code",
   "execution_count": null,
   "id": "e3cad4f2-9db1-4488-8b62-21bc940af24f",
   "metadata": {},
   "outputs": [],
   "source": [
    "new = {}\n",
    "new['name'] = []\n",
    "new['Linear Acc'] = []\n",
    "for name in DATASETS_DICT.keys():\n",
    "    curr_df = get_history_from_project(f'thesis-classification-linear_head-{name}')\n",
    "    acc = curr_df.loc['test'].dropna()[0]\n",
    "    new['name'].append(name)\n",
    "    new['Linear Acc'].append(acc)"
   ]
  },
  {
   "cell_type": "code",
   "execution_count": null,
   "id": "c44ac203-27fa-4e3d-8884-72cf36fc25b6",
   "metadata": {},
   "outputs": [],
   "source": [
    "linear_df = pd.DataFrame.from_dict(new).set_index('name')"
   ]
  },
  {
   "cell_type": "code",
   "execution_count": null,
   "id": "702b383b-c978-472e-a8e2-4ee2c77c38ef",
   "metadata": {},
   "outputs": [],
   "source": [
    "logistic_df = get_history_from_project('thesis-logreg-classification').rename(columns={'Acc':'Logistic Acc'})"
   ]
  },
  {
   "cell_type": "code",
   "execution_count": null,
   "id": "694b4ae9-d675-47c2-bddc-8a61aefcbd9d",
   "metadata": {},
   "outputs": [],
   "source": [
    "classification_df = pd.concat([linear_df, logistic_df.drop('C', axis=1)], axis=1)\n",
    "classification_df = classification_df * 100"
   ]
  },
  {
   "cell_type": "code",
   "execution_count": null,
   "id": "07644093-a89e-4bd1-93f5-e26a217fcd27",
   "metadata": {},
   "outputs": [],
   "source": [
    "classification_df = classification_df.reset_index()"
   ]
  },
  {
   "cell_type": "code",
   "execution_count": null,
   "id": "42ce64fc-15b5-4461-9660-2eab92d276c0",
   "metadata": {},
   "outputs": [],
   "source": [
    "classification_df.name = classification_df.name.apply(lambda x: dataset_mapping[x])"
   ]
  },
  {
   "cell_type": "code",
   "execution_count": null,
   "id": "5d2362e6-04e3-4671-ae33-5632b0116084",
   "metadata": {},
   "outputs": [],
   "source": [
    "save_csv(classification_df.set_index('name').round(2),'appendix', 'full_classification')"
   ]
  },
  {
   "cell_type": "code",
   "execution_count": null,
   "id": "ae3d0c0a-7b9b-46ad-963e-fc38271decb1",
   "metadata": {},
   "outputs": [],
   "source": [
    "classification_df.round(2).mean().round(2)"
   ]
  },
  {
   "cell_type": "markdown",
   "id": "f97a62cd-d7f7-4dcb-8bb6-1c6204e4025b",
   "metadata": {},
   "source": [
    "## Decoder Training"
   ]
  },
  {
   "cell_type": "code",
   "execution_count": null,
   "id": "b8d9be05-cc9a-401a-92a0-33776fa83dbb",
   "metadata": {},
   "outputs": [],
   "source": [
    "csv_path = os.path.join(Config.DATAPATH, 'csvs')"
   ]
  },
  {
   "cell_type": "code",
   "execution_count": null,
   "id": "3dcad382-0298-4e6c-975e-48602665eedd",
   "metadata": {},
   "outputs": [],
   "source": [
    "csv = os.path.join(csv_path, 'decoder_mean_losses.csv')\n",
    "train_loss = pd.read_csv(csv)\n",
    "train_loss.rename(columns={'COCO 25 Epochs 0.0001 - train mean loss': 'Train Loss', 'COCO 25 Epochs 0.0001 - val mean loss': 'Validation Loss'}, inplace=True)"
   ]
  },
  {
   "cell_type": "code",
   "execution_count": null,
   "id": "d37d57c3-346f-49cb-86ba-c7de8ec54e2e",
   "metadata": {},
   "outputs": [],
   "source": [
    "fig, ax = plt.subplots(figsize=figsize)\n",
    "ax.plot(train_loss['epoch'], train_loss['Train Loss'], label='Train Loss')\n",
    "ax.plot(train_loss['epoch'], train_loss['Validation Loss'], label='Validation Loss')\n",
    "ax.legend(fontsize=7)\n",
    "ax.set_xlabel('Epoch')\n",
    "ax.set_ylabel('Loss')\n",
    "ax.set_xlim(0, 26)\n",
    "# ax.set_xticks(train_loss['epoch'])\n",
    "save_plot(fig, 'decoder', 'appendix', False)"
   ]
  },
  {
   "cell_type": "markdown",
   "id": "ec6bc8f3-0c77-450a-9414-9d56fce0a7e2",
   "metadata": {},
   "source": [
    "## Temperature & Templates"
   ]
  },
  {
   "cell_type": "code",
   "execution_count": null,
   "id": "869f8669-357c-4e0a-930a-9b7c95af7450",
   "metadata": {},
   "outputs": [],
   "source": [
    "df_custom = get_history_from_project('thesis-near_ood-temperature-ct-temps', False)\n",
    "df_default = get_history_from_project('thesis-near_ood-temperature-dt-temps', False)"
   ]
  },
  {
   "cell_type": "code",
   "execution_count": null,
   "id": "e98769f9-d9c8-499a-93f0-d061ba10bce0",
   "metadata": {},
   "outputs": [],
   "source": [
    "custom = df_custom.copy()\n",
    "default = df_default.copy()"
   ]
  },
  {
   "cell_type": "code",
   "execution_count": null,
   "id": "62422fbe-4e43-4da1-bdf1-b4e78ef7bb65",
   "metadata": {},
   "outputs": [],
   "source": [
    "temp_custom = custom.groupby('temperature').mean().sort_values('temperature', ascending=True)[['mlp', 'msp']]\n",
    "temp_default = default.groupby('temperature').mean().sort_values('temperature', ascending=True)[['mlp', 'msp']]"
   ]
  },
  {
   "cell_type": "code",
   "execution_count": null,
   "id": "b72e84ed-8383-453c-b931-055317ecf782",
   "metadata": {},
   "outputs": [],
   "source": [
    "temp_custom.mean()"
   ]
  },
  {
   "cell_type": "code",
   "execution_count": null,
   "id": "f3f18b34-a8fa-4721-a530-6dea478cf718",
   "metadata": {},
   "outputs": [],
   "source": [
    "temp_default.mean()"
   ]
  },
  {
   "cell_type": "code",
   "execution_count": null,
   "id": "840a9eee-0418-44e7-8759-7b05c0990dad",
   "metadata": {},
   "outputs": [],
   "source": [
    "fig, ax = plt.subplots(figsize=figsize)\n",
    "ax.plot(temp_custom.index, temp_custom['mlp'], label = 'Custom Prompts - MLS')\n",
    "ax.plot(temp_custom.index, temp_custom['msp'],  label = 'Custom Prompts - MSP')\n",
    "\n",
    "ax.plot(temp_default.index, temp_default['mlp'], label = 'Default Prompt - MLS')\n",
    "ax.plot(temp_default.index, temp_default['msp'],  label = 'Default Prompt - MSP')\n",
    "\n",
    "ax.set_xscale('log')\n",
    "ax.set_yscale('linear')\n",
    "ax.legend(fontsize=7)\n",
    "ax.set_xlabel('Temperature')\n",
    "ax.set_ylabel('AUROC')\n",
    "# ax.hlines(0.5, xmin=-.5, xmax=[len(temp_default)], colors='darkgrey', alpha=0.9, linestyles='--', lw=2, label='Uninformed Guesser')\n",
    "custom_ticks = [0.01, 0.01, 0.1, 1, 10, 100]\n",
    "ax.set_xticks(custom_ticks)\n",
    "ax.set_xticklabels(custom_ticks)\n",
    "\n",
    "save_plot(fig, 'temperature-prompts-near' ,'appendix', False)"
   ]
  },
  {
   "cell_type": "markdown",
   "id": "21c63645-7fa1-432e-9cf6-4778797abda2",
   "metadata": {},
   "source": [
    "### ZOC"
   ]
  },
  {
   "cell_type": "code",
   "execution_count": null,
   "id": "8a376a44-3cdc-42a0-aed9-0a192695faf6",
   "metadata": {},
   "outputs": [],
   "source": [
    "zoc_temps = get_history_from_project('thesis-ablation-zoc_temps', False)"
   ]
  },
  {
   "cell_type": "code",
   "execution_count": null,
   "id": "ada06818-121e-4deb-a9e4-8b0a5daf45f0",
   "metadata": {},
   "outputs": [],
   "source": [
    "zoc_temps.head(1)"
   ]
  },
  {
   "cell_type": "code",
   "execution_count": null,
   "id": "34d12562-136d-4f9d-9565-350a4bba26bc",
   "metadata": {},
   "outputs": [],
   "source": [
    "groups = zoc_temps.groupby('name')"
   ]
  },
  {
   "cell_type": "code",
   "execution_count": null,
   "id": "b2146636-4d48-47f2-8e8a-bfdbba011ea8",
   "metadata": {},
   "outputs": [],
   "source": [
    "def plot_zoc_errorbar(df, value_column, name):\n",
    "    error_corr = .5 * df[value_column + '_std']\n",
    "    lower = df[value_column] - error_corr\n",
    "    upper = df[value_column] + error_corr\n",
    "    #mean = df[value_column].mean().round(3)\n",
    "    #std = u\"\\u00B1{})\".format(df[value_column+'-std'].mean().round(2))\n",
    "    #label = name + f' (\\u03bc= {mean}' + std\n",
    "    \n",
    "    ax.plot(df['temperature'], df[value_column], label = name)\n",
    "    ax.plot(df['temperature'], lower, color='tab:blue', alpha=.1)\n",
    "    ax.plot(df['temperature'], upper, color='tab:blue', alpha=.1)\n",
    "    ax.fill_between(df['temperature'], lower, upper, alpha=.3)"
   ]
  },
  {
   "cell_type": "code",
   "execution_count": null,
   "id": "31267882-81d1-4015-acd2-ae7369fe0f79",
   "metadata": {},
   "outputs": [],
   "source": [
    "import matplotlib.pyplot as plt\n",
    "\n",
    "\n",
    "fig, ax = plt.subplots(figsize=figsize)\n",
    "ax.set_yscale('linear')\n",
    "ax.set_xscale('log')\n",
    "\n",
    "for name, group in groups:\n",
    "    plot_zoc_errorbar(group, 'zoc', dataset_mapping[name])\n",
    "ax.hlines(0.5, xmin=-.5, xmax=[len(group)], colors='darkgrey', alpha=0.9, linestyles='--', lw=2, label='Uninformed Guesser')\n",
    "\n",
    "ax.legend(fontsize=7)\n",
    "ax.set_xlabel('Temperature')\n",
    "ax.set_ylabel('AUROC')\n",
    "custom_ticks = [0.001, 0.01, 0.01, 0.1, 1, 10, 100]\n",
    "ax.set_xticks(custom_ticks)\n",
    "ax.set_xticklabels(custom_ticks)\n",
    "save_plot(fig, 'zoc-temps' ,'appendix', False)"
   ]
  },
  {
   "cell_type": "markdown",
   "id": "f4f9ca53-6c58-421f-8e5a-5c22cfa36950",
   "metadata": {},
   "source": [
    "### kshot ablation\n"
   ]
  },
  {
   "cell_type": "code",
   "execution_count": null,
   "id": "d2080e7c-b274-4f7c-a9b6-eabdc10b4748",
   "metadata": {},
   "outputs": [],
   "source": [
    "kshot = pd.read_csv(os.path.join(csv_path, 'linear_kshots.csv'))"
   ]
  },
  {
   "cell_type": "code",
   "execution_count": null,
   "id": "3775b8e2-6472-41a1-9da0-eeac2ea9ec34",
   "metadata": {},
   "outputs": [],
   "source": [
    "sets = ['imagenet', 'gtsrb', 'svhn', 'mnist', 'cifar100', 'cifar10', 'fashion mnist']"
   ]
  },
  {
   "cell_type": "code",
   "execution_count": null,
   "id": "1a1738ab-3470-4a0c-95e8-be6977658c85",
   "metadata": {},
   "outputs": [],
   "source": [
    "cols = ['linear', 'tipf', 'clip']"
   ]
  },
  {
   "cell_type": "code",
   "execution_count": null,
   "id": "b6e13352-d1a2-4d18-811d-53fb89b86675",
   "metadata": {},
   "outputs": [],
   "source": [
    "sets_cols = []\n",
    "for s in sets:\n",
    "    for c in cols:\n",
    "        sets_cols.append(\" - \".join([s, c]))\n",
    "sets_cols.append('shots')"
   ]
  },
  {
   "cell_type": "code",
   "execution_count": null,
   "id": "f4a8a659-f58a-4546-a7f1-6388a9758f13",
   "metadata": {},
   "outputs": [],
   "source": [
    "kshots = kshot[sets_cols]"
   ]
  },
  {
   "cell_type": "code",
   "execution_count": null,
   "id": "16894da0-2ef4-4164-9855-7fdf764b8d55",
   "metadata": {},
   "outputs": [],
   "source": [
    "fig, axs = plt.subplots(2,2, figsize=(15/2.54, 12/2.54), sharey=True, sharex=True)\n",
    "lines = [] # to hold the lines of each subplot\n",
    "labels = [] # to hold the unique labels\n",
    "for i, name in enumerate(['cifar10', 'cifar100', 'gtsrb','imagenet' ]):\n",
    "    for label, strat in [('Linear Probe', 'linear'), ('T-MCM-f','tipf'), ('MCM', 'clip')]:\n",
    "    \n",
    "        line, = axs[i//2, i%2].plot(kshots['shots'], kshots[\" - \".join([name, strat])], label=label)\n",
    "        axs[i//2, i%2].set_title(dataset_mapping[name])\n",
    "        if label not in labels:\n",
    "            labels.append(label)\n",
    "            lines.append(line)\n",
    "\n",
    "# add the horizontal line outside the loop, with the 'Uninformed Guesser' label\n",
    "for ax in axs.flat:\n",
    "    line = ax.hlines(0.5, xmin=0, xmax=kshots['shots'].max(), colors='darkgrey', alpha=0.9, linestyles='--', lw=2, label='Uninformed Guesser')\n",
    "# add the 'Uninformed Guesser' line to the list of lines for the legend\n",
    "lines.append(line)\n",
    "\n",
    "# set the x-axis to have a log2 scale\n",
    "for ax in axs.flat:\n",
    "    ax.set_xscale('log', base=2)\n",
    "    \n",
    "for ax in axs.flat:\n",
    "    ax.set_xticks([2, 4, 8, 16, 32, 64])\n",
    "    ax.set_xticklabels([2, 4, 8, 16, 32, 64])  # Set custom tick labels\n",
    "\n",
    "    \n",
    "fig.text(0.04, 0.5, 'AUROC', va='center', rotation='vertical')\n",
    "fig.text(0.47, 0., 'k-shots', va='center', rotation='horizontal')\n",
    "\n",
    "\n",
    "# create a shared legend outside of the subplots and position it relative to the figure\n",
    "fig.legend(lines, [line.get_label() for line in lines], loc='lower center', ncol=3, bbox_to_anchor=(0.5, -0.2))\n",
    "save_plot(fig, name='kshot_ablation', chapter='appendix', test_version=False)\n",
    "plt.show()\n"
   ]
  },
  {
   "cell_type": "code",
   "execution_count": null,
   "id": "5f588a08-e049-4cf1-805a-95577778d0d8",
   "metadata": {},
   "outputs": [],
   "source": [
    "kshots[[n for n in kshots.columns if \"imagenet\" in n]].plot()"
   ]
  },
  {
   "cell_type": "code",
   "execution_count": null,
   "id": "b30d52e8-21a6-481d-bdf3-bced132f5d4d",
   "metadata": {},
   "outputs": [],
   "source": [
    "kshots[[n for n in kshots.columns if \"gtsrb\" in n]].plot()"
   ]
  },
  {
   "cell_type": "code",
   "execution_count": null,
   "id": "a0eb4799-9479-4c4f-9b88-78c273df197a",
   "metadata": {
    "tags": []
   },
   "outputs": [],
   "source": [
    "kshots[[n for n in kshots.columns if \"cifar100\" in n]].plot()"
   ]
  },
  {
   "cell_type": "code",
   "execution_count": null,
   "id": "f4ea61cf-7b11-4c07-9194-9655070183b7",
   "metadata": {
    "tags": []
   },
   "outputs": [],
   "source": []
  }
 ],
 "metadata": {
  "kernelspec": {
   "display_name": "Python 3 (ipykernel)",
   "language": "python",
   "name": "python3"
  },
  "language_info": {
   "codemirror_mode": {
    "name": "ipython",
    "version": 3
   },
   "file_extension": ".py",
   "mimetype": "text/x-python",
   "name": "python",
   "nbconvert_exporter": "python",
   "pygments_lexer": "ipython3",
   "version": "3.8.13"
  }
 },
 "nbformat": 4,
 "nbformat_minor": 5
}
