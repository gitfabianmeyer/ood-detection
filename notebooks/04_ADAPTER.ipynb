{
 "cells": [
  {
   "cell_type": "code",
   "execution_count": 1,
   "id": "3caa5cdd-9d83-4b0a-873c-346311428451",
   "metadata": {
    "tags": []
   },
   "outputs": [
    {
     "name": "stderr",
     "output_type": "stream",
     "text": [
      "/home/fmeyer/miniconda3/envs/ood/lib/python3.8/site-packages/scipy/__init__.py:138: UserWarning: A NumPy version >=1.16.5 and <1.23.0 is required for this version of SciPy (detected version 1.24.1)\n",
      "  warnings.warn(f\"A NumPy version >={np_minversion} and <{np_maxversion} is required for this version of \"\n",
      "/home/fmeyer/miniconda3/envs/ood/lib/python3.8/site-packages/tqdm/auto.py:22: TqdmWarning: IProgress not found. Please update jupyter and ipywidgets. See https://ipywidgets.readthedocs.io/en/stable/user_install.html\n",
      "  from .autonotebook import tqdm as notebook_tqdm\n"
     ]
    }
   ],
   "source": [
    "%load_ext autoreload\n",
    "%autoreload 2\n",
    "\n",
    "import matplotlib.pyplot as plt\n",
    "# Configure Matplotlib to use LaTeX for text rendering\n",
    "plt.rcParams['text.usetex'] = True\n",
    "\n",
    "# Set fonts for Matplotlib\n",
    "plt.rcParams['font.serif'] = 'Palatino'\n",
    "plt.rcParams['font.sans-serif'] = 'Helvetica'\n",
    "plt.rcParams['font.monospace'] = 'Courier'\n",
    "plt.rcParams['font.size'] = 11\n",
    "width_cm = 15\n",
    "height_cm = 6\n",
    "# Convert centimeters to inches\n",
    "width_in = width_cm / 2.54\n",
    "height_in = height_cm / 2.54\n",
    "import seaborn as sns\n",
    "sns.set_theme()\n",
    "figsize= (width_in, height_in)\n",
    "\n",
    "\n",
    "import numpy as np\n",
    "import pandas as pd \n",
    "import wandb\n",
    "from metrics.plotting_utils import save_plot, get_history_from_project, save_csv, get_dataset_name_mapping\n",
    "from ood_detection.config import Config\n",
    "from datasets.config import DATASETS_DICT\n",
    "\n",
    "\n",
    "\n",
    "dataset_mapping = get_dataset_name_mapping()\n",
    "api = wandb.Api()"
   ]
  },
  {
   "cell_type": "markdown",
   "id": "e22cc1b9-9539-4b07-9951-2a6254a669c2",
   "metadata": {
    "tags": []
   },
   "source": [
    "### Classification improvements:\n",
    "1. Compare zeroshot baseline to TIP & TIP-f. Maybe add linear\n"
   ]
  },
  {
   "cell_type": "code",
   "execution_count": 2,
   "id": "b614cd8c-e828-460d-810e-06fe9d2fef33",
   "metadata": {},
   "outputs": [],
   "source": [
    "orig = get_history_from_project('thesis-tip-adapters-16_shots-temp_0.01', set_name_index=False)"
   ]
  },
  {
   "cell_type": "code",
   "execution_count": 3,
   "id": "62a62bc3-c113-4eb3-9325-f961294ad78c",
   "metadata": {},
   "outputs": [],
   "source": [
    "zsa, tip, tipf = 'ZEROSHOT', 'TIP ADAPTER', 'TIP-F ADAPTER'\n",
    "diffs = [f\"{zsa}-{tip}\", f\"{zsa}-{tipf}\", f\"{tip}-{tipf}\"]\n",
    "metrics = [zsa, tip, tipf]\n",
    "metric_converter = {'ZEROSHOT': 'ZSA', 'TIP ADAPTER':'TIP', 'TIP-F ADAPTER':'TIP-f' }"
   ]
  },
  {
   "cell_type": "code",
   "execution_count": 4,
   "id": "d369402a-a74f-4975-ba06-8efd666e9620",
   "metadata": {},
   "outputs": [],
   "source": [
    "classification_df = orig.copy()\n",
    "classification_df = classification_df.sort_values('name').reset_index(drop=True)\n",
    "classification_df['name']= classification_df['name'].apply(lambda x: dataset_mapping[x])\n",
    "means = classification_df"
   ]
  },
  {
   "cell_type": "markdown",
   "id": "c3d3a223-965e-4e64-be1e-9c1aa262c40b",
   "metadata": {},
   "source": [
    "### get differences"
   ]
  },
  {
   "cell_type": "code",
   "execution_count": 5,
   "id": "baa37515-8858-425d-895d-d61c16ec29cd",
   "metadata": {},
   "outputs": [],
   "source": [
    "for met1 in metrics:\n",
    "    for met2 in metrics:\n",
    "        if met1 == met2:\n",
    "            continue\n",
    "        classification_df[f'{met1}-{met2}'] = classification_df.apply(lambda row: row[met2] - row[met1],  axis=1)"
   ]
  },
  {
   "cell_type": "markdown",
   "id": "1172fe37-b6d4-46b4-aa65-26be477d2934",
   "metadata": {
    "tags": []
   },
   "source": [
    "## Means & stds overall"
   ]
  },
  {
   "cell_type": "code",
   "execution_count": 6,
   "id": "c0a37ee3-041b-402e-b888-6cb5cec19b45",
   "metadata": {},
   "outputs": [
    {
     "data": {
      "text/plain": [
       "ZEROSHOT         57.35\n",
       "TIP ADAPTER      66.92\n",
       "TIP-F ADAPTER    66.73\n",
       "dtype: float64"
      ]
     },
     "execution_count": 6,
     "metadata": {},
     "output_type": "execute_result"
    }
   ],
   "source": [
    "classification_df[metrics].mean().round(2)"
   ]
  },
  {
   "cell_type": "code",
   "execution_count": 7,
   "id": "fbd5d537-09cf-4130-ada1-92b12507cf97",
   "metadata": {},
   "outputs": [
    {
     "data": {
      "text/plain": [
       "ZEROSHOT         18.040034\n",
       "TIP ADAPTER      17.959662\n",
       "TIP-F ADAPTER    14.894692\n",
       "dtype: float64"
      ]
     },
     "execution_count": 7,
     "metadata": {},
     "output_type": "execute_result"
    }
   ],
   "source": [
    "classification_df[metrics].std()"
   ]
  },
  {
   "cell_type": "code",
   "execution_count": 8,
   "id": "ec10c485-affc-45b7-8f17-9d1585783d7e",
   "metadata": {},
   "outputs": [
    {
     "data": {
      "text/plain": [
       "ZEROSHOT-TIP ADAPTER         9.572160\n",
       "ZEROSHOT-TIP-F ADAPTER       9.379388\n",
       "TIP ADAPTER-TIP-F ADAPTER   -0.192772\n",
       "dtype: float64"
      ]
     },
     "execution_count": 8,
     "metadata": {},
     "output_type": "execute_result"
    }
   ],
   "source": [
    "classification_df[diffs].mean()"
   ]
  },
  {
   "cell_type": "code",
   "execution_count": 9,
   "id": "881f3ab2-40d7-41be-9467-4f12afd294d2",
   "metadata": {},
   "outputs": [],
   "source": [
    "#classification_df[diffs].std()"
   ]
  },
  {
   "cell_type": "code",
   "execution_count": 10,
   "id": "51623e85-4795-49af-ab60-99af9bbb11bb",
   "metadata": {
    "tags": []
   },
   "outputs": [],
   "source": [
    "#for name, group in classification_df.groupby('name'):\n",
    "    #print(name)\n",
    "    #print('mean')\n",
    "    #print(group[metrics].mean())\n",
    "   # print('std')\n",
    "    #print(group[metrics].std())\n",
    "    #print('\\n')"
   ]
  },
  {
   "cell_type": "code",
   "execution_count": 11,
   "id": "01d65188-3182-4e83-b101-4c15d649399a",
   "metadata": {
    "tags": []
   },
   "outputs": [],
   "source": [
    "#classification_df[diffs].std()"
   ]
  },
  {
   "cell_type": "code",
   "execution_count": 12,
   "id": "dd564bbb-1780-4115-b5b7-bfe2c1c0fd70",
   "metadata": {
    "tags": []
   },
   "outputs": [],
   "source": [
    "#for name, group in classification_df.groupby('name'):\n",
    "#    print(name)\n",
    "#    print('\\t\\tmean')\n",
    "#    print(group[metrics].mean())\n",
    "#    print('\\t\\tSTD')\n",
    "#    print(group[metrics].std())\n",
    "#    print('\\n')"
   ]
  },
  {
   "cell_type": "markdown",
   "id": "334c525a-ea05-4878-b51f-e6d9356ca806",
   "metadata": {
    "tags": []
   },
   "source": [
    "### Plot errorbars over all datasets for appendix"
   ]
  },
  {
   "cell_type": "code",
   "execution_count": 13,
   "id": "9246428f-f375-43a6-85dd-431f7282d57f",
   "metadata": {
    "tags": []
   },
   "outputs": [],
   "source": [
    "def plot_errorbar(means, stds, metric):\n",
    "    \n",
    "    error_corr = .5 * stds[metric]\n",
    "    lower = means[metric] - error_corr\n",
    "    upper = means[metric] + error_corr\n",
    "    ax.plot(means.index, means[metric], label= metric_converter[metric])\n",
    "    ax.plot(lower, color='tab:blue', alpha=.1)\n",
    "    ax.plot(upper, color='tab:blue', alpha=.1)\n",
    "    ax.fill_between(range(len(means)), lower, upper, alpha=.3)"
   ]
  },
  {
   "cell_type": "code",
   "execution_count": 14,
   "id": "1de3fa52-6828-4e8f-95e0-6595ad74b31d",
   "metadata": {
    "tags": []
   },
   "outputs": [
    {
     "data": {
      "text/html": [
       "<div>\n",
       "<style scoped>\n",
       "    .dataframe tbody tr th:only-of-type {\n",
       "        vertical-align: middle;\n",
       "    }\n",
       "\n",
       "    .dataframe tbody tr th {\n",
       "        vertical-align: top;\n",
       "    }\n",
       "\n",
       "    .dataframe thead th {\n",
       "        text-align: right;\n",
       "    }\n",
       "</style>\n",
       "<table border=\"1\" class=\"dataframe\">\n",
       "  <thead>\n",
       "    <tr style=\"text-align: right;\">\n",
       "      <th></th>\n",
       "      <th>TIP-F F1</th>\n",
       "      <th>ZEROSHOT</th>\n",
       "      <th>TIP ADAPTER</th>\n",
       "      <th>temperature</th>\n",
       "      <th>TIP F1</th>\n",
       "      <th>TIP-F ADAPTER</th>\n",
       "      <th>tip_best_beta</th>\n",
       "      <th>shots_per_class</th>\n",
       "      <th>zf1</th>\n",
       "      <th>tipf_best_beta</th>\n",
       "      <th>tipf_best_alpha</th>\n",
       "      <th>tip_best_alpha</th>\n",
       "      <th>name</th>\n",
       "      <th>ZEROSHOT-TIP ADAPTER</th>\n",
       "      <th>ZEROSHOT-TIP-F ADAPTER</th>\n",
       "      <th>TIP ADAPTER-ZEROSHOT</th>\n",
       "      <th>TIP ADAPTER-TIP-F ADAPTER</th>\n",
       "      <th>TIP-F ADAPTER-ZEROSHOT</th>\n",
       "      <th>TIP-F ADAPTER-TIP ADAPTER</th>\n",
       "    </tr>\n",
       "  </thead>\n",
       "  <tbody>\n",
       "    <tr>\n",
       "      <th>26</th>\n",
       "      <td>90.487825</td>\n",
       "      <td>89.83</td>\n",
       "      <td>91.47</td>\n",
       "      <td>0.01</td>\n",
       "      <td>91.476220</td>\n",
       "      <td>90.51</td>\n",
       "      <td>5.000000</td>\n",
       "      <td>16</td>\n",
       "      <td>89.813228</td>\n",
       "      <td>0.644444</td>\n",
       "      <td>1.188889</td>\n",
       "      <td>1.733333</td>\n",
       "      <td>CIFAR10</td>\n",
       "      <td>1.64</td>\n",
       "      <td>0.68</td>\n",
       "      <td>-1.64</td>\n",
       "      <td>-0.96</td>\n",
       "      <td>-0.68</td>\n",
       "      <td>0.96</td>\n",
       "    </tr>\n",
       "    <tr>\n",
       "      <th>22</th>\n",
       "      <td>90.556678</td>\n",
       "      <td>89.83</td>\n",
       "      <td>91.15</td>\n",
       "      <td>0.01</td>\n",
       "      <td>91.142415</td>\n",
       "      <td>90.55</td>\n",
       "      <td>5.000000</td>\n",
       "      <td>16</td>\n",
       "      <td>89.813228</td>\n",
       "      <td>3.366667</td>\n",
       "      <td>5.000000</td>\n",
       "      <td>1.733333</td>\n",
       "      <td>CIFAR10</td>\n",
       "      <td>1.32</td>\n",
       "      <td>0.72</td>\n",
       "      <td>-1.32</td>\n",
       "      <td>-0.60</td>\n",
       "      <td>-0.72</td>\n",
       "      <td>0.60</td>\n",
       "    </tr>\n",
       "    <tr>\n",
       "      <th>23</th>\n",
       "      <td>91.006955</td>\n",
       "      <td>89.83</td>\n",
       "      <td>91.40</td>\n",
       "      <td>0.01</td>\n",
       "      <td>91.393785</td>\n",
       "      <td>91.02</td>\n",
       "      <td>3.911111</td>\n",
       "      <td>16</td>\n",
       "      <td>89.813228</td>\n",
       "      <td>3.366667</td>\n",
       "      <td>4.455556</td>\n",
       "      <td>1.733333</td>\n",
       "      <td>CIFAR10</td>\n",
       "      <td>1.57</td>\n",
       "      <td>1.19</td>\n",
       "      <td>-1.57</td>\n",
       "      <td>-0.38</td>\n",
       "      <td>-1.19</td>\n",
       "      <td>0.38</td>\n",
       "    </tr>\n",
       "    <tr>\n",
       "      <th>24</th>\n",
       "      <td>90.703967</td>\n",
       "      <td>89.83</td>\n",
       "      <td>91.48</td>\n",
       "      <td>0.01</td>\n",
       "      <td>91.486103</td>\n",
       "      <td>90.69</td>\n",
       "      <td>5.000000</td>\n",
       "      <td>16</td>\n",
       "      <td>89.813228</td>\n",
       "      <td>1.733333</td>\n",
       "      <td>1.733333</td>\n",
       "      <td>1.733333</td>\n",
       "      <td>CIFAR10</td>\n",
       "      <td>1.65</td>\n",
       "      <td>0.86</td>\n",
       "      <td>-1.65</td>\n",
       "      <td>-0.79</td>\n",
       "      <td>-0.86</td>\n",
       "      <td>0.79</td>\n",
       "    </tr>\n",
       "    <tr>\n",
       "      <th>25</th>\n",
       "      <td>90.767335</td>\n",
       "      <td>89.83</td>\n",
       "      <td>91.64</td>\n",
       "      <td>0.01</td>\n",
       "      <td>91.649047</td>\n",
       "      <td>90.78</td>\n",
       "      <td>3.366667</td>\n",
       "      <td>16</td>\n",
       "      <td>89.813228</td>\n",
       "      <td>2.822222</td>\n",
       "      <td>3.366667</td>\n",
       "      <td>1.733333</td>\n",
       "      <td>CIFAR10</td>\n",
       "      <td>1.81</td>\n",
       "      <td>0.95</td>\n",
       "      <td>-1.81</td>\n",
       "      <td>-0.86</td>\n",
       "      <td>-0.95</td>\n",
       "      <td>0.86</td>\n",
       "    </tr>\n",
       "    <tr>\n",
       "      <th>...</th>\n",
       "      <td>...</td>\n",
       "      <td>...</td>\n",
       "      <td>...</td>\n",
       "      <td>...</td>\n",
       "      <td>...</td>\n",
       "      <td>...</td>\n",
       "      <td>...</td>\n",
       "      <td>...</td>\n",
       "      <td>...</td>\n",
       "      <td>...</td>\n",
       "      <td>...</td>\n",
       "      <td>...</td>\n",
       "      <td>...</td>\n",
       "      <td>...</td>\n",
       "      <td>...</td>\n",
       "      <td>...</td>\n",
       "      <td>...</td>\n",
       "      <td>...</td>\n",
       "      <td>...</td>\n",
       "    </tr>\n",
       "    <tr>\n",
       "      <th>85</th>\n",
       "      <td>67.336007</td>\n",
       "      <td>62.88</td>\n",
       "      <td>66.08</td>\n",
       "      <td>0.01</td>\n",
       "      <td>65.543786</td>\n",
       "      <td>67.49</td>\n",
       "      <td>5.000000</td>\n",
       "      <td>16</td>\n",
       "      <td>62.419706</td>\n",
       "      <td>1.733333</td>\n",
       "      <td>1.733333</td>\n",
       "      <td>1.733333</td>\n",
       "      <td>TinyImagenet</td>\n",
       "      <td>3.20</td>\n",
       "      <td>4.61</td>\n",
       "      <td>-3.20</td>\n",
       "      <td>1.41</td>\n",
       "      <td>-4.61</td>\n",
       "      <td>-1.41</td>\n",
       "    </tr>\n",
       "    <tr>\n",
       "      <th>86</th>\n",
       "      <td>67.050028</td>\n",
       "      <td>62.88</td>\n",
       "      <td>65.62</td>\n",
       "      <td>0.01</td>\n",
       "      <td>65.168054</td>\n",
       "      <td>67.39</td>\n",
       "      <td>4.455556</td>\n",
       "      <td>16</td>\n",
       "      <td>62.419706</td>\n",
       "      <td>1.188889</td>\n",
       "      <td>1.188889</td>\n",
       "      <td>1.733333</td>\n",
       "      <td>TinyImagenet</td>\n",
       "      <td>2.74</td>\n",
       "      <td>4.51</td>\n",
       "      <td>-2.74</td>\n",
       "      <td>1.77</td>\n",
       "      <td>-4.51</td>\n",
       "      <td>-1.77</td>\n",
       "    </tr>\n",
       "    <tr>\n",
       "      <th>89</th>\n",
       "      <td>67.475863</td>\n",
       "      <td>62.88</td>\n",
       "      <td>65.89</td>\n",
       "      <td>0.01</td>\n",
       "      <td>65.315672</td>\n",
       "      <td>67.61</td>\n",
       "      <td>5.000000</td>\n",
       "      <td>16</td>\n",
       "      <td>62.419706</td>\n",
       "      <td>2.822222</td>\n",
       "      <td>2.822222</td>\n",
       "      <td>1.733333</td>\n",
       "      <td>TinyImagenet</td>\n",
       "      <td>3.01</td>\n",
       "      <td>4.73</td>\n",
       "      <td>-3.01</td>\n",
       "      <td>1.72</td>\n",
       "      <td>-4.73</td>\n",
       "      <td>-1.72</td>\n",
       "    </tr>\n",
       "    <tr>\n",
       "      <th>83</th>\n",
       "      <td>67.367291</td>\n",
       "      <td>62.88</td>\n",
       "      <td>65.77</td>\n",
       "      <td>0.01</td>\n",
       "      <td>65.304953</td>\n",
       "      <td>67.70</td>\n",
       "      <td>5.000000</td>\n",
       "      <td>16</td>\n",
       "      <td>62.419706</td>\n",
       "      <td>2.277778</td>\n",
       "      <td>1.733333</td>\n",
       "      <td>1.733333</td>\n",
       "      <td>TinyImagenet</td>\n",
       "      <td>2.89</td>\n",
       "      <td>4.82</td>\n",
       "      <td>-2.89</td>\n",
       "      <td>1.93</td>\n",
       "      <td>-4.82</td>\n",
       "      <td>-1.93</td>\n",
       "    </tr>\n",
       "    <tr>\n",
       "      <th>87</th>\n",
       "      <td>67.193221</td>\n",
       "      <td>62.88</td>\n",
       "      <td>65.93</td>\n",
       "      <td>0.01</td>\n",
       "      <td>65.268761</td>\n",
       "      <td>67.51</td>\n",
       "      <td>5.000000</td>\n",
       "      <td>16</td>\n",
       "      <td>62.419706</td>\n",
       "      <td>1.188889</td>\n",
       "      <td>1.188889</td>\n",
       "      <td>2.277778</td>\n",
       "      <td>TinyImagenet</td>\n",
       "      <td>3.05</td>\n",
       "      <td>4.63</td>\n",
       "      <td>-3.05</td>\n",
       "      <td>1.58</td>\n",
       "      <td>-4.63</td>\n",
       "      <td>-1.58</td>\n",
       "    </tr>\n",
       "  </tbody>\n",
       "</table>\n",
       "<p>120 rows × 19 columns</p>\n",
       "</div>"
      ],
      "text/plain": [
       "     TIP-F F1  ZEROSHOT  TIP ADAPTER  temperature     TIP F1  TIP-F ADAPTER  \\\n",
       "26  90.487825     89.83        91.47         0.01  91.476220          90.51   \n",
       "22  90.556678     89.83        91.15         0.01  91.142415          90.55   \n",
       "23  91.006955     89.83        91.40         0.01  91.393785          91.02   \n",
       "24  90.703967     89.83        91.48         0.01  91.486103          90.69   \n",
       "25  90.767335     89.83        91.64         0.01  91.649047          90.78   \n",
       "..        ...       ...          ...          ...        ...            ...   \n",
       "85  67.336007     62.88        66.08         0.01  65.543786          67.49   \n",
       "86  67.050028     62.88        65.62         0.01  65.168054          67.39   \n",
       "89  67.475863     62.88        65.89         0.01  65.315672          67.61   \n",
       "83  67.367291     62.88        65.77         0.01  65.304953          67.70   \n",
       "87  67.193221     62.88        65.93         0.01  65.268761          67.51   \n",
       "\n",
       "    tip_best_beta  shots_per_class        zf1  tipf_best_beta  \\\n",
       "26       5.000000               16  89.813228        0.644444   \n",
       "22       5.000000               16  89.813228        3.366667   \n",
       "23       3.911111               16  89.813228        3.366667   \n",
       "24       5.000000               16  89.813228        1.733333   \n",
       "25       3.366667               16  89.813228        2.822222   \n",
       "..            ...              ...        ...             ...   \n",
       "85       5.000000               16  62.419706        1.733333   \n",
       "86       4.455556               16  62.419706        1.188889   \n",
       "89       5.000000               16  62.419706        2.822222   \n",
       "83       5.000000               16  62.419706        2.277778   \n",
       "87       5.000000               16  62.419706        1.188889   \n",
       "\n",
       "    tipf_best_alpha  tip_best_alpha          name  ZEROSHOT-TIP ADAPTER  \\\n",
       "26         1.188889        1.733333       CIFAR10                  1.64   \n",
       "22         5.000000        1.733333       CIFAR10                  1.32   \n",
       "23         4.455556        1.733333       CIFAR10                  1.57   \n",
       "24         1.733333        1.733333       CIFAR10                  1.65   \n",
       "25         3.366667        1.733333       CIFAR10                  1.81   \n",
       "..              ...             ...           ...                   ...   \n",
       "85         1.733333        1.733333  TinyImagenet                  3.20   \n",
       "86         1.188889        1.733333  TinyImagenet                  2.74   \n",
       "89         2.822222        1.733333  TinyImagenet                  3.01   \n",
       "83         1.733333        1.733333  TinyImagenet                  2.89   \n",
       "87         1.188889        2.277778  TinyImagenet                  3.05   \n",
       "\n",
       "    ZEROSHOT-TIP-F ADAPTER  TIP ADAPTER-ZEROSHOT  TIP ADAPTER-TIP-F ADAPTER  \\\n",
       "26                    0.68                 -1.64                      -0.96   \n",
       "22                    0.72                 -1.32                      -0.60   \n",
       "23                    1.19                 -1.57                      -0.38   \n",
       "24                    0.86                 -1.65                      -0.79   \n",
       "25                    0.95                 -1.81                      -0.86   \n",
       "..                     ...                   ...                        ...   \n",
       "85                    4.61                 -3.20                       1.41   \n",
       "86                    4.51                 -2.74                       1.77   \n",
       "89                    4.73                 -3.01                       1.72   \n",
       "83                    4.82                 -2.89                       1.93   \n",
       "87                    4.63                 -3.05                       1.58   \n",
       "\n",
       "    TIP-F ADAPTER-ZEROSHOT  TIP-F ADAPTER-TIP ADAPTER  \n",
       "26                   -0.68                       0.96  \n",
       "22                   -0.72                       0.60  \n",
       "23                   -1.19                       0.38  \n",
       "24                   -0.86                       0.79  \n",
       "25                   -0.95                       0.86  \n",
       "..                     ...                        ...  \n",
       "85                   -4.61                      -1.41  \n",
       "86                   -4.51                      -1.77  \n",
       "89                   -4.73                      -1.72  \n",
       "83                   -4.82                      -1.93  \n",
       "87                   -4.63                      -1.58  \n",
       "\n",
       "[120 rows x 19 columns]"
      ]
     },
     "execution_count": 14,
     "metadata": {},
     "output_type": "execute_result"
    }
   ],
   "source": [
    "classification_df.sort_values('name')"
   ]
  },
  {
   "cell_type": "code",
   "execution_count": 15,
   "id": "faf4ed41-4656-4a29-a2a6-ccff9e8baa46",
   "metadata": {
    "tags": []
   },
   "outputs": [
    {
     "data": {
      "text/plain": [
       "array(['Caltech CUB', 'Caltech101', 'CIFAR10', 'CIFAR100', 'DTD',\n",
       "       'Fashion MNIST', 'Flowers102', 'GTSRB', 'TinyImagenet', 'MNIST',\n",
       "       'Stanford Cars', 'SVHN'], dtype=object)"
      ]
     },
     "execution_count": 15,
     "metadata": {},
     "output_type": "execute_result"
    }
   ],
   "source": [
    " classification_df['name'].unique()"
   ]
  },
  {
   "cell_type": "code",
   "execution_count": 16,
   "id": "651a07a2-67f5-4d61-803c-547cb8041b97",
   "metadata": {
    "tags": []
   },
   "outputs": [],
   "source": [
    "for met in diffs[:2]:\n",
    "    classification_df[met+'-percent'] = classification_df[met] /classification_df['ZEROSHOT']"
   ]
  },
  {
   "cell_type": "code",
   "execution_count": 17,
   "id": "368f18fc-919f-4ae6-8e8f-85fb0b9e4142",
   "metadata": {
    "tags": []
   },
   "outputs": [
    {
     "data": {
      "text/plain": [
       "Index(['TIP-F F1', 'ZEROSHOT', 'TIP ADAPTER', 'temperature', 'TIP F1',\n",
       "       'TIP-F ADAPTER', 'tip_best_beta', 'shots_per_class', 'zf1',\n",
       "       'tipf_best_beta', 'tipf_best_alpha', 'tip_best_alpha', 'name',\n",
       "       'ZEROSHOT-TIP ADAPTER', 'ZEROSHOT-TIP-F ADAPTER',\n",
       "       'TIP ADAPTER-ZEROSHOT', 'TIP ADAPTER-TIP-F ADAPTER',\n",
       "       'TIP-F ADAPTER-ZEROSHOT', 'TIP-F ADAPTER-TIP ADAPTER',\n",
       "       'ZEROSHOT-TIP ADAPTER-percent', 'ZEROSHOT-TIP-F ADAPTER-percent'],\n",
       "      dtype='object')"
      ]
     },
     "execution_count": 17,
     "metadata": {},
     "output_type": "execute_result"
    }
   ],
   "source": [
    "classification_df.columns"
   ]
  },
  {
   "cell_type": "code",
   "execution_count": 18,
   "id": "27adb380-a5c0-445f-991b-4008f08a10d2",
   "metadata": {},
   "outputs": [],
   "source": [
    "percents = ['ZEROSHOT-TIP ADAPTER-percent', 'ZEROSHOT-TIP-F ADAPTER-percent']"
   ]
  },
  {
   "cell_type": "code",
   "execution_count": 19,
   "id": "39c2439e-b4ab-4ca3-b13b-94adb017a57b",
   "metadata": {},
   "outputs": [],
   "source": [
    "means = classification_df[metrics + ['name']].groupby('name').mean()\n",
    "stds = classification_df[metrics + ['name']].groupby('name').std()\n",
    "\n",
    "mean_std = pd.concat([means, stds.rename(columns={'ZEROSHOT':'z-std', 'TIP ADAPTER': 'TIP-std', 'TIP-F ADAPTER':'TIP-F-std'})], axis=1).round(2)\n",
    "mean_std['ZEROSHOT'] = mean_std['ZEROSHOT'].astype(str) + \" \\pm \"+  mean_std['z-std'].astype(str)\n",
    "mean_std['TIP ADAPTER'] = mean_std['TIP ADAPTER'].astype(str) + \" \\pm \"+  mean_std['TIP-std'].astype(str)\n",
    "mean_std['TIP-F ADAPTER'] = mean_std['TIP-F ADAPTER'].astype(str) + \" \\pm \"+  mean_std['TIP-F-std'].astype(str)\n",
    "save_csv(mean_std[metrics], '6', 'classification_adapter_plusminus')"
   ]
  },
  {
   "cell_type": "code",
   "execution_count": 20,
   "id": "dd3c0b81-d03c-4c29-bb48-d7cea2398056",
   "metadata": {},
   "outputs": [
    {
     "data": {
      "text/html": [
       "<div>\n",
       "<style scoped>\n",
       "    .dataframe tbody tr th:only-of-type {\n",
       "        vertical-align: middle;\n",
       "    }\n",
       "\n",
       "    .dataframe tbody tr th {\n",
       "        vertical-align: top;\n",
       "    }\n",
       "\n",
       "    .dataframe thead th {\n",
       "        text-align: right;\n",
       "    }\n",
       "</style>\n",
       "<table border=\"1\" class=\"dataframe\">\n",
       "  <thead>\n",
       "    <tr style=\"text-align: right;\">\n",
       "      <th></th>\n",
       "      <th>ZEROSHOT</th>\n",
       "      <th>TIP ADAPTER</th>\n",
       "      <th>TIP-F ADAPTER</th>\n",
       "    </tr>\n",
       "    <tr>\n",
       "      <th>name</th>\n",
       "      <th></th>\n",
       "      <th></th>\n",
       "      <th></th>\n",
       "    </tr>\n",
       "  </thead>\n",
       "  <tbody>\n",
       "    <tr>\n",
       "      <th>CIFAR10</th>\n",
       "      <td>89.830000</td>\n",
       "      <td>91.367000</td>\n",
       "      <td>90.720000</td>\n",
       "    </tr>\n",
       "    <tr>\n",
       "      <th>CIFAR100</th>\n",
       "      <td>64.230000</td>\n",
       "      <td>67.483000</td>\n",
       "      <td>69.061000</td>\n",
       "    </tr>\n",
       "    <tr>\n",
       "      <th>Caltech CUB</th>\n",
       "      <td>52.140145</td>\n",
       "      <td>61.836382</td>\n",
       "      <td>59.597860</td>\n",
       "    </tr>\n",
       "    <tr>\n",
       "      <th>Caltech101</th>\n",
       "      <td>83.722270</td>\n",
       "      <td>89.037741</td>\n",
       "      <td>89.403630</td>\n",
       "    </tr>\n",
       "    <tr>\n",
       "      <th>DTD</th>\n",
       "      <td>44.414894</td>\n",
       "      <td>59.106383</td>\n",
       "      <td>61.218085</td>\n",
       "    </tr>\n",
       "    <tr>\n",
       "      <th>Fashion MNIST</th>\n",
       "      <td>59.560000</td>\n",
       "      <td>73.229000</td>\n",
       "      <td>70.502000</td>\n",
       "    </tr>\n",
       "    <tr>\n",
       "      <th>Flowers102</th>\n",
       "      <td>66.287201</td>\n",
       "      <td>86.609205</td>\n",
       "      <td>75.574890</td>\n",
       "    </tr>\n",
       "    <tr>\n",
       "      <th>GTSRB</th>\n",
       "      <td>32.319873</td>\n",
       "      <td>44.920823</td>\n",
       "      <td>51.198733</td>\n",
       "    </tr>\n",
       "    <tr>\n",
       "      <th>MNIST</th>\n",
       "      <td>48.220000</td>\n",
       "      <td>69.657000</td>\n",
       "      <td>64.170000</td>\n",
       "    </tr>\n",
       "    <tr>\n",
       "      <th>SVHN</th>\n",
       "      <td>24.946220</td>\n",
       "      <td>25.454825</td>\n",
       "      <td>33.382376</td>\n",
       "    </tr>\n",
       "    <tr>\n",
       "      <th>Stanford Cars</th>\n",
       "      <td>59.656759</td>\n",
       "      <td>68.503917</td>\n",
       "      <td>68.450441</td>\n",
       "    </tr>\n",
       "    <tr>\n",
       "      <th>TinyImagenet</th>\n",
       "      <td>62.880000</td>\n",
       "      <td>65.868000</td>\n",
       "      <td>67.481000</td>\n",
       "    </tr>\n",
       "  </tbody>\n",
       "</table>\n",
       "</div>"
      ],
      "text/plain": [
       "                ZEROSHOT  TIP ADAPTER  TIP-F ADAPTER\n",
       "name                                                \n",
       "CIFAR10        89.830000    91.367000      90.720000\n",
       "CIFAR100       64.230000    67.483000      69.061000\n",
       "Caltech CUB    52.140145    61.836382      59.597860\n",
       "Caltech101     83.722270    89.037741      89.403630\n",
       "DTD            44.414894    59.106383      61.218085\n",
       "Fashion MNIST  59.560000    73.229000      70.502000\n",
       "Flowers102     66.287201    86.609205      75.574890\n",
       "GTSRB          32.319873    44.920823      51.198733\n",
       "MNIST          48.220000    69.657000      64.170000\n",
       "SVHN           24.946220    25.454825      33.382376\n",
       "Stanford Cars  59.656759    68.503917      68.450441\n",
       "TinyImagenet   62.880000    65.868000      67.481000"
      ]
     },
     "execution_count": 20,
     "metadata": {},
     "output_type": "execute_result"
    }
   ],
   "source": [
    "means"
   ]
  },
  {
   "cell_type": "code",
   "execution_count": 21,
   "id": "e70a71a2-35c5-4c39-9fdd-1186c9289005",
   "metadata": {},
   "outputs": [
    {
     "data": {
      "text/html": [
       "<div>\n",
       "<style scoped>\n",
       "    .dataframe tbody tr th:only-of-type {\n",
       "        vertical-align: middle;\n",
       "    }\n",
       "\n",
       "    .dataframe tbody tr th {\n",
       "        vertical-align: top;\n",
       "    }\n",
       "\n",
       "    .dataframe thead th {\n",
       "        text-align: right;\n",
       "    }\n",
       "</style>\n",
       "<table border=\"1\" class=\"dataframe\">\n",
       "  <thead>\n",
       "    <tr style=\"text-align: right;\">\n",
       "      <th></th>\n",
       "      <th>ZEROSHOT</th>\n",
       "      <th>TIP ADAPTER</th>\n",
       "      <th>TIP-F ADAPTER</th>\n",
       "      <th>z-std</th>\n",
       "      <th>TIP-std</th>\n",
       "      <th>TIP-F-std</th>\n",
       "    </tr>\n",
       "    <tr>\n",
       "      <th>name</th>\n",
       "      <th></th>\n",
       "      <th></th>\n",
       "      <th></th>\n",
       "      <th></th>\n",
       "      <th></th>\n",
       "      <th></th>\n",
       "    </tr>\n",
       "  </thead>\n",
       "  <tbody>\n",
       "    <tr>\n",
       "      <th>CIFAR10</th>\n",
       "      <td>89.83 \\pm 0.0</td>\n",
       "      <td>91.37 \\pm 0.18</td>\n",
       "      <td>90.72 \\pm 0.17</td>\n",
       "      <td>0.0</td>\n",
       "      <td>0.18</td>\n",
       "      <td>0.17</td>\n",
       "    </tr>\n",
       "    <tr>\n",
       "      <th>CIFAR100</th>\n",
       "      <td>64.23 \\pm 0.0</td>\n",
       "      <td>67.48 \\pm 0.31</td>\n",
       "      <td>69.06 \\pm 0.11</td>\n",
       "      <td>0.0</td>\n",
       "      <td>0.31</td>\n",
       "      <td>0.11</td>\n",
       "    </tr>\n",
       "    <tr>\n",
       "      <th>Caltech CUB</th>\n",
       "      <td>52.14 \\pm 0.0</td>\n",
       "      <td>61.84 \\pm 0.36</td>\n",
       "      <td>59.6 \\pm 0.13</td>\n",
       "      <td>0.0</td>\n",
       "      <td>0.36</td>\n",
       "      <td>0.13</td>\n",
       "    </tr>\n",
       "    <tr>\n",
       "      <th>Caltech101</th>\n",
       "      <td>83.72 \\pm 0.0</td>\n",
       "      <td>89.04 \\pm 0.5</td>\n",
       "      <td>89.4 \\pm 0.31</td>\n",
       "      <td>0.0</td>\n",
       "      <td>0.50</td>\n",
       "      <td>0.31</td>\n",
       "    </tr>\n",
       "    <tr>\n",
       "      <th>DTD</th>\n",
       "      <td>44.41 \\pm 0.0</td>\n",
       "      <td>59.11 \\pm 1.04</td>\n",
       "      <td>61.22 \\pm 0.66</td>\n",
       "      <td>0.0</td>\n",
       "      <td>1.04</td>\n",
       "      <td>0.66</td>\n",
       "    </tr>\n",
       "    <tr>\n",
       "      <th>Fashion MNIST</th>\n",
       "      <td>59.56 \\pm 0.0</td>\n",
       "      <td>73.23 \\pm 1.11</td>\n",
       "      <td>70.5 \\pm 0.38</td>\n",
       "      <td>0.0</td>\n",
       "      <td>1.11</td>\n",
       "      <td>0.38</td>\n",
       "    </tr>\n",
       "    <tr>\n",
       "      <th>Flowers102</th>\n",
       "      <td>66.29 \\pm 0.0</td>\n",
       "      <td>86.61 \\pm 0.16</td>\n",
       "      <td>75.57 \\pm 0.4</td>\n",
       "      <td>0.0</td>\n",
       "      <td>0.16</td>\n",
       "      <td>0.40</td>\n",
       "    </tr>\n",
       "    <tr>\n",
       "      <th>GTSRB</th>\n",
       "      <td>32.32 \\pm 0.0</td>\n",
       "      <td>44.92 \\pm 2.74</td>\n",
       "      <td>51.2 \\pm 1.32</td>\n",
       "      <td>0.0</td>\n",
       "      <td>2.74</td>\n",
       "      <td>1.32</td>\n",
       "    </tr>\n",
       "    <tr>\n",
       "      <th>MNIST</th>\n",
       "      <td>48.22 \\pm 0.0</td>\n",
       "      <td>69.66 \\pm 3.58</td>\n",
       "      <td>64.17 \\pm 2.17</td>\n",
       "      <td>0.0</td>\n",
       "      <td>3.58</td>\n",
       "      <td>2.17</td>\n",
       "    </tr>\n",
       "    <tr>\n",
       "      <th>SVHN</th>\n",
       "      <td>24.95 \\pm 0.0</td>\n",
       "      <td>25.45 \\pm 1.23</td>\n",
       "      <td>33.38 \\pm 1.18</td>\n",
       "      <td>0.0</td>\n",
       "      <td>1.23</td>\n",
       "      <td>1.18</td>\n",
       "    </tr>\n",
       "    <tr>\n",
       "      <th>Stanford Cars</th>\n",
       "      <td>59.66 \\pm 0.0</td>\n",
       "      <td>68.5 \\pm 0.35</td>\n",
       "      <td>68.45 \\pm 0.2</td>\n",
       "      <td>0.0</td>\n",
       "      <td>0.35</td>\n",
       "      <td>0.20</td>\n",
       "    </tr>\n",
       "    <tr>\n",
       "      <th>TinyImagenet</th>\n",
       "      <td>62.88 \\pm 0.0</td>\n",
       "      <td>65.87 \\pm 0.13</td>\n",
       "      <td>67.48 \\pm 0.13</td>\n",
       "      <td>0.0</td>\n",
       "      <td>0.13</td>\n",
       "      <td>0.13</td>\n",
       "    </tr>\n",
       "  </tbody>\n",
       "</table>\n",
       "</div>"
      ],
      "text/plain": [
       "                    ZEROSHOT     TIP ADAPTER   TIP-F ADAPTER  z-std  TIP-std  \\\n",
       "name                                                                           \n",
       "CIFAR10        89.83 \\pm 0.0  91.37 \\pm 0.18  90.72 \\pm 0.17    0.0     0.18   \n",
       "CIFAR100       64.23 \\pm 0.0  67.48 \\pm 0.31  69.06 \\pm 0.11    0.0     0.31   \n",
       "Caltech CUB    52.14 \\pm 0.0  61.84 \\pm 0.36   59.6 \\pm 0.13    0.0     0.36   \n",
       "Caltech101     83.72 \\pm 0.0   89.04 \\pm 0.5   89.4 \\pm 0.31    0.0     0.50   \n",
       "DTD            44.41 \\pm 0.0  59.11 \\pm 1.04  61.22 \\pm 0.66    0.0     1.04   \n",
       "Fashion MNIST  59.56 \\pm 0.0  73.23 \\pm 1.11   70.5 \\pm 0.38    0.0     1.11   \n",
       "Flowers102     66.29 \\pm 0.0  86.61 \\pm 0.16   75.57 \\pm 0.4    0.0     0.16   \n",
       "GTSRB          32.32 \\pm 0.0  44.92 \\pm 2.74   51.2 \\pm 1.32    0.0     2.74   \n",
       "MNIST          48.22 \\pm 0.0  69.66 \\pm 3.58  64.17 \\pm 2.17    0.0     3.58   \n",
       "SVHN           24.95 \\pm 0.0  25.45 \\pm 1.23  33.38 \\pm 1.18    0.0     1.23   \n",
       "Stanford Cars  59.66 \\pm 0.0   68.5 \\pm 0.35   68.45 \\pm 0.2    0.0     0.35   \n",
       "TinyImagenet   62.88 \\pm 0.0  65.87 \\pm 0.13  67.48 \\pm 0.13    0.0     0.13   \n",
       "\n",
       "               TIP-F-std  \n",
       "name                      \n",
       "CIFAR10             0.17  \n",
       "CIFAR100            0.11  \n",
       "Caltech CUB         0.13  \n",
       "Caltech101          0.31  \n",
       "DTD                 0.66  \n",
       "Fashion MNIST       0.38  \n",
       "Flowers102          0.40  \n",
       "GTSRB               1.32  \n",
       "MNIST               2.17  \n",
       "SVHN                1.18  \n",
       "Stanford Cars       0.20  \n",
       "TinyImagenet        0.13  "
      ]
     },
     "execution_count": 21,
     "metadata": {},
     "output_type": "execute_result"
    }
   ],
   "source": [
    "mean_std"
   ]
  },
  {
   "cell_type": "code",
   "execution_count": 22,
   "id": "1a7c0e79-a379-4bbb-a646-98041ea1441b",
   "metadata": {},
   "outputs": [
    {
     "data": {
      "text/html": [
       "<div>\n",
       "<style scoped>\n",
       "    .dataframe tbody tr th:only-of-type {\n",
       "        vertical-align: middle;\n",
       "    }\n",
       "\n",
       "    .dataframe tbody tr th {\n",
       "        vertical-align: top;\n",
       "    }\n",
       "\n",
       "    .dataframe thead th {\n",
       "        text-align: right;\n",
       "    }\n",
       "</style>\n",
       "<table border=\"1\" class=\"dataframe\">\n",
       "  <thead>\n",
       "    <tr style=\"text-align: right;\">\n",
       "      <th></th>\n",
       "      <th>ZEROSHOT</th>\n",
       "      <th>TIP ADAPTER</th>\n",
       "      <th>TIP-F ADAPTER</th>\n",
       "      <th>ZEROSHOT-TIP ADAPTER-percent</th>\n",
       "      <th>ZEROSHOT-TIP-F ADAPTER-percent</th>\n",
       "    </tr>\n",
       "    <tr>\n",
       "      <th>name</th>\n",
       "      <th></th>\n",
       "      <th></th>\n",
       "      <th></th>\n",
       "      <th></th>\n",
       "      <th></th>\n",
       "    </tr>\n",
       "  </thead>\n",
       "  <tbody>\n",
       "    <tr>\n",
       "      <th>CIFAR10</th>\n",
       "      <td>89.830000</td>\n",
       "      <td>91.367000</td>\n",
       "      <td>90.720000</td>\n",
       "      <td>0.017110</td>\n",
       "      <td>0.009908</td>\n",
       "    </tr>\n",
       "    <tr>\n",
       "      <th>Caltech101</th>\n",
       "      <td>83.722270</td>\n",
       "      <td>89.037741</td>\n",
       "      <td>89.403630</td>\n",
       "      <td>0.063489</td>\n",
       "      <td>0.067860</td>\n",
       "    </tr>\n",
       "    <tr>\n",
       "      <th>TinyImagenet</th>\n",
       "      <td>62.880000</td>\n",
       "      <td>65.868000</td>\n",
       "      <td>67.481000</td>\n",
       "      <td>0.047519</td>\n",
       "      <td>0.073171</td>\n",
       "    </tr>\n",
       "    <tr>\n",
       "      <th>CIFAR100</th>\n",
       "      <td>64.230000</td>\n",
       "      <td>67.483000</td>\n",
       "      <td>69.061000</td>\n",
       "      <td>0.050646</td>\n",
       "      <td>0.075214</td>\n",
       "    </tr>\n",
       "    <tr>\n",
       "      <th>Flowers102</th>\n",
       "      <td>66.287201</td>\n",
       "      <td>86.609205</td>\n",
       "      <td>75.574890</td>\n",
       "      <td>0.306575</td>\n",
       "      <td>0.140113</td>\n",
       "    </tr>\n",
       "    <tr>\n",
       "      <th>Caltech CUB</th>\n",
       "      <td>52.140145</td>\n",
       "      <td>61.836382</td>\n",
       "      <td>59.597860</td>\n",
       "      <td>0.185965</td>\n",
       "      <td>0.143032</td>\n",
       "    </tr>\n",
       "    <tr>\n",
       "      <th>Stanford Cars</th>\n",
       "      <td>59.656759</td>\n",
       "      <td>68.503917</td>\n",
       "      <td>68.450441</td>\n",
       "      <td>0.148301</td>\n",
       "      <td>0.147405</td>\n",
       "    </tr>\n",
       "    <tr>\n",
       "      <th>Fashion MNIST</th>\n",
       "      <td>59.560000</td>\n",
       "      <td>73.229000</td>\n",
       "      <td>70.502000</td>\n",
       "      <td>0.229500</td>\n",
       "      <td>0.183714</td>\n",
       "    </tr>\n",
       "    <tr>\n",
       "      <th>MNIST</th>\n",
       "      <td>48.220000</td>\n",
       "      <td>69.657000</td>\n",
       "      <td>64.170000</td>\n",
       "      <td>0.444567</td>\n",
       "      <td>0.330776</td>\n",
       "    </tr>\n",
       "    <tr>\n",
       "      <th>SVHN</th>\n",
       "      <td>24.946220</td>\n",
       "      <td>25.454825</td>\n",
       "      <td>33.382376</td>\n",
       "      <td>0.020388</td>\n",
       "      <td>0.338174</td>\n",
       "    </tr>\n",
       "    <tr>\n",
       "      <th>DTD</th>\n",
       "      <td>44.414894</td>\n",
       "      <td>59.106383</td>\n",
       "      <td>61.218085</td>\n",
       "      <td>0.330778</td>\n",
       "      <td>0.378323</td>\n",
       "    </tr>\n",
       "    <tr>\n",
       "      <th>GTSRB</th>\n",
       "      <td>32.319873</td>\n",
       "      <td>44.920823</td>\n",
       "      <td>51.198733</td>\n",
       "      <td>0.389882</td>\n",
       "      <td>0.584125</td>\n",
       "    </tr>\n",
       "  </tbody>\n",
       "</table>\n",
       "</div>"
      ],
      "text/plain": [
       "                ZEROSHOT  TIP ADAPTER  TIP-F ADAPTER  \\\n",
       "name                                                   \n",
       "CIFAR10        89.830000    91.367000      90.720000   \n",
       "Caltech101     83.722270    89.037741      89.403630   \n",
       "TinyImagenet   62.880000    65.868000      67.481000   \n",
       "CIFAR100       64.230000    67.483000      69.061000   \n",
       "Flowers102     66.287201    86.609205      75.574890   \n",
       "Caltech CUB    52.140145    61.836382      59.597860   \n",
       "Stanford Cars  59.656759    68.503917      68.450441   \n",
       "Fashion MNIST  59.560000    73.229000      70.502000   \n",
       "MNIST          48.220000    69.657000      64.170000   \n",
       "SVHN           24.946220    25.454825      33.382376   \n",
       "DTD            44.414894    59.106383      61.218085   \n",
       "GTSRB          32.319873    44.920823      51.198733   \n",
       "\n",
       "               ZEROSHOT-TIP ADAPTER-percent  ZEROSHOT-TIP-F ADAPTER-percent  \n",
       "name                                                                         \n",
       "CIFAR10                            0.017110                        0.009908  \n",
       "Caltech101                         0.063489                        0.067860  \n",
       "TinyImagenet                       0.047519                        0.073171  \n",
       "CIFAR100                           0.050646                        0.075214  \n",
       "Flowers102                         0.306575                        0.140113  \n",
       "Caltech CUB                        0.185965                        0.143032  \n",
       "Stanford Cars                      0.148301                        0.147405  \n",
       "Fashion MNIST                      0.229500                        0.183714  \n",
       "MNIST                              0.444567                        0.330776  \n",
       "SVHN                               0.020388                        0.338174  \n",
       "DTD                                0.330778                        0.378323  \n",
       "GTSRB                              0.389882                        0.584125  "
      ]
     },
     "execution_count": 22,
     "metadata": {},
     "output_type": "execute_result"
    }
   ],
   "source": [
    "classification_df.groupby('name').mean()[metrics + percents].abs().sort_values(percents[1])\n"
   ]
  },
  {
   "cell_type": "markdown",
   "id": "6fc8b48d-28e1-42b4-94b3-387ce8a810c6",
   "metadata": {},
   "source": [
    "##### classification_df.groupby('name').mean()[metrics + diffs].sort_values(diffs[0], ascending=False)"
   ]
  },
  {
   "cell_type": "code",
   "execution_count": 23,
   "id": "83e35821-01eb-4020-a2e4-bdd30e1ac4a9",
   "metadata": {},
   "outputs": [
    {
     "data": {
      "text/html": [
       "<div>\n",
       "<style scoped>\n",
       "    .dataframe tbody tr th:only-of-type {\n",
       "        vertical-align: middle;\n",
       "    }\n",
       "\n",
       "    .dataframe tbody tr th {\n",
       "        vertical-align: top;\n",
       "    }\n",
       "\n",
       "    .dataframe thead th {\n",
       "        text-align: right;\n",
       "    }\n",
       "</style>\n",
       "<table border=\"1\" class=\"dataframe\">\n",
       "  <thead>\n",
       "    <tr style=\"text-align: right;\">\n",
       "      <th></th>\n",
       "      <th>ZEROSHOT</th>\n",
       "      <th>TIP ADAPTER</th>\n",
       "      <th>TIP-F ADAPTER</th>\n",
       "      <th>ZEROSHOT-TIP ADAPTER</th>\n",
       "      <th>ZEROSHOT-TIP-F ADAPTER</th>\n",
       "      <th>TIP ADAPTER-TIP-F ADAPTER</th>\n",
       "    </tr>\n",
       "    <tr>\n",
       "      <th>name</th>\n",
       "      <th></th>\n",
       "      <th></th>\n",
       "      <th></th>\n",
       "      <th></th>\n",
       "      <th></th>\n",
       "      <th></th>\n",
       "    </tr>\n",
       "  </thead>\n",
       "  <tbody>\n",
       "    <tr>\n",
       "      <th>Flowers102</th>\n",
       "      <td>66.287201</td>\n",
       "      <td>86.609205</td>\n",
       "      <td>75.574890</td>\n",
       "      <td>20.322004</td>\n",
       "      <td>9.287689</td>\n",
       "      <td>-11.034315</td>\n",
       "    </tr>\n",
       "    <tr>\n",
       "      <th>MNIST</th>\n",
       "      <td>48.220000</td>\n",
       "      <td>69.657000</td>\n",
       "      <td>64.170000</td>\n",
       "      <td>21.437000</td>\n",
       "      <td>15.950000</td>\n",
       "      <td>-5.487000</td>\n",
       "    </tr>\n",
       "    <tr>\n",
       "      <th>Fashion MNIST</th>\n",
       "      <td>59.560000</td>\n",
       "      <td>73.229000</td>\n",
       "      <td>70.502000</td>\n",
       "      <td>13.669000</td>\n",
       "      <td>10.942000</td>\n",
       "      <td>-2.727000</td>\n",
       "    </tr>\n",
       "    <tr>\n",
       "      <th>Caltech CUB</th>\n",
       "      <td>52.140145</td>\n",
       "      <td>61.836382</td>\n",
       "      <td>59.597860</td>\n",
       "      <td>9.696237</td>\n",
       "      <td>7.457715</td>\n",
       "      <td>-2.238523</td>\n",
       "    </tr>\n",
       "    <tr>\n",
       "      <th>CIFAR10</th>\n",
       "      <td>89.830000</td>\n",
       "      <td>91.367000</td>\n",
       "      <td>90.720000</td>\n",
       "      <td>1.537000</td>\n",
       "      <td>0.890000</td>\n",
       "      <td>-0.647000</td>\n",
       "    </tr>\n",
       "    <tr>\n",
       "      <th>Stanford Cars</th>\n",
       "      <td>59.656759</td>\n",
       "      <td>68.503917</td>\n",
       "      <td>68.450441</td>\n",
       "      <td>8.847158</td>\n",
       "      <td>8.793682</td>\n",
       "      <td>-0.053476</td>\n",
       "    </tr>\n",
       "    <tr>\n",
       "      <th>Caltech101</th>\n",
       "      <td>83.722270</td>\n",
       "      <td>89.037741</td>\n",
       "      <td>89.403630</td>\n",
       "      <td>5.315471</td>\n",
       "      <td>5.681360</td>\n",
       "      <td>0.365889</td>\n",
       "    </tr>\n",
       "    <tr>\n",
       "      <th>CIFAR100</th>\n",
       "      <td>64.230000</td>\n",
       "      <td>67.483000</td>\n",
       "      <td>69.061000</td>\n",
       "      <td>3.253000</td>\n",
       "      <td>4.831000</td>\n",
       "      <td>1.578000</td>\n",
       "    </tr>\n",
       "    <tr>\n",
       "      <th>TinyImagenet</th>\n",
       "      <td>62.880000</td>\n",
       "      <td>65.868000</td>\n",
       "      <td>67.481000</td>\n",
       "      <td>2.988000</td>\n",
       "      <td>4.601000</td>\n",
       "      <td>1.613000</td>\n",
       "    </tr>\n",
       "    <tr>\n",
       "      <th>DTD</th>\n",
       "      <td>44.414894</td>\n",
       "      <td>59.106383</td>\n",
       "      <td>61.218085</td>\n",
       "      <td>14.691489</td>\n",
       "      <td>16.803191</td>\n",
       "      <td>2.111702</td>\n",
       "    </tr>\n",
       "    <tr>\n",
       "      <th>GTSRB</th>\n",
       "      <td>32.319873</td>\n",
       "      <td>44.920823</td>\n",
       "      <td>51.198733</td>\n",
       "      <td>12.600950</td>\n",
       "      <td>18.878860</td>\n",
       "      <td>6.277910</td>\n",
       "    </tr>\n",
       "    <tr>\n",
       "      <th>SVHN</th>\n",
       "      <td>24.946220</td>\n",
       "      <td>25.454825</td>\n",
       "      <td>33.382376</td>\n",
       "      <td>0.508605</td>\n",
       "      <td>8.436156</td>\n",
       "      <td>7.927551</td>\n",
       "    </tr>\n",
       "  </tbody>\n",
       "</table>\n",
       "</div>"
      ],
      "text/plain": [
       "                ZEROSHOT  TIP ADAPTER  TIP-F ADAPTER  ZEROSHOT-TIP ADAPTER  \\\n",
       "name                                                                         \n",
       "Flowers102     66.287201    86.609205      75.574890             20.322004   \n",
       "MNIST          48.220000    69.657000      64.170000             21.437000   \n",
       "Fashion MNIST  59.560000    73.229000      70.502000             13.669000   \n",
       "Caltech CUB    52.140145    61.836382      59.597860              9.696237   \n",
       "CIFAR10        89.830000    91.367000      90.720000              1.537000   \n",
       "Stanford Cars  59.656759    68.503917      68.450441              8.847158   \n",
       "Caltech101     83.722270    89.037741      89.403630              5.315471   \n",
       "CIFAR100       64.230000    67.483000      69.061000              3.253000   \n",
       "TinyImagenet   62.880000    65.868000      67.481000              2.988000   \n",
       "DTD            44.414894    59.106383      61.218085             14.691489   \n",
       "GTSRB          32.319873    44.920823      51.198733             12.600950   \n",
       "SVHN           24.946220    25.454825      33.382376              0.508605   \n",
       "\n",
       "               ZEROSHOT-TIP-F ADAPTER  TIP ADAPTER-TIP-F ADAPTER  \n",
       "name                                                              \n",
       "Flowers102                   9.287689                 -11.034315  \n",
       "MNIST                       15.950000                  -5.487000  \n",
       "Fashion MNIST               10.942000                  -2.727000  \n",
       "Caltech CUB                  7.457715                  -2.238523  \n",
       "CIFAR10                      0.890000                  -0.647000  \n",
       "Stanford Cars                8.793682                  -0.053476  \n",
       "Caltech101                   5.681360                   0.365889  \n",
       "CIFAR100                     4.831000                   1.578000  \n",
       "TinyImagenet                 4.601000                   1.613000  \n",
       "DTD                         16.803191                   2.111702  \n",
       "GTSRB                       18.878860                   6.277910  \n",
       "SVHN                         8.436156                   7.927551  "
      ]
     },
     "execution_count": 23,
     "metadata": {},
     "output_type": "execute_result"
    }
   ],
   "source": [
    "classification_df.groupby('name').mean()[metrics + diffs].sort_values(diffs[2])"
   ]
  },
  {
   "cell_type": "code",
   "execution_count": 24,
   "id": "cb5d4b29-48c1-4264-bb4e-2174b336c6a9",
   "metadata": {
    "tags": []
   },
   "outputs": [],
   "source": [
    "meaned_cl_df = classification_df.groupby('name').mean()[metrics + diffs].abs().sort_values(diffs[2],ascending=True)"
   ]
  },
  {
   "cell_type": "code",
   "execution_count": 25,
   "id": "26ae2505-b1cd-4e99-8fc4-46590e8a5b51",
   "metadata": {
    "tags": []
   },
   "outputs": [
    {
     "data": {
      "text/html": [
       "<div>\n",
       "<style scoped>\n",
       "    .dataframe tbody tr th:only-of-type {\n",
       "        vertical-align: middle;\n",
       "    }\n",
       "\n",
       "    .dataframe tbody tr th {\n",
       "        vertical-align: top;\n",
       "    }\n",
       "\n",
       "    .dataframe thead th {\n",
       "        text-align: right;\n",
       "    }\n",
       "</style>\n",
       "<table border=\"1\" class=\"dataframe\">\n",
       "  <thead>\n",
       "    <tr style=\"text-align: right;\">\n",
       "      <th></th>\n",
       "      <th>ZEROSHOT</th>\n",
       "      <th>TIP ADAPTER</th>\n",
       "      <th>TIP-F ADAPTER</th>\n",
       "    </tr>\n",
       "    <tr>\n",
       "      <th>name</th>\n",
       "      <th></th>\n",
       "      <th></th>\n",
       "      <th></th>\n",
       "    </tr>\n",
       "  </thead>\n",
       "  <tbody>\n",
       "    <tr>\n",
       "      <th>SVHN</th>\n",
       "      <td>24.946220</td>\n",
       "      <td>25.454825</td>\n",
       "      <td>33.382376</td>\n",
       "    </tr>\n",
       "    <tr>\n",
       "      <th>GTSRB</th>\n",
       "      <td>32.319873</td>\n",
       "      <td>44.920823</td>\n",
       "      <td>51.198733</td>\n",
       "    </tr>\n",
       "    <tr>\n",
       "      <th>DTD</th>\n",
       "      <td>44.414894</td>\n",
       "      <td>59.106383</td>\n",
       "      <td>61.218085</td>\n",
       "    </tr>\n",
       "    <tr>\n",
       "      <th>Caltech CUB</th>\n",
       "      <td>52.140145</td>\n",
       "      <td>61.836382</td>\n",
       "      <td>59.597860</td>\n",
       "    </tr>\n",
       "    <tr>\n",
       "      <th>TinyImagenet</th>\n",
       "      <td>62.880000</td>\n",
       "      <td>65.868000</td>\n",
       "      <td>67.481000</td>\n",
       "    </tr>\n",
       "    <tr>\n",
       "      <th>CIFAR100</th>\n",
       "      <td>64.230000</td>\n",
       "      <td>67.483000</td>\n",
       "      <td>69.061000</td>\n",
       "    </tr>\n",
       "    <tr>\n",
       "      <th>Stanford Cars</th>\n",
       "      <td>59.656759</td>\n",
       "      <td>68.503917</td>\n",
       "      <td>68.450441</td>\n",
       "    </tr>\n",
       "    <tr>\n",
       "      <th>MNIST</th>\n",
       "      <td>48.220000</td>\n",
       "      <td>69.657000</td>\n",
       "      <td>64.170000</td>\n",
       "    </tr>\n",
       "    <tr>\n",
       "      <th>Fashion MNIST</th>\n",
       "      <td>59.560000</td>\n",
       "      <td>73.229000</td>\n",
       "      <td>70.502000</td>\n",
       "    </tr>\n",
       "    <tr>\n",
       "      <th>Flowers102</th>\n",
       "      <td>66.287201</td>\n",
       "      <td>86.609205</td>\n",
       "      <td>75.574890</td>\n",
       "    </tr>\n",
       "    <tr>\n",
       "      <th>Caltech101</th>\n",
       "      <td>83.722270</td>\n",
       "      <td>89.037741</td>\n",
       "      <td>89.403630</td>\n",
       "    </tr>\n",
       "    <tr>\n",
       "      <th>CIFAR10</th>\n",
       "      <td>89.830000</td>\n",
       "      <td>91.367000</td>\n",
       "      <td>90.720000</td>\n",
       "    </tr>\n",
       "  </tbody>\n",
       "</table>\n",
       "</div>"
      ],
      "text/plain": [
       "                ZEROSHOT  TIP ADAPTER  TIP-F ADAPTER\n",
       "name                                                \n",
       "SVHN           24.946220    25.454825      33.382376\n",
       "GTSRB          32.319873    44.920823      51.198733\n",
       "DTD            44.414894    59.106383      61.218085\n",
       "Caltech CUB    52.140145    61.836382      59.597860\n",
       "TinyImagenet   62.880000    65.868000      67.481000\n",
       "CIFAR100       64.230000    67.483000      69.061000\n",
       "Stanford Cars  59.656759    68.503917      68.450441\n",
       "MNIST          48.220000    69.657000      64.170000\n",
       "Fashion MNIST  59.560000    73.229000      70.502000\n",
       "Flowers102     66.287201    86.609205      75.574890\n",
       "Caltech101     83.722270    89.037741      89.403630\n",
       "CIFAR10        89.830000    91.367000      90.720000"
      ]
     },
     "execution_count": 25,
     "metadata": {},
     "output_type": "execute_result"
    }
   ],
   "source": [
    "means.sort_values(metrics[1])"
   ]
  },
  {
   "cell_type": "code",
   "execution_count": 26,
   "id": "6ee26fae-7cf3-456b-b9f5-82b90240c2f8",
   "metadata": {
    "tags": []
   },
   "outputs": [
    {
     "data": {
      "text/html": [
       "<div>\n",
       "<style scoped>\n",
       "    .dataframe tbody tr th:only-of-type {\n",
       "        vertical-align: middle;\n",
       "    }\n",
       "\n",
       "    .dataframe tbody tr th {\n",
       "        vertical-align: top;\n",
       "    }\n",
       "\n",
       "    .dataframe thead th {\n",
       "        text-align: right;\n",
       "    }\n",
       "</style>\n",
       "<table border=\"1\" class=\"dataframe\">\n",
       "  <thead>\n",
       "    <tr style=\"text-align: right;\">\n",
       "      <th></th>\n",
       "      <th>ZEROSHOT</th>\n",
       "      <th>TIP ADAPTER</th>\n",
       "      <th>TIP-F ADAPTER</th>\n",
       "    </tr>\n",
       "    <tr>\n",
       "      <th>name</th>\n",
       "      <th></th>\n",
       "      <th></th>\n",
       "      <th></th>\n",
       "    </tr>\n",
       "  </thead>\n",
       "  <tbody>\n",
       "    <tr>\n",
       "      <th>CIFAR10</th>\n",
       "      <td>0.0</td>\n",
       "      <td>0.178515</td>\n",
       "      <td>0.166199</td>\n",
       "    </tr>\n",
       "    <tr>\n",
       "      <th>CIFAR100</th>\n",
       "      <td>0.0</td>\n",
       "      <td>0.310771</td>\n",
       "      <td>0.107025</td>\n",
       "    </tr>\n",
       "    <tr>\n",
       "      <th>Caltech CUB</th>\n",
       "      <td>0.0</td>\n",
       "      <td>0.357506</td>\n",
       "      <td>0.125636</td>\n",
       "    </tr>\n",
       "    <tr>\n",
       "      <th>Caltech101</th>\n",
       "      <td>0.0</td>\n",
       "      <td>0.499237</td>\n",
       "      <td>0.313782</td>\n",
       "    </tr>\n",
       "    <tr>\n",
       "      <th>DTD</th>\n",
       "      <td>0.0</td>\n",
       "      <td>1.038044</td>\n",
       "      <td>0.655525</td>\n",
       "    </tr>\n",
       "    <tr>\n",
       "      <th>Fashion MNIST</th>\n",
       "      <td>0.0</td>\n",
       "      <td>1.114086</td>\n",
       "      <td>0.378823</td>\n",
       "    </tr>\n",
       "    <tr>\n",
       "      <th>Flowers102</th>\n",
       "      <td>0.0</td>\n",
       "      <td>0.162121</td>\n",
       "      <td>0.396096</td>\n",
       "    </tr>\n",
       "    <tr>\n",
       "      <th>GTSRB</th>\n",
       "      <td>0.0</td>\n",
       "      <td>2.744978</td>\n",
       "      <td>1.324915</td>\n",
       "    </tr>\n",
       "    <tr>\n",
       "      <th>MNIST</th>\n",
       "      <td>0.0</td>\n",
       "      <td>3.582994</td>\n",
       "      <td>2.172172</td>\n",
       "    </tr>\n",
       "    <tr>\n",
       "      <th>SVHN</th>\n",
       "      <td>0.0</td>\n",
       "      <td>1.226007</td>\n",
       "      <td>1.177052</td>\n",
       "    </tr>\n",
       "    <tr>\n",
       "      <th>Stanford Cars</th>\n",
       "      <td>0.0</td>\n",
       "      <td>0.346047</td>\n",
       "      <td>0.201252</td>\n",
       "    </tr>\n",
       "    <tr>\n",
       "      <th>TinyImagenet</th>\n",
       "      <td>0.0</td>\n",
       "      <td>0.127087</td>\n",
       "      <td>0.127493</td>\n",
       "    </tr>\n",
       "  </tbody>\n",
       "</table>\n",
       "</div>"
      ],
      "text/plain": [
       "               ZEROSHOT  TIP ADAPTER  TIP-F ADAPTER\n",
       "name                                               \n",
       "CIFAR10             0.0     0.178515       0.166199\n",
       "CIFAR100            0.0     0.310771       0.107025\n",
       "Caltech CUB         0.0     0.357506       0.125636\n",
       "Caltech101          0.0     0.499237       0.313782\n",
       "DTD                 0.0     1.038044       0.655525\n",
       "Fashion MNIST       0.0     1.114086       0.378823\n",
       "Flowers102          0.0     0.162121       0.396096\n",
       "GTSRB               0.0     2.744978       1.324915\n",
       "MNIST               0.0     3.582994       2.172172\n",
       "SVHN                0.0     1.226007       1.177052\n",
       "Stanford Cars       0.0     0.346047       0.201252\n",
       "TinyImagenet        0.0     0.127087       0.127493"
      ]
     },
     "execution_count": 26,
     "metadata": {},
     "output_type": "execute_result"
    }
   ],
   "source": [
    "stds"
   ]
  },
  {
   "cell_type": "code",
   "execution_count": 27,
   "id": "c0804e14-8cd3-4a00-8b79-3f977c8721c9",
   "metadata": {},
   "outputs": [],
   "source": [
    "metrics = ['ZEROSHOT', 'TIP ADAPTER', 'TIP-F ADAPTER']\n",
    "metrics_and_name = metrics + ['name']\n",
    "std_metrics = [metric + '_std' for metric in metrics]\n",
    "tip_mappings = {'tip':'T-MCM', 'tipf':'T-MCM-f', 'clip':'MCM'}"
   ]
  },
  {
   "cell_type": "code",
   "execution_count": 28,
   "id": "daf94441-5866-4eba-8c06-e282b3925738",
   "metadata": {},
   "outputs": [
    {
     "name": "stderr",
     "output_type": "stream",
     "text": [
      "/tmp/ipykernel_884/1239665986.py:9: MatplotlibDeprecationWarning: Support for passing numbers through unit converters is deprecated since 3.5 and support will be removed two minor releases later; use Axis.convert_units instead.\n",
      "  ax.vlines([range(len(means))], ymin=0, ymax=means.max(axis=1),color='darkgrey', alpha=0.6)\n",
      "/tmp/ipykernel_884/1239665986.py:13: UserWarning: FixedFormatter should only be used together with FixedLocator\n",
      "  _ = ax.set_xticklabels([ind for ind in classification_df['name'].unique()], rotation=45, ha='right')\n"
     ]
    },
    {
     "name": "stdout",
     "output_type": "stream",
     "text": [
      "Tikzplotlib failed could not convert string to float: 'CIFAR10'\n",
      "Saved to /mnt/c/Users/fmeyer/Git/ood-detection/data/plots/svg/6\n",
      "Saved to /mnt/c/Users/fmeyer/Git/ood-detection/data/plots/6\n"
     ]
    },
    {
     "data": {
      "text/plain": [
       "True"
      ]
     },
     "execution_count": 28,
     "metadata": {},
     "output_type": "execute_result"
    },
    {
     "data": {
      "image/png": "[encoded data removed]",
      "text/plain": [
       "<Figure size 425.197x170.079 with 1 Axes>"
      ]
     },
     "metadata": {},
     "output_type": "display_data"
    }
   ],
   "source": [
    "fig, ax = plt.subplots(figsize=figsize)\n",
    "\n",
    "means = classification_df[metrics_and_name].groupby('name').mean()\n",
    "stds = classification_df[metrics_and_name].groupby('name').std()\n",
    "\n",
    "plot_errorbar(means, stds, metrics[0])\n",
    "plot_errorbar(means, stds, metrics[1])\n",
    "plot_errorbar(means, stds, metrics[2])\n",
    "ax.vlines([range(len(means))], ymin=0, ymax=means.max(axis=1),color='darkgrey', alpha=0.6)\n",
    "\n",
    "_ =ax.legend(fontsize=7, loc='lower left')\n",
    "_ = ax.set_xticklabels\n",
    "_ = ax.set_xticklabels([ind for ind in classification_df['name'].unique()], rotation=45, ha='right')\n",
    "ax.set_ylabel('Accuracy %')\n",
    "ax.set_xlabel('Dataset')\n",
    "plt.tight_layout()\n",
    "\n",
    "save_plot(fig, 'accuracies_domain_adaption', '6', False)"
   ]
  },
  {
   "cell_type": "code",
   "execution_count": 29,
   "id": "9c532c05-6e88-4902-88b3-80d0bc2374c7",
   "metadata": {
    "tags": []
   },
   "outputs": [
    {
     "data": {
      "text/html": [
       "<div>\n",
       "<style scoped>\n",
       "    .dataframe tbody tr th:only-of-type {\n",
       "        vertical-align: middle;\n",
       "    }\n",
       "\n",
       "    .dataframe tbody tr th {\n",
       "        vertical-align: top;\n",
       "    }\n",
       "\n",
       "    .dataframe thead th {\n",
       "        text-align: right;\n",
       "    }\n",
       "</style>\n",
       "<table border=\"1\" class=\"dataframe\">\n",
       "  <thead>\n",
       "    <tr style=\"text-align: right;\">\n",
       "      <th></th>\n",
       "      <th>ZEROSHOT</th>\n",
       "      <th>TIP ADAPTER</th>\n",
       "      <th>TIP-F ADAPTER</th>\n",
       "    </tr>\n",
       "    <tr>\n",
       "      <th>name</th>\n",
       "      <th></th>\n",
       "      <th></th>\n",
       "      <th></th>\n",
       "    </tr>\n",
       "  </thead>\n",
       "  <tbody>\n",
       "    <tr>\n",
       "      <th>CIFAR10</th>\n",
       "      <td>89.830000</td>\n",
       "      <td>91.367000</td>\n",
       "      <td>90.720000</td>\n",
       "    </tr>\n",
       "    <tr>\n",
       "      <th>CIFAR100</th>\n",
       "      <td>64.230000</td>\n",
       "      <td>67.483000</td>\n",
       "      <td>69.061000</td>\n",
       "    </tr>\n",
       "    <tr>\n",
       "      <th>Caltech CUB</th>\n",
       "      <td>52.140145</td>\n",
       "      <td>61.836382</td>\n",
       "      <td>59.597860</td>\n",
       "    </tr>\n",
       "    <tr>\n",
       "      <th>Caltech101</th>\n",
       "      <td>83.722270</td>\n",
       "      <td>89.037741</td>\n",
       "      <td>89.403630</td>\n",
       "    </tr>\n",
       "    <tr>\n",
       "      <th>DTD</th>\n",
       "      <td>44.414894</td>\n",
       "      <td>59.106383</td>\n",
       "      <td>61.218085</td>\n",
       "    </tr>\n",
       "    <tr>\n",
       "      <th>Fashion MNIST</th>\n",
       "      <td>59.560000</td>\n",
       "      <td>73.229000</td>\n",
       "      <td>70.502000</td>\n",
       "    </tr>\n",
       "    <tr>\n",
       "      <th>Flowers102</th>\n",
       "      <td>66.287201</td>\n",
       "      <td>86.609205</td>\n",
       "      <td>75.574890</td>\n",
       "    </tr>\n",
       "    <tr>\n",
       "      <th>GTSRB</th>\n",
       "      <td>32.319873</td>\n",
       "      <td>44.920823</td>\n",
       "      <td>51.198733</td>\n",
       "    </tr>\n",
       "    <tr>\n",
       "      <th>MNIST</th>\n",
       "      <td>48.220000</td>\n",
       "      <td>69.657000</td>\n",
       "      <td>64.170000</td>\n",
       "    </tr>\n",
       "    <tr>\n",
       "      <th>SVHN</th>\n",
       "      <td>24.946220</td>\n",
       "      <td>25.454825</td>\n",
       "      <td>33.382376</td>\n",
       "    </tr>\n",
       "    <tr>\n",
       "      <th>Stanford Cars</th>\n",
       "      <td>59.656759</td>\n",
       "      <td>68.503917</td>\n",
       "      <td>68.450441</td>\n",
       "    </tr>\n",
       "    <tr>\n",
       "      <th>TinyImagenet</th>\n",
       "      <td>62.880000</td>\n",
       "      <td>65.868000</td>\n",
       "      <td>67.481000</td>\n",
       "    </tr>\n",
       "  </tbody>\n",
       "</table>\n",
       "</div>"
      ],
      "text/plain": [
       "                ZEROSHOT  TIP ADAPTER  TIP-F ADAPTER\n",
       "name                                                \n",
       "CIFAR10        89.830000    91.367000      90.720000\n",
       "CIFAR100       64.230000    67.483000      69.061000\n",
       "Caltech CUB    52.140145    61.836382      59.597860\n",
       "Caltech101     83.722270    89.037741      89.403630\n",
       "DTD            44.414894    59.106383      61.218085\n",
       "Fashion MNIST  59.560000    73.229000      70.502000\n",
       "Flowers102     66.287201    86.609205      75.574890\n",
       "GTSRB          32.319873    44.920823      51.198733\n",
       "MNIST          48.220000    69.657000      64.170000\n",
       "SVHN           24.946220    25.454825      33.382376\n",
       "Stanford Cars  59.656759    68.503917      68.450441\n",
       "TinyImagenet   62.880000    65.868000      67.481000"
      ]
     },
     "execution_count": 29,
     "metadata": {},
     "output_type": "execute_result"
    }
   ],
   "source": [
    "classification_df[metrics_and_name].groupby('name').mean()"
   ]
  },
  {
   "cell_type": "markdown",
   "id": "ea099d97-148f-450d-8704-7c4dcb444581",
   "metadata": {},
   "source": [
    "### MCM "
   ]
  },
  {
   "cell_type": "code",
   "execution_count": 30,
   "id": "0865033e-8ab9-478c-a73c-6b042a22f1da",
   "metadata": {},
   "outputs": [],
   "source": [
    "adapter_df = get_history_from_project('thesis-toc-ood-test-hyperparam-search-10-runs', False)\n",
    "working_adapter = adapter_df.copy()\n",
    "working_adapter['name'] =working_adapter['name'].apply(lambda x: dataset_mapping[x]) "
   ]
  },
  {
   "cell_type": "code",
   "execution_count": 31,
   "id": "7c10b54d-d5b9-4409-944c-2a7a987ea080",
   "metadata": {},
   "outputs": [
    {
     "data": {
      "text/plain": [
       "['ZEROSHOT', 'TIP ADAPTER', 'TIP-F ADAPTER', 'name']"
      ]
     },
     "execution_count": 31,
     "metadata": {},
     "output_type": "execute_result"
    }
   ],
   "source": [
    "metrics_and_name"
   ]
  },
  {
   "cell_type": "code",
   "execution_count": 32,
   "id": "336030f7-d57f-4ef3-a6b8-b2672af03068",
   "metadata": {},
   "outputs": [],
   "source": [
    "metrics = ['tip', 'tipf', 'clip']\n",
    "metrics_and_name = metrics + ['name']\n",
    "std_metrics = [metric + '_std' for metric in metrics]\n",
    "tip_mappings = {'tip':'T-MCM', 'tipf':'T-MCM-f', 'clip':'MCM'}"
   ]
  },
  {
   "cell_type": "code",
   "execution_count": 33,
   "id": "25680386-b930-48a2-a2fc-79b3acda774b",
   "metadata": {},
   "outputs": [],
   "source": [
    "diff_bigger = 10\n",
    "columns_of_relevance = 'ZEROSHOT-TIP ADAPTER'\n",
    "# get the names were adaption is better than xy points\n",
    "full_mean = classification_df.groupby('name').mean()\n",
    "names = full_mean[full_mean[columns_of_relevance] > diff_bigger].index.values\n"
   ]
  },
  {
   "cell_type": "code",
   "execution_count": 34,
   "id": "391f28b8-8d40-4057-a5f5-b42cfa3c1b62",
   "metadata": {},
   "outputs": [],
   "source": [
    "to_safe = working_adapter[metrics+['name']+ std_metrics].set_index('name').round(3)\n",
    "for metric, std_metric in zip(metrics, std_metrics):\n",
    "    to_safe[metric] = to_safe[metric].astype(str) + \" \\pm \"+  to_safe[std_metric].astype(str)\n",
    "to_safe = to_safe.drop(std_metrics, axis=1).sort_index()\n"
   ]
  },
  {
   "cell_type": "code",
   "execution_count": 35,
   "id": "111eea3c-3715-48aa-943b-837dcf331af0",
   "metadata": {},
   "outputs": [],
   "source": [
    "save_csv(to_safe.rename(columns=metric_converter).sort_index(), \"6\", \"mcm_tip_tipf\")"
   ]
  },
  {
   "cell_type": "code",
   "execution_count": 36,
   "id": "dc1442f8-3966-4c98-a43f-d7546a425e6b",
   "metadata": {},
   "outputs": [
    {
     "data": {
      "text/html": [
       "<div>\n",
       "<style scoped>\n",
       "    .dataframe tbody tr th:only-of-type {\n",
       "        vertical-align: middle;\n",
       "    }\n",
       "\n",
       "    .dataframe tbody tr th {\n",
       "        vertical-align: top;\n",
       "    }\n",
       "\n",
       "    .dataframe thead th {\n",
       "        text-align: right;\n",
       "    }\n",
       "</style>\n",
       "<table border=\"1\" class=\"dataframe\">\n",
       "  <thead>\n",
       "    <tr style=\"text-align: right;\">\n",
       "      <th></th>\n",
       "      <th>tip</th>\n",
       "      <th>tipf</th>\n",
       "      <th>clip</th>\n",
       "    </tr>\n",
       "    <tr>\n",
       "      <th>name</th>\n",
       "      <th></th>\n",
       "      <th></th>\n",
       "      <th></th>\n",
       "    </tr>\n",
       "  </thead>\n",
       "  <tbody>\n",
       "    <tr>\n",
       "      <th>CIFAR10</th>\n",
       "      <td>0.881 \\pm 0.026</td>\n",
       "      <td>0.907 \\pm 0.013</td>\n",
       "      <td>0.9 \\pm 0.019</td>\n",
       "    </tr>\n",
       "    <tr>\n",
       "      <th>CIFAR100</th>\n",
       "      <td>0.717 \\pm 0.024</td>\n",
       "      <td>0.77 \\pm 0.017</td>\n",
       "      <td>0.735 \\pm 0.025</td>\n",
       "    </tr>\n",
       "    <tr>\n",
       "      <th>Caltech CUB</th>\n",
       "      <td>0.665 \\pm 0.014</td>\n",
       "      <td>0.643 \\pm 0.022</td>\n",
       "      <td>0.639 \\pm 0.014</td>\n",
       "    </tr>\n",
       "    <tr>\n",
       "      <th>Caltech101</th>\n",
       "      <td>0.897 \\pm 0.035</td>\n",
       "      <td>0.897 \\pm 0.036</td>\n",
       "      <td>0.87 \\pm 0.05</td>\n",
       "    </tr>\n",
       "    <tr>\n",
       "      <th>DTD</th>\n",
       "      <td>0.731 \\pm 0.024</td>\n",
       "      <td>0.71 \\pm 0.027</td>\n",
       "      <td>0.664 \\pm 0.045</td>\n",
       "    </tr>\n",
       "    <tr>\n",
       "      <th>Fashion MNIST</th>\n",
       "      <td>0.73 \\pm 0.043</td>\n",
       "      <td>0.706 \\pm 0.084</td>\n",
       "      <td>0.701 \\pm 0.08</td>\n",
       "    </tr>\n",
       "    <tr>\n",
       "      <th>Flowers102</th>\n",
       "      <td>0.856 \\pm 0.023</td>\n",
       "      <td>0.775 \\pm 0.032</td>\n",
       "      <td>0.773 \\pm 0.028</td>\n",
       "    </tr>\n",
       "    <tr>\n",
       "      <th>GTSRB</th>\n",
       "      <td>0.578 \\pm 0.061</td>\n",
       "      <td>0.549 \\pm 0.062</td>\n",
       "      <td>0.515 \\pm 0.062</td>\n",
       "    </tr>\n",
       "    <tr>\n",
       "      <th>MNIST</th>\n",
       "      <td>0.661 \\pm 0.095</td>\n",
       "      <td>0.622 \\pm 0.055</td>\n",
       "      <td>0.591 \\pm 0.086</td>\n",
       "    </tr>\n",
       "    <tr>\n",
       "      <th>SVHN</th>\n",
       "      <td>0.547 \\pm 0.045</td>\n",
       "      <td>0.555 \\pm 0.029</td>\n",
       "      <td>0.533 \\pm 0.045</td>\n",
       "    </tr>\n",
       "    <tr>\n",
       "      <th>Stanford Cars</th>\n",
       "      <td>0.678 \\pm 0.015</td>\n",
       "      <td>0.65 \\pm 0.022</td>\n",
       "      <td>0.645 \\pm 0.022</td>\n",
       "    </tr>\n",
       "    <tr>\n",
       "      <th>TinyImagenet</th>\n",
       "      <td>0.725 \\pm 0.018</td>\n",
       "      <td>0.774 \\pm 0.014</td>\n",
       "      <td>0.75 \\pm 0.014</td>\n",
       "    </tr>\n",
       "  </tbody>\n",
       "</table>\n",
       "</div>"
      ],
      "text/plain": [
       "                           tip             tipf             clip\n",
       "name                                                            \n",
       "CIFAR10        0.881 \\pm 0.026  0.907 \\pm 0.013    0.9 \\pm 0.019\n",
       "CIFAR100       0.717 \\pm 0.024   0.77 \\pm 0.017  0.735 \\pm 0.025\n",
       "Caltech CUB    0.665 \\pm 0.014  0.643 \\pm 0.022  0.639 \\pm 0.014\n",
       "Caltech101     0.897 \\pm 0.035  0.897 \\pm 0.036    0.87 \\pm 0.05\n",
       "DTD            0.731 \\pm 0.024   0.71 \\pm 0.027  0.664 \\pm 0.045\n",
       "Fashion MNIST   0.73 \\pm 0.043  0.706 \\pm 0.084   0.701 \\pm 0.08\n",
       "Flowers102     0.856 \\pm 0.023  0.775 \\pm 0.032  0.773 \\pm 0.028\n",
       "GTSRB          0.578 \\pm 0.061  0.549 \\pm 0.062  0.515 \\pm 0.062\n",
       "MNIST          0.661 \\pm 0.095  0.622 \\pm 0.055  0.591 \\pm 0.086\n",
       "SVHN           0.547 \\pm 0.045  0.555 \\pm 0.029  0.533 \\pm 0.045\n",
       "Stanford Cars  0.678 \\pm 0.015   0.65 \\pm 0.022  0.645 \\pm 0.022\n",
       "TinyImagenet   0.725 \\pm 0.018  0.774 \\pm 0.014   0.75 \\pm 0.014"
      ]
     },
     "execution_count": 36,
     "metadata": {},
     "output_type": "execute_result"
    }
   ],
   "source": [
    "to_safe.rename(columns=metric_converter)"
   ]
  },
  {
   "cell_type": "code",
   "execution_count": 37,
   "id": "6ea6b490-1ba6-477a-bbe1-e9ff039268ed",
   "metadata": {
    "tags": []
   },
   "outputs": [
    {
     "data": {
      "text/plain": [
       "tip     0.722\n",
       "tipf    0.713\n",
       "clip    0.693\n",
       "dtype: float64"
      ]
     },
     "execution_count": 37,
     "metadata": {},
     "output_type": "execute_result"
    }
   ],
   "source": [
    "working_adapter[metrics].mean().round(3)"
   ]
  },
  {
   "cell_type": "code",
   "execution_count": 38,
   "id": "42d4435b-afa6-43df-9c89-2a4f59911bde",
   "metadata": {},
   "outputs": [
    {
     "data": {
      "text/plain": [
       "tip_std     0.035\n",
       "tipf_std    0.035\n",
       "clip_std    0.041\n",
       "dtype: float64"
      ]
     },
     "execution_count": 38,
     "metadata": {},
     "output_type": "execute_result"
    }
   ],
   "source": [
    "working_adapter[std_metrics].mean().round(3)"
   ]
  },
  {
   "cell_type": "markdown",
   "id": "04e91644-5f0b-434f-b4a8-c2c9db932a2e",
   "metadata": {
    "tags": []
   },
   "source": [
    "## Use only good adapted ones"
   ]
  },
  {
   "cell_type": "code",
   "execution_count": 39,
   "id": "2876e8c9-190c-438b-8c53-af338ed4a939",
   "metadata": {},
   "outputs": [
    {
     "name": "stdout",
     "output_type": "stream",
     "text": [
      "Acc improvement over 10: ['DTD' 'Fashion MNIST' 'GTSRB' 'MNIST']\n"
     ]
    }
   ],
   "source": [
    "diff_bigger = 10\n",
    "columns_of_relevance = 'ZEROSHOT-TIP-F ADAPTER'\n",
    "# get the names were adaption is better than xy points\n",
    "full_mean = classification_df.groupby('name').mean()\n",
    "names = full_mean[full_mean[columns_of_relevance] > diff_bigger].index.values\n",
    "print(f\"Acc improvement over {diff_bigger}: {names}\")"
   ]
  },
  {
   "cell_type": "code",
   "execution_count": 40,
   "id": "f4db5fff-0112-49e6-a005-1fc6f1fcd40c",
   "metadata": {},
   "outputs": [
    {
     "data": {
      "text/plain": [
       "tip     0.675\n",
       "tipf    0.647\n",
       "clip    0.618\n",
       "dtype: float64"
      ]
     },
     "execution_count": 40,
     "metadata": {},
     "output_type": "execute_result"
    }
   ],
   "source": [
    "working_adapter.set_index('name').loc[names][metrics].mean().round(3)"
   ]
  },
  {
   "cell_type": "code",
   "execution_count": 41,
   "id": "e5c60ddf-a1cf-43de-a681-af4989a584ce",
   "metadata": {},
   "outputs": [
    {
     "data": {
      "text/plain": [
       "tip     0.675\n",
       "tipf    0.647\n",
       "clip    0.618\n",
       "dtype: float64"
      ]
     },
     "execution_count": 41,
     "metadata": {},
     "output_type": "execute_result"
    }
   ],
   "source": [
    "working_adapter.set_index('name').loc[names][metrics].mean().round(3)"
   ]
  },
  {
   "cell_type": "code",
   "execution_count": 42,
   "id": "aeed1c3b-3611-4be9-a6f0-e723aee48c4e",
   "metadata": {},
   "outputs": [
    {
     "name": "stdout",
     "output_type": "stream",
     "text": [
      "Acc improvement over 10: ['DTD' 'Fashion MNIST' 'Flowers102' 'GTSRB' 'MNIST']\n"
     ]
    }
   ],
   "source": [
    "diff_bigger = 10\n",
    "columns_of_relevance = 'ZEROSHOT-TIP ADAPTER'\n",
    "# get the names were adaption is better than xy points\n",
    "full_mean = classification_df.groupby('name').mean()\n",
    "names = full_mean[full_mean[columns_of_relevance] > diff_bigger].index.values\n",
    "print(f\"Acc improvement over {diff_bigger}: {names}\")"
   ]
  },
  {
   "cell_type": "code",
   "execution_count": 43,
   "id": "95afb79f-5b18-4d6e-a9a8-7f248ad2ef86",
   "metadata": {},
   "outputs": [
    {
     "data": {
      "text/plain": [
       "tip     0.711\n",
       "tipf    0.672\n",
       "clip    0.649\n",
       "dtype: float64"
      ]
     },
     "execution_count": 43,
     "metadata": {},
     "output_type": "execute_result"
    }
   ],
   "source": [
    "working_adapter.set_index('name').loc[names][metrics].mean().round(3)"
   ]
  },
  {
   "cell_type": "code",
   "execution_count": 44,
   "id": "a137d0b0-2df5-4319-ac92-305486fd8217",
   "metadata": {},
   "outputs": [
    {
     "data": {
      "text/plain": [
       "tip_std     0.049\n",
       "tipf_std    0.052\n",
       "clip_std    0.060\n",
       "dtype: float64"
      ]
     },
     "execution_count": 44,
     "metadata": {},
     "output_type": "execute_result"
    }
   ],
   "source": [
    "working_adapter.set_index('name').loc[names][std_metrics].mean().round(3)"
   ]
  },
  {
   "cell_type": "code",
   "execution_count": 45,
   "id": "1216585f-a577-4664-bab4-224fa0639690",
   "metadata": {},
   "outputs": [
    {
     "data": {
      "text/plain": [
       "<AxesSubplot:>"
      ]
     },
     "execution_count": 45,
     "metadata": {},
     "output_type": "execute_result"
    },
    {
     "data": {
      "image/png": "[encoded data removed]",
      "text/plain": [
       "<Figure size 432x288 with 1 Axes>"
      ]
     },
     "metadata": {},
     "output_type": "display_data"
    }
   ],
   "source": [
    "working_adapter[metrics].plot(kind='bar')"
   ]
  },
  {
   "cell_type": "markdown",
   "id": "16116e99-a62a-4bc7-9a42-4f355ca6769a",
   "metadata": {},
   "source": [
    "## ZOC"
   ]
  },
  {
   "cell_type": "code",
   "execution_count": 46,
   "id": "a67a38ac-16b5-49d9-9798-8741e4c7b5dd",
   "metadata": {},
   "outputs": [
    {
     "data": {
      "text/plain": [
       "zoc     0.727\n",
       "toc     0.737\n",
       "tocf    0.733\n",
       "dtype: float64"
      ]
     },
     "execution_count": 46,
     "metadata": {},
     "output_type": "execute_result"
    }
   ],
   "source": [
    "working_adapter = adapter_df.copy()\n",
    "working_adapter['name'] = working_adapter['name'].apply(lambda x: dataset_mapping[x])\n",
    "working_adapter.set_index('name', inplace=True)\n",
    "metrics_z = ['zoc', 'toc', 'tocf']\n",
    "std_metrics_z = [metric + '_std' for metric in metrics_z]\n",
    "tip_mappings = {'zoc':'ZOC', 'toc':'T-ZOC', 'toc-f':'T-ZOC-f'}\n",
    "working_adapter[metrics_z].mean().round(3)"
   ]
  },
  {
   "cell_type": "code",
   "execution_count": 47,
   "id": "0fa49cda-bf8d-4819-b665-166ae7eb04fc",
   "metadata": {},
   "outputs": [
    {
     "data": {
      "text/plain": [
       "zoc_std     0.044\n",
       "toc_std     0.031\n",
       "tocf_std    0.042\n",
       "dtype: float64"
      ]
     },
     "execution_count": 47,
     "metadata": {},
     "output_type": "execute_result"
    }
   ],
   "source": [
    "working_adapter[std_metrics_z].mean().round(3)"
   ]
  },
  {
   "cell_type": "code",
   "execution_count": 48,
   "id": "986bc085-4515-498b-8e40-6dcbb52c51f3",
   "metadata": {},
   "outputs": [
    {
     "data": {
      "text/plain": [
       "array(['DTD', 'Fashion MNIST', 'Flowers102', 'GTSRB', 'MNIST'],\n",
       "      dtype=object)"
      ]
     },
     "execution_count": 48,
     "metadata": {},
     "output_type": "execute_result"
    }
   ],
   "source": [
    "names"
   ]
  },
  {
   "cell_type": "code",
   "execution_count": 49,
   "id": "22655ab8-44a5-4081-ba54-53126661aa0b",
   "metadata": {},
   "outputs": [
    {
     "data": {
      "text/plain": [
       "zoc     0.675\n",
       "toc     0.719\n",
       "tocf    0.681\n",
       "dtype: float64"
      ]
     },
     "execution_count": 49,
     "metadata": {},
     "output_type": "execute_result"
    }
   ],
   "source": [
    "working_adapter.loc[names][metrics_z].mean().round(3)"
   ]
  },
  {
   "cell_type": "code",
   "execution_count": 50,
   "id": "b648f0df-f0e0-4e70-8a37-c72f0be9c6d7",
   "metadata": {},
   "outputs": [
    {
     "data": {
      "text/plain": [
       "zoc_std     0.071\n",
       "toc_std     0.038\n",
       "tocf_std    0.069\n",
       "dtype: float64"
      ]
     },
     "execution_count": 50,
     "metadata": {},
     "output_type": "execute_result"
    }
   ],
   "source": [
    "working_adapter.loc[names][std_metrics_z].mean().round(3)"
   ]
  },
  {
   "cell_type": "code",
   "execution_count": 51,
   "id": "30a84547-71cf-4995-b6b5-ab8d4c7cc30e",
   "metadata": {},
   "outputs": [],
   "source": [
    "renamer_for_plot = {'zoc':'ZOC', 'toc':'T-ZOC', 'tip':'T-MCM', 'tocf':'T-ZOC-f', 'tipf':'T-MCM-f', 'clip':'MCM'}"
   ]
  },
  {
   "cell_type": "code",
   "execution_count": 52,
   "id": "80d272a8-d15e-4f37-968a-0f76e6abdc65",
   "metadata": {},
   "outputs": [],
   "source": [
    "barplot_df =  working_adapter.rename(columns=renamer_for_plot).loc[names][['MCM', 'T-MCM', 'T-ZOC']]"
   ]
  },
  {
   "cell_type": "code",
   "execution_count": 53,
   "id": "0243d739-b962-475b-926d-688d2ce82f1e",
   "metadata": {},
   "outputs": [
    {
     "data": {
      "text/html": [
       "<div>\n",
       "<style scoped>\n",
       "    .dataframe tbody tr th:only-of-type {\n",
       "        vertical-align: middle;\n",
       "    }\n",
       "\n",
       "    .dataframe tbody tr th {\n",
       "        vertical-align: top;\n",
       "    }\n",
       "\n",
       "    .dataframe thead th {\n",
       "        text-align: right;\n",
       "    }\n",
       "</style>\n",
       "<table border=\"1\" class=\"dataframe\">\n",
       "  <thead>\n",
       "    <tr style=\"text-align: right;\">\n",
       "      <th></th>\n",
       "      <th>MCM</th>\n",
       "      <th>T-MCM</th>\n",
       "      <th>T-ZOC</th>\n",
       "    </tr>\n",
       "    <tr>\n",
       "      <th>name</th>\n",
       "      <th></th>\n",
       "      <th></th>\n",
       "      <th></th>\n",
       "    </tr>\n",
       "  </thead>\n",
       "  <tbody>\n",
       "    <tr>\n",
       "      <th>DTD</th>\n",
       "      <td>0.664373</td>\n",
       "      <td>0.730630</td>\n",
       "      <td>0.711862</td>\n",
       "    </tr>\n",
       "    <tr>\n",
       "      <th>Fashion MNIST</th>\n",
       "      <td>0.700814</td>\n",
       "      <td>0.730275</td>\n",
       "      <td>0.798209</td>\n",
       "    </tr>\n",
       "    <tr>\n",
       "      <th>Flowers102</th>\n",
       "      <td>0.772584</td>\n",
       "      <td>0.856279</td>\n",
       "      <td>0.891453</td>\n",
       "    </tr>\n",
       "    <tr>\n",
       "      <th>GTSRB</th>\n",
       "      <td>0.514777</td>\n",
       "      <td>0.577612</td>\n",
       "      <td>0.614035</td>\n",
       "    </tr>\n",
       "    <tr>\n",
       "      <th>MNIST</th>\n",
       "      <td>0.591086</td>\n",
       "      <td>0.660915</td>\n",
       "      <td>0.577198</td>\n",
       "    </tr>\n",
       "  </tbody>\n",
       "</table>\n",
       "</div>"
      ],
      "text/plain": [
       "                    MCM     T-MCM     T-ZOC\n",
       "name                                       \n",
       "DTD            0.664373  0.730630  0.711862\n",
       "Fashion MNIST  0.700814  0.730275  0.798209\n",
       "Flowers102     0.772584  0.856279  0.891453\n",
       "GTSRB          0.514777  0.577612  0.614035\n",
       "MNIST          0.591086  0.660915  0.577198"
      ]
     },
     "execution_count": 53,
     "metadata": {},
     "output_type": "execute_result"
    }
   ],
   "source": [
    "barplot_df"
   ]
  },
  {
   "cell_type": "code",
   "execution_count": 54,
   "id": "129457ff-fd23-4aad-8dc4-d40db0dddf21",
   "metadata": {},
   "outputs": [
    {
     "data": {
      "text/plain": [
       "(5.905511811023622, 2.3622047244094486)"
      ]
     },
     "execution_count": 54,
     "metadata": {},
     "output_type": "execute_result"
    }
   ],
   "source": [
    "figsize"
   ]
  },
  {
   "cell_type": "code",
   "execution_count": 55,
   "id": "3e58a1a9-dce8-4b82-9e34-684483d6f9d7",
   "metadata": {},
   "outputs": [
    {
     "name": "stderr",
     "output_type": "stream",
     "text": [
      "/home/fmeyer/miniconda3/envs/ood/lib/python3.8/site-packages/tikzplotlib/_cleanfigure.py:200: UserWarning: Cleaning Bar Container (bar plot) is not supported yet.\n",
      "  warnings.warn(\"Cleaning Bar Container (bar plot) is not supported yet.\")\n",
      "/home/fmeyer/miniconda3/envs/ood/lib/python3.8/site-packages/tikzplotlib/_cleanfigure.py:166: UserWarning: Cleaning Line Collections (scatter plot) is not supported yet.\n",
      "  warnings.warn(\n"
     ]
    },
    {
     "name": "stdout",
     "output_type": "stream",
     "text": [
      "Saved to /mnt/c/Users/fmeyer/Git/ood-detection/data/plots/tickz/6\n",
      "Saved to /mnt/c/Users/fmeyer/Git/ood-detection/data/plots/svg/6\n",
      "Saved to /mnt/c/Users/fmeyer/Git/ood-detection/data/plots/6\n"
     ]
    },
    {
     "data": {
      "text/plain": [
       "True"
      ]
     },
     "execution_count": 55,
     "metadata": {},
     "output_type": "execute_result"
    },
    {
     "data": {
      "image/png": "[encoded data removed]",
      "text/plain": [
       "<Figure size 425.197x216 with 1 Axes>"
      ]
     },
     "metadata": {},
     "output_type": "display_data"
    }
   ],
   "source": [
    "fig, ax = plt.subplots(figsize=(figsize[0], 3))\n",
    "bar_width = 0.23\n",
    "pos1 = range(len(barplot_df))\n",
    "pos2 = [bar_width+pos for pos in pos1]\n",
    "pos3 = [bar_width+pos for pos in pos2]\n",
    "\n",
    "ax.bar(pos1, barplot_df['MCM'], width=bar_width, label='MCM')\n",
    "ax.bar(pos2, barplot_df['T-MCM'], width=bar_width, label='T-MCM (Ours)')\n",
    "ax.bar(pos3, barplot_df['T-ZOC'], width=bar_width, label='T-ZOC (Ours)')\n",
    "ax.hlines(0.5, xmin=-.5, xmax=[len(barplot_df)], colors='darkgrey', alpha=0.9, linestyles='--', lw=2, label='Uninformed Guesser')\n",
    "_ = ax.set_xticks(pos2)\n",
    "ax.set_xticklabels(barplot_df.index, rotation=45)\n",
    "ax.legend(loc='upper left', bbox_to_anchor=(1, 1), fontsize=7)\n",
    "ax.set_ylabel('AUROC')\n",
    "ax.set_xlabel('DATASET')\n",
    "plt.tight_layout()\n",
    "\n",
    "save_plot(fig, 'best_bars','6', False)"
   ]
  },
  {
   "cell_type": "markdown",
   "id": "c80670db-1373-4a1b-aeee-1b7aed523c37",
   "metadata": {},
   "source": [
    "# corrs"
   ]
  },
  {
   "cell_type": "code",
   "execution_count": 56,
   "id": "e066a4ea-9972-4b0d-a7c7-5d8f80843293",
   "metadata": {},
   "outputs": [
    {
     "data": {
      "text/plain": [
       "Index(['TIP-F F1', 'ZEROSHOT', 'TIP ADAPTER', 'temperature', 'TIP F1',\n",
       "       'TIP-F ADAPTER', 'tip_best_beta', 'shots_per_class', 'zf1',\n",
       "       'tipf_best_beta', 'tipf_best_alpha', 'tip_best_alpha',\n",
       "       'ZEROSHOT-TIP ADAPTER', 'ZEROSHOT-TIP-F ADAPTER',\n",
       "       'TIP ADAPTER-ZEROSHOT', 'TIP ADAPTER-TIP-F ADAPTER',\n",
       "       'TIP-F ADAPTER-ZEROSHOT', 'TIP-F ADAPTER-TIP ADAPTER',\n",
       "       'ZEROSHOT-TIP ADAPTER-percent', 'ZEROSHOT-TIP-F ADAPTER-percent'],\n",
       "      dtype='object')"
      ]
     },
     "execution_count": 56,
     "metadata": {},
     "output_type": "execute_result"
    }
   ],
   "source": [
    "classification_df.groupby('name').mean().columns"
   ]
  },
  {
   "cell_type": "code",
   "execution_count": 57,
   "id": "94308164-c3e0-435d-aa22-bba9039fbeb7",
   "metadata": {},
   "outputs": [],
   "source": [
    "class_and_ood = pd.concat([classification_df.groupby('name').mean()[['ZEROSHOT', 'TIP ADAPTER', 'TIP-F ADAPTER', 'ZEROSHOT-TIP ADAPTER','ZEROSHOT-TIP-F ADAPTER']], working_adapter.rename(columns=renamer_for_plot).drop([col for col in working_adapter.columns if \"_std\" in col],axis=1)], axis=1)"
   ]
  },
  {
   "cell_type": "code",
   "execution_count": 58,
   "id": "01e24064-2d31-4a30-a5fc-1e52798f4b03",
   "metadata": {},
   "outputs": [],
   "source": [
    "auroc_metrics = ['T-ZOC-f', 'T-ZOC', 'MCM', 'T-MCM', 'T-MCM-f','ZOC']"
   ]
  },
  {
   "cell_type": "code",
   "execution_count": 59,
   "id": "da9bdcfb-4ca9-4f7e-94c5-5845384d850f",
   "metadata": {},
   "outputs": [
    {
     "data": {
      "text/html": [
       "<div>\n",
       "<style scoped>\n",
       "    .dataframe tbody tr th:only-of-type {\n",
       "        vertical-align: middle;\n",
       "    }\n",
       "\n",
       "    .dataframe tbody tr th {\n",
       "        vertical-align: top;\n",
       "    }\n",
       "\n",
       "    .dataframe thead th {\n",
       "        text-align: right;\n",
       "    }\n",
       "</style>\n",
       "<table border=\"1\" class=\"dataframe\">\n",
       "  <thead>\n",
       "    <tr style=\"text-align: right;\">\n",
       "      <th></th>\n",
       "      <th>T-ZOC-f</th>\n",
       "      <th>T-ZOC</th>\n",
       "      <th>MCM</th>\n",
       "      <th>T-MCM</th>\n",
       "      <th>T-MCM-f</th>\n",
       "      <th>ZOC</th>\n",
       "    </tr>\n",
       "  </thead>\n",
       "  <tbody>\n",
       "    <tr>\n",
       "      <th>ZEROSHOT</th>\n",
       "      <td>0.979159</td>\n",
       "      <td>0.900207</td>\n",
       "      <td>0.959411</td>\n",
       "      <td>0.916204</td>\n",
       "      <td>0.938533</td>\n",
       "      <td>0.971924</td>\n",
       "    </tr>\n",
       "    <tr>\n",
       "      <th>TIP ADAPTER</th>\n",
       "      <td>0.887156</td>\n",
       "      <td>0.890806</td>\n",
       "      <td>0.861464</td>\n",
       "      <td>0.921450</td>\n",
       "      <td>0.837851</td>\n",
       "      <td>0.887761</td>\n",
       "    </tr>\n",
       "    <tr>\n",
       "      <th>TIP-F ADAPTER</th>\n",
       "      <td>0.929498</td>\n",
       "      <td>0.904531</td>\n",
       "      <td>0.911704</td>\n",
       "      <td>0.930883</td>\n",
       "      <td>0.900447</td>\n",
       "      <td>0.916006</td>\n",
       "    </tr>\n",
       "    <tr>\n",
       "      <th>ZEROSHOT-TIP ADAPTER</th>\n",
       "      <td>-0.259782</td>\n",
       "      <td>-0.042074</td>\n",
       "      <td>-0.274952</td>\n",
       "      <td>-0.004052</td>\n",
       "      <td>-0.281706</td>\n",
       "      <td>-0.239123</td>\n",
       "    </tr>\n",
       "    <tr>\n",
       "      <th>ZEROSHOT-TIP-F ADAPTER</th>\n",
       "      <td>-0.734651</td>\n",
       "      <td>-0.533212</td>\n",
       "      <td>-0.717121</td>\n",
       "      <td>-0.513443</td>\n",
       "      <td>-0.677097</td>\n",
       "      <td>-0.748065</td>\n",
       "    </tr>\n",
       "    <tr>\n",
       "      <th>T-ZOC-f</th>\n",
       "      <td>1.000000</td>\n",
       "      <td>0.940101</td>\n",
       "      <td>0.973241</td>\n",
       "      <td>0.922105</td>\n",
       "      <td>0.946250</td>\n",
       "      <td>0.994900</td>\n",
       "    </tr>\n",
       "    <tr>\n",
       "      <th>T-ZOC</th>\n",
       "      <td>0.940101</td>\n",
       "      <td>1.000000</td>\n",
       "      <td>0.903765</td>\n",
       "      <td>0.939091</td>\n",
       "      <td>0.869303</td>\n",
       "      <td>0.936885</td>\n",
       "    </tr>\n",
       "    <tr>\n",
       "      <th>MCM</th>\n",
       "      <td>0.973241</td>\n",
       "      <td>0.903765</td>\n",
       "      <td>1.000000</td>\n",
       "      <td>0.952665</td>\n",
       "      <td>0.992407</td>\n",
       "      <td>0.959159</td>\n",
       "    </tr>\n",
       "    <tr>\n",
       "      <th>T-MCM</th>\n",
       "      <td>0.922105</td>\n",
       "      <td>0.939091</td>\n",
       "      <td>0.952665</td>\n",
       "      <td>1.000000</td>\n",
       "      <td>0.944720</td>\n",
       "      <td>0.909419</td>\n",
       "    </tr>\n",
       "    <tr>\n",
       "      <th>T-MCM-f</th>\n",
       "      <td>0.946250</td>\n",
       "      <td>0.869303</td>\n",
       "      <td>0.992407</td>\n",
       "      <td>0.944720</td>\n",
       "      <td>1.000000</td>\n",
       "      <td>0.921980</td>\n",
       "    </tr>\n",
       "    <tr>\n",
       "      <th>ZOC</th>\n",
       "      <td>0.994900</td>\n",
       "      <td>0.936885</td>\n",
       "      <td>0.959159</td>\n",
       "      <td>0.909419</td>\n",
       "      <td>0.921980</td>\n",
       "      <td>1.000000</td>\n",
       "    </tr>\n",
       "  </tbody>\n",
       "</table>\n",
       "</div>"
      ],
      "text/plain": [
       "                         T-ZOC-f     T-ZOC       MCM     T-MCM   T-MCM-f  \\\n",
       "ZEROSHOT                0.979159  0.900207  0.959411  0.916204  0.938533   \n",
       "TIP ADAPTER             0.887156  0.890806  0.861464  0.921450  0.837851   \n",
       "TIP-F ADAPTER           0.929498  0.904531  0.911704  0.930883  0.900447   \n",
       "ZEROSHOT-TIP ADAPTER   -0.259782 -0.042074 -0.274952 -0.004052 -0.281706   \n",
       "ZEROSHOT-TIP-F ADAPTER -0.734651 -0.533212 -0.717121 -0.513443 -0.677097   \n",
       "T-ZOC-f                 1.000000  0.940101  0.973241  0.922105  0.946250   \n",
       "T-ZOC                   0.940101  1.000000  0.903765  0.939091  0.869303   \n",
       "MCM                     0.973241  0.903765  1.000000  0.952665  0.992407   \n",
       "T-MCM                   0.922105  0.939091  0.952665  1.000000  0.944720   \n",
       "T-MCM-f                 0.946250  0.869303  0.992407  0.944720  1.000000   \n",
       "ZOC                     0.994900  0.936885  0.959159  0.909419  0.921980   \n",
       "\n",
       "                             ZOC  \n",
       "ZEROSHOT                0.971924  \n",
       "TIP ADAPTER             0.887761  \n",
       "TIP-F ADAPTER           0.916006  \n",
       "ZEROSHOT-TIP ADAPTER   -0.239123  \n",
       "ZEROSHOT-TIP-F ADAPTER -0.748065  \n",
       "T-ZOC-f                 0.994900  \n",
       "T-ZOC                   0.936885  \n",
       "MCM                     0.959159  \n",
       "T-MCM                   0.909419  \n",
       "T-MCM-f                 0.921980  \n",
       "ZOC                     1.000000  "
      ]
     },
     "execution_count": 59,
     "metadata": {},
     "output_type": "execute_result"
    }
   ],
   "source": [
    "class_and_ood.corr()[auroc_metrics]"
   ]
  },
  {
   "cell_type": "code",
   "execution_count": 60,
   "id": "f91902d0-9cfb-4c19-aec4-5f3ceabc1c05",
   "metadata": {},
   "outputs": [
    {
     "data": {
      "text/html": [
       "<div>\n",
       "<style scoped>\n",
       "    .dataframe tbody tr th:only-of-type {\n",
       "        vertical-align: middle;\n",
       "    }\n",
       "\n",
       "    .dataframe tbody tr th {\n",
       "        vertical-align: top;\n",
       "    }\n",
       "\n",
       "    .dataframe thead th {\n",
       "        text-align: right;\n",
       "    }\n",
       "</style>\n",
       "<table border=\"1\" class=\"dataframe\">\n",
       "  <thead>\n",
       "    <tr style=\"text-align: right;\">\n",
       "      <th></th>\n",
       "      <th>ZEROSHOT-TIP ADAPTER</th>\n",
       "      <th>ZEROSHOT-TIP-F ADAPTER</th>\n",
       "      <th>TIP ADAPTER-ZEROSHOT</th>\n",
       "      <th>TIP ADAPTER-TIP-F ADAPTER</th>\n",
       "      <th>TIP-F ADAPTER-ZEROSHOT</th>\n",
       "    </tr>\n",
       "    <tr>\n",
       "      <th>name</th>\n",
       "      <th></th>\n",
       "      <th></th>\n",
       "      <th></th>\n",
       "      <th></th>\n",
       "      <th></th>\n",
       "    </tr>\n",
       "  </thead>\n",
       "  <tbody>\n",
       "    <tr>\n",
       "      <th>CIFAR10</th>\n",
       "      <td>1.54</td>\n",
       "      <td>0.89</td>\n",
       "      <td>-1.54</td>\n",
       "      <td>-0.65</td>\n",
       "      <td>-0.89</td>\n",
       "    </tr>\n",
       "    <tr>\n",
       "      <th>CIFAR100</th>\n",
       "      <td>3.25</td>\n",
       "      <td>4.83</td>\n",
       "      <td>-3.25</td>\n",
       "      <td>1.58</td>\n",
       "      <td>-4.83</td>\n",
       "    </tr>\n",
       "    <tr>\n",
       "      <th>Caltech CUB</th>\n",
       "      <td>9.70</td>\n",
       "      <td>7.46</td>\n",
       "      <td>-9.70</td>\n",
       "      <td>-2.24</td>\n",
       "      <td>-7.46</td>\n",
       "    </tr>\n",
       "    <tr>\n",
       "      <th>Caltech101</th>\n",
       "      <td>5.32</td>\n",
       "      <td>5.68</td>\n",
       "      <td>-5.32</td>\n",
       "      <td>0.37</td>\n",
       "      <td>-5.68</td>\n",
       "    </tr>\n",
       "    <tr>\n",
       "      <th>DTD</th>\n",
       "      <td>14.69</td>\n",
       "      <td>16.80</td>\n",
       "      <td>-14.69</td>\n",
       "      <td>2.11</td>\n",
       "      <td>-16.80</td>\n",
       "    </tr>\n",
       "    <tr>\n",
       "      <th>Fashion MNIST</th>\n",
       "      <td>13.67</td>\n",
       "      <td>10.94</td>\n",
       "      <td>-13.67</td>\n",
       "      <td>-2.73</td>\n",
       "      <td>-10.94</td>\n",
       "    </tr>\n",
       "    <tr>\n",
       "      <th>Flowers102</th>\n",
       "      <td>20.32</td>\n",
       "      <td>9.29</td>\n",
       "      <td>-20.32</td>\n",
       "      <td>-11.03</td>\n",
       "      <td>-9.29</td>\n",
       "    </tr>\n",
       "    <tr>\n",
       "      <th>GTSRB</th>\n",
       "      <td>12.60</td>\n",
       "      <td>18.88</td>\n",
       "      <td>-12.60</td>\n",
       "      <td>6.28</td>\n",
       "      <td>-18.88</td>\n",
       "    </tr>\n",
       "    <tr>\n",
       "      <th>MNIST</th>\n",
       "      <td>21.44</td>\n",
       "      <td>15.95</td>\n",
       "      <td>-21.44</td>\n",
       "      <td>-5.49</td>\n",
       "      <td>-15.95</td>\n",
       "    </tr>\n",
       "    <tr>\n",
       "      <th>SVHN</th>\n",
       "      <td>0.51</td>\n",
       "      <td>8.44</td>\n",
       "      <td>-0.51</td>\n",
       "      <td>7.93</td>\n",
       "      <td>-8.44</td>\n",
       "    </tr>\n",
       "    <tr>\n",
       "      <th>Stanford Cars</th>\n",
       "      <td>8.85</td>\n",
       "      <td>8.79</td>\n",
       "      <td>-8.85</td>\n",
       "      <td>-0.05</td>\n",
       "      <td>-8.79</td>\n",
       "    </tr>\n",
       "    <tr>\n",
       "      <th>TinyImagenet</th>\n",
       "      <td>2.99</td>\n",
       "      <td>4.60</td>\n",
       "      <td>-2.99</td>\n",
       "      <td>1.61</td>\n",
       "      <td>-4.60</td>\n",
       "    </tr>\n",
       "  </tbody>\n",
       "</table>\n",
       "</div>"
      ],
      "text/plain": [
       "               ZEROSHOT-TIP ADAPTER  ZEROSHOT-TIP-F ADAPTER  \\\n",
       "name                                                          \n",
       "CIFAR10                        1.54                    0.89   \n",
       "CIFAR100                       3.25                    4.83   \n",
       "Caltech CUB                    9.70                    7.46   \n",
       "Caltech101                     5.32                    5.68   \n",
       "DTD                           14.69                   16.80   \n",
       "Fashion MNIST                 13.67                   10.94   \n",
       "Flowers102                    20.32                    9.29   \n",
       "GTSRB                         12.60                   18.88   \n",
       "MNIST                         21.44                   15.95   \n",
       "SVHN                           0.51                    8.44   \n",
       "Stanford Cars                  8.85                    8.79   \n",
       "TinyImagenet                   2.99                    4.60   \n",
       "\n",
       "               TIP ADAPTER-ZEROSHOT  TIP ADAPTER-TIP-F ADAPTER  \\\n",
       "name                                                             \n",
       "CIFAR10                       -1.54                      -0.65   \n",
       "CIFAR100                      -3.25                       1.58   \n",
       "Caltech CUB                   -9.70                      -2.24   \n",
       "Caltech101                    -5.32                       0.37   \n",
       "DTD                          -14.69                       2.11   \n",
       "Fashion MNIST                -13.67                      -2.73   \n",
       "Flowers102                   -20.32                     -11.03   \n",
       "GTSRB                        -12.60                       6.28   \n",
       "MNIST                        -21.44                      -5.49   \n",
       "SVHN                          -0.51                       7.93   \n",
       "Stanford Cars                 -8.85                      -0.05   \n",
       "TinyImagenet                  -2.99                       1.61   \n",
       "\n",
       "               TIP-F ADAPTER-ZEROSHOT  \n",
       "name                                   \n",
       "CIFAR10                         -0.89  \n",
       "CIFAR100                        -4.83  \n",
       "Caltech CUB                     -7.46  \n",
       "Caltech101                      -5.68  \n",
       "DTD                            -16.80  \n",
       "Fashion MNIST                  -10.94  \n",
       "Flowers102                      -9.29  \n",
       "GTSRB                          -18.88  \n",
       "MNIST                          -15.95  \n",
       "SVHN                            -8.44  \n",
       "Stanford Cars                   -8.79  \n",
       "TinyImagenet                    -4.60  "
      ]
     },
     "execution_count": 60,
     "metadata": {},
     "output_type": "execute_result"
    }
   ],
   "source": [
    "classification_df.groupby('name').mean()[['ZEROSHOT-TIP ADAPTER', 'ZEROSHOT-TIP-F ADAPTER',\n",
    "       'TIP ADAPTER-ZEROSHOT', 'TIP ADAPTER-TIP-F ADAPTER',\n",
    "       'TIP-F ADAPTER-ZEROSHOT']].round(2)"
   ]
  },
  {
   "cell_type": "markdown",
   "id": "7b500db5-a18f-44ff-993a-72eeebede66c",
   "metadata": {},
   "source": [
    "## Benchmark comp"
   ]
  },
  {
   "cell_type": "code",
   "execution_count": 61,
   "id": "ce56e1f9-9361-4be3-a357-d76d524d269d",
   "metadata": {},
   "outputs": [],
   "source": [
    "bench = get_history_from_project('thesis-ood-benchmark-logistic', False)\n"
   ]
  },
  {
   "cell_type": "code",
   "execution_count": 62,
   "id": "63aa612e-356f-4369-b707-f98f2065f776",
   "metadata": {},
   "outputs": [],
   "source": [
    "bench_df = bench.copy()\n",
    "bench_df['name'] = bench_df['name'].apply(lambda x: dataset_mapping[x])"
   ]
  },
  {
   "cell_type": "code",
   "execution_count": 63,
   "id": "cdb0d725-fccf-47bc-a855-a4f3eaeb028e",
   "metadata": {},
   "outputs": [],
   "source": [
    "bench_df = bench_df.set_index('name')\n",
    "bench_df = bench_df.rename(columns={'AUC': 'Benchmark'})"
   ]
  },
  {
   "cell_type": "code",
   "execution_count": 64,
   "id": "8c8d0d2b-fa07-4d77-9240-a83a26b6f309",
   "metadata": {},
   "outputs": [],
   "source": [
    "final_full = pd.concat([working_adapter.rename(columns=renamer_for_plot)[['MCM', 'T-MCM','T-MCM-f', 'ZOC', 'T-ZOC', 'T-ZOC-f']], bench_df.drop('std', axis=1)], axis=1)"
   ]
  },
  {
   "cell_type": "code",
   "execution_count": 65,
   "id": "34679a44-be00-4518-82df-36d479e3171d",
   "metadata": {},
   "outputs": [],
   "source": [
    "save_csv(final_full.round(3), folder='6', name='full_oodd_with_benchmark')"
   ]
  },
  {
   "cell_type": "code",
   "execution_count": 66,
   "id": "277b5c9e-d455-4ecd-aba2-0643e5ca9b8e",
   "metadata": {},
   "outputs": [],
   "source": [
    "final = pd.concat([working_adapter.rename(columns=renamer_for_plot)[['MCM', 'T-MCM', 'T-ZOC']], bench_df.drop('std', axis=1)], axis=1)"
   ]
  },
  {
   "cell_type": "code",
   "execution_count": 67,
   "id": "a90ba537-5b21-4e63-ad60-a5454cbaafd4",
   "metadata": {},
   "outputs": [
    {
     "data": {
      "text/plain": [
       "MCM          0.693001\n",
       "T-MCM        0.722116\n",
       "T-ZOC        0.736540\n",
       "Benchmark    0.822071\n",
       "dtype: float64"
      ]
     },
     "execution_count": 67,
     "metadata": {},
     "output_type": "execute_result"
    }
   ],
   "source": [
    "final.mean()"
   ]
  },
  {
   "cell_type": "code",
   "execution_count": 68,
   "id": "f182cac9-f8d8-4636-ab5b-bfb0b21c02b4",
   "metadata": {},
   "outputs": [
    {
     "data": {
      "text/plain": [
       "name\n",
       "DTD              0.0\n",
       "Fashion MNIST    0.0\n",
       "Flowers102       0.0\n",
       "GTSRB            0.0\n",
       "MNIST            0.0\n",
       "Name: T-MCM, dtype: float64"
      ]
     },
     "execution_count": 68,
     "metadata": {},
     "output_type": "execute_result"
    }
   ],
   "source": [
    "final.loc[names]['T-MCM'] - final.loc[names]['T-MCM']"
   ]
  },
  {
   "cell_type": "code",
   "execution_count": 69,
   "id": "813d1259-e150-4cb9-a603-a20b87acf4be",
   "metadata": {},
   "outputs": [
    {
     "name": "stderr",
     "output_type": "stream",
     "text": [
      "/home/fmeyer/miniconda3/envs/ood/lib/python3.8/site-packages/tikzplotlib/_cleanfigure.py:200: UserWarning: Cleaning Bar Container (bar plot) is not supported yet.\n",
      "  warnings.warn(\"Cleaning Bar Container (bar plot) is not supported yet.\")\n",
      "/home/fmeyer/miniconda3/envs/ood/lib/python3.8/site-packages/tikzplotlib/_cleanfigure.py:166: UserWarning: Cleaning Line Collections (scatter plot) is not supported yet.\n",
      "  warnings.warn(\n"
     ]
    },
    {
     "name": "stdout",
     "output_type": "stream",
     "text": [
      "Saved to /mnt/c/Users/fmeyer/Git/ood-detection/data/plots/tickz/6\n",
      "Saved to /mnt/c/Users/fmeyer/Git/ood-detection/data/plots/svg/6\n",
      "Saved to /mnt/c/Users/fmeyer/Git/ood-detection/data/plots/6\n"
     ]
    },
    {
     "data": {
      "text/plain": [
       "True"
      ]
     },
     "execution_count": 69,
     "metadata": {},
     "output_type": "execute_result"
    },
    {
     "data": {
      "image/png": "[encoded data removed]",
      "text/plain": [
       "<Figure size 425.197x216 with 1 Axes>"
      ]
     },
     "metadata": {},
     "output_type": "display_data"
    }
   ],
   "source": [
    "fig, ax = plt.subplots(figsize=(figsize[0], 3))\n",
    "bar_width = 0.2\n",
    "pos1 = range(len(final.loc[names]))\n",
    "pos2 = [bar_width+pos for pos in pos1]\n",
    "pos3 = [bar_width+pos for pos in pos2]\n",
    "\n",
    "ax.bar(pos1, final.loc[names]['T-MCM'], width=bar_width, label='T-MCM (Ours)')\n",
    "ax.bar(pos2, final.loc[names]['T-ZOC'], width=bar_width, label='T-ZOC (Ours)')\n",
    "ax.bar(pos3, final.loc[names]['Benchmark'], width=bar_width, label='Fine-tuned')\n",
    "\n",
    "ax.hlines(0.5, xmin=-.5, xmax=[len(final.loc[names])], colors='darkgrey', alpha=0.9, linestyles='--', lw=2, label='Uninformed Guesser')\n",
    "_ = ax.set_xticks(pos2)\n",
    "ax.set_xticklabels(final.loc[names].index, rotation=45)\n",
    "ax.legend(loc='upper left', bbox_to_anchor=(1, 1), fontsize=7)\n",
    "ax.set_ylabel('AUROC')\n",
    "ax.set_xlabel('DATASET')\n",
    "plt.tight_layout()\n",
    "save_plot(fig, 'benchmark bars','6', False)"
   ]
  },
  {
   "cell_type": "code",
   "execution_count": 70,
   "id": "c5e46173-7041-4d61-91d0-6bb432bd2734",
   "metadata": {},
   "outputs": [
    {
     "data": {
      "text/plain": [
       "MCM          0.693001\n",
       "T-MCM        0.722116\n",
       "T-ZOC        0.736540\n",
       "Benchmark    0.822071\n",
       "dtype: float64"
      ]
     },
     "execution_count": 70,
     "metadata": {},
     "output_type": "execute_result"
    }
   ],
   "source": [
    "final.mean()"
   ]
  },
  {
   "cell_type": "markdown",
   "id": "ca2cd5b4-c405-4b1d-85ee-a1977004ad05",
   "metadata": {
    "tags": []
   },
   "source": [
    "## All classification resultos"
   ]
  },
  {
   "cell_type": "code",
   "execution_count": 71,
   "id": "41c5d2f8-1c64-43e2-94bd-20a4158d5ff1",
   "metadata": {},
   "outputs": [],
   "source": [
    "bench_class_df = get_history_from_project('thesis-classification-logistic_head-large', False)\n",
    "base_class_df = get_history_from_project('thesis-classification-logistic', False) "
   ]
  },
  {
   "cell_type": "code",
   "execution_count": 72,
   "id": "c3d1c6f2-aaef-4bc3-8405-1dc202965a27",
   "metadata": {},
   "outputs": [],
   "source": [
    "bench_class = bench_class_df.copy()\n",
    "bench_class['name'] = bench_class['name'].apply(lambda x: dataset_mapping[x])\n",
    "bench_class = bench_class.set_index('name')\n",
    "bench_class = bench_class.rename(columns={'test accuracy': 'Logistic - ViT-L/16@336px'})"
   ]
  },
  {
   "cell_type": "code",
   "execution_count": 73,
   "id": "11de595a-f9e0-446c-91d0-35ae696b6501",
   "metadata": {},
   "outputs": [],
   "source": [
    "base_class = base_class_df.copy()\n",
    "base_class['name'] = base_class['name'].apply(lambda x: dataset_mapping[x])\n",
    "base_class = base_class.set_index('name')\n",
    "base_class = base_class.rename(columns={'Acc': 'Logistic - ViT-B/32'})"
   ]
  },
  {
   "cell_type": "code",
   "execution_count": 74,
   "id": "f11bd212-96d0-4225-a0be-22380b8f081e",
   "metadata": {},
   "outputs": [
    {
     "data": {
      "text/html": [
       "<div>\n",
       "<style scoped>\n",
       "    .dataframe tbody tr th:only-of-type {\n",
       "        vertical-align: middle;\n",
       "    }\n",
       "\n",
       "    .dataframe tbody tr th {\n",
       "        vertical-align: top;\n",
       "    }\n",
       "\n",
       "    .dataframe thead th {\n",
       "        text-align: right;\n",
       "    }\n",
       "</style>\n",
       "<table border=\"1\" class=\"dataframe\">\n",
       "  <thead>\n",
       "    <tr style=\"text-align: right;\">\n",
       "      <th></th>\n",
       "      <th>Logistic - ViT-L/16@336px</th>\n",
       "    </tr>\n",
       "    <tr>\n",
       "      <th>name</th>\n",
       "      <th></th>\n",
       "    </tr>\n",
       "  </thead>\n",
       "  <tbody>\n",
       "    <tr>\n",
       "      <th>SVHN</th>\n",
       "      <td>0.779771</td>\n",
       "    </tr>\n",
       "    <tr>\n",
       "      <th>Stanford Cars</th>\n",
       "      <td>0.896903</td>\n",
       "    </tr>\n",
       "    <tr>\n",
       "      <th>MNIST</th>\n",
       "      <td>0.989900</td>\n",
       "    </tr>\n",
       "    <tr>\n",
       "      <th>TinyImagenet</th>\n",
       "      <td>0.844200</td>\n",
       "    </tr>\n",
       "    <tr>\n",
       "      <th>GTSRB</th>\n",
       "      <td>0.928979</td>\n",
       "    </tr>\n",
       "    <tr>\n",
       "      <th>Flowers102</th>\n",
       "      <td>0.985201</td>\n",
       "    </tr>\n",
       "    <tr>\n",
       "      <th>Fashion MNIST</th>\n",
       "      <td>0.910000</td>\n",
       "    </tr>\n",
       "    <tr>\n",
       "      <th>DTD</th>\n",
       "      <td>0.792021</td>\n",
       "    </tr>\n",
       "    <tr>\n",
       "      <th>CIFAR100</th>\n",
       "      <td>0.860900</td>\n",
       "    </tr>\n",
       "    <tr>\n",
       "      <th>CIFAR10</th>\n",
       "      <td>0.976500</td>\n",
       "    </tr>\n",
       "    <tr>\n",
       "      <th>Caltech CUB</th>\n",
       "      <td>0.850880</td>\n",
       "    </tr>\n",
       "    <tr>\n",
       "      <th>Caltech101</th>\n",
       "      <td>0.977528</td>\n",
       "    </tr>\n",
       "  </tbody>\n",
       "</table>\n",
       "</div>"
      ],
      "text/plain": [
       "               Logistic - ViT-L/16@336px\n",
       "name                                    \n",
       "SVHN                            0.779771\n",
       "Stanford Cars                   0.896903\n",
       "MNIST                           0.989900\n",
       "TinyImagenet                    0.844200\n",
       "GTSRB                           0.928979\n",
       "Flowers102                      0.985201\n",
       "Fashion MNIST                   0.910000\n",
       "DTD                             0.792021\n",
       "CIFAR100                        0.860900\n",
       "CIFAR10                         0.976500\n",
       "Caltech CUB                     0.850880\n",
       "Caltech101                      0.977528"
      ]
     },
     "execution_count": 74,
     "metadata": {},
     "output_type": "execute_result"
    }
   ],
   "source": [
    "bench_class"
   ]
  },
  {
   "cell_type": "code",
   "execution_count": 75,
   "id": "987b1b67-f0f7-4fe4-bb60-8fa765addc93",
   "metadata": {},
   "outputs": [],
   "source": [
    "class_metrics = ['TIP ADAPTER', 'TIP-F ADAPTER', 'ZEROSHOT']"
   ]
  },
  {
   "cell_type": "code",
   "execution_count": 76,
   "id": "b0fc5fbc-feec-4441-ba92-8a221de92e7c",
   "metadata": {},
   "outputs": [],
   "source": [
    "full_reg = pd.concat([base_class*100, bench_class*100, classification_df.groupby('name').mean()[class_metrics]], axis=1)"
   ]
  },
  {
   "cell_type": "code",
   "execution_count": 77,
   "id": "695a6f04-70ab-48f5-99e3-2ead20b04f30",
   "metadata": {},
   "outputs": [],
   "source": [
    "full_reg.sort_index(inplace=True)"
   ]
  },
  {
   "cell_type": "code",
   "execution_count": 78,
   "id": "066d53f2-fcdd-46ef-810d-69f118e6add5",
   "metadata": {},
   "outputs": [
    {
     "name": "stderr",
     "output_type": "stream",
     "text": [
      "/tmp/ipykernel_884/2450261756.py:5: UserWarning: FixedFormatter should only be used together with FixedLocator\n",
      "  ax.set_xticklabels(full_reg.index, rotation=45, ha='right')\n"
     ]
    },
    {
     "name": "stdout",
     "output_type": "stream",
     "text": [
      "Tikzplotlib failed could not convert string to float: 'CIFAR10'\n",
      "Saved to /mnt/c/Users/fmeyer/Git/ood-detection/data/plots/svg/6\n",
      "Saved to /mnt/c/Users/fmeyer/Git/ood-detection/data/plots/6\n"
     ]
    },
    {
     "data": {
      "image/png": "[encoded data removed]",
      "text/plain": [
       "<Figure size 425.197x170.079 with 1 Axes>"
      ]
     },
     "metadata": {},
     "output_type": "display_data"
    }
   ],
   "source": [
    "fig, ax = plt.subplots(figsize=figsize)\n",
    "for col in full_reg.columns:\n",
    "    ax.plot(full_reg.index, full_reg[col], label=col)\n",
    "ax.legend(loc='upper left', bbox_to_anchor=(1, 1), fontsize=3)\n",
    "ax.set_xticklabels(full_reg.index, rotation=45, ha='right')\n",
    "\n",
    "ax.set_ylabel('Accuracy %')\n",
    "ax.set_xlabel('Dataset')\n",
    "plt.tight_layout()\n",
    "\n",
    "save_plot(fig, 'full_classification_line','6', False)\n",
    "save_csv(full_reg.round(3),folder='6', name=\"full classification results\")"
   ]
  },
  {
   "cell_type": "code",
   "execution_count": null,
   "id": "31e4b20b-ded8-4496-aaf0-3a6300496ee9",
   "metadata": {},
   "outputs": [],
   "source": []
  }
 ],
 "metadata": {
  "kernelspec": {
   "display_name": "Python 3 (ipykernel)",
   "language": "python",
   "name": "python3"
  },
  "language_info": {
   "codemirror_mode": {
    "name": "ipython",
    "version": 3
   },
   "file_extension": ".py",
   "mimetype": "text/x-python",
   "name": "python",
   "nbconvert_exporter": "python",
   "pygments_lexer": "ipython3",
   "version": "3.8.13"
  }
 },
 "nbformat": 4,
 "nbformat_minor": 5
}
