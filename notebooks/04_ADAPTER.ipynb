{
 "cells": [
  {
   "cell_type": "code",
   "execution_count": null,
   "id": "3caa5cdd-9d83-4b0a-873c-346311428451",
   "metadata": {
    "tags": []
   },
   "outputs": [],
   "source": [
    "%load_ext autoreload\n",
    "%autoreload 2\n",
    "\n",
    "import matplotlib.pyplot as plt\n",
    "# Configure Matplotlib to use LaTeX for text rendering\n",
    "plt.rcParams['text.usetex'] = True\n",
    "\n",
    "# Set fonts for Matplotlib\n",
    "plt.rcParams['font.serif'] = 'Palatino'\n",
    "plt.rcParams['font.sans-serif'] = 'Helvetica'\n",
    "plt.rcParams['font.monospace'] = 'Courier'\n",
    "plt.rcParams['font.size'] = 11\n",
    "width_cm = 15\n",
    "height_cm = 6\n",
    "# Convert centimeters to inches\n",
    "width_in = width_cm / 2.54\n",
    "height_in = height_cm / 2.54\n",
    "import seaborn as sns\n",
    "sns.set_theme()\n",
    "figsize= (width_in, height_in)\n",
    "\n",
    "\n",
    "import numpy as np\n",
    "import pandas as pd \n",
    "import wandb\n",
    "from metrics.plotting_utils import save_plot, get_history_from_project, save_csv, get_dataset_name_mapping\n",
    "from ood_detection.config import Config\n",
    "from datasets.config import DATASETS_DICT\n",
    "\n",
    "\n",
    "\n",
    "dataset_mapping = get_dataset_name_mapping()\n",
    "api = wandb.Api()"
   ]
  },
  {
   "cell_type": "markdown",
   "id": "e22cc1b9-9539-4b07-9951-2a6254a669c2",
   "metadata": {
    "tags": []
   },
   "source": [
    "### Classification improvements:\n",
    "1. Compare zeroshot baseline to TIP & TIP-f. Maybe add linear\n"
   ]
  },
  {
   "cell_type": "code",
   "execution_count": null,
   "id": "b614cd8c-e828-460d-810e-06fe9d2fef33",
   "metadata": {},
   "outputs": [],
   "source": [
    "orig = get_history_from_project('thesis-tip-adapters-16_shots-temp_0.01', set_name_index=False)"
   ]
  },
  {
   "cell_type": "code",
   "execution_count": null,
   "id": "62a62bc3-c113-4eb3-9325-f961294ad78c",
   "metadata": {},
   "outputs": [],
   "source": [
    "zsa, tip, tipf = 'ZEROSHOT', 'TIP ADAPTER', 'TIP-F ADAPTER'\n",
    "diffs = [f\"{zsa}-{tip}\", f\"{zsa}-{tipf}\", f\"{tip}-{tipf}\"]\n",
    "metrics = [zsa, tip, tipf]\n",
    "metric_converter = {'ZEROSHOT': 'ZSA', 'TIP ADAPTER':'TIP', 'TIP-F ADAPTER':'TIP-f' }"
   ]
  },
  {
   "cell_type": "code",
   "execution_count": null,
   "id": "d369402a-a74f-4975-ba06-8efd666e9620",
   "metadata": {},
   "outputs": [],
   "source": [
    "classification_df = orig.copy()\n",
    "classification_df = classification_df.sort_values('name').reset_index(drop=True)\n",
    "classification_df['name']= classification_df['name'].apply(lambda x: dataset_mapping[x])\n",
    "means = classification_df"
   ]
  },
  {
   "cell_type": "markdown",
   "id": "c3d3a223-965e-4e64-be1e-9c1aa262c40b",
   "metadata": {},
   "source": [
    "### get differences"
   ]
  },
  {
   "cell_type": "code",
   "execution_count": null,
   "id": "baa37515-8858-425d-895d-d61c16ec29cd",
   "metadata": {},
   "outputs": [],
   "source": [
    "for met1 in metrics:\n",
    "    for met2 in metrics:\n",
    "        if met1 == met2:\n",
    "            continue\n",
    "        classification_df[f'{met1}-{met2}'] = classification_df.apply(lambda row: row[met2] - row[met1],  axis=1)"
   ]
  },
  {
   "cell_type": "markdown",
   "id": "1172fe37-b6d4-46b4-aa65-26be477d2934",
   "metadata": {
    "tags": []
   },
   "source": [
    "## Means & stds overall"
   ]
  },
  {
   "cell_type": "code",
   "execution_count": null,
   "id": "c0a37ee3-041b-402e-b888-6cb5cec19b45",
   "metadata": {},
   "outputs": [],
   "source": [
    "classification_df[metrics].mean().round(2)"
   ]
  },
  {
   "cell_type": "code",
   "execution_count": null,
   "id": "fbd5d537-09cf-4130-ada1-92b12507cf97",
   "metadata": {},
   "outputs": [],
   "source": [
    "classification_df[metrics].std()"
   ]
  },
  {
   "cell_type": "code",
   "execution_count": null,
   "id": "ec10c485-affc-45b7-8f17-9d1585783d7e",
   "metadata": {},
   "outputs": [],
   "source": [
    "classification_df[diffs].mean()"
   ]
  },
  {
   "cell_type": "code",
   "execution_count": null,
   "id": "881f3ab2-40d7-41be-9467-4f12afd294d2",
   "metadata": {},
   "outputs": [],
   "source": [
    "#classification_df[diffs].std()"
   ]
  },
  {
   "cell_type": "code",
   "execution_count": null,
   "id": "51623e85-4795-49af-ab60-99af9bbb11bb",
   "metadata": {
    "tags": []
   },
   "outputs": [],
   "source": [
    "#for name, group in classification_df.groupby('name'):\n",
    "    #print(name)\n",
    "    #print('mean')\n",
    "    #print(group[metrics].mean())\n",
    "   # print('std')\n",
    "    #print(group[metrics].std())\n",
    "    #print('\\n')"
   ]
  },
  {
   "cell_type": "code",
   "execution_count": null,
   "id": "01d65188-3182-4e83-b101-4c15d649399a",
   "metadata": {
    "tags": []
   },
   "outputs": [],
   "source": [
    "#classification_df[diffs].std()"
   ]
  },
  {
   "cell_type": "code",
   "execution_count": null,
   "id": "dd564bbb-1780-4115-b5b7-bfe2c1c0fd70",
   "metadata": {
    "tags": []
   },
   "outputs": [],
   "source": [
    "#for name, group in classification_df.groupby('name'):\n",
    "#    print(name)\n",
    "#    print('\\t\\tmean')\n",
    "#    print(group[metrics].mean())\n",
    "#    print('\\t\\tSTD')\n",
    "#    print(group[metrics].std())\n",
    "#    print('\\n')"
   ]
  },
  {
   "cell_type": "markdown",
   "id": "334c525a-ea05-4878-b51f-e6d9356ca806",
   "metadata": {
    "tags": []
   },
   "source": [
    "### Plot errorbars over all datasets for appendix"
   ]
  },
  {
   "cell_type": "code",
   "execution_count": null,
   "id": "9246428f-f375-43a6-85dd-431f7282d57f",
   "metadata": {
    "tags": []
   },
   "outputs": [],
   "source": [
    "def plot_errorbar(means, stds, metric):\n",
    "    \n",
    "    error_corr = .5 * stds[metric]\n",
    "    lower = means[metric] - error_corr\n",
    "    upper = means[metric] + error_corr\n",
    "    ax.plot(means.index, means[metric], label= metric_converter[metric])\n",
    "    ax.plot(lower, color='tab:blue', alpha=.1)\n",
    "    ax.plot(upper, color='tab:blue', alpha=.1)\n",
    "    ax.fill_between(range(len(means)), lower, upper, alpha=.3)"
   ]
  },
  {
   "cell_type": "code",
   "execution_count": null,
   "id": "1de3fa52-6828-4e8f-95e0-6595ad74b31d",
   "metadata": {
    "tags": []
   },
   "outputs": [],
   "source": [
    "classification_df.sort_values('name')"
   ]
  },
  {
   "cell_type": "code",
   "execution_count": null,
   "id": "faf4ed41-4656-4a29-a2a6-ccff9e8baa46",
   "metadata": {
    "tags": []
   },
   "outputs": [],
   "source": [
    " classification_df['name'].unique()"
   ]
  },
  {
   "cell_type": "code",
   "execution_count": null,
   "id": "651a07a2-67f5-4d61-803c-547cb8041b97",
   "metadata": {
    "tags": []
   },
   "outputs": [],
   "source": [
    "for met in diffs[:2]:\n",
    "    classification_df[met+'-percent'] = classification_df[met] /classification_df['ZEROSHOT']"
   ]
  },
  {
   "cell_type": "code",
   "execution_count": null,
   "id": "368f18fc-919f-4ae6-8e8f-85fb0b9e4142",
   "metadata": {
    "tags": []
   },
   "outputs": [],
   "source": [
    "classification_df.columns"
   ]
  },
  {
   "cell_type": "code",
   "execution_count": null,
   "id": "27adb380-a5c0-445f-991b-4008f08a10d2",
   "metadata": {},
   "outputs": [],
   "source": [
    "percents = ['ZEROSHOT-TIP ADAPTER-percent', 'ZEROSHOT-TIP-F ADAPTER-percent']"
   ]
  },
  {
   "cell_type": "code",
   "execution_count": null,
   "id": "39c2439e-b4ab-4ca3-b13b-94adb017a57b",
   "metadata": {},
   "outputs": [],
   "source": [
    "means = classification_df[metrics + ['name']].groupby('name').mean()\n",
    "stds = classification_df[metrics + ['name']].groupby('name').std()\n",
    "\n",
    "mean_std = pd.concat([means, stds.rename(columns={'ZEROSHOT':'z-std', 'TIP ADAPTER': 'TIP-std', 'TIP-F ADAPTER':'TIP-F-std'})], axis=1).round(2)\n",
    "mean_std['ZEROSHOT'] = mean_std['ZEROSHOT'].astype(str) + \" \\pm \"+  mean_std['z-std'].astype(str)\n",
    "mean_std['TIP ADAPTER'] = mean_std['TIP ADAPTER'].astype(str) + \" \\pm \"+  mean_std['TIP-std'].astype(str)\n",
    "mean_std['TIP-F ADAPTER'] = mean_std['TIP-F ADAPTER'].astype(str) + \" \\pm \"+  mean_std['TIP-F-std'].astype(str)\n",
    "save_csv(mean_std[metrics], '6', 'classification_adapter_plusminus')"
   ]
  },
  {
   "cell_type": "code",
   "execution_count": null,
   "id": "dd3c0b81-d03c-4c29-bb48-d7cea2398056",
   "metadata": {},
   "outputs": [],
   "source": [
    "means"
   ]
  },
  {
   "cell_type": "code",
   "execution_count": null,
   "id": "e70a71a2-35c5-4c39-9fdd-1186c9289005",
   "metadata": {},
   "outputs": [],
   "source": [
    "mean_std"
   ]
  },
  {
   "cell_type": "code",
   "execution_count": null,
   "id": "1a7c0e79-a379-4bbb-a646-98041ea1441b",
   "metadata": {},
   "outputs": [],
   "source": [
    "classification_df.groupby('name').mean()[metrics + percents].abs().sort_values(percents[1])\n"
   ]
  },
  {
   "cell_type": "markdown",
   "id": "6fc8b48d-28e1-42b4-94b3-387ce8a810c6",
   "metadata": {},
   "source": [
    "##### classification_df.groupby('name').mean()[metrics + diffs].sort_values(diffs[0], ascending=False)"
   ]
  },
  {
   "cell_type": "code",
   "execution_count": null,
   "id": "83e35821-01eb-4020-a2e4-bdd30e1ac4a9",
   "metadata": {},
   "outputs": [],
   "source": [
    "classification_df.groupby('name').mean()[metrics + diffs].sort_values(diffs[2])"
   ]
  },
  {
   "cell_type": "code",
   "execution_count": null,
   "id": "cb5d4b29-48c1-4264-bb4e-2174b336c6a9",
   "metadata": {
    "tags": []
   },
   "outputs": [],
   "source": [
    "meaned_cl_df = classification_df.groupby('name').mean()[metrics + diffs].abs().sort_values(diffs[2],ascending=True)"
   ]
  },
  {
   "cell_type": "code",
   "execution_count": null,
   "id": "26ae2505-b1cd-4e99-8fc4-46590e8a5b51",
   "metadata": {
    "tags": []
   },
   "outputs": [],
   "source": [
    "means.sort_values(metrics[1])"
   ]
  },
  {
   "cell_type": "code",
   "execution_count": null,
   "id": "6ee26fae-7cf3-456b-b9f5-82b90240c2f8",
   "metadata": {
    "tags": []
   },
   "outputs": [],
   "source": [
    "stds"
   ]
  },
  {
   "cell_type": "code",
   "execution_count": null,
   "id": "c0804e14-8cd3-4a00-8b79-3f977c8721c9",
   "metadata": {},
   "outputs": [],
   "source": [
    "metrics = ['ZEROSHOT', 'TIP ADAPTER', 'TIP-F ADAPTER']\n",
    "metrics_and_name = metrics + ['name']\n",
    "std_metrics = [metric + '_std' for metric in metrics]\n",
    "tip_mappings = {'tip':'T-MCM', 'tipf':'T-MCM-f', 'clip':'MCM'}"
   ]
  },
  {
   "cell_type": "code",
   "execution_count": null,
   "id": "daf94441-5866-4eba-8c06-e282b3925738",
   "metadata": {},
   "outputs": [],
   "source": [
    "fig, ax = plt.subplots(figsize=figsize)\n",
    "\n",
    "means = classification_df[metrics_and_name].groupby('name').mean()\n",
    "stds = classification_df[metrics_and_name].groupby('name').std()\n",
    "\n",
    "plot_errorbar(means, stds, metrics[0])\n",
    "plot_errorbar(means, stds, metrics[1])\n",
    "plot_errorbar(means, stds, metrics[2])\n",
    "ax.vlines([range(len(means))], ymin=0, ymax=means.max(axis=1),color='darkgrey', alpha=0.6)\n",
    "\n",
    "_ =ax.legend(fontsize=7, loc='lower left')\n",
    "_ = ax.set_xticklabels\n",
    "_ = ax.set_xticklabels([ind for ind in classification_df['name'].unique()], rotation=45, ha='right')\n",
    "ax.set_ylabel('Accuracy %')\n",
    "ax.set_xlabel('Dataset')\n",
    "plt.tight_layout()\n",
    "\n",
    "save_plot(fig, 'accuracies_domain_adaption', '6', False)"
   ]
  },
  {
   "cell_type": "code",
   "execution_count": null,
   "id": "9c532c05-6e88-4902-88b3-80d0bc2374c7",
   "metadata": {
    "tags": []
   },
   "outputs": [],
   "source": [
    "classification_df[metrics_and_name].groupby('name').mean()"
   ]
  },
  {
   "cell_type": "markdown",
   "id": "ea099d97-148f-450d-8704-7c4dcb444581",
   "metadata": {},
   "source": [
    "### MCM "
   ]
  },
  {
   "cell_type": "code",
   "execution_count": null,
   "id": "0865033e-8ab9-478c-a73c-6b042a22f1da",
   "metadata": {},
   "outputs": [],
   "source": [
    "adapter_df = get_history_from_project('thesis-toc-ood-test-hyperparam-search-10-runs', False)\n",
    "working_adapter = adapter_df.copy()\n",
    "working_adapter['name'] =working_adapter['name'].apply(lambda x: dataset_mapping[x]) "
   ]
  },
  {
   "cell_type": "code",
   "execution_count": null,
   "id": "7c10b54d-d5b9-4409-944c-2a7a987ea080",
   "metadata": {},
   "outputs": [],
   "source": [
    "metrics_and_name"
   ]
  },
  {
   "cell_type": "code",
   "execution_count": null,
   "id": "336030f7-d57f-4ef3-a6b8-b2672af03068",
   "metadata": {},
   "outputs": [],
   "source": [
    "metrics = ['tip', 'tipf', 'clip']\n",
    "metrics_and_name = metrics + ['name']\n",
    "std_metrics = [metric + '_std' for metric in metrics]\n",
    "tip_mappings = {'tip':'T-MCM', 'tipf':'T-MCM-f', 'clip':'MCM'}"
   ]
  },
  {
   "cell_type": "code",
   "execution_count": null,
   "id": "25680386-b930-48a2-a2fc-79b3acda774b",
   "metadata": {},
   "outputs": [],
   "source": [
    "diff_bigger = 10\n",
    "columns_of_relevance = 'ZEROSHOT-TIP ADAPTER'\n",
    "# get the names were adaption is better than xy points\n",
    "full_mean = classification_df.groupby('name').mean()\n",
    "names = full_mean[full_mean[columns_of_relevance] > diff_bigger].index.values\n"
   ]
  },
  {
   "cell_type": "code",
   "execution_count": null,
   "id": "391f28b8-8d40-4057-a5f5-b42cfa3c1b62",
   "metadata": {},
   "outputs": [],
   "source": [
    "to_safe = working_adapter[metrics+['name']+ std_metrics].set_index('name').round(3)\n",
    "for metric, std_metric in zip(metrics, std_metrics):\n",
    "    to_safe[metric] = to_safe[metric].astype(str) + \" \\pm \"+  to_safe[std_metric].astype(str)\n",
    "to_safe = to_safe.drop(std_metrics, axis=1).sort_index()\n"
   ]
  },
  {
   "cell_type": "code",
   "execution_count": null,
   "id": "111eea3c-3715-48aa-943b-837dcf331af0",
   "metadata": {},
   "outputs": [],
   "source": [
    "save_csv(to_safe.rename(columns=metric_converter).sort_index(), \"6\", \"mcm_tip_tipf\")"
   ]
  },
  {
   "cell_type": "code",
   "execution_count": null,
   "id": "dc1442f8-3966-4c98-a43f-d7546a425e6b",
   "metadata": {},
   "outputs": [],
   "source": [
    "to_safe.rename(columns=metric_converter)"
   ]
  },
  {
   "cell_type": "code",
   "execution_count": null,
   "id": "6ea6b490-1ba6-477a-bbe1-e9ff039268ed",
   "metadata": {
    "tags": []
   },
   "outputs": [],
   "source": [
    "working_adapter[metrics].mean().round(3)"
   ]
  },
  {
   "cell_type": "code",
   "execution_count": null,
   "id": "42d4435b-afa6-43df-9c89-2a4f59911bde",
   "metadata": {},
   "outputs": [],
   "source": [
    "working_adapter[std_metrics].mean().round(3)"
   ]
  },
  {
   "cell_type": "markdown",
   "id": "04e91644-5f0b-434f-b4a8-c2c9db932a2e",
   "metadata": {
    "tags": []
   },
   "source": [
    "## Use only good adapted ones"
   ]
  },
  {
   "cell_type": "code",
   "execution_count": null,
   "id": "2876e8c9-190c-438b-8c53-af338ed4a939",
   "metadata": {},
   "outputs": [],
   "source": [
    "diff_bigger = 10\n",
    "columns_of_relevance = 'ZEROSHOT-TIP-F ADAPTER'\n",
    "# get the names were adaption is better than xy points\n",
    "full_mean = classification_df.groupby('name').mean()\n",
    "names = full_mean[full_mean[columns_of_relevance] > diff_bigger].index.values\n",
    "print(f\"Acc improvement over {diff_bigger}: {names}\")"
   ]
  },
  {
   "cell_type": "code",
   "execution_count": null,
   "id": "f4db5fff-0112-49e6-a005-1fc6f1fcd40c",
   "metadata": {},
   "outputs": [],
   "source": [
    "working_adapter.set_index('name').loc[names][metrics].mean().round(3)"
   ]
  },
  {
   "cell_type": "code",
   "execution_count": null,
   "id": "e5c60ddf-a1cf-43de-a681-af4989a584ce",
   "metadata": {},
   "outputs": [],
   "source": [
    "working_adapter.set_index('name').loc[names][metrics].mean().round(3)"
   ]
  },
  {
   "cell_type": "code",
   "execution_count": null,
   "id": "aeed1c3b-3611-4be9-a6f0-e723aee48c4e",
   "metadata": {},
   "outputs": [],
   "source": [
    "diff_bigger = 10\n",
    "columns_of_relevance = 'ZEROSHOT-TIP ADAPTER'\n",
    "# get the names were adaption is better than xy points\n",
    "full_mean = classification_df.groupby('name').mean()\n",
    "names = full_mean[full_mean[columns_of_relevance] > diff_bigger].index.values\n",
    "print(f\"Acc improvement over {diff_bigger}: {names}\")"
   ]
  },
  {
   "cell_type": "code",
   "execution_count": null,
   "id": "95afb79f-5b18-4d6e-a9a8-7f248ad2ef86",
   "metadata": {},
   "outputs": [],
   "source": [
    "working_adapter.set_index('name').loc[names][metrics].mean().round(3)"
   ]
  },
  {
   "cell_type": "code",
   "execution_count": null,
   "id": "a137d0b0-2df5-4319-ac92-305486fd8217",
   "metadata": {},
   "outputs": [],
   "source": [
    "working_adapter.set_index('name').loc[names][std_metrics].mean().round(3)"
   ]
  },
  {
   "cell_type": "code",
   "execution_count": null,
   "id": "1216585f-a577-4664-bab4-224fa0639690",
   "metadata": {},
   "outputs": [],
   "source": [
    "working_adapter[metrics].plot(kind='bar')"
   ]
  },
  {
   "cell_type": "markdown",
   "id": "16116e99-a62a-4bc7-9a42-4f355ca6769a",
   "metadata": {},
   "source": [
    "## ZOC"
   ]
  },
  {
   "cell_type": "code",
   "execution_count": null,
   "id": "a67a38ac-16b5-49d9-9798-8741e4c7b5dd",
   "metadata": {},
   "outputs": [],
   "source": [
    "working_adapter = adapter_df.copy()\n",
    "working_adapter['name'] = working_adapter['name'].apply(lambda x: dataset_mapping[x])\n",
    "working_adapter.set_index('name', inplace=True)\n",
    "metrics_z = ['zoc', 'toc', 'tocf']\n",
    "std_metrics_z = [metric + '_std' for metric in metrics_z]\n",
    "tip_mappings = {'zoc':'ZOC', 'toc':'T-ZOC', 'toc-f':'T-ZOC-f'}\n",
    "working_adapter[metrics_z].mean().round(3)"
   ]
  },
  {
   "cell_type": "code",
   "execution_count": null,
   "id": "0fa49cda-bf8d-4819-b665-166ae7eb04fc",
   "metadata": {},
   "outputs": [],
   "source": [
    "working_adapter[std_metrics_z].mean().round(3)"
   ]
  },
  {
   "cell_type": "code",
   "execution_count": null,
   "id": "986bc085-4515-498b-8e40-6dcbb52c51f3",
   "metadata": {},
   "outputs": [],
   "source": [
    "names"
   ]
  },
  {
   "cell_type": "code",
   "execution_count": null,
   "id": "22655ab8-44a5-4081-ba54-53126661aa0b",
   "metadata": {},
   "outputs": [],
   "source": [
    "working_adapter.loc[names][metrics_z].mean().round(3)"
   ]
  },
  {
   "cell_type": "code",
   "execution_count": null,
   "id": "b648f0df-f0e0-4e70-8a37-c72f0be9c6d7",
   "metadata": {},
   "outputs": [],
   "source": [
    "working_adapter.loc[names][std_metrics_z].mean().round(3)"
   ]
  },
  {
   "cell_type": "code",
   "execution_count": null,
   "id": "30a84547-71cf-4995-b6b5-ab8d4c7cc30e",
   "metadata": {},
   "outputs": [],
   "source": [
    "renamer_for_plot = {'zoc':'ZOC', 'toc':'T-ZOC', 'tip':'T-MCM', 'tocf':'T-ZOC-f', 'tipf':'T-MCM-f', 'clip':'MCM'}"
   ]
  },
  {
   "cell_type": "code",
   "execution_count": null,
   "id": "80d272a8-d15e-4f37-968a-0f76e6abdc65",
   "metadata": {},
   "outputs": [],
   "source": [
    "barplot_df =  working_adapter.rename(columns=renamer_for_plot).loc[names][['MCM', 'T-MCM', 'T-ZOC']]"
   ]
  },
  {
   "cell_type": "code",
   "execution_count": null,
   "id": "0243d739-b962-475b-926d-688d2ce82f1e",
   "metadata": {},
   "outputs": [],
   "source": [
    "barplot_df"
   ]
  },
  {
   "cell_type": "code",
   "execution_count": null,
   "id": "129457ff-fd23-4aad-8dc4-d40db0dddf21",
   "metadata": {},
   "outputs": [],
   "source": [
    "figsize"
   ]
  },
  {
   "cell_type": "code",
   "execution_count": null,
   "id": "3e58a1a9-dce8-4b82-9e34-684483d6f9d7",
   "metadata": {},
   "outputs": [],
   "source": [
    "fig, ax = plt.subplots(figsize=(figsize[0], 3))\n",
    "bar_width = 0.23\n",
    "pos1 = range(len(barplot_df))\n",
    "pos2 = [bar_width+pos for pos in pos1]\n",
    "pos3 = [bar_width+pos for pos in pos2]\n",
    "\n",
    "ax.bar(pos1, barplot_df['MCM'], width=bar_width, label='MCM')\n",
    "ax.bar(pos2, barplot_df['T-MCM'], width=bar_width, label='T-MCM (Ours)')\n",
    "ax.bar(pos3, barplot_df['T-ZOC'], width=bar_width, label='T-ZOC (Ours)')\n",
    "ax.hlines(0.5, xmin=-.5, xmax=[len(barplot_df)], colors='darkgrey', alpha=0.9, linestyles='--', lw=2, label='Uninformed Guesser')\n",
    "_ = ax.set_xticks(pos2)\n",
    "ax.set_xticklabels(barplot_df.index, rotation=45)\n",
    "ax.legend(loc='upper left', bbox_to_anchor=(1, 1), fontsize=7)\n",
    "ax.set_ylabel('AUROC')\n",
    "ax.set_xlabel('DATASET')\n",
    "plt.tight_layout()\n",
    "\n",
    "save_plot(fig, 'best_bars','6', False)"
   ]
  },
  {
   "cell_type": "markdown",
   "id": "c80670db-1373-4a1b-aeee-1b7aed523c37",
   "metadata": {},
   "source": [
    "# corrs"
   ]
  },
  {
   "cell_type": "code",
   "execution_count": null,
   "id": "e066a4ea-9972-4b0d-a7c7-5d8f80843293",
   "metadata": {},
   "outputs": [],
   "source": [
    "classification_df.groupby('name').mean().columns"
   ]
  },
  {
   "cell_type": "code",
   "execution_count": null,
   "id": "94308164-c3e0-435d-aa22-bba9039fbeb7",
   "metadata": {},
   "outputs": [],
   "source": [
    "class_and_ood = pd.concat([classification_df.groupby('name').mean()[['ZEROSHOT', 'TIP ADAPTER', 'TIP-F ADAPTER', 'ZEROSHOT-TIP ADAPTER','ZEROSHOT-TIP-F ADAPTER']], working_adapter.rename(columns=renamer_for_plot).drop([col for col in working_adapter.columns if \"_std\" in col],axis=1)], axis=1)"
   ]
  },
  {
   "cell_type": "code",
   "execution_count": null,
   "id": "01e24064-2d31-4a30-a5fc-1e52798f4b03",
   "metadata": {},
   "outputs": [],
   "source": [
    "auroc_metrics = ['T-ZOC-f', 'T-ZOC', 'MCM', 'T-MCM', 'T-MCM-f','ZOC']"
   ]
  },
  {
   "cell_type": "code",
   "execution_count": null,
   "id": "da9bdcfb-4ca9-4f7e-94c5-5845384d850f",
   "metadata": {},
   "outputs": [],
   "source": [
    "class_and_ood.corr()[auroc_metrics]"
   ]
  },
  {
   "cell_type": "code",
   "execution_count": null,
   "id": "f91902d0-9cfb-4c19-aec4-5f3ceabc1c05",
   "metadata": {},
   "outputs": [],
   "source": [
    "classification_df.groupby('name').mean()[['ZEROSHOT-TIP ADAPTER', 'ZEROSHOT-TIP-F ADAPTER',\n",
    "       'TIP ADAPTER-ZEROSHOT', 'TIP ADAPTER-TIP-F ADAPTER',\n",
    "       'TIP-F ADAPTER-ZEROSHOT']].round(2)"
   ]
  },
  {
   "cell_type": "markdown",
   "id": "7b500db5-a18f-44ff-993a-72eeebede66c",
   "metadata": {},
   "source": [
    "## Benchmark comp"
   ]
  },
  {
   "cell_type": "code",
   "execution_count": null,
   "id": "ce56e1f9-9361-4be3-a357-d76d524d269d",
   "metadata": {},
   "outputs": [],
   "source": [
    "bench = get_history_from_project('thesis-ood-benchmark-logistic', False)\n"
   ]
  },
  {
   "cell_type": "code",
   "execution_count": null,
   "id": "63aa612e-356f-4369-b707-f98f2065f776",
   "metadata": {},
   "outputs": [],
   "source": [
    "bench_df = bench.copy()\n",
    "bench_df['name'] = bench_df['name'].apply(lambda x: dataset_mapping[x])"
   ]
  },
  {
   "cell_type": "code",
   "execution_count": null,
   "id": "cdb0d725-fccf-47bc-a855-a4f3eaeb028e",
   "metadata": {},
   "outputs": [],
   "source": [
    "bench_df = bench_df.set_index('name')\n",
    "bench_df = bench_df.rename(columns={'AUC': 'Benchmark'})"
   ]
  },
  {
   "cell_type": "code",
   "execution_count": null,
   "id": "8c8d0d2b-fa07-4d77-9240-a83a26b6f309",
   "metadata": {},
   "outputs": [],
   "source": [
    "final_full = pd.concat([working_adapter.rename(columns=renamer_for_plot)[['MCM', 'T-MCM','T-MCM-f', 'ZOC', 'T-ZOC', 'T-ZOC-f']], bench_df.drop('std', axis=1)], axis=1)"
   ]
  },
  {
   "cell_type": "code",
   "execution_count": null,
   "id": "34679a44-be00-4518-82df-36d479e3171d",
   "metadata": {},
   "outputs": [],
   "source": [
    "save_csv(final_full.round(3), folder='6', name='full_oodd_with_benchmark')"
   ]
  },
  {
   "cell_type": "code",
   "execution_count": null,
   "id": "277b5c9e-d455-4ecd-aba2-0643e5ca9b8e",
   "metadata": {},
   "outputs": [],
   "source": [
    "final = pd.concat([working_adapter.rename(columns=renamer_for_plot)[['MCM', 'T-MCM', 'T-ZOC']], bench_df.drop('std', axis=1)], axis=1)"
   ]
  },
  {
   "cell_type": "code",
   "execution_count": null,
   "id": "a90ba537-5b21-4e63-ad60-a5454cbaafd4",
   "metadata": {},
   "outputs": [],
   "source": [
    "final.mean()"
   ]
  },
  {
   "cell_type": "code",
   "execution_count": null,
   "id": "f182cac9-f8d8-4636-ab5b-bfb0b21c02b4",
   "metadata": {},
   "outputs": [],
   "source": [
    "final.loc[names]['T-MCM'] - final.loc[names]['T-MCM']"
   ]
  },
  {
   "cell_type": "code",
   "execution_count": null,
   "id": "813d1259-e150-4cb9-a603-a20b87acf4be",
   "metadata": {},
   "outputs": [],
   "source": [
    "fig, ax = plt.subplots(figsize=(figsize[0], 3))\n",
    "bar_width = 0.2\n",
    "pos1 = range(len(final.loc[names]))\n",
    "pos2 = [bar_width+pos for pos in pos1]\n",
    "pos3 = [bar_width+pos for pos in pos2]\n",
    "\n",
    "ax.bar(pos1, final.loc[names]['T-MCM'], width=bar_width, label='T-MCM (Ours)')\n",
    "ax.bar(pos2, final.loc[names]['T-ZOC'], width=bar_width, label='T-ZOC (Ours)')\n",
    "ax.bar(pos3, final.loc[names]['Benchmark'], width=bar_width, label='Fine-tuned')\n",
    "\n",
    "ax.hlines(0.5, xmin=-.5, xmax=[len(final.loc[names])], colors='darkgrey', alpha=0.9, linestyles='--', lw=2, label='Uninformed Guesser')\n",
    "_ = ax.set_xticks(pos2)\n",
    "ax.set_xticklabels(final.loc[names].index, rotation=45)\n",
    "ax.legend(loc='upper left', bbox_to_anchor=(1, 1), fontsize=7)\n",
    "ax.set_ylabel('AUROC')\n",
    "ax.set_xlabel('DATASET')\n",
    "plt.tight_layout()\n",
    "save_plot(fig, 'benchmark bars','6', False)"
   ]
  },
  {
   "cell_type": "code",
   "execution_count": null,
   "id": "c5e46173-7041-4d61-91d0-6bb432bd2734",
   "metadata": {},
   "outputs": [],
   "source": [
    "final.mean()"
   ]
  },
  {
   "cell_type": "markdown",
   "id": "ca2cd5b4-c405-4b1d-85ee-a1977004ad05",
   "metadata": {
    "tags": []
   },
   "source": [
    "## All classification resultos"
   ]
  },
  {
   "cell_type": "code",
   "execution_count": null,
   "id": "41c5d2f8-1c64-43e2-94bd-20a4158d5ff1",
   "metadata": {},
   "outputs": [],
   "source": [
    "bench_class_df = get_history_from_project('thesis-classification-logistic_head-large', False)\n",
    "base_class_df = get_history_from_project('thesis-classification-logistic', False) "
   ]
  },
  {
   "cell_type": "code",
   "execution_count": null,
   "id": "c3d1c6f2-aaef-4bc3-8405-1dc202965a27",
   "metadata": {},
   "outputs": [],
   "source": [
    "bench_class = bench_class_df.copy()\n",
    "bench_class['name'] = bench_class['name'].apply(lambda x: dataset_mapping[x])\n",
    "bench_class = bench_class.set_index('name')\n",
    "bench_class = bench_class.rename(columns={'test accuracy': 'Logistic - ViT-L/16@336px'})"
   ]
  },
  {
   "cell_type": "code",
   "execution_count": null,
   "id": "11de595a-f9e0-446c-91d0-35ae696b6501",
   "metadata": {},
   "outputs": [],
   "source": [
    "base_class = base_class_df.copy()\n",
    "base_class['name'] = base_class['name'].apply(lambda x: dataset_mapping[x])\n",
    "base_class = base_class.set_index('name')\n",
    "base_class = base_class.rename(columns={'Acc': 'Logistic - ViT-B/32'})"
   ]
  },
  {
   "cell_type": "code",
   "execution_count": null,
   "id": "f11bd212-96d0-4225-a0be-22380b8f081e",
   "metadata": {},
   "outputs": [],
   "source": [
    "bench_class"
   ]
  },
  {
   "cell_type": "code",
   "execution_count": null,
   "id": "987b1b67-f0f7-4fe4-bb60-8fa765addc93",
   "metadata": {},
   "outputs": [],
   "source": [
    "class_metrics = ['TIP ADAPTER', 'TIP-F ADAPTER', 'ZEROSHOT']"
   ]
  },
  {
   "cell_type": "code",
   "execution_count": null,
   "id": "b0fc5fbc-feec-4441-ba92-8a221de92e7c",
   "metadata": {},
   "outputs": [],
   "source": [
    "full_reg = pd.concat([base_class*100, bench_class*100, classification_df.groupby('name').mean()[class_metrics]], axis=1)"
   ]
  },
  {
   "cell_type": "code",
   "execution_count": null,
   "id": "695a6f04-70ab-48f5-99e3-2ead20b04f30",
   "metadata": {},
   "outputs": [],
   "source": [
    "full_reg.sort_index(inplace=True)"
   ]
  },
  {
   "cell_type": "code",
   "execution_count": null,
   "id": "066d53f2-fcdd-46ef-810d-69f118e6add5",
   "metadata": {},
   "outputs": [],
   "source": [
    "fig, ax = plt.subplots(figsize=figsize)\n",
    "for col in full_reg.columns:\n",
    "    ax.plot(full_reg.index, full_reg[col], label=col)\n",
    "ax.legend(loc='upper left', bbox_to_anchor=(1, 1), fontsize=3)\n",
    "ax.set_xticklabels(full_reg.index, rotation=45, ha='right')\n",
    "\n",
    "ax.set_ylabel('Accuracy %')\n",
    "ax.set_xlabel('Dataset')\n",
    "plt.tight_layout()\n",
    "\n",
    "save_plot(fig, 'full_classification_line','6', False)\n",
    "save_csv(full_reg.round(3),folder='6', name=\"full classification results\")"
   ]
  },
  {
   "cell_type": "code",
   "execution_count": null,
   "id": "31e4b20b-ded8-4496-aaf0-3a6300496ee9",
   "metadata": {},
   "outputs": [],
   "source": []
  }
 ],
 "metadata": {
  "kernelspec": {
   "display_name": "Python 3 (ipykernel)",
   "language": "python",
   "name": "python3"
  },
  "language_info": {
   "codemirror_mode": {
    "name": "ipython",
    "version": 3
   },
   "file_extension": ".py",
   "mimetype": "text/x-python",
   "name": "python",
   "nbconvert_exporter": "python",
   "pygments_lexer": "ipython3",
   "version": "3.8.13"
  }
 },
 "nbformat": 4,
 "nbformat_minor": 5
}
