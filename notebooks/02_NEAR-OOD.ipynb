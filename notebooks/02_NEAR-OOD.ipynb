{
 "cells": [
  {
   "cell_type": "code",
   "execution_count": 1,
   "id": "e91330d8-f97b-47a0-b46b-2822cd4dace6",
   "metadata": {},
   "outputs": [
    {
     "name": "stderr",
     "output_type": "stream",
     "text": [
      "/home/fmeyer/miniconda3/envs/ood/lib/python3.8/site-packages/scipy/__init__.py:138: UserWarning: A NumPy version >=1.16.5 and <1.23.0 is required for this version of SciPy (detected version 1.24.1)\n",
      "  warnings.warn(f\"A NumPy version >={np_minversion} and <{np_maxversion} is required for this version of \"\n",
      "/home/fmeyer/miniconda3/envs/ood/lib/python3.8/site-packages/tqdm/auto.py:22: TqdmWarning: IProgress not found. Please update jupyter and ipywidgets. See https://ipywidgets.readthedocs.io/en/stable/user_install.html\n",
      "  from .autonotebook import tqdm as notebook_tqdm\n"
     ]
    }
   ],
   "source": [
    "%load_ext autoreload\n",
    "%autoreload 2\n",
    "\n",
    "import matplotlib.pyplot as plt\n",
    "# Configure Matplotlib to use LaTeX for text rendering\n",
    "plt.rcParams['text.usetex'] = True\n",
    "\n",
    "# Set fonts for Matplotlib\n",
    "plt.rcParams['font.serif'] = 'Palatino'\n",
    "plt.rcParams['font.sans-serif'] = 'Helvetica'\n",
    "plt.rcParams['font.monospace'] = 'Courier'\n",
    "plt.rcParams['font.size'] = 11\n",
    "\n",
    "width_cm = 15\n",
    "height_cm = 8\n",
    "# Convert centimeters to inches\n",
    "width_in = width_cm / 2.54\n",
    "height_in = height_cm / 2.54\n",
    "\n",
    "import seaborn as sns\n",
    "sns.set_theme()\n",
    "figsize= (width_in, height_in)\n",
    "halffigsize = (width_in/2, height_in)\n",
    "\n",
    "\n",
    "import os\n",
    "from metrics.plotting_utils import save_plot, get_history_from_project, save_csv, get_dataset_name_mapping\n",
    "import numpy as np\n",
    "import pandas as pd \n",
    "import wandb\n",
    "api = wandb.Api()\n",
    "from ood_detection.config import Config\n",
    "from datasets.config import DATASETS_DICT\n",
    "\n",
    "\n",
    "frame_name = \"thesis-zsoodd_10_runs-std\"\n",
    "name_mapping = get_dataset_name_mapping()\n",
    "aucs = ['auc-mean', 'auc-sum', 'auc-max']"
   ]
  },
  {
   "cell_type": "markdown",
   "id": "2bc32896-cc59-4936-85c1-981be2703870",
   "metadata": {},
   "source": [
    "## ZOC"
   ]
  },
  {
   "cell_type": "code",
   "execution_count": 2,
   "id": "0781a01a-a985-4591-b8dd-7a44efad88b9",
   "metadata": {},
   "outputs": [],
   "source": [
    "full_zoc = get_history_from_project(frame_name)\n",
    "working_zoc = full_zoc.copy()\n",
    "working_zoc.drop([col for col in working_zoc.columns if col not in aucs], axis=1, inplace = True)"
   ]
  },
  {
   "cell_type": "code",
   "execution_count": 3,
   "id": "839cdf2c-f708-4cb2-af06-d0d7c6caabde",
   "metadata": {},
   "outputs": [
    {
     "data": {
      "text/plain": [
       "auc-mean    0.689494\n",
       "auc-max     0.628729\n",
       "auc-sum     0.727194\n",
       "dtype: float64"
      ]
     },
     "execution_count": 3,
     "metadata": {},
     "output_type": "execute_result"
    }
   ],
   "source": [
    "working_zoc.mean()"
   ]
  },
  {
   "cell_type": "markdown",
   "id": "fd5e52b1-f5ef-4e01-a3c0-70b8d3cc2963",
   "metadata": {},
   "source": [
    "## Finetuned Baseline"
   ]
  },
  {
   "cell_type": "code",
   "execution_count": 4,
   "id": "e0d83631-5cb3-4c0b-a855-acb282fcf55e",
   "metadata": {},
   "outputs": [],
   "source": [
    "full_fine = get_history_from_project('thesis-ood_baseline-all-full_classes-test_sets')"
   ]
  },
  {
   "cell_type": "code",
   "execution_count": 5,
   "id": "8aad9151-31d8-4e09-9393-e78b9ed4742a",
   "metadata": {},
   "outputs": [],
   "source": [
    "working_fine = full_fine.copy()"
   ]
  },
  {
   "cell_type": "code",
   "execution_count": 6,
   "id": "07deae24-9df9-451d-bb19-e674bb95ec25",
   "metadata": {},
   "outputs": [],
   "source": [
    "working_fine.drop(['log_std', 'lin_std'], axis=1, inplace=True)"
   ]
  },
  {
   "cell_type": "code",
   "execution_count": 7,
   "id": "fe9300e4-2f70-4162-b14a-902ec7615c15",
   "metadata": {},
   "outputs": [
    {
     "data": {
      "text/plain": [
       "lin_AUC    0.706488\n",
       "log_AUC    0.817914\n",
       "dtype: float64"
      ]
     },
     "execution_count": 7,
     "metadata": {},
     "output_type": "execute_result"
    }
   ],
   "source": [
    "working_fine.mean()"
   ]
  },
  {
   "cell_type": "markdown",
   "id": "88dd4ae6-8772-4548-82bd-d87025117064",
   "metadata": {
    "tags": []
   },
   "source": [
    "## MCM"
   ]
  },
  {
   "cell_type": "code",
   "execution_count": 8,
   "id": "554e23d4-61ae-4b1c-b349-b236723ca0ab",
   "metadata": {
    "tags": []
   },
   "outputs": [],
   "source": [
    "def get_all_finished_runs(methods, runs):\n",
    "    dfs = {}\n",
    "    for method in methods:\n",
    "        for run in runs:\n",
    "            if method == 'mls' and run != '1.0':\n",
    "                continue\n",
    "            name = method +'-'+ run\n",
    "            print(f\"Loading {name}\")\n",
    "            try:\n",
    "                df = prep_far_ood(name)\n",
    "                assert len(df) == 132\n",
    "                dfs[name] = df\n",
    "            except:\n",
    "                print(f\"{name} not finished yet\")\n",
    "                continue\n",
    "    return dfs\n",
    "def plot_errorbar(df, value_column):\n",
    "    error_corr = .5 * df[value_column + '-std']\n",
    "    lower = df[value_column] - error_corr\n",
    "    upper = df[value_column] + error_corr\n",
    "    if value_column=='LOGISTIC':\n",
    "        name= 'Fine-tuning + MSP'\n",
    "    else:\n",
    "        name=value_column\n",
    "    #mean = df[value_column].mean().round(3)\n",
    "    #std = u\"\\u00B1{})\".format(df[value_column+'-std'].mean().round(2))\n",
    "    #label = name + f' (\\u03bc= {mean}' + std\n",
    "    \n",
    "    ax.plot(df[value_column], label = name)\n",
    "    ax.plot(lower, color='tab:blue', alpha=.1)\n",
    "    ax.plot(upper, color='tab:blue', alpha=.1)\n",
    "    ax.fill_between(range(len(df)), lower, upper, alpha=.3)"
   ]
  },
  {
   "cell_type": "code",
   "execution_count": 9,
   "id": "4f216814-357f-411a-b527-9931cb6f68a4",
   "metadata": {
    "tags": []
   },
   "outputs": [],
   "source": [
    "def prep_mcm(name):\n",
    "    full_name = f'thesis-near-mcm-{name}'\n",
    "    to_keep = ['auc-max', 'auc-max-std']\n",
    "    working_df = get_history_from_project(full_name)\n",
    "    working_df.drop([col for col in working_df.columns if col not in to_keep], axis=1,inplace = True)\n",
    "    working_df.rename(columns = {'auc-max': name.upper(), 'auc-max-std':name.upper()+'-std'}, inplace=True)\n",
    "    return working_df"
   ]
  },
  {
   "cell_type": "code",
   "execution_count": 10,
   "id": "a44033be-e6c5-471f-8d19-22866f69ddda",
   "metadata": {},
   "outputs": [],
   "source": [
    "methods = ['mls-1.0', 'msp-0.01', 'msp-1.0','msp-100.0']\n",
    "full_mcm_df = pd.concat([prep_mcm(m) for m in methods], axis=1)\n"
   ]
  },
  {
   "cell_type": "code",
   "execution_count": 11,
   "id": "a5b02e7f-cf93-4a6e-a2c4-0ff2fe01d5de",
   "metadata": {},
   "outputs": [],
   "source": [
    "full_mcm_df = full_mcm_df.sort_index()"
   ]
  },
  {
   "cell_type": "markdown",
   "id": "c4e3487a-fded-4faf-884d-798384f19eef",
   "metadata": {},
   "source": [
    "### Some Correlation & std metrics"
   ]
  },
  {
   "cell_type": "code",
   "execution_count": 12,
   "id": "d695f787-1d97-416b-96e2-945f32d6b9f4",
   "metadata": {},
   "outputs": [
    {
     "data": {
      "text/plain": [
       "0.037"
      ]
     },
     "execution_count": 12,
     "metadata": {},
     "output_type": "execute_result"
    }
   ],
   "source": [
    "full_mcm_df[['MLS-1.0-std', 'MSP-0.01-std', 'MSP-1.0-std', 'MSP-100.0-std']].mean().mean().round(3)"
   ]
  },
  {
   "cell_type": "code",
   "execution_count": 13,
   "id": "95641d3e-3d62-4b2e-9365-0c2f58da52ec",
   "metadata": {},
   "outputs": [
    {
     "data": {
      "text/html": [
       "<div>\n",
       "<style scoped>\n",
       "    .dataframe tbody tr th:only-of-type {\n",
       "        vertical-align: middle;\n",
       "    }\n",
       "\n",
       "    .dataframe tbody tr th {\n",
       "        vertical-align: top;\n",
       "    }\n",
       "\n",
       "    .dataframe thead th {\n",
       "        text-align: right;\n",
       "    }\n",
       "</style>\n",
       "<table border=\"1\" class=\"dataframe\">\n",
       "  <thead>\n",
       "    <tr style=\"text-align: right;\">\n",
       "      <th></th>\n",
       "      <th>MLS-1.0</th>\n",
       "      <th>MSP-0.01</th>\n",
       "      <th>MSP-1.0</th>\n",
       "      <th>MSP-100.0</th>\n",
       "    </tr>\n",
       "  </thead>\n",
       "  <tbody>\n",
       "    <tr>\n",
       "      <th>MLS-1.0</th>\n",
       "      <td>1.000000</td>\n",
       "      <td>0.951164</td>\n",
       "      <td>0.971408</td>\n",
       "      <td>0.978608</td>\n",
       "    </tr>\n",
       "    <tr>\n",
       "      <th>MSP-0.01</th>\n",
       "      <td>0.951164</td>\n",
       "      <td>1.000000</td>\n",
       "      <td>0.974710</td>\n",
       "      <td>0.976032</td>\n",
       "    </tr>\n",
       "    <tr>\n",
       "      <th>MSP-1.0</th>\n",
       "      <td>0.971408</td>\n",
       "      <td>0.974710</td>\n",
       "      <td>1.000000</td>\n",
       "      <td>0.980340</td>\n",
       "    </tr>\n",
       "    <tr>\n",
       "      <th>MSP-100.0</th>\n",
       "      <td>0.978608</td>\n",
       "      <td>0.976032</td>\n",
       "      <td>0.980340</td>\n",
       "      <td>1.000000</td>\n",
       "    </tr>\n",
       "  </tbody>\n",
       "</table>\n",
       "</div>"
      ],
      "text/plain": [
       "            MLS-1.0  MSP-0.01   MSP-1.0  MSP-100.0\n",
       "MLS-1.0    1.000000  0.951164  0.971408   0.978608\n",
       "MSP-0.01   0.951164  1.000000  0.974710   0.976032\n",
       "MSP-1.0    0.971408  0.974710  1.000000   0.980340\n",
       "MSP-100.0  0.978608  0.976032  0.980340   1.000000"
      ]
     },
     "execution_count": 13,
     "metadata": {},
     "output_type": "execute_result"
    }
   ],
   "source": [
    "full_mcm_df[['MLS-1.0', 'MSP-0.01', 'MSP-1.0', 'MSP-100.0']].corr()"
   ]
  },
  {
   "cell_type": "code",
   "execution_count": 14,
   "id": "376e7415-1e75-4a73-923b-ed39b7abab2e",
   "metadata": {
    "tags": []
   },
   "outputs": [
    {
     "name": "stderr",
     "output_type": "stream",
     "text": [
      "/tmp/ipykernel_852/1607339380.py:8: MatplotlibDeprecationWarning: Support for passing numbers through unit converters is deprecated since 3.5 and support will be removed two minor releases later; use Axis.convert_units instead.\n",
      "  ax.vlines([range(len(full_mcm_df))], ymin=0, ymax=full_mcm_df.max(axis=1),color='darkgrey', alpha=0.6)\n",
      "/tmp/ipykernel_852/1607339380.py:11: UserWarning: FixedFormatter should only be used together with FixedLocator\n",
      "  ax.set_xticklabels([name_mapping[ind] for ind in full_mcm_df.index], rotation=45, ha='right')\n"
     ]
    },
    {
     "data": {
      "image/png": "[encoded data removed]",
      "text/plain": [
       "<Figure size 425.197x226.772 with 1 Axes>"
      ]
     },
     "metadata": {},
     "output_type": "display_data"
    },
    {
     "name": "stdout",
     "output_type": "stream",
     "text": [
      "Saved to /mnt/c/Users/fmeyer/Git/ood-detection/data/plots/tickz/5_2\n",
      "Saved to /mnt/c/Users/fmeyer/Git/ood-detection/data/plots/svg/5_2\n",
      "Saved to /mnt/c/Users/fmeyer/Git/ood-detection/data/plots/5_2\n"
     ]
    },
    {
     "data": {
      "text/plain": [
       "True"
      ]
     },
     "execution_count": 14,
     "metadata": {},
     "output_type": "execute_result"
    },
    {
     "data": {
      "text/plain": [
       "<Figure size 432x288 with 0 Axes>"
      ]
     },
     "metadata": {},
     "output_type": "display_data"
    }
   ],
   "source": [
    "fig, ax = plt.subplots(figsize=figsize)\n",
    "plot_errorbar(full_mcm_df, 'MLS-1.0')\n",
    "plot_errorbar(full_mcm_df, 'MSP-1.0')\n",
    "plot_errorbar(full_mcm_df, 'MSP-0.01')\n",
    "\n",
    "\n",
    "ax.hlines(0.5, xmin=-.5, xmax=[len(full_mcm_df)], colors='darkgrey', alpha=0.9, linestyles='--', lw=2, label='Uninformed Guesser')\n",
    "ax.vlines([range(len(full_mcm_df))], ymin=0, ymax=full_mcm_df.max(axis=1),color='darkgrey', alpha=0.6)\n",
    "\n",
    "ax.set_ylim(0.2,1.1)\n",
    "ax.set_xticklabels([name_mapping[ind] for ind in full_mcm_df.index], rotation=45, ha='right')\n",
    "ax.legend(loc = 'lower left', fontsize=7)\n",
    "ax.set_xlabel('ID / OOD Dataset')\n",
    "ax.set_ylabel('AUROC')\n",
    "# ax.set_title('Near-OOD Detection with Zero-Shot Methods')\n",
    "plt.tight_layout()\n",
    "plt.show()\n",
    "save_plot(fig, 'NearcomparisonMcmLines', '5_2', False)"
   ]
  },
  {
   "cell_type": "markdown",
   "id": "4adef954-955b-4407-8246-ef7333540dd4",
   "metadata": {},
   "source": [
    "## Now compare to ZOC and linear Baseline"
   ]
  },
  {
   "cell_type": "code",
   "execution_count": 15,
   "id": "a60416ae-04ac-4dc3-a5b9-0e55ad71cc96",
   "metadata": {
    "tags": []
   },
   "outputs": [],
   "source": [
    "full_mcm_1 = get_history_from_project('thesis-near-mcm-mls-1.0')\n",
    "working_mcm_1 = full_mcm_1.copy()\n",
    "metric_of_interest = ['auc-max', 'auc-max-std']\n",
    "working_mcm_1.drop([col for col in working_mcm_1.columns if col not in metric_of_interest], axis=1,inplace = True)\n",
    "working_mcm_1.rename(columns={'auc-max': 'MCM', 'auc-max-std':'MCM-std'}, inplace=True)"
   ]
  },
  {
   "cell_type": "code",
   "execution_count": 16,
   "id": "9cb36827-d7f4-4fca-9de0-dda41e98a63b",
   "metadata": {
    "tags": []
   },
   "outputs": [],
   "source": [
    "# get zoc\n",
    "full_zoc_1 = get_history_from_project('thesis-zsoodd_10_runs-std')\n",
    "working = full_zoc_1.copy()\n",
    "metric_of_interest = ['auc-sum', 'auc-sum-std']\n",
    "working_zoc = working[metric_of_interest].rename(columns={'auc-sum': 'ZOC', 'auc-sum-std':'ZOC-std'})"
   ]
  },
  {
   "cell_type": "code",
   "execution_count": 17,
   "id": "59dd7cbb-33f3-4bf9-9f07-4577514612f9",
   "metadata": {
    "tags": []
   },
   "outputs": [],
   "source": [
    "# get logistic\n",
    "full_log = get_history_from_project('thesis-ood_baseline-all-full_classes-test_sets')\n",
    "logistic = full_log.copy()\n",
    "logistic = logistic[['log_AUC', 'log_std']]\n",
    "logistic.rename(columns={'log_AUC': 'LOGISTIC', 'log_std': 'LOGISTIC-std'},inplace=True)"
   ]
  },
  {
   "cell_type": "code",
   "execution_count": 18,
   "id": "8221be8a-62a1-4fd9-b21f-005558a1663a",
   "metadata": {
    "tags": []
   },
   "outputs": [],
   "source": [
    "full_near = pd.concat([working_mcm_1,working_zoc, logistic ], axis=1)\n",
    "full_near = full_near.sort_index()"
   ]
  },
  {
   "cell_type": "markdown",
   "id": "5d3740df-45b1-48e0-b3e1-9107b8392503",
   "metadata": {},
   "source": [
    "## Some Corr and STD statistics"
   ]
  },
  {
   "cell_type": "markdown",
   "id": "b9841db2-1ac7-4255-9a75-908a2238db32",
   "metadata": {},
   "source": [
    "### stds..."
   ]
  },
  {
   "cell_type": "code",
   "execution_count": 19,
   "id": "64c9c205-234b-46bb-9d1e-1b30cc6b0b14",
   "metadata": {},
   "outputs": [
    {
     "name": "stdout",
     "output_type": "stream",
     "text": [
      "MAX STD\n"
     ]
    },
    {
     "data": {
      "text/plain": [
       "MCM-std         0.065\n",
       "ZOC-std         0.133\n",
       "LOGISTIC-std    0.111\n",
       "dtype: float64"
      ]
     },
     "execution_count": 19,
     "metadata": {},
     "output_type": "execute_result"
    }
   ],
   "source": [
    "print(\"MAX STD\")\n",
    "full_near[[col for col in full_near.columns if \"-std\" in col]].max().round(3)"
   ]
  },
  {
   "cell_type": "code",
   "execution_count": 20,
   "id": "7d8bf814-308d-4d4a-82d5-8c25b2397730",
   "metadata": {},
   "outputs": [
    {
     "name": "stdout",
     "output_type": "stream",
     "text": [
      "MEAN STD\n"
     ]
    },
    {
     "data": {
      "text/plain": [
       "MCM-std         0.032\n",
       "ZOC-std         0.048\n",
       "LOGISTIC-std    0.033\n",
       "dtype: float64"
      ]
     },
     "execution_count": 20,
     "metadata": {},
     "output_type": "execute_result"
    }
   ],
   "source": [
    "print(\"MEAN STD\")\n",
    "full_near[[col for col in full_near.columns if \"-std\" in col]].mean().round(3)"
   ]
  },
  {
   "cell_type": "code",
   "execution_count": 21,
   "id": "697b4c1d-493e-4207-90a4-9e5d8e1bc50f",
   "metadata": {},
   "outputs": [
    {
     "data": {
      "text/html": [
       "<div>\n",
       "<style scoped>\n",
       "    .dataframe tbody tr th:only-of-type {\n",
       "        vertical-align: middle;\n",
       "    }\n",
       "\n",
       "    .dataframe tbody tr th {\n",
       "        vertical-align: top;\n",
       "    }\n",
       "\n",
       "    .dataframe thead th {\n",
       "        text-align: right;\n",
       "    }\n",
       "</style>\n",
       "<table border=\"1\" class=\"dataframe\">\n",
       "  <thead>\n",
       "    <tr style=\"text-align: right;\">\n",
       "      <th></th>\n",
       "      <th>MCM</th>\n",
       "      <th>MCM-std</th>\n",
       "      <th>ZOC</th>\n",
       "      <th>ZOC-std</th>\n",
       "      <th>LOGISTIC</th>\n",
       "      <th>LOGISTIC-std</th>\n",
       "    </tr>\n",
       "    <tr>\n",
       "      <th>name</th>\n",
       "      <th></th>\n",
       "      <th></th>\n",
       "      <th></th>\n",
       "      <th></th>\n",
       "      <th></th>\n",
       "      <th></th>\n",
       "    </tr>\n",
       "  </thead>\n",
       "  <tbody>\n",
       "    <tr>\n",
       "      <th>mnist</th>\n",
       "      <td>0.529103</td>\n",
       "      <td>0.037412</td>\n",
       "      <td>0.536436</td>\n",
       "      <td>0.132665</td>\n",
       "      <td>0.938369</td>\n",
       "      <td>0.026611</td>\n",
       "    </tr>\n",
       "    <tr>\n",
       "      <th>gtsrb</th>\n",
       "      <td>0.566542</td>\n",
       "      <td>0.065261</td>\n",
       "      <td>0.541935</td>\n",
       "      <td>0.109549</td>\n",
       "      <td>0.791403</td>\n",
       "      <td>0.049798</td>\n",
       "    </tr>\n",
       "    <tr>\n",
       "      <th>fashion mnist</th>\n",
       "      <td>0.741620</td>\n",
       "      <td>0.054405</td>\n",
       "      <td>0.800603</td>\n",
       "      <td>0.084744</td>\n",
       "      <td>0.725776</td>\n",
       "      <td>0.111009</td>\n",
       "    </tr>\n",
       "    <tr>\n",
       "      <th>caltech101</th>\n",
       "      <td>0.882819</td>\n",
       "      <td>0.030806</td>\n",
       "      <td>0.866118</td>\n",
       "      <td>0.059928</td>\n",
       "      <td>0.920760</td>\n",
       "      <td>0.030890</td>\n",
       "    </tr>\n",
       "    <tr>\n",
       "      <th>dtd</th>\n",
       "      <td>0.678434</td>\n",
       "      <td>0.037523</td>\n",
       "      <td>0.674364</td>\n",
       "      <td>0.044412</td>\n",
       "      <td>0.806957</td>\n",
       "      <td>0.026203</td>\n",
       "    </tr>\n",
       "    <tr>\n",
       "      <th>svhn</th>\n",
       "      <td>0.530232</td>\n",
       "      <td>0.029659</td>\n",
       "      <td>0.554077</td>\n",
       "      <td>0.035012</td>\n",
       "      <td>0.677759</td>\n",
       "      <td>0.035719</td>\n",
       "    </tr>\n",
       "    <tr>\n",
       "      <th>flowers102</th>\n",
       "      <td>0.793749</td>\n",
       "      <td>0.038186</td>\n",
       "      <td>0.829306</td>\n",
       "      <td>0.032651</td>\n",
       "      <td>0.924690</td>\n",
       "      <td>0.021186</td>\n",
       "    </tr>\n",
       "    <tr>\n",
       "      <th>cifar100</th>\n",
       "      <td>0.744651</td>\n",
       "      <td>0.026052</td>\n",
       "      <td>0.772430</td>\n",
       "      <td>0.020373</td>\n",
       "      <td>0.787528</td>\n",
       "      <td>0.017793</td>\n",
       "    </tr>\n",
       "    <tr>\n",
       "      <th>stanford cars</th>\n",
       "      <td>0.742091</td>\n",
       "      <td>0.015073</td>\n",
       "      <td>0.734188</td>\n",
       "      <td>0.016646</td>\n",
       "      <td>0.778580</td>\n",
       "      <td>0.016526</td>\n",
       "    </tr>\n",
       "    <tr>\n",
       "      <th>caltech cub</th>\n",
       "      <td>0.725746</td>\n",
       "      <td>0.016259</td>\n",
       "      <td>0.700627</td>\n",
       "      <td>0.014821</td>\n",
       "      <td>0.755553</td>\n",
       "      <td>0.021032</td>\n",
       "    </tr>\n",
       "    <tr>\n",
       "      <th>cifar10</th>\n",
       "      <td>0.923608</td>\n",
       "      <td>0.025776</td>\n",
       "      <td>0.957453</td>\n",
       "      <td>0.013355</td>\n",
       "      <td>0.913235</td>\n",
       "      <td>0.027572</td>\n",
       "    </tr>\n",
       "    <tr>\n",
       "      <th>imagenet</th>\n",
       "      <td>0.743026</td>\n",
       "      <td>0.010852</td>\n",
       "      <td>0.758792</td>\n",
       "      <td>0.010655</td>\n",
       "      <td>0.794354</td>\n",
       "      <td>0.010428</td>\n",
       "    </tr>\n",
       "  </tbody>\n",
       "</table>\n",
       "</div>"
      ],
      "text/plain": [
       "                    MCM   MCM-std       ZOC   ZOC-std  LOGISTIC  LOGISTIC-std\n",
       "name                                                                         \n",
       "mnist          0.529103  0.037412  0.536436  0.132665  0.938369      0.026611\n",
       "gtsrb          0.566542  0.065261  0.541935  0.109549  0.791403      0.049798\n",
       "fashion mnist  0.741620  0.054405  0.800603  0.084744  0.725776      0.111009\n",
       "caltech101     0.882819  0.030806  0.866118  0.059928  0.920760      0.030890\n",
       "dtd            0.678434  0.037523  0.674364  0.044412  0.806957      0.026203\n",
       "svhn           0.530232  0.029659  0.554077  0.035012  0.677759      0.035719\n",
       "flowers102     0.793749  0.038186  0.829306  0.032651  0.924690      0.021186\n",
       "cifar100       0.744651  0.026052  0.772430  0.020373  0.787528      0.017793\n",
       "stanford cars  0.742091  0.015073  0.734188  0.016646  0.778580      0.016526\n",
       "caltech cub    0.725746  0.016259  0.700627  0.014821  0.755553      0.021032\n",
       "cifar10        0.923608  0.025776  0.957453  0.013355  0.913235      0.027572\n",
       "imagenet       0.743026  0.010852  0.758792  0.010655  0.794354      0.010428"
      ]
     },
     "execution_count": 21,
     "metadata": {},
     "output_type": "execute_result"
    }
   ],
   "source": [
    "full_near.sort_values('ZOC-std', ascending=False)"
   ]
  },
  {
   "cell_type": "code",
   "execution_count": 22,
   "id": "9dcada97-3c5b-4250-9414-b9b6b81aa3a7",
   "metadata": {},
   "outputs": [
    {
     "data": {
      "text/html": [
       "<div>\n",
       "<style scoped>\n",
       "    .dataframe tbody tr th:only-of-type {\n",
       "        vertical-align: middle;\n",
       "    }\n",
       "\n",
       "    .dataframe tbody tr th {\n",
       "        vertical-align: top;\n",
       "    }\n",
       "\n",
       "    .dataframe thead th {\n",
       "        text-align: right;\n",
       "    }\n",
       "</style>\n",
       "<table border=\"1\" class=\"dataframe\">\n",
       "  <thead>\n",
       "    <tr style=\"text-align: right;\">\n",
       "      <th></th>\n",
       "      <th>MCM</th>\n",
       "      <th>ZOC</th>\n",
       "      <th>LOGISTIC</th>\n",
       "    </tr>\n",
       "  </thead>\n",
       "  <tbody>\n",
       "    <tr>\n",
       "      <th>MCM</th>\n",
       "      <td>1.000</td>\n",
       "      <td>0.981</td>\n",
       "      <td>0.401</td>\n",
       "    </tr>\n",
       "    <tr>\n",
       "      <th>ZOC</th>\n",
       "      <td>0.981</td>\n",
       "      <td>1.000</td>\n",
       "      <td>0.368</td>\n",
       "    </tr>\n",
       "    <tr>\n",
       "      <th>LOGISTIC</th>\n",
       "      <td>0.401</td>\n",
       "      <td>0.368</td>\n",
       "      <td>1.000</td>\n",
       "    </tr>\n",
       "  </tbody>\n",
       "</table>\n",
       "</div>"
      ],
      "text/plain": [
       "            MCM    ZOC  LOGISTIC\n",
       "MCM       1.000  0.981     0.401\n",
       "ZOC       0.981  1.000     0.368\n",
       "LOGISTIC  0.401  0.368     1.000"
      ]
     },
     "execution_count": 22,
     "metadata": {},
     "output_type": "execute_result"
    }
   ],
   "source": [
    "full_near[['MCM', 'ZOC', 'LOGISTIC']].corr().round(3)"
   ]
  },
  {
   "cell_type": "code",
   "execution_count": 23,
   "id": "406818ab-1186-4077-b9c0-88b66a315152",
   "metadata": {},
   "outputs": [
    {
     "data": {
      "text/plain": [
       "MCM             0.717\n",
       "ZOC             0.727\n",
       "LOGISTIC        0.818\n",
       "MCM-std         0.032\n",
       "ZOC-std         0.048\n",
       "LOGISTIC-std    0.033\n",
       "dtype: float64"
      ]
     },
     "execution_count": 23,
     "metadata": {},
     "output_type": "execute_result"
    }
   ],
   "source": [
    "full_near[['MCM', 'ZOC', 'LOGISTIC', 'MCM-std', 'ZOC-std', 'LOGISTIC-std']].mean().round(3)"
   ]
  },
  {
   "cell_type": "markdown",
   "id": "6264302f-aeb0-4877-b383-c2e9a200256b",
   "metadata": {},
   "source": [
    "#### Without the shitty ones, not that bad"
   ]
  },
  {
   "cell_type": "code",
   "execution_count": 24,
   "id": "8fa229ab-b62b-464d-8d90-51fe6e989675",
   "metadata": {},
   "outputs": [
    {
     "data": {
      "text/plain": [
       "MCM         0.775\n",
       "ZOC         0.788\n",
       "LOGISTIC    0.823\n",
       "dtype: float64"
      ]
     },
     "execution_count": 24,
     "metadata": {},
     "output_type": "execute_result"
    }
   ],
   "source": [
    "full_near.drop(['mnist', 'svhn', 'gtsrb'])[['MCM', 'ZOC', 'LOGISTIC']].mean().round(3)"
   ]
  },
  {
   "cell_type": "code",
   "execution_count": 25,
   "id": "c0dad94f-4633-4a41-892b-f2e62f39bd27",
   "metadata": {},
   "outputs": [],
   "source": [
    "def f(x,y):\n",
    "    return x-y\n",
    "differences = full_near.copy()\n",
    "differences['ZOC-MCM'] = differences.apply(lambda x: f(x.ZOC,x.MCM), axis=1)\n",
    "differences['LOGISTIC-ZOC'] = differences.apply(lambda x: f(x.LOGISTIC,x.ZOC), axis=1)\n"
   ]
  },
  {
   "cell_type": "code",
   "execution_count": 26,
   "id": "d40b84f1-dc5f-44fc-8a27-3b7e1680c1a3",
   "metadata": {},
   "outputs": [
    {
     "data": {
      "text/plain": [
       "MCM             0.741620\n",
       "MCM-std         0.054405\n",
       "ZOC             0.800603\n",
       "ZOC-std         0.084744\n",
       "LOGISTIC        0.725776\n",
       "LOGISTIC-std    0.111009\n",
       "ZOC-MCM         0.058983\n",
       "LOGISTIC-ZOC   -0.074828\n",
       "Name: fashion mnist, dtype: float64"
      ]
     },
     "execution_count": 26,
     "metadata": {},
     "output_type": "execute_result"
    }
   ],
   "source": [
    "differences.loc[differences['ZOC-MCM'].idxmax()]"
   ]
  },
  {
   "cell_type": "code",
   "execution_count": 27,
   "id": "1843b27b-7598-4952-89a9-309e860a7415",
   "metadata": {},
   "outputs": [
    {
     "data": {
      "text/plain": [
       "MCM             0.529103\n",
       "MCM-std         0.037412\n",
       "ZOC             0.536436\n",
       "ZOC-std         0.132665\n",
       "LOGISTIC        0.938369\n",
       "LOGISTIC-std    0.026611\n",
       "ZOC-MCM         0.007333\n",
       "LOGISTIC-ZOC    0.401933\n",
       "Name: mnist, dtype: float64"
      ]
     },
     "execution_count": 27,
     "metadata": {},
     "output_type": "execute_result"
    }
   ],
   "source": [
    "differences.loc[differences['LOGISTIC-ZOC'].idxmax()]"
   ]
  },
  {
   "cell_type": "code",
   "execution_count": 28,
   "id": "4fa4501f-b62f-4092-83c1-70f99c0920e1",
   "metadata": {},
   "outputs": [
    {
     "data": {
      "text/plain": [
       "name\n",
       "cifar10     0.957453\n",
       "cifar100    0.772430\n",
       "imagenet    0.758792\n",
       "Name: ZOC, dtype: float64"
      ]
     },
     "execution_count": 28,
     "metadata": {},
     "output_type": "execute_result"
    }
   ],
   "source": [
    "full_near.loc[['cifar10', 'cifar100', 'imagenet']]['ZOC']"
   ]
  },
  {
   "cell_type": "code",
   "execution_count": 29,
   "id": "8dedbe27-73e6-4417-92a3-88f69452bbd3",
   "metadata": {},
   "outputs": [
    {
     "name": "stderr",
     "output_type": "stream",
     "text": [
      "/tmp/ipykernel_852/1003074664.py:7: MatplotlibDeprecationWarning: Support for passing numbers through unit converters is deprecated since 3.5 and support will be removed two minor releases later; use Axis.convert_units instead.\n",
      "  ax.vlines([range(len(full_near))], ymin=0, ymax=full_near.max(axis=1),color='darkgrey', alpha=0.6)\n",
      "/tmp/ipykernel_852/1003074664.py:10: UserWarning: FixedFormatter should only be used together with FixedLocator\n",
      "  ax.set_xticklabels([name_mapping[ind] for ind in full_near.index], rotation=45, ha='right')\n"
     ]
    },
    {
     "data": {
      "image/png": "[encoded data removed]",
      "text/plain": [
       "<Figure size 425.197x226.772 with 1 Axes>"
      ]
     },
     "metadata": {},
     "output_type": "display_data"
    },
    {
     "name": "stdout",
     "output_type": "stream",
     "text": [
      "Saved to /mnt/c/Users/fmeyer/Git/ood-detection/data/plots/tickz/5_2\n",
      "Saved to /mnt/c/Users/fmeyer/Git/ood-detection/data/plots/svg/5_2\n",
      "Saved to /mnt/c/Users/fmeyer/Git/ood-detection/data/plots/5_2\n"
     ]
    },
    {
     "data": {
      "text/plain": [
       "True"
      ]
     },
     "execution_count": 29,
     "metadata": {},
     "output_type": "execute_result"
    },
    {
     "data": {
      "text/plain": [
       "<Figure size 432x288 with 0 Axes>"
      ]
     },
     "metadata": {},
     "output_type": "display_data"
    }
   ],
   "source": [
    "fig, ax = plt.subplots(figsize=figsize)\n",
    "plot_errorbar(full_near, 'MCM')\n",
    "plot_errorbar(full_near, 'ZOC')\n",
    "plot_errorbar(full_near, 'LOGISTIC')\n",
    "\n",
    "ax.hlines(0.5, xmin=-.5, xmax=[len(full_near)-1], colors='darkgrey', alpha=0.9, linestyles='--', lw=2, label='Uninformed Guesser')\n",
    "ax.vlines([range(len(full_near))], ymin=0, ymax=full_near.max(axis=1),color='darkgrey', alpha=0.6)\n",
    "\n",
    "ax.set_ylim(0.2,1.1)\n",
    "ax.set_xticklabels([name_mapping[ind] for ind in full_near.index], rotation=45, ha='right')\n",
    "ax.legend(loc='lower left', fontsize=7)\n",
    "ax.set_xlabel('ID / OOD Dataset')\n",
    "ax.set_ylabel('AUROC')\n",
    "#ax.set_title('Zero-shot and fine-tuned OOD Detection')\n",
    "plt.tight_layout()\n",
    "plt.show()\n",
    "save_plot(fig, 'nearComparisonMZL', '5_2', False)"
   ]
  },
  {
   "cell_type": "markdown",
   "id": "108deaab-f922-46b3-bee5-291c5f5bc225",
   "metadata": {},
   "source": [
    "# Get correletions"
   ]
  },
  {
   "cell_type": "code",
   "execution_count": 30,
   "id": "16440192-a902-4811-8a04-128ab94b0c4d",
   "metadata": {},
   "outputs": [],
   "source": [
    "from scipy import stats\n",
    "def line(x, y):\n",
    "    slope, intercept, r_value, p_value, std_err = stats.linregress(x,y)\n",
    "    return x * slope + intercept \n",
    "def plot_line(x,y):\n",
    "    new_y = line(x,y)\n",
    "    ax.plot(x,new_y)"
   ]
  },
  {
   "cell_type": "code",
   "execution_count": 31,
   "id": "c91b8427-dd65-4098-a1c7-85a03077aa24",
   "metadata": {},
   "outputs": [],
   "source": [
    "log_class = get_history_from_project('thesis-classification-logistic')\n",
    "log_class.rename(columns={'Acc': 'Logistic Accuracy'})\n",
    "zsa_class = tip_df = get_history_from_project('thesis-tip-adapters-16_shots-test')['ZEROSHOT']\n"
   ]
  },
  {
   "cell_type": "code",
   "execution_count": 32,
   "id": "dd175e74-d891-4fd6-9124-93cea3bf6637",
   "metadata": {},
   "outputs": [],
   "source": [
    "to_plot = ['ZOC','MCM', 'LOGISTIC']\n",
    "corr_df = pd.concat([full_near[to_plot], zsa_class], axis=1)\n",
    "corr_df.sort_values('ZEROSHOT', inplace=True)"
   ]
  },
  {
   "cell_type": "code",
   "execution_count": 33,
   "id": "7045d598-1b5c-49d7-9498-0151c1abe781",
   "metadata": {},
   "outputs": [
    {
     "data": {
      "text/html": [
       "<div>\n",
       "<style scoped>\n",
       "    .dataframe tbody tr th:only-of-type {\n",
       "        vertical-align: middle;\n",
       "    }\n",
       "\n",
       "    .dataframe tbody tr th {\n",
       "        vertical-align: top;\n",
       "    }\n",
       "\n",
       "    .dataframe thead th {\n",
       "        text-align: right;\n",
       "    }\n",
       "</style>\n",
       "<table border=\"1\" class=\"dataframe\">\n",
       "  <thead>\n",
       "    <tr style=\"text-align: right;\">\n",
       "      <th></th>\n",
       "      <th>ZOC</th>\n",
       "      <th>MCM</th>\n",
       "      <th>LOGISTIC</th>\n",
       "      <th>ZEROSHOT</th>\n",
       "    </tr>\n",
       "  </thead>\n",
       "  <tbody>\n",
       "    <tr>\n",
       "      <th>ZOC</th>\n",
       "      <td>1.000000</td>\n",
       "      <td>0.980546</td>\n",
       "      <td>0.367919</td>\n",
       "      <td>0.928218</td>\n",
       "    </tr>\n",
       "    <tr>\n",
       "      <th>MCM</th>\n",
       "      <td>0.980546</td>\n",
       "      <td>1.000000</td>\n",
       "      <td>0.401213</td>\n",
       "      <td>0.933914</td>\n",
       "    </tr>\n",
       "    <tr>\n",
       "      <th>LOGISTIC</th>\n",
       "      <td>0.367919</td>\n",
       "      <td>0.401213</td>\n",
       "      <td>1.000000</td>\n",
       "      <td>0.601523</td>\n",
       "    </tr>\n",
       "    <tr>\n",
       "      <th>ZEROSHOT</th>\n",
       "      <td>0.928218</td>\n",
       "      <td>0.933914</td>\n",
       "      <td>0.601523</td>\n",
       "      <td>1.000000</td>\n",
       "    </tr>\n",
       "  </tbody>\n",
       "</table>\n",
       "</div>"
      ],
      "text/plain": [
       "               ZOC       MCM  LOGISTIC  ZEROSHOT\n",
       "ZOC       1.000000  0.980546  0.367919  0.928218\n",
       "MCM       0.980546  1.000000  0.401213  0.933914\n",
       "LOGISTIC  0.367919  0.401213  1.000000  0.601523\n",
       "ZEROSHOT  0.928218  0.933914  0.601523  1.000000"
      ]
     },
     "execution_count": 33,
     "metadata": {},
     "output_type": "execute_result"
    }
   ],
   "source": [
    "corr_df.corr()"
   ]
  },
  {
   "cell_type": "code",
   "execution_count": 34,
   "id": "adb3213b-171c-48ca-8acb-4df63236d840",
   "metadata": {},
   "outputs": [
    {
     "data": {
      "image/png": "[encoded data removed]",
      "text/plain": [
       "<Figure size 212.598x226.772 with 1 Axes>"
      ]
     },
     "metadata": {},
     "output_type": "display_data"
    },
    {
     "name": "stdout",
     "output_type": "stream",
     "text": [
      "Saved to /mnt/c/Users/fmeyer/Git/ood-detection/data/plots/tickz/5_2\n",
      "Saved to /mnt/c/Users/fmeyer/Git/ood-detection/data/plots/svg/5_2\n",
      "Saved to /mnt/c/Users/fmeyer/Git/ood-detection/data/plots/5_2\n"
     ]
    },
    {
     "data": {
      "text/plain": [
       "True"
      ]
     },
     "execution_count": 34,
     "metadata": {},
     "output_type": "execute_result"
    },
    {
     "data": {
      "text/plain": [
       "<Figure size 432x288 with 0 Axes>"
      ]
     },
     "metadata": {},
     "output_type": "display_data"
    }
   ],
   "source": [
    "fig, ax = plt.subplots(figsize=halffigsize)\n",
    "x = corr_df['ZEROSHOT']\n",
    "y1 = corr_df['MCM']\n",
    "y2 = corr_df['ZOC']\n",
    "y3 = corr_df['LOGISTIC']\n",
    "\n",
    "plot_line(x,y1)\n",
    "plot_line(x,y2)\n",
    "# ax.scatter(x, y1, label= f\"MCM (r = {corr_df.corr()['ZEROSHOT']['MCM'].round(2)}) \")\n",
    "# ax.scatter(x, y2, label= f\"ZOC (r = {corr_df.corr()['ZEROSHOT']['ZOC'].round(2)}) \")\n",
    "ax.scatter(x, y1, label= f\"MCM\")\n",
    "ax.scatter(x, y2, label= f\"ZOC\")\n",
    "# ax.set_ylim(0.2,1.1)\n",
    "# ax.set_xticklabels(corr_df.index, rotation=45, ha='right')\n",
    "ax.legend(loc='upper left', fontsize=7)\n",
    "ax.set_xlabel('Zero-Shot Accuracy')\n",
    "ax.set_ylabel('AUROC')\n",
    "plt.tight_layout()\n",
    "#plt.title('Correlation with Zero-Shot Accuracy')\n",
    "plt.show()\n",
    "save_plot(fig, 'corr_with_zsa', '5_2', False)"
   ]
  },
  {
   "cell_type": "markdown",
   "id": "f3cd0c2e-8638-4717-bc36-338413da4731",
   "metadata": {
    "tags": []
   },
   "source": [
    "### Distances corr"
   ]
  },
  {
   "cell_type": "code",
   "execution_count": 35,
   "id": "d30e9820-9a6b-49db-892f-531d0dce9d3f",
   "metadata": {},
   "outputs": [],
   "source": [
    "clp = get_history_from_project('thesis-clp-temperature-100runs')\n",
    "mmd = get_history_from_project('thesis-mmd-100')\n",
    "clp_one_temp = clp[(clp['temperature'] < 1.13) & (clp['temperature'] > 0.98)]\n",
    "clp_one_temp = clp_one_temp.drop(['temperature', 'std'], axis=1)\n",
    "mmd = mmd.drop('std', axis=1)\n",
    "distances = pd.concat([mmd, clp_one_temp], axis=1)"
   ]
  },
  {
   "cell_type": "code",
   "execution_count": 36,
   "id": "358b9316-9511-4606-afdc-737eeb4819a8",
   "metadata": {},
   "outputs": [],
   "source": [
    "# quick add zsa...\n",
    "# get zsa... tip_df = get_history_from_project('thesis-tip-adapters-16_shots-test')\n",
    "tip_df = get_history_from_project('thesis-tip-adapters-16_shots-test')\n",
    "#add zsa to distances\n"
   ]
  },
  {
   "cell_type": "code",
   "execution_count": 37,
   "id": "2de29041-ed6b-4ae6-9820-67d1aa5ed707",
   "metadata": {
    "tags": []
   },
   "outputs": [],
   "source": [
    "to_plot = ['ZOC','MCM', 'LOGISTIC']\n",
    "distances_df = pd.concat([full_near[to_plot], distances], axis=1)\n",
    "distances_df['ZSA'] = distances_df.apply(lambda x: tip_df['ZEROSHOT'][x.name], axis=1)\n",
    "distances_df = distances_df.sort_values('clp')"
   ]
  },
  {
   "cell_type": "code",
   "execution_count": 38,
   "id": "c73e8401-04c8-4efe-871b-fd3d13a55ff6",
   "metadata": {},
   "outputs": [
    {
     "data": {
      "text/plain": [
       "ZOC          0.957453\n",
       "MCM          0.923608\n",
       "LOGISTIC     0.938369\n",
       "mmd          0.034768\n",
       "clp         -0.954776\n",
       "ZSA         89.830000\n",
       "dtype: float64"
      ]
     },
     "execution_count": 38,
     "metadata": {},
     "output_type": "execute_result"
    }
   ],
   "source": [
    "distances_df.max()"
   ]
  },
  {
   "cell_type": "code",
   "execution_count": 39,
   "id": "107f6c81-df3b-4c68-9d3c-d67cb1b68121",
   "metadata": {},
   "outputs": [
    {
     "data": {
      "text/plain": [
       "ZOC          0.536436\n",
       "MCM          0.529103\n",
       "LOGISTIC     0.677759\n",
       "mmd          0.001023\n",
       "clp         -2.486477\n",
       "ZSA         24.946220\n",
       "dtype: float64"
      ]
     },
     "execution_count": 39,
     "metadata": {},
     "output_type": "execute_result"
    }
   ],
   "source": [
    "distances_df.min()"
   ]
  },
  {
   "cell_type": "code",
   "execution_count": 40,
   "id": "85a65665-a0f2-463f-99d5-0187e7ec1aca",
   "metadata": {},
   "outputs": [
    {
     "data": {
      "text/html": [
       "<div>\n",
       "<style scoped>\n",
       "    .dataframe tbody tr th:only-of-type {\n",
       "        vertical-align: middle;\n",
       "    }\n",
       "\n",
       "    .dataframe tbody tr th {\n",
       "        vertical-align: top;\n",
       "    }\n",
       "\n",
       "    .dataframe thead th {\n",
       "        text-align: right;\n",
       "    }\n",
       "</style>\n",
       "<table border=\"1\" class=\"dataframe\">\n",
       "  <thead>\n",
       "    <tr style=\"text-align: right;\">\n",
       "      <th></th>\n",
       "      <th>ZOC</th>\n",
       "      <th>MCM</th>\n",
       "      <th>LOGISTIC</th>\n",
       "      <th>mmd</th>\n",
       "      <th>clp</th>\n",
       "      <th>ZSA</th>\n",
       "    </tr>\n",
       "    <tr>\n",
       "      <th>name</th>\n",
       "      <th></th>\n",
       "      <th></th>\n",
       "      <th></th>\n",
       "      <th></th>\n",
       "      <th></th>\n",
       "      <th></th>\n",
       "    </tr>\n",
       "  </thead>\n",
       "  <tbody>\n",
       "    <tr>\n",
       "      <th>cifar10</th>\n",
       "      <td>0.957453</td>\n",
       "      <td>0.923608</td>\n",
       "      <td>0.913235</td>\n",
       "      <td>0.034768</td>\n",
       "      <td>-2.486477</td>\n",
       "      <td>89.830000</td>\n",
       "    </tr>\n",
       "    <tr>\n",
       "      <th>caltech101</th>\n",
       "      <td>0.866118</td>\n",
       "      <td>0.882819</td>\n",
       "      <td>0.920760</td>\n",
       "      <td>0.032801</td>\n",
       "      <td>-2.452318</td>\n",
       "      <td>83.232498</td>\n",
       "    </tr>\n",
       "    <tr>\n",
       "      <th>fashion mnist</th>\n",
       "      <td>0.800603</td>\n",
       "      <td>0.741620</td>\n",
       "      <td>0.725776</td>\n",
       "      <td>0.019312</td>\n",
       "      <td>-1.764627</td>\n",
       "      <td>59.560000</td>\n",
       "    </tr>\n",
       "    <tr>\n",
       "      <th>flowers102</th>\n",
       "      <td>0.829306</td>\n",
       "      <td>0.793749</td>\n",
       "      <td>0.924690</td>\n",
       "      <td>0.009622</td>\n",
       "      <td>-1.698843</td>\n",
       "      <td>66.449829</td>\n",
       "    </tr>\n",
       "    <tr>\n",
       "      <th>imagenet</th>\n",
       "      <td>0.758792</td>\n",
       "      <td>0.743026</td>\n",
       "      <td>0.794354</td>\n",
       "      <td>0.002499</td>\n",
       "      <td>-1.599292</td>\n",
       "      <td>62.840000</td>\n",
       "    </tr>\n",
       "    <tr>\n",
       "      <th>cifar100</th>\n",
       "      <td>0.772430</td>\n",
       "      <td>0.744651</td>\n",
       "      <td>0.787528</td>\n",
       "      <td>0.003711</td>\n",
       "      <td>-1.538185</td>\n",
       "      <td>64.230000</td>\n",
       "    </tr>\n",
       "    <tr>\n",
       "      <th>stanford cars</th>\n",
       "      <td>0.734188</td>\n",
       "      <td>0.742091</td>\n",
       "      <td>0.778580</td>\n",
       "      <td>0.004775</td>\n",
       "      <td>-1.494263</td>\n",
       "      <td>59.731377</td>\n",
       "    </tr>\n",
       "    <tr>\n",
       "      <th>caltech cub</th>\n",
       "      <td>0.700627</td>\n",
       "      <td>0.725746</td>\n",
       "      <td>0.755553</td>\n",
       "      <td>0.004373</td>\n",
       "      <td>-1.394891</td>\n",
       "      <td>52.157404</td>\n",
       "    </tr>\n",
       "    <tr>\n",
       "      <th>dtd</th>\n",
       "      <td>0.674364</td>\n",
       "      <td>0.678434</td>\n",
       "      <td>0.806957</td>\n",
       "      <td>0.010762</td>\n",
       "      <td>-1.308142</td>\n",
       "      <td>43.882979</td>\n",
       "    </tr>\n",
       "    <tr>\n",
       "      <th>gtsrb</th>\n",
       "      <td>0.541935</td>\n",
       "      <td>0.566542</td>\n",
       "      <td>0.791403</td>\n",
       "      <td>0.009100</td>\n",
       "      <td>-1.082986</td>\n",
       "      <td>32.319873</td>\n",
       "    </tr>\n",
       "    <tr>\n",
       "      <th>svhn</th>\n",
       "      <td>0.554077</td>\n",
       "      <td>0.530232</td>\n",
       "      <td>0.677759</td>\n",
       "      <td>0.001023</td>\n",
       "      <td>-0.997723</td>\n",
       "      <td>24.946220</td>\n",
       "    </tr>\n",
       "    <tr>\n",
       "      <th>mnist</th>\n",
       "      <td>0.536436</td>\n",
       "      <td>0.529103</td>\n",
       "      <td>0.938369</td>\n",
       "      <td>0.003381</td>\n",
       "      <td>-0.954776</td>\n",
       "      <td>48.220000</td>\n",
       "    </tr>\n",
       "  </tbody>\n",
       "</table>\n",
       "</div>"
      ],
      "text/plain": [
       "                    ZOC       MCM  LOGISTIC       mmd       clp        ZSA\n",
       "name                                                                      \n",
       "cifar10        0.957453  0.923608  0.913235  0.034768 -2.486477  89.830000\n",
       "caltech101     0.866118  0.882819  0.920760  0.032801 -2.452318  83.232498\n",
       "fashion mnist  0.800603  0.741620  0.725776  0.019312 -1.764627  59.560000\n",
       "flowers102     0.829306  0.793749  0.924690  0.009622 -1.698843  66.449829\n",
       "imagenet       0.758792  0.743026  0.794354  0.002499 -1.599292  62.840000\n",
       "cifar100       0.772430  0.744651  0.787528  0.003711 -1.538185  64.230000\n",
       "stanford cars  0.734188  0.742091  0.778580  0.004775 -1.494263  59.731377\n",
       "caltech cub    0.700627  0.725746  0.755553  0.004373 -1.394891  52.157404\n",
       "dtd            0.674364  0.678434  0.806957  0.010762 -1.308142  43.882979\n",
       "gtsrb          0.541935  0.566542  0.791403  0.009100 -1.082986  32.319873\n",
       "svhn           0.554077  0.530232  0.677759  0.001023 -0.997723  24.946220\n",
       "mnist          0.536436  0.529103  0.938369  0.003381 -0.954776  48.220000"
      ]
     },
     "execution_count": 40,
     "metadata": {},
     "output_type": "execute_result"
    }
   ],
   "source": [
    "distances_df"
   ]
  },
  {
   "cell_type": "code",
   "execution_count": 41,
   "id": "719ea763-1e27-48fa-afbe-b0fb39c1c239",
   "metadata": {
    "tags": []
   },
   "outputs": [
    {
     "data": {
      "text/html": [
       "<div>\n",
       "<style scoped>\n",
       "    .dataframe tbody tr th:only-of-type {\n",
       "        vertical-align: middle;\n",
       "    }\n",
       "\n",
       "    .dataframe tbody tr th {\n",
       "        vertical-align: top;\n",
       "    }\n",
       "\n",
       "    .dataframe thead th {\n",
       "        text-align: right;\n",
       "    }\n",
       "</style>\n",
       "<table border=\"1\" class=\"dataframe\">\n",
       "  <thead>\n",
       "    <tr style=\"text-align: right;\">\n",
       "      <th></th>\n",
       "      <th>ZOC</th>\n",
       "      <th>MCM</th>\n",
       "      <th>LOGISTIC</th>\n",
       "      <th>mmd</th>\n",
       "      <th>clp</th>\n",
       "      <th>ZSA</th>\n",
       "    </tr>\n",
       "  </thead>\n",
       "  <tbody>\n",
       "    <tr>\n",
       "      <th>ZOC</th>\n",
       "      <td>1.00</td>\n",
       "      <td>0.98</td>\n",
       "      <td>0.37</td>\n",
       "      <td>0.71</td>\n",
       "      <td>-0.94</td>\n",
       "      <td>0.93</td>\n",
       "    </tr>\n",
       "    <tr>\n",
       "      <th>MCM</th>\n",
       "      <td>0.98</td>\n",
       "      <td>1.00</td>\n",
       "      <td>0.40</td>\n",
       "      <td>0.72</td>\n",
       "      <td>-0.95</td>\n",
       "      <td>0.93</td>\n",
       "    </tr>\n",
       "    <tr>\n",
       "      <th>LOGISTIC</th>\n",
       "      <td>0.37</td>\n",
       "      <td>0.40</td>\n",
       "      <td>1.00</td>\n",
       "      <td>0.47</td>\n",
       "      <td>-0.45</td>\n",
       "      <td>0.60</td>\n",
       "    </tr>\n",
       "    <tr>\n",
       "      <th>mmd</th>\n",
       "      <td>0.71</td>\n",
       "      <td>0.72</td>\n",
       "      <td>0.47</td>\n",
       "      <td>1.00</td>\n",
       "      <td>-0.87</td>\n",
       "      <td>0.71</td>\n",
       "    </tr>\n",
       "    <tr>\n",
       "      <th>clp</th>\n",
       "      <td>-0.94</td>\n",
       "      <td>-0.95</td>\n",
       "      <td>-0.45</td>\n",
       "      <td>-0.87</td>\n",
       "      <td>1.00</td>\n",
       "      <td>-0.92</td>\n",
       "    </tr>\n",
       "    <tr>\n",
       "      <th>ZSA</th>\n",
       "      <td>0.93</td>\n",
       "      <td>0.93</td>\n",
       "      <td>0.60</td>\n",
       "      <td>0.71</td>\n",
       "      <td>-0.92</td>\n",
       "      <td>1.00</td>\n",
       "    </tr>\n",
       "  </tbody>\n",
       "</table>\n",
       "</div>"
      ],
      "text/plain": [
       "           ZOC   MCM  LOGISTIC   mmd   clp   ZSA\n",
       "ZOC       1.00  0.98      0.37  0.71 -0.94  0.93\n",
       "MCM       0.98  1.00      0.40  0.72 -0.95  0.93\n",
       "LOGISTIC  0.37  0.40      1.00  0.47 -0.45  0.60\n",
       "mmd       0.71  0.72      0.47  1.00 -0.87  0.71\n",
       "clp      -0.94 -0.95     -0.45 -0.87  1.00 -0.92\n",
       "ZSA       0.93  0.93      0.60  0.71 -0.92  1.00"
      ]
     },
     "execution_count": 41,
     "metadata": {},
     "output_type": "execute_result"
    }
   ],
   "source": [
    "distances_df.corr().round(2)"
   ]
  },
  {
   "cell_type": "code",
   "execution_count": 42,
   "id": "05716c56-c2d2-4211-b3c2-ccccfb282ca7",
   "metadata": {
    "tags": []
   },
   "outputs": [
    {
     "data": {
      "image/png": "[encoded data removed]",
      "text/plain": [
       "<Figure size 212.598x226.772 with 1 Axes>"
      ]
     },
     "metadata": {},
     "output_type": "display_data"
    },
    {
     "name": "stdout",
     "output_type": "stream",
     "text": [
      "Saved to /mnt/c/Users/fmeyer/Git/ood-detection/data/plots/tickz/5_2\n",
      "Saved to /mnt/c/Users/fmeyer/Git/ood-detection/data/plots/svg/5_2\n",
      "Saved to /mnt/c/Users/fmeyer/Git/ood-detection/data/plots/5_2\n"
     ]
    },
    {
     "data": {
      "text/plain": [
       "True"
      ]
     },
     "execution_count": 42,
     "metadata": {},
     "output_type": "execute_result"
    },
    {
     "data": {
      "text/plain": [
       "<Figure size 432x288 with 0 Axes>"
      ]
     },
     "metadata": {},
     "output_type": "display_data"
    }
   ],
   "source": [
    "fig, ax = plt.subplots(figsize=halffigsize)\n",
    "x = distances_df['clp']\n",
    "y1 = distances_df['MCM']\n",
    "y2 = distances_df['ZOC']\n",
    "y3 = distances_df['LOGISTIC']\n",
    "\n",
    "plot_line(x,y1)\n",
    "plot_line(x,y2)\n",
    "\n",
    "# the points\n",
    "# ax.scatter(x, y1, label= f\"MCM (r = {distances_df.corr()['clp']['MCM'].round(2)}) \")\n",
    "# ax.scatter(x, y2, label= f\"ZOC (r = {distances_df.corr()['clp']['ZOC'].round(2)}) \")\n",
    "ax.scatter(x, y1, label= f\"MCM\")\n",
    "ax.scatter(x, y2, label= f\"ZOC\")\n",
    "# config stuff\n",
    "# ax.set_ylim(0.2,1.1)\n",
    "# ax.set_xticklabels(corr_df.index, rotation=45, ha='right')\n",
    "ax.legend(loc='upper right', fontsize=7)\n",
    "ax.set_xlabel('Confusion Log Probability')\n",
    "ax.set_ylabel('AUROC')\n",
    "plt.tight_layout()\n",
    "# plt.title('Correlation with CLP')\n",
    "plt.show()\n",
    "save_plot(fig, 'corr_with_clp', '5_2', False)"
   ]
  },
  {
   "cell_type": "code",
   "execution_count": 43,
   "id": "5cb0ee5b-1ddc-4bbc-852b-a8e58271c6c9",
   "metadata": {},
   "outputs": [],
   "source": [
    "def plot_line(x,y,ax):\n",
    "    new_y = line(x,y)\n",
    "    ax.plot(x,new_y)"
   ]
  },
  {
   "cell_type": "code",
   "execution_count": 44,
   "id": "cb8e9040-9ed3-4a66-96fc-4dc9fd6b6e49",
   "metadata": {},
   "outputs": [
    {
     "data": {
      "image/png": "[encoded data removed]",
      "text/plain": [
       "<Figure size 425.197x226.772 with 2 Axes>"
      ]
     },
     "metadata": {},
     "output_type": "display_data"
    },
    {
     "name": "stdout",
     "output_type": "stream",
     "text": [
      "Saved to /mnt/c/Users/fmeyer/Git/ood-detection/data/plots/tickz/5_2\n",
      "Saved to /mnt/c/Users/fmeyer/Git/ood-detection/data/plots/svg/5_2\n",
      "Saved to /mnt/c/Users/fmeyer/Git/ood-detection/data/plots/5_2\n"
     ]
    },
    {
     "data": {
      "text/plain": [
       "True"
      ]
     },
     "execution_count": 44,
     "metadata": {},
     "output_type": "execute_result"
    },
    {
     "data": {
      "text/plain": [
       "<Figure size 432x288 with 0 Axes>"
      ]
     },
     "metadata": {},
     "output_type": "display_data"
    }
   ],
   "source": [
    "fig, axs = plt.subplots(ncols=2, figsize=figsize, sharey=True)\n",
    "x = corr_df['ZEROSHOT']\n",
    "y1 = corr_df['MCM']\n",
    "y2 = corr_df['ZOC']\n",
    "y3 = corr_df['LOGISTIC']\n",
    "\n",
    "plot_line(x,y1, axs[0])\n",
    "plot_line(x,y2, axs[0])\n",
    "# ax.scatter(x, y1, label= f\"MCM (r = {corr_df.corr()['ZEROSHOT']['MCM'].round(2)}) \")\n",
    "# ax.scatter(x, y2, label= f\"ZOC (r = {corr_df.corr()['ZEROSHOT']['ZOC'].round(2)}) \")\n",
    "axs[0].scatter(x, y1, label= f\"MCM\")\n",
    "axs[0].scatter(x, y2, label= f\"ZOC\")\n",
    "# ax.set_ylim(0.2,1.1)\n",
    "# ax.set_xticklabels(corr_df.index, rotation=45, ha='right')\n",
    "axs[0].legend(loc='upper left', fontsize=7)\n",
    "axs[0].set_xlabel('Zero-Shot Accuracy')\n",
    "axs[0].set_ylabel('AUROC')\n",
    "\n",
    "x = distances_df['clp']\n",
    "y1 = distances_df['MCM']\n",
    "y2 = distances_df['ZOC']\n",
    "y3 = distances_df['LOGISTIC']\n",
    "\n",
    "plot_line(x,y1, axs[1])\n",
    "plot_line(x,y2, axs[1])\n",
    "\n",
    "# the points\n",
    "# ax.scatter(x, y1, label= f\"MCM (r = {distances_df.corr()['clp']['MCM'].round(2)}) \")\n",
    "# ax.scatter(x, y2, label= f\"ZOC (r = {distances_df.corr()['clp']['ZOC'].round(2)}) \")\n",
    "axs[1].scatter(x, y1, label= f\"MCM\")\n",
    "axs[1].scatter(x, y2, label= f\"ZOC\")\n",
    "# config stuff\n",
    "# ax.set_ylim(0.2,1.1)\n",
    "# ax.set_xticklabels(corr_df.index, rotation=45, ha='right')\n",
    "axs[1].legend(loc='upper right', fontsize=7)\n",
    "axs[1].set_xlabel('Confusion Log Probability')\n",
    "\n",
    "\n",
    "plt.tight_layout()\n",
    "#plt.title('Correlation with Zero-Shot Accuracy')\n",
    "plt.show()\n",
    "save_plot(fig, 'corr_with_zsa_and_clp', '5_2', False)"
   ]
  },
  {
   "cell_type": "code",
   "execution_count": null,
   "id": "1332b39f-df91-45d1-89cd-3ff7d44856a8",
   "metadata": {},
   "outputs": [],
   "source": []
  }
 ],
 "metadata": {
  "kernelspec": {
   "display_name": "Python 3 (ipykernel)",
   "language": "python",
   "name": "python3"
  },
  "language_info": {
   "codemirror_mode": {
    "name": "ipython",
    "version": 3
   },
   "file_extension": ".py",
   "mimetype": "text/x-python",
   "name": "python",
   "nbconvert_exporter": "python",
   "pygments_lexer": "ipython3",
   "version": "3.8.13"
  }
 },
 "nbformat": 4,
 "nbformat_minor": 5
}
