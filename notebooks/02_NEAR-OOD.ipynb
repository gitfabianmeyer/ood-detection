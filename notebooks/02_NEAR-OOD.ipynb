{
 "cells": [
  {
   "cell_type": "code",
   "execution_count": null,
   "id": "e91330d8-f97b-47a0-b46b-2822cd4dace6",
   "metadata": {},
   "outputs": [],
   "source": [
    "%load_ext autoreload\n",
    "%autoreload 2\n",
    "\n",
    "import matplotlib.pyplot as plt\n",
    "# Configure Matplotlib to use LaTeX for text rendering\n",
    "plt.rcParams['text.usetex'] = True\n",
    "\n",
    "# Set fonts for Matplotlib\n",
    "plt.rcParams['font.serif'] = 'Palatino'\n",
    "plt.rcParams['font.sans-serif'] = 'Helvetica'\n",
    "plt.rcParams['font.monospace'] = 'Courier'\n",
    "plt.rcParams['font.size'] = 11\n",
    "\n",
    "width_cm = 15\n",
    "height_cm = 8\n",
    "# Convert centimeters to inches\n",
    "width_in = width_cm / 2.54\n",
    "height_in = height_cm / 2.54\n",
    "\n",
    "import seaborn as sns\n",
    "sns.set_theme()\n",
    "figsize= (width_in, height_in)\n",
    "halffigsize = (width_in/2, height_in)\n",
    "\n",
    "\n",
    "import os\n",
    "from metrics.plotting_utils import save_plot, get_history_from_project, save_csv, get_dataset_name_mapping\n",
    "import numpy as np\n",
    "import pandas as pd \n",
    "import wandb\n",
    "api = wandb.Api()\n",
    "from ood_detection.config import Config\n",
    "from datasets.config import DATASETS_DICT\n",
    "\n",
    "\n",
    "frame_name = \"thesis-zsoodd_10_runs-std\"\n",
    "name_mapping = get_dataset_name_mapping()\n",
    "aucs = ['auc-mean', 'auc-sum', 'auc-max']"
   ]
  },
  {
   "cell_type": "markdown",
   "id": "2bc32896-cc59-4936-85c1-981be2703870",
   "metadata": {},
   "source": [
    "## ZOC"
   ]
  },
  {
   "cell_type": "code",
   "execution_count": null,
   "id": "0781a01a-a985-4591-b8dd-7a44efad88b9",
   "metadata": {},
   "outputs": [],
   "source": [
    "full_zoc = get_history_from_project(frame_name)\n",
    "working_zoc = full_zoc.copy()\n",
    "working_zoc.drop([col for col in working_zoc.columns if col not in aucs], axis=1, inplace = True)"
   ]
  },
  {
   "cell_type": "code",
   "execution_count": null,
   "id": "839cdf2c-f708-4cb2-af06-d0d7c6caabde",
   "metadata": {},
   "outputs": [],
   "source": [
    "working_zoc.mean()"
   ]
  },
  {
   "cell_type": "markdown",
   "id": "fd5e52b1-f5ef-4e01-a3c0-70b8d3cc2963",
   "metadata": {},
   "source": [
    "## Finetuned Baseline"
   ]
  },
  {
   "cell_type": "code",
   "execution_count": null,
   "id": "e0d83631-5cb3-4c0b-a855-acb282fcf55e",
   "metadata": {},
   "outputs": [],
   "source": [
    "full_fine = get_history_from_project('thesis-ood_baseline-all-full_classes-test_sets')"
   ]
  },
  {
   "cell_type": "code",
   "execution_count": null,
   "id": "8aad9151-31d8-4e09-9393-e78b9ed4742a",
   "metadata": {},
   "outputs": [],
   "source": [
    "working_fine = full_fine.copy()"
   ]
  },
  {
   "cell_type": "code",
   "execution_count": null,
   "id": "07deae24-9df9-451d-bb19-e674bb95ec25",
   "metadata": {},
   "outputs": [],
   "source": [
    "working_fine.drop(['log_std', 'lin_std'], axis=1, inplace=True)"
   ]
  },
  {
   "cell_type": "code",
   "execution_count": null,
   "id": "fe9300e4-2f70-4162-b14a-902ec7615c15",
   "metadata": {},
   "outputs": [],
   "source": [
    "working_fine.mean()"
   ]
  },
  {
   "cell_type": "markdown",
   "id": "88dd4ae6-8772-4548-82bd-d87025117064",
   "metadata": {
    "tags": []
   },
   "source": [
    "## MCM"
   ]
  },
  {
   "cell_type": "code",
   "execution_count": null,
   "id": "554e23d4-61ae-4b1c-b349-b236723ca0ab",
   "metadata": {
    "tags": []
   },
   "outputs": [],
   "source": [
    "def get_all_finished_runs(methods, runs):\n",
    "    dfs = {}\n",
    "    for method in methods:\n",
    "        for run in runs:\n",
    "            if method == 'mls' and run != '1.0':\n",
    "                continue\n",
    "            name = method +'-'+ run\n",
    "            print(f\"Loading {name}\")\n",
    "            try:\n",
    "                df = prep_far_ood(name)\n",
    "                assert len(df) == 132\n",
    "                dfs[name] = df\n",
    "            except:\n",
    "                print(f\"{name} not finished yet\")\n",
    "                continue\n",
    "    return dfs\n",
    "def plot_errorbar(df, value_column):\n",
    "    error_corr = .5 * df[value_column + '-std']\n",
    "    lower = df[value_column] - error_corr\n",
    "    upper = df[value_column] + error_corr\n",
    "    if value_column=='LOGISTIC':\n",
    "        name= 'Fine-tuning + MSP'\n",
    "    else:\n",
    "        name=value_column\n",
    "    #mean = df[value_column].mean().round(3)\n",
    "    #std = u\"\\u00B1{})\".format(df[value_column+'-std'].mean().round(2))\n",
    "    #label = name + f' (\\u03bc= {mean}' + std\n",
    "    \n",
    "    ax.plot(df[value_column], label = name)\n",
    "    ax.plot(lower, color='tab:blue', alpha=.1)\n",
    "    ax.plot(upper, color='tab:blue', alpha=.1)\n",
    "    ax.fill_between(range(len(df)), lower, upper, alpha=.3)"
   ]
  },
  {
   "cell_type": "code",
   "execution_count": null,
   "id": "4f216814-357f-411a-b527-9931cb6f68a4",
   "metadata": {
    "tags": []
   },
   "outputs": [],
   "source": [
    "def prep_mcm(name):\n",
    "    full_name = f'thesis-near-mcm-{name}'\n",
    "    to_keep = ['auc-max', 'auc-max-std']\n",
    "    working_df = get_history_from_project(full_name)\n",
    "    working_df.drop([col for col in working_df.columns if col not in to_keep], axis=1,inplace = True)\n",
    "    working_df.rename(columns = {'auc-max': name.upper(), 'auc-max-std':name.upper()+'-std'}, inplace=True)\n",
    "    return working_df"
   ]
  },
  {
   "cell_type": "code",
   "execution_count": null,
   "id": "a44033be-e6c5-471f-8d19-22866f69ddda",
   "metadata": {},
   "outputs": [],
   "source": [
    "methods = ['mls-1.0', 'msp-0.01', 'msp-1.0','msp-100.0']\n",
    "full_mcm_df = pd.concat([prep_mcm(m) for m in methods], axis=1)\n"
   ]
  },
  {
   "cell_type": "code",
   "execution_count": null,
   "id": "a5b02e7f-cf93-4a6e-a2c4-0ff2fe01d5de",
   "metadata": {},
   "outputs": [],
   "source": [
    "full_mcm_df = full_mcm_df.sort_index()"
   ]
  },
  {
   "cell_type": "markdown",
   "id": "c4e3487a-fded-4faf-884d-798384f19eef",
   "metadata": {},
   "source": [
    "### Some Correlation & std metrics"
   ]
  },
  {
   "cell_type": "code",
   "execution_count": null,
   "id": "d695f787-1d97-416b-96e2-945f32d6b9f4",
   "metadata": {},
   "outputs": [],
   "source": [
    "full_mcm_df[['MLS-1.0-std', 'MSP-0.01-std', 'MSP-1.0-std', 'MSP-100.0-std']].mean().mean().round(3)"
   ]
  },
  {
   "cell_type": "code",
   "execution_count": null,
   "id": "95641d3e-3d62-4b2e-9365-0c2f58da52ec",
   "metadata": {},
   "outputs": [],
   "source": [
    "full_mcm_df[['MLS-1.0', 'MSP-0.01', 'MSP-1.0', 'MSP-100.0']].corr()"
   ]
  },
  {
   "cell_type": "code",
   "execution_count": null,
   "id": "376e7415-1e75-4a73-923b-ed39b7abab2e",
   "metadata": {
    "tags": []
   },
   "outputs": [],
   "source": [
    "fig, ax = plt.subplots(figsize=figsize)\n",
    "plot_errorbar(full_mcm_df, 'MLS-1.0')\n",
    "plot_errorbar(full_mcm_df, 'MSP-1.0')\n",
    "plot_errorbar(full_mcm_df, 'MSP-0.01')\n",
    "\n",
    "\n",
    "ax.hlines(0.5, xmin=-.5, xmax=[len(full_mcm_df)], colors='darkgrey', alpha=0.9, linestyles='--', lw=2, label='Uninformed Guesser')\n",
    "ax.vlines([range(len(full_mcm_df))], ymin=0, ymax=full_mcm_df.max(axis=1),color='darkgrey', alpha=0.6)\n",
    "\n",
    "ax.set_ylim(0.2,1.1)\n",
    "ax.set_xticklabels([name_mapping[ind] for ind in full_mcm_df.index], rotation=45, ha='right')\n",
    "ax.legend(loc = 'lower left', fontsize=7)\n",
    "ax.set_xlabel('ID / OOD Dataset')\n",
    "ax.set_ylabel('AUROC')\n",
    "# ax.set_title('Near-OOD Detection with Zero-Shot Methods')\n",
    "plt.tight_layout()\n",
    "plt.show()\n",
    "save_plot(fig, 'NearcomparisonMcmLines', '5_2', False)"
   ]
  },
  {
   "cell_type": "markdown",
   "id": "4adef954-955b-4407-8246-ef7333540dd4",
   "metadata": {},
   "source": [
    "## Now compare to ZOC and linear Baseline"
   ]
  },
  {
   "cell_type": "code",
   "execution_count": null,
   "id": "a60416ae-04ac-4dc3-a5b9-0e55ad71cc96",
   "metadata": {
    "tags": []
   },
   "outputs": [],
   "source": [
    "full_mcm_1 = get_history_from_project('thesis-near-mcm-mls-1.0')\n",
    "working_mcm_1 = full_mcm_1.copy()\n",
    "metric_of_interest = ['auc-max', 'auc-max-std']\n",
    "working_mcm_1.drop([col for col in working_mcm_1.columns if col not in metric_of_interest], axis=1,inplace = True)\n",
    "working_mcm_1.rename(columns={'auc-max': 'MCM', 'auc-max-std':'MCM-std'}, inplace=True)"
   ]
  },
  {
   "cell_type": "code",
   "execution_count": null,
   "id": "9cb36827-d7f4-4fca-9de0-dda41e98a63b",
   "metadata": {
    "tags": []
   },
   "outputs": [],
   "source": [
    "# get zoc\n",
    "full_zoc_1 = get_history_from_project('thesis-zsoodd_10_runs-std')\n",
    "working = full_zoc_1.copy()\n",
    "metric_of_interest = ['auc-sum', 'auc-sum-std']\n",
    "working_zoc = working[metric_of_interest].rename(columns={'auc-sum': 'ZOC', 'auc-sum-std':'ZOC-std'})"
   ]
  },
  {
   "cell_type": "code",
   "execution_count": null,
   "id": "59dd7cbb-33f3-4bf9-9f07-4577514612f9",
   "metadata": {
    "tags": []
   },
   "outputs": [],
   "source": [
    "# get logistic\n",
    "full_log = get_history_from_project('thesis-ood_baseline-all-full_classes-test_sets')\n",
    "logistic = full_log.copy()\n",
    "logistic = logistic[['log_AUC', 'log_std']]\n",
    "logistic.rename(columns={'log_AUC': 'LOGISTIC', 'log_std': 'LOGISTIC-std'},inplace=True)"
   ]
  },
  {
   "cell_type": "code",
   "execution_count": null,
   "id": "8221be8a-62a1-4fd9-b21f-005558a1663a",
   "metadata": {
    "tags": []
   },
   "outputs": [],
   "source": [
    "full_near = pd.concat([working_mcm_1,working_zoc, logistic ], axis=1)\n",
    "full_near = full_near.sort_index()"
   ]
  },
  {
   "cell_type": "markdown",
   "id": "5d3740df-45b1-48e0-b3e1-9107b8392503",
   "metadata": {},
   "source": [
    "## Some Corr and STD statistics"
   ]
  },
  {
   "cell_type": "markdown",
   "id": "b9841db2-1ac7-4255-9a75-908a2238db32",
   "metadata": {},
   "source": [
    "### stds..."
   ]
  },
  {
   "cell_type": "code",
   "execution_count": null,
   "id": "64c9c205-234b-46bb-9d1e-1b30cc6b0b14",
   "metadata": {},
   "outputs": [],
   "source": [
    "print(\"MAX STD\")\n",
    "full_near[[col for col in full_near.columns if \"-std\" in col]].max().round(3)"
   ]
  },
  {
   "cell_type": "code",
   "execution_count": null,
   "id": "7d8bf814-308d-4d4a-82d5-8c25b2397730",
   "metadata": {},
   "outputs": [],
   "source": [
    "print(\"MEAN STD\")\n",
    "full_near[[col for col in full_near.columns if \"-std\" in col]].mean().round(3)"
   ]
  },
  {
   "cell_type": "code",
   "execution_count": null,
   "id": "697b4c1d-493e-4207-90a4-9e5d8e1bc50f",
   "metadata": {},
   "outputs": [],
   "source": [
    "full_near.sort_values('ZOC-std', ascending=False)"
   ]
  },
  {
   "cell_type": "code",
   "execution_count": null,
   "id": "9dcada97-3c5b-4250-9414-b9b6b81aa3a7",
   "metadata": {},
   "outputs": [],
   "source": [
    "full_near[['MCM', 'ZOC', 'LOGISTIC']].corr().round(3)"
   ]
  },
  {
   "cell_type": "code",
   "execution_count": null,
   "id": "406818ab-1186-4077-b9c0-88b66a315152",
   "metadata": {},
   "outputs": [],
   "source": [
    "full_near[['MCM', 'ZOC', 'LOGISTIC', 'MCM-std', 'ZOC-std', 'LOGISTIC-std']].mean().round(3)"
   ]
  },
  {
   "cell_type": "markdown",
   "id": "6264302f-aeb0-4877-b383-c2e9a200256b",
   "metadata": {},
   "source": [
    "#### Without the shitty ones, not that bad"
   ]
  },
  {
   "cell_type": "code",
   "execution_count": null,
   "id": "8fa229ab-b62b-464d-8d90-51fe6e989675",
   "metadata": {},
   "outputs": [],
   "source": [
    "full_near.drop(['mnist', 'svhn', 'gtsrb'])[['MCM', 'ZOC', 'LOGISTIC']].mean().round(3)"
   ]
  },
  {
   "cell_type": "code",
   "execution_count": null,
   "id": "c0dad94f-4633-4a41-892b-f2e62f39bd27",
   "metadata": {},
   "outputs": [],
   "source": [
    "def f(x,y):\n",
    "    return x-y\n",
    "differences = full_near.copy()\n",
    "differences['ZOC-MCM'] = differences.apply(lambda x: f(x.ZOC,x.MCM), axis=1)\n",
    "differences['LOGISTIC-ZOC'] = differences.apply(lambda x: f(x.LOGISTIC,x.ZOC), axis=1)\n"
   ]
  },
  {
   "cell_type": "code",
   "execution_count": null,
   "id": "d40b84f1-dc5f-44fc-8a27-3b7e1680c1a3",
   "metadata": {},
   "outputs": [],
   "source": [
    "differences.loc[differences['ZOC-MCM'].idxmax()]"
   ]
  },
  {
   "cell_type": "code",
   "execution_count": null,
   "id": "1843b27b-7598-4952-89a9-309e860a7415",
   "metadata": {},
   "outputs": [],
   "source": [
    "differences.loc[differences['LOGISTIC-ZOC'].idxmax()]"
   ]
  },
  {
   "cell_type": "code",
   "execution_count": null,
   "id": "4fa4501f-b62f-4092-83c1-70f99c0920e1",
   "metadata": {},
   "outputs": [],
   "source": [
    "full_near.loc[['cifar10', 'cifar100', 'imagenet']]['ZOC']"
   ]
  },
  {
   "cell_type": "code",
   "execution_count": null,
   "id": "8dedbe27-73e6-4417-92a3-88f69452bbd3",
   "metadata": {},
   "outputs": [],
   "source": [
    "fig, ax = plt.subplots(figsize=figsize)\n",
    "plot_errorbar(full_near, 'MCM')\n",
    "plot_errorbar(full_near, 'ZOC')\n",
    "plot_errorbar(full_near, 'LOGISTIC')\n",
    "\n",
    "ax.hlines(0.5, xmin=-.5, xmax=[len(full_near)-1], colors='darkgrey', alpha=0.9, linestyles='--', lw=2, label='Uninformed Guesser')\n",
    "ax.vlines([range(len(full_near))], ymin=0, ymax=full_near.max(axis=1),color='darkgrey', alpha=0.6)\n",
    "\n",
    "ax.set_ylim(0.2,1.1)\n",
    "ax.set_xticklabels([name_mapping[ind] for ind in full_near.index], rotation=45, ha='right')\n",
    "ax.legend(loc='lower left', fontsize=7)\n",
    "ax.set_xlabel('ID / OOD Dataset')\n",
    "ax.set_ylabel('AUROC')\n",
    "#ax.set_title('Zero-shot and fine-tuned OOD Detection')\n",
    "plt.tight_layout()\n",
    "plt.show()\n",
    "save_plot(fig, 'nearComparisonMZL', '5_2', False)"
   ]
  },
  {
   "cell_type": "markdown",
   "id": "108deaab-f922-46b3-bee5-291c5f5bc225",
   "metadata": {},
   "source": [
    "# Get correletions"
   ]
  },
  {
   "cell_type": "code",
   "execution_count": null,
   "id": "16440192-a902-4811-8a04-128ab94b0c4d",
   "metadata": {},
   "outputs": [],
   "source": [
    "from scipy import stats\n",
    "def line(x, y):\n",
    "    slope, intercept, r_value, p_value, std_err = stats.linregress(x,y)\n",
    "    return x * slope + intercept \n",
    "def plot_line(x,y):\n",
    "    new_y = line(x,y)\n",
    "    ax.plot(x,new_y)"
   ]
  },
  {
   "cell_type": "code",
   "execution_count": null,
   "id": "c91b8427-dd65-4098-a1c7-85a03077aa24",
   "metadata": {},
   "outputs": [],
   "source": [
    "log_class = get_history_from_project('thesis-classification-logistic')\n",
    "log_class.rename(columns={'Acc': 'Logistic Accuracy'})\n",
    "zsa_class = tip_df = get_history_from_project('thesis-tip-adapters-16_shots-test')['ZEROSHOT']\n"
   ]
  },
  {
   "cell_type": "code",
   "execution_count": null,
   "id": "dd175e74-d891-4fd6-9124-93cea3bf6637",
   "metadata": {},
   "outputs": [],
   "source": [
    "to_plot = ['ZOC','MCM', 'LOGISTIC']\n",
    "corr_df = pd.concat([full_near[to_plot], zsa_class], axis=1)\n",
    "corr_df.sort_values('ZEROSHOT', inplace=True)"
   ]
  },
  {
   "cell_type": "code",
   "execution_count": null,
   "id": "7045d598-1b5c-49d7-9498-0151c1abe781",
   "metadata": {},
   "outputs": [],
   "source": [
    "corr_df.corr()"
   ]
  },
  {
   "cell_type": "code",
   "execution_count": null,
   "id": "adb3213b-171c-48ca-8acb-4df63236d840",
   "metadata": {},
   "outputs": [],
   "source": [
    "fig, ax = plt.subplots(figsize=halffigsize)\n",
    "x = corr_df['ZEROSHOT']\n",
    "y1 = corr_df['MCM']\n",
    "y2 = corr_df['ZOC']\n",
    "y3 = corr_df['LOGISTIC']\n",
    "\n",
    "plot_line(x,y1)\n",
    "plot_line(x,y2)\n",
    "# ax.scatter(x, y1, label= f\"MCM (r = {corr_df.corr()['ZEROSHOT']['MCM'].round(2)}) \")\n",
    "# ax.scatter(x, y2, label= f\"ZOC (r = {corr_df.corr()['ZEROSHOT']['ZOC'].round(2)}) \")\n",
    "ax.scatter(x, y1, label= f\"MCM\")\n",
    "ax.scatter(x, y2, label= f\"ZOC\")\n",
    "# ax.set_ylim(0.2,1.1)\n",
    "# ax.set_xticklabels(corr_df.index, rotation=45, ha='right')\n",
    "ax.legend(loc='upper left', fontsize=7)\n",
    "ax.set_xlabel('Zero-Shot Accuracy')\n",
    "ax.set_ylabel('AUROC')\n",
    "plt.tight_layout()\n",
    "#plt.title('Correlation with Zero-Shot Accuracy')\n",
    "plt.show()\n",
    "save_plot(fig, 'corr_with_zsa', '5_2', False)"
   ]
  },
  {
   "cell_type": "markdown",
   "id": "f3cd0c2e-8638-4717-bc36-338413da4731",
   "metadata": {
    "tags": []
   },
   "source": [
    "### Distances corr"
   ]
  },
  {
   "cell_type": "code",
   "execution_count": null,
   "id": "d30e9820-9a6b-49db-892f-531d0dce9d3f",
   "metadata": {},
   "outputs": [],
   "source": [
    "clp = get_history_from_project('thesis-clp-temperature-100runs')\n",
    "mmd = get_history_from_project('thesis-mmd-100')\n",
    "clp_one_temp = clp[(clp['temperature'] < 1.13) & (clp['temperature'] > 0.98)]\n",
    "clp_one_temp = clp_one_temp.drop(['temperature', 'std'], axis=1)\n",
    "mmd = mmd.drop('std', axis=1)\n",
    "distances = pd.concat([mmd, clp_one_temp], axis=1)"
   ]
  },
  {
   "cell_type": "code",
   "execution_count": null,
   "id": "358b9316-9511-4606-afdc-737eeb4819a8",
   "metadata": {},
   "outputs": [],
   "source": [
    "# quick add zsa...\n",
    "# get zsa... tip_df = get_history_from_project('thesis-tip-adapters-16_shots-test')\n",
    "tip_df = get_history_from_project('thesis-tip-adapters-16_shots-test')\n",
    "#add zsa to distances\n"
   ]
  },
  {
   "cell_type": "code",
   "execution_count": null,
   "id": "2de29041-ed6b-4ae6-9820-67d1aa5ed707",
   "metadata": {
    "tags": []
   },
   "outputs": [],
   "source": [
    "to_plot = ['ZOC','MCM', 'LOGISTIC']\n",
    "distances_df = pd.concat([full_near[to_plot], distances], axis=1)\n",
    "distances_df['ZSA'] = distances_df.apply(lambda x: tip_df['ZEROSHOT'][x.name], axis=1)\n",
    "distances_df = distances_df.sort_values('clp')"
   ]
  },
  {
   "cell_type": "code",
   "execution_count": null,
   "id": "c73e8401-04c8-4efe-871b-fd3d13a55ff6",
   "metadata": {},
   "outputs": [],
   "source": [
    "distances_df.max()"
   ]
  },
  {
   "cell_type": "code",
   "execution_count": null,
   "id": "107f6c81-df3b-4c68-9d3c-d67cb1b68121",
   "metadata": {},
   "outputs": [],
   "source": [
    "distances_df.min()"
   ]
  },
  {
   "cell_type": "code",
   "execution_count": null,
   "id": "85a65665-a0f2-463f-99d5-0187e7ec1aca",
   "metadata": {},
   "outputs": [],
   "source": [
    "distances_df"
   ]
  },
  {
   "cell_type": "code",
   "execution_count": null,
   "id": "719ea763-1e27-48fa-afbe-b0fb39c1c239",
   "metadata": {
    "tags": []
   },
   "outputs": [],
   "source": [
    "distances_df.corr().round(2)"
   ]
  },
  {
   "cell_type": "code",
   "execution_count": null,
   "id": "05716c56-c2d2-4211-b3c2-ccccfb282ca7",
   "metadata": {
    "tags": []
   },
   "outputs": [],
   "source": [
    "fig, ax = plt.subplots(figsize=halffigsize)\n",
    "x = distances_df['clp']\n",
    "y1 = distances_df['MCM']\n",
    "y2 = distances_df['ZOC']\n",
    "y3 = distances_df['LOGISTIC']\n",
    "\n",
    "plot_line(x,y1)\n",
    "plot_line(x,y2)\n",
    "\n",
    "# the points\n",
    "# ax.scatter(x, y1, label= f\"MCM (r = {distances_df.corr()['clp']['MCM'].round(2)}) \")\n",
    "# ax.scatter(x, y2, label= f\"ZOC (r = {distances_df.corr()['clp']['ZOC'].round(2)}) \")\n",
    "ax.scatter(x, y1, label= f\"MCM\")\n",
    "ax.scatter(x, y2, label= f\"ZOC\")\n",
    "# config stuff\n",
    "# ax.set_ylim(0.2,1.1)\n",
    "# ax.set_xticklabels(corr_df.index, rotation=45, ha='right')\n",
    "ax.legend(loc='upper right', fontsize=7)\n",
    "ax.set_xlabel('Confusion Log Probability')\n",
    "ax.set_ylabel('AUROC')\n",
    "plt.tight_layout()\n",
    "# plt.title('Correlation with CLP')\n",
    "plt.show()\n",
    "save_plot(fig, 'corr_with_clp', '5_2', False)"
   ]
  },
  {
   "cell_type": "code",
   "execution_count": null,
   "id": "5cb0ee5b-1ddc-4bbc-852b-a8e58271c6c9",
   "metadata": {},
   "outputs": [],
   "source": [
    "def plot_line(x,y,ax):\n",
    "    new_y = line(x,y)\n",
    "    ax.plot(x,new_y)"
   ]
  },
  {
   "cell_type": "code",
   "execution_count": null,
   "id": "cb8e9040-9ed3-4a66-96fc-4dc9fd6b6e49",
   "metadata": {},
   "outputs": [],
   "source": [
    "fig, axs = plt.subplots(ncols=2, figsize=figsize, sharey=True)\n",
    "x = corr_df['ZEROSHOT']\n",
    "y1 = corr_df['MCM']\n",
    "y2 = corr_df['ZOC']\n",
    "y3 = corr_df['LOGISTIC']\n",
    "\n",
    "plot_line(x,y1, axs[0])\n",
    "plot_line(x,y2, axs[0])\n",
    "# ax.scatter(x, y1, label= f\"MCM (r = {corr_df.corr()['ZEROSHOT']['MCM'].round(2)}) \")\n",
    "# ax.scatter(x, y2, label= f\"ZOC (r = {corr_df.corr()['ZEROSHOT']['ZOC'].round(2)}) \")\n",
    "axs[0].scatter(x, y1, label= f\"MCM\")\n",
    "axs[0].scatter(x, y2, label= f\"ZOC\")\n",
    "# ax.set_ylim(0.2,1.1)\n",
    "# ax.set_xticklabels(corr_df.index, rotation=45, ha='right')\n",
    "axs[0].legend(loc='upper left', fontsize=7)\n",
    "axs[0].set_xlabel('Zero-Shot Accuracy')\n",
    "axs[0].set_ylabel('AUROC')\n",
    "\n",
    "x = distances_df['clp']\n",
    "y1 = distances_df['MCM']\n",
    "y2 = distances_df['ZOC']\n",
    "y3 = distances_df['LOGISTIC']\n",
    "\n",
    "plot_line(x,y1, axs[1])\n",
    "plot_line(x,y2, axs[1])\n",
    "\n",
    "# the points\n",
    "# ax.scatter(x, y1, label= f\"MCM (r = {distances_df.corr()['clp']['MCM'].round(2)}) \")\n",
    "# ax.scatter(x, y2, label= f\"ZOC (r = {distances_df.corr()['clp']['ZOC'].round(2)}) \")\n",
    "axs[1].scatter(x, y1, label= f\"MCM\")\n",
    "axs[1].scatter(x, y2, label= f\"ZOC\")\n",
    "# config stuff\n",
    "# ax.set_ylim(0.2,1.1)\n",
    "# ax.set_xticklabels(corr_df.index, rotation=45, ha='right')\n",
    "axs[1].legend(loc='upper right', fontsize=7)\n",
    "axs[1].set_xlabel('Confusion Log Probability')\n",
    "\n",
    "\n",
    "plt.tight_layout()\n",
    "#plt.title('Correlation with Zero-Shot Accuracy')\n",
    "plt.show()\n",
    "save_plot(fig, 'corr_with_zsa_and_clp', '5_2', False)"
   ]
  },
  {
   "cell_type": "code",
   "execution_count": null,
   "id": "1332b39f-df91-45d1-89cd-3ff7d44856a8",
   "metadata": {},
   "outputs": [],
   "source": []
  }
 ],
 "metadata": {
  "kernelspec": {
   "display_name": "Python 3 (ipykernel)",
   "language": "python",
   "name": "python3"
  },
  "language_info": {
   "codemirror_mode": {
    "name": "ipython",
    "version": 3
   },
   "file_extension": ".py",
   "mimetype": "text/x-python",
   "name": "python",
   "nbconvert_exporter": "python",
   "pygments_lexer": "ipython3",
   "version": "3.8.13"
  }
 },
 "nbformat": 4,
 "nbformat_minor": 5
}
