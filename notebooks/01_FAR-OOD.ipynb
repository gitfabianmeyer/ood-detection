{
 "cells": [
  {
   "cell_type": "code",
   "execution_count": null,
   "id": "6f551ff0-dd6f-44cd-a013-ae57a0947932",
   "metadata": {
    "tags": []
   },
   "outputs": [],
   "source": [
    "%load_ext autoreload\n",
    "%autoreload 2\n",
    "\n",
    "import matplotlib.pyplot as plt\n",
    "# Configure Matplotlib to use LaTeX for text rendering\n",
    "plt.rcParams['text.usetex'] = True\n",
    "\n",
    "# Set fonts for Matplotlib\n",
    "plt.rcParams['font.serif'] = 'Palatino'\n",
    "plt.rcParams['font.sans-serif'] = 'Helvetica'\n",
    "plt.rcParams['font.monospace'] = 'Courier'\n",
    "plt.rcParams['font.size'] = 11\n",
    "width_cm = 15\n",
    "height_cm = 8\n",
    "# Convert centimeters to inches\n",
    "width_in = width_cm / 2.54\n",
    "height_in = height_cm / 2.54\n",
    "import seaborn as sns\n",
    "sns.set_theme()\n",
    "figsize= (width_in, height_in)\n",
    "\n",
    "\n",
    "\n",
    "import os\n",
    "import numpy as np\n",
    "import pandas as pd \n",
    "import wandb\n",
    "from metrics.plotting_utils import save_plot, get_history_from_project, save_csv, get_dataset_name_mapping\n",
    "from ood_detection.config import Config\n",
    "from datasets.config import DATASETS_DICT\n",
    "api = wandb.Api()\n",
    "frame_template = \"thesis-far-ood-{}\""
   ]
  },
  {
   "cell_type": "markdown",
   "id": "be17e310-63a8-48fe-90ad-e0ffb979f75e",
   "metadata": {},
   "source": [
    "# Create Plots for Far OOD\n",
    "1. \n",
    "2. \n",
    "3. Per Temp: Mean per Dataset + std, Min per Dataset (+ distance), Max per Dataset (+ distance)\n",
    "4. Top X + Distances, Flop X + Distances\n",
    "5. Full plot of all for appendix"
   ]
  },
  {
   "cell_type": "code",
   "execution_count": null,
   "id": "1062b42e-1755-40b5-bbae-972cb290e630",
   "metadata": {},
   "outputs": [],
   "source": [
    "# raise ValueError # not execute, needs time\n",
    "def prep_far_ood(run):\n",
    "    download_template = 'thesis-far-ood-{}'\n",
    "    download_name = download_template.format(run)\n",
    "    working_df = get_history_from_project(download_name, set_name_index=False)\n",
    "    working_df['ID'] = working_df.name.apply(lambda x: x.split(\"-\")[0])\n",
    "    working_df['OOD'] = working_df.name.apply(lambda x: x.split(\"-\")[1])\n",
    "    working_df = working_df.rename(columns={'AUROC':run.upper()}).set_index('name', drop=True)\n",
    "    return working_df\n",
    "\n",
    "def get_grouped_auroc_df(df, grouper, metric):\n",
    "    if metric == 'mean':\n",
    "        return df.groupby(grouper).mean(numeric_only = True)\n",
    "    if metric == 'max':\n",
    "        return df.groupby(grouper).max(numeric_only = True)\n",
    "    if metric == 'min':\n",
    "        return df.groupby(grouper).min(numeric_only = True)\n",
    "\n",
    "def load_and_group(run, grouper, metric):\n",
    "    df = prep_far_ood(run)\n",
    "    return get_grouped_auroc_df(df, grouper, metric)\n",
    "\n",
    "            \n",
    "def get_all_finished_runs(methods, runs):\n",
    "    dfs = {}\n",
    "    for method in methods:\n",
    "        for run in runs:\n",
    "            if method == 'mls' and run != '1.0':\n",
    "                continue\n",
    "            name = method +'-'+ run\n",
    "            print(f\"Loading {name}\")\n",
    "            try:\n",
    "                df = prep_far_ood(name)\n",
    "                assert len(df) == 132\n",
    "                dfs[name] = df\n",
    "            except:\n",
    "                print(f\"{name} not finished yet\")\n",
    "                continue\n",
    "    return dfs\n",
    "\n",
    "def get_merged_df(df_dict, grouper, metric):\n",
    "    dfs = []\n",
    "    for df in df_dict.values():\n",
    "        dfs.append(get_grouped_auroc_df(df, grouper, metric))\n",
    "    return pd.concat(dfs, axis=1)"
   ]
  },
  {
   "cell_type": "code",
   "execution_count": null,
   "id": "7d099349-ee55-478e-89b3-701da9c3ed80",
   "metadata": {},
   "outputs": [],
   "source": [
    "# collect ...\n",
    "methods = ['msp', 'mls']\n",
    "runs = ['0.01', '1.0', '100.0']\n",
    "dfs = get_all_finished_runs(methods, runs)"
   ]
  },
  {
   "cell_type": "code",
   "execution_count": null,
   "id": "7646a99c-a5c7-440c-83f0-cfe3351149b9",
   "metadata": {
    "tags": []
   },
   "outputs": [],
   "source": [
    "# save grouped plots\n",
    "groups = ['ID', 'OOD']\n",
    "strats = ['mean','max','min']\n",
    "mappings = get_dataset_name_mapping()\n",
    "\n",
    "for group in groups:\n",
    "    for strat in strats:\n",
    "        df = get_merged_df(dfs, group, strat).rename(index= mappings)\n",
    "        save_csv(df.round(3), '5_1', f'{group}_{strat}')\n",
    "        save_csv(df.round(3).T, '5_1_T', f'{group}_{strat}')"
   ]
  },
  {
   "cell_type": "code",
   "execution_count": null,
   "id": "ba83befc-067b-4b1a-b134-2765d09236e4",
   "metadata": {},
   "outputs": [],
   "source": [
    "mappings = get_dataset_name_mapping()\n",
    "\n",
    "df = get_merged_df(dfs, 'ID', 'mean').rename(index=mappings)"
   ]
  },
  {
   "cell_type": "code",
   "execution_count": null,
   "id": "609ec0fe-5fba-419a-923c-98a65a56b073",
   "metadata": {},
   "outputs": [],
   "source": [
    "mcm_df = df.copy()"
   ]
  },
  {
   "cell_type": "code",
   "execution_count": null,
   "id": "e2d1b9eb-282a-4329-8de4-b0c49392b0e7",
   "metadata": {},
   "outputs": [],
   "source": [
    "mcm_df.mean(axis=1)"
   ]
  },
  {
   "cell_type": "code",
   "execution_count": null,
   "id": "dec0623d-6c4d-4545-bddd-583a9810c219",
   "metadata": {},
   "outputs": [],
   "source": [
    "mcm_df.max(axis=1)"
   ]
  },
  {
   "cell_type": "code",
   "execution_count": null,
   "id": "1112a411-3418-4654-b8d1-9829afa06b61",
   "metadata": {},
   "outputs": [],
   "source": [
    "mcm_df"
   ]
  },
  {
   "cell_type": "code",
   "execution_count": null,
   "id": "0e9e59e2-9bdd-455c-80d3-ec22e771da1e",
   "metadata": {},
   "outputs": [],
   "source": [
    "fig, ax = plt.subplots(figsize=figsize)\n",
    "\n",
    "# mean = df[value_column].mean().round(3)\n",
    "# std = u\"\\u00B1{})\".format(df[value_column+'-std'].mean().round(2))\n",
    "# label = name + f' (\\u03bc= {mean}' + std\n",
    "value_column='MLS-1.0'\n",
    "ax.plot(mcm_df[value_column], label=value_column, color='steelblue')\n",
    "value_column ='MSP-1.0'\n",
    "ax.plot(mcm_df[value_column], label=value_column,color='mediumseagreen')\n",
    "value_column = 'MSP-0.01'\n",
    "ax.plot(mcm_df[value_column], label=value_column, color='mediumvioletred')\n",
    "\n",
    "\n",
    "\n",
    "ax.hlines(0.5, xmin=-.5, xmax=[len(mcm_df)], colors='darkgrey', alpha=0.9, linestyles='--', lw=2, label='Uninformed Guesser')\n",
    "ax.vlines([range(len(mcm_df))], ymin=0, ymax=mcm_df.max(axis=1),color='darkgrey', alpha=0.6)\n",
    "\n",
    "ax.set_ylim(0.2,1.1)\n",
    "ax.set_xticklabels(mcm_df.index, rotation=45, ha='right')\n",
    "ax.legend(loc='lower left', fontsize=6)\n",
    "ax.set_xlabel('ID Dataset')\n",
    "ax.set_ylabel('mean AUROC')\n",
    "plt.tight_layout()\n",
    "plt.show()\n",
    "save_plot(fig, 'comparisonLines_presentation', '5_1', False)"
   ]
  },
  {
   "cell_type": "markdown",
   "id": "7cef6cb4-500b-4010-ba4c-58f160309f1d",
   "metadata": {
    "tags": []
   },
   "source": [
    "## Distances"
   ]
  },
  {
   "cell_type": "code",
   "execution_count": null,
   "id": "fb15f730-ec5f-4ba4-8c57-e6ae3088936e",
   "metadata": {},
   "outputs": [],
   "source": [
    "# get distances...\n",
    "df = get_history_from_project('thesis-far-distances', set_name_index=False)\n",
    "distances_df = df.copy()\n",
    "distances_df['ID'] = distances_df.name.apply(lambda x: x.split(\"-\")[0])\n",
    "distances_df['OOD'] = distances_df.name.apply(lambda x: x.split(\"-\")[1])\n",
    "distances_df.set_index('name', drop=True, inplace=True)\n",
    "\n",
    "# get aurocs\n",
    "auroc_df = prep_far_ood('mls-1.0')\n",
    "auroc_df.drop(['ID', 'OOD'], axis=1, inplace=True)\n",
    "\n",
    "# get zsa... tip_df = get_history_from_project('thesis-tip-adapters-16_shots-test')\n",
    "tip_df = get_history_from_project('thesis-tip-adapters-16_shots-test')\n",
    "\n",
    "#add zsa to distances\n",
    "distances_df['ID ZSA'] = distances_df['ID'].apply(lambda x: tip_df['ZEROSHOT'][x])\n",
    "distances_df['OOD ZSA'] = distances_df['OOD'].apply(lambda x: tip_df['ZEROSHOT'][x])\n",
    "\n",
    "# create full table\n",
    "monstrum = pd.concat([auroc_df, distances_df], axis=1)"
   ]
  },
  {
   "cell_type": "code",
   "execution_count": null,
   "id": "70079796-2a84-4112-94fe-d235d83a9f11",
   "metadata": {},
   "outputs": [],
   "source": [
    "monstrum.corr().max()"
   ]
  },
  {
   "cell_type": "markdown",
   "id": "96107528-26e1-4b2d-b7cc-0573c1be3ba5",
   "metadata": {},
   "source": [
    "### only weak correlation"
   ]
  },
  {
   "cell_type": "code",
   "execution_count": null,
   "id": "81672c67-2022-4a8c-9756-70ac22013947",
   "metadata": {},
   "outputs": [],
   "source": [
    "monstrum.round(3).min()"
   ]
  },
  {
   "cell_type": "code",
   "execution_count": null,
   "id": "95efc423-d168-43d2-a435-a44fedec667a",
   "metadata": {},
   "outputs": [],
   "source": [
    "monstrum.round(3).max()"
   ]
  },
  {
   "cell_type": "code",
   "execution_count": null,
   "id": "46e4a45d-b1e6-4506-aec5-b5a158d4af03",
   "metadata": {},
   "outputs": [],
   "source": [
    "monstrum[['MLS-1.0', 'mmd', 'clp', 'ID ZSA', 'OOD ZSA']].corr()['MLS-1.0']\n",
    "save_csv(monstrum[['MLS-1.0', 'mmd', 'clp', 'ID ZSA', 'OOD ZSA']].corr().round(3)['MLS-1.0'], '5_1','far-corr-matrix')"
   ]
  },
  {
   "cell_type": "code",
   "execution_count": null,
   "id": "48f168e6-b95e-476b-ad61-8711feb0fa61",
   "metadata": {},
   "outputs": [],
   "source": [
    "monstrum[(monstrum['MLS-1.0'] >0.98) & (monstrum['ID'].isin(['stanford cars','caltech cub']))][['MLS-1.0', 'mmd', 'clp']].corr()"
   ]
  },
  {
   "cell_type": "markdown",
   "id": "b36663d5-dab4-4d43-bb83-27a04e9c4d4f",
   "metadata": {
    "tags": []
   },
   "source": [
    "### Deeper look into MSP 01"
   ]
  },
  {
   "cell_type": "code",
   "execution_count": null,
   "id": "0ae5d156-4893-4860-95dd-9b9d1deb3fae",
   "metadata": {},
   "outputs": [],
   "source": [
    "working_df = get_history_from_project(frame_template.format('mls-1.0'), set_name_index=False)\n",
    "\n",
    "working_df['ID'] = working_df.name.apply(lambda x: x.split(\"-\")[0])\n",
    "working_df['OOD'] = working_df.name.apply(lambda x: x.split(\"-\")[1])"
   ]
  },
  {
   "cell_type": "code",
   "execution_count": null,
   "id": "68a8070c-d154-4658-80a8-dfed32e836c8",
   "metadata": {},
   "outputs": [],
   "source": [
    "working_df.groupby('ID').mean('AUROC').sort_values(by='AUROC', ascending=False)"
   ]
  },
  {
   "cell_type": "markdown",
   "id": "a2b3d8e9-5d9d-450c-962d-7df1bbff1975",
   "metadata": {},
   "source": [
    "## Perfectly over 95% on 67!!! combinations --> to easy in many settings or the method is very good"
   ]
  },
  {
   "cell_type": "code",
   "execution_count": null,
   "id": "884fc27c-8092-495c-bddc-139384d1be2c",
   "metadata": {},
   "outputs": [],
   "source": [
    "working_df.max()"
   ]
  },
  {
   "cell_type": "code",
   "execution_count": null,
   "id": "c9a438b8-d256-41d4-acf4-517ee710c2ff",
   "metadata": {},
   "outputs": [],
   "source": [
    "# count by id\n",
    "working_df[(working_df['AUROC'] > 0.99)].value_counts('ID')"
   ]
  },
  {
   "cell_type": "code",
   "execution_count": null,
   "id": "2ad2989f-92c8-482d-8574-6bfde9f44d2e",
   "metadata": {},
   "outputs": [],
   "source": [
    "# count by od\n",
    "working_df[(working_df['AUROC'] > 0.95)]"
   ]
  },
  {
   "cell_type": "markdown",
   "id": "a439a26d-addf-4a09-af7c-e7c6dbcf7fa9",
   "metadata": {
    "tags": []
   },
   "source": [
    "# Not working on: 5 with 50% +-5. "
   ]
  },
  {
   "cell_type": "code",
   "execution_count": null,
   "id": "dbe9f668-bbd4-471a-9629-267e21f1aeda",
   "metadata": {},
   "outputs": [],
   "source": [
    "working_df[(working_df['AUROC'] <0.53) & (working_df['AUROC'] > 0.47)]"
   ]
  },
  {
   "cell_type": "markdown",
   "id": "7306af03-4cd0-4ff6-a66c-c9331a102b19",
   "metadata": {},
   "source": [
    "## Confused on only 5"
   ]
  },
  {
   "cell_type": "code",
   "execution_count": null,
   "id": "ed166fbf-fade-4b62-b956-a7b1a60271dc",
   "metadata": {},
   "outputs": [],
   "source": [
    "working_df[(working_df['AUROC'] <0.50)]"
   ]
  },
  {
   "cell_type": "markdown",
   "id": "8a6744f0-df2f-4377-80cf-77fc52c583d6",
   "metadata": {},
   "source": [
    "## Look into one run specifically"
   ]
  },
  {
   "cell_type": "code",
   "execution_count": null,
   "id": "e23d00ed-949a-4a5e-af10-ca626f056600",
   "metadata": {},
   "outputs": [],
   "source": [
    "mls1 = prep_far_ood('mls-1.0')"
   ]
  },
  {
   "cell_type": "code",
   "execution_count": null,
   "id": "3fd003d3-a415-4a3e-93c5-40f387af25e7",
   "metadata": {},
   "outputs": [],
   "source": [
    "mls1[(mls1['ID'] == 'cifar100') & (mls1['OOD'] == 'cifar10')]"
   ]
  },
  {
   "cell_type": "code",
   "execution_count": null,
   "id": "2a27b25b-ef78-401f-99de-0dd22e77a233",
   "metadata": {},
   "outputs": [],
   "source": [
    "mls1[(mls1['ID'] == 'cifar10') & (mls1['OOD'] == 'cifar100')]"
   ]
  },
  {
   "cell_type": "code",
   "execution_count": null,
   "id": "0bb84339-6c17-47be-ab2b-77d3254018f6",
   "metadata": {},
   "outputs": [],
   "source": [
    "mls1[(mls1['ID'] == 'cifar10') & (mls1['OOD'] == 'svhn')]"
   ]
  }
 ],
 "metadata": {
  "kernelspec": {
   "display_name": "Python 3 (ipykernel)",
   "language": "python",
   "name": "python3"
  },
  "language_info": {
   "codemirror_mode": {
    "name": "ipython",
    "version": 3
   },
   "file_extension": ".py",
   "mimetype": "text/x-python",
   "name": "python",
   "nbconvert_exporter": "python",
   "pygments_lexer": "ipython3",
   "version": "3.8.13"
  }
 },
 "nbformat": 4,
 "nbformat_minor": 5
}
