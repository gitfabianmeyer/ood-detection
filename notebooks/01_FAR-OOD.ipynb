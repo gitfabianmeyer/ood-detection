{
 "cells": [
  {
   "cell_type": "code",
   "execution_count": 1,
   "id": "6f551ff0-dd6f-44cd-a013-ae57a0947932",
   "metadata": {
    "tags": []
   },
   "outputs": [
    {
     "name": "stderr",
     "output_type": "stream",
     "text": [
      "/home/fmeyer/miniconda3/envs/ood/lib/python3.8/site-packages/scipy/__init__.py:138: UserWarning: A NumPy version >=1.16.5 and <1.23.0 is required for this version of SciPy (detected version 1.24.1)\n",
      "  warnings.warn(f\"A NumPy version >={np_minversion} and <{np_maxversion} is required for this version of \"\n",
      "/home/fmeyer/miniconda3/envs/ood/lib/python3.8/site-packages/tqdm/auto.py:22: TqdmWarning: IProgress not found. Please update jupyter and ipywidgets. See https://ipywidgets.readthedocs.io/en/stable/user_install.html\n",
      "  from .autonotebook import tqdm as notebook_tqdm\n"
     ]
    }
   ],
   "source": [
    "%load_ext autoreload\n",
    "%autoreload 2\n",
    "\n",
    "import matplotlib.pyplot as plt\n",
    "# Configure Matplotlib to use LaTeX for text rendering\n",
    "plt.rcParams['text.usetex'] = True\n",
    "\n",
    "# Set fonts for Matplotlib\n",
    "plt.rcParams['font.serif'] = 'Palatino'\n",
    "plt.rcParams['font.sans-serif'] = 'Helvetica'\n",
    "plt.rcParams['font.monospace'] = 'Courier'\n",
    "plt.rcParams['font.size'] = 11\n",
    "width_cm = 15\n",
    "height_cm = 8\n",
    "# Convert centimeters to inches\n",
    "width_in = width_cm / 2.54\n",
    "height_in = height_cm / 2.54\n",
    "import seaborn as sns\n",
    "sns.set_theme()\n",
    "figsize= (width_in, height_in)\n",
    "\n",
    "\n",
    "\n",
    "import os\n",
    "import numpy as np\n",
    "import pandas as pd \n",
    "import wandb\n",
    "from metrics.plotting_utils import save_plot, get_history_from_project, save_csv, get_dataset_name_mapping\n",
    "from ood_detection.config import Config\n",
    "from datasets.config import DATASETS_DICT\n",
    "api = wandb.Api()\n",
    "frame_template = \"thesis-far-ood-{}\""
   ]
  },
  {
   "cell_type": "markdown",
   "id": "be17e310-63a8-48fe-90ad-e0ffb979f75e",
   "metadata": {},
   "source": [
    "# Create Plots for Far OOD\n",
    "1. \n",
    "2. \n",
    "3. Per Temp: Mean per Dataset + std, Min per Dataset (+ distance), Max per Dataset (+ distance)\n",
    "4. Top X + Distances, Flop X + Distances\n",
    "5. Full plot of all for appendix"
   ]
  },
  {
   "cell_type": "code",
   "execution_count": 2,
   "id": "1062b42e-1755-40b5-bbae-972cb290e630",
   "metadata": {},
   "outputs": [],
   "source": [
    "# raise ValueError # not execute, needs time\n",
    "def prep_far_ood(run):\n",
    "    download_template = 'thesis-far-ood-{}'\n",
    "    download_name = download_template.format(run)\n",
    "    working_df = get_history_from_project(download_name, set_name_index=False)\n",
    "    working_df['ID'] = working_df.name.apply(lambda x: x.split(\"-\")[0])\n",
    "    working_df['OOD'] = working_df.name.apply(lambda x: x.split(\"-\")[1])\n",
    "    working_df = working_df.rename(columns={'AUROC':run.upper()}).set_index('name', drop=True)\n",
    "    return working_df\n",
    "\n",
    "def get_grouped_auroc_df(df, grouper, metric):\n",
    "    if metric == 'mean':\n",
    "        return df.groupby(grouper).mean(numeric_only = True)\n",
    "    if metric == 'max':\n",
    "        return df.groupby(grouper).max(numeric_only = True)\n",
    "    if metric == 'min':\n",
    "        return df.groupby(grouper).min(numeric_only = True)\n",
    "\n",
    "def load_and_group(run, grouper, metric):\n",
    "    df = prep_far_ood(run)\n",
    "    return get_grouped_auroc_df(df, grouper, metric)\n",
    "\n",
    "            \n",
    "def get_all_finished_runs(methods, runs):\n",
    "    dfs = {}\n",
    "    for method in methods:\n",
    "        for run in runs:\n",
    "            if method == 'mls' and run != '1.0':\n",
    "                continue\n",
    "            name = method +'-'+ run\n",
    "            print(f\"Loading {name}\")\n",
    "            try:\n",
    "                df = prep_far_ood(name)\n",
    "                assert len(df) == 132\n",
    "                dfs[name] = df\n",
    "            except:\n",
    "                print(f\"{name} not finished yet\")\n",
    "                continue\n",
    "    return dfs\n",
    "\n",
    "def get_merged_df(df_dict, grouper, metric):\n",
    "    dfs = []\n",
    "    for df in df_dict.values():\n",
    "        dfs.append(get_grouped_auroc_df(df, grouper, metric))\n",
    "    return pd.concat(dfs, axis=1)"
   ]
  },
  {
   "cell_type": "code",
   "execution_count": 3,
   "id": "7d099349-ee55-478e-89b3-701da9c3ed80",
   "metadata": {},
   "outputs": [
    {
     "name": "stdout",
     "output_type": "stream",
     "text": [
      "Loading msp-0.01\n",
      "Loading msp-1.0\n",
      "Loading msp-100.0\n",
      "Loading mls-1.0\n"
     ]
    }
   ],
   "source": [
    "# collect ...\n",
    "methods = ['msp', 'mls']\n",
    "runs = ['0.01', '1.0', '100.0']\n",
    "dfs = get_all_finished_runs(methods, runs)"
   ]
  },
  {
   "cell_type": "code",
   "execution_count": 4,
   "id": "7646a99c-a5c7-440c-83f0-cfe3351149b9",
   "metadata": {
    "tags": []
   },
   "outputs": [],
   "source": [
    "# save grouped plots\n",
    "groups = ['ID', 'OOD']\n",
    "strats = ['mean','max','min']\n",
    "mappings = get_dataset_name_mapping()\n",
    "\n",
    "for group in groups:\n",
    "    for strat in strats:\n",
    "        df = get_merged_df(dfs, group, strat).rename(index= mappings)\n",
    "        save_csv(df.round(3), '5_1', f'{group}_{strat}')\n",
    "        save_csv(df.round(3).T, '5_1_T', f'{group}_{strat}')"
   ]
  },
  {
   "cell_type": "code",
   "execution_count": 5,
   "id": "ba83befc-067b-4b1a-b134-2765d09236e4",
   "metadata": {},
   "outputs": [],
   "source": [
    "mappings = get_dataset_name_mapping()\n",
    "\n",
    "df = get_merged_df(dfs, 'ID', 'mean').rename(index=mappings)"
   ]
  },
  {
   "cell_type": "code",
   "execution_count": 6,
   "id": "609ec0fe-5fba-419a-923c-98a65a56b073",
   "metadata": {},
   "outputs": [],
   "source": [
    "mcm_df = df.copy()"
   ]
  },
  {
   "cell_type": "code",
   "execution_count": 7,
   "id": "e2d1b9eb-282a-4329-8de4-b0c49392b0e7",
   "metadata": {},
   "outputs": [
    {
     "data": {
      "text/plain": [
       "ID\n",
       "Caltech CUB      0.926053\n",
       "Caltech101       0.877201\n",
       "CIFAR10          0.798079\n",
       "CIFAR100         0.709803\n",
       "DTD              0.886248\n",
       "Fashion MNIST    0.921390\n",
       "Flowers102       0.879924\n",
       "GTSRB            0.686699\n",
       "TinyImagenet     0.721684\n",
       "MNIST            0.698518\n",
       "Stanford Cars    0.987380\n",
       "SVHN             0.444451\n",
       "dtype: float64"
      ]
     },
     "execution_count": 7,
     "metadata": {},
     "output_type": "execute_result"
    }
   ],
   "source": [
    "mcm_df.mean(axis=1)"
   ]
  },
  {
   "cell_type": "code",
   "execution_count": 8,
   "id": "dec0623d-6c4d-4545-bddd-583a9810c219",
   "metadata": {},
   "outputs": [
    {
     "data": {
      "text/plain": [
       "ID\n",
       "Caltech CUB      0.998518\n",
       "Caltech101       0.902955\n",
       "CIFAR10          0.875550\n",
       "CIFAR100         0.810137\n",
       "DTD              0.934755\n",
       "Fashion MNIST    0.970769\n",
       "Flowers102       0.996787\n",
       "GTSRB            0.995142\n",
       "TinyImagenet     0.745367\n",
       "MNIST            0.813544\n",
       "Stanford Cars    0.998555\n",
       "SVHN             0.799067\n",
       "dtype: float64"
      ]
     },
     "execution_count": 8,
     "metadata": {},
     "output_type": "execute_result"
    }
   ],
   "source": [
    "mcm_df.max(axis=1)"
   ]
  },
  {
   "cell_type": "code",
   "execution_count": 9,
   "id": "1112a411-3418-4654-b8d1-9829afa06b61",
   "metadata": {},
   "outputs": [
    {
     "data": {
      "text/html": [
       "<div>\n",
       "<style scoped>\n",
       "    .dataframe tbody tr th:only-of-type {\n",
       "        vertical-align: middle;\n",
       "    }\n",
       "\n",
       "    .dataframe tbody tr th {\n",
       "        vertical-align: top;\n",
       "    }\n",
       "\n",
       "    .dataframe thead th {\n",
       "        text-align: right;\n",
       "    }\n",
       "</style>\n",
       "<table border=\"1\" class=\"dataframe\">\n",
       "  <thead>\n",
       "    <tr style=\"text-align: right;\">\n",
       "      <th></th>\n",
       "      <th>MSP-0.01</th>\n",
       "      <th>MSP-1.0</th>\n",
       "      <th>MSP-100.0</th>\n",
       "      <th>MLS-1.0</th>\n",
       "    </tr>\n",
       "    <tr>\n",
       "      <th>ID</th>\n",
       "      <th></th>\n",
       "      <th></th>\n",
       "      <th></th>\n",
       "      <th></th>\n",
       "    </tr>\n",
       "  </thead>\n",
       "  <tbody>\n",
       "    <tr>\n",
       "      <th>Caltech CUB</th>\n",
       "      <td>0.786523</td>\n",
       "      <td>0.959091</td>\n",
       "      <td>0.960081</td>\n",
       "      <td>0.998518</td>\n",
       "    </tr>\n",
       "    <tr>\n",
       "      <th>Caltech101</th>\n",
       "      <td>0.879231</td>\n",
       "      <td>0.902955</td>\n",
       "      <td>0.902773</td>\n",
       "      <td>0.823847</td>\n",
       "    </tr>\n",
       "    <tr>\n",
       "      <th>CIFAR10</th>\n",
       "      <td>0.772837</td>\n",
       "      <td>0.771989</td>\n",
       "      <td>0.771940</td>\n",
       "      <td>0.875550</td>\n",
       "    </tr>\n",
       "    <tr>\n",
       "      <th>CIFAR100</th>\n",
       "      <td>0.685841</td>\n",
       "      <td>0.671870</td>\n",
       "      <td>0.671365</td>\n",
       "      <td>0.810137</td>\n",
       "    </tr>\n",
       "    <tr>\n",
       "      <th>DTD</th>\n",
       "      <td>0.845364</td>\n",
       "      <td>0.882370</td>\n",
       "      <td>0.882503</td>\n",
       "      <td>0.934755</td>\n",
       "    </tr>\n",
       "    <tr>\n",
       "      <th>Fashion MNIST</th>\n",
       "      <td>0.882068</td>\n",
       "      <td>0.916298</td>\n",
       "      <td>0.916426</td>\n",
       "      <td>0.970769</td>\n",
       "    </tr>\n",
       "    <tr>\n",
       "      <th>Flowers102</th>\n",
       "      <td>0.783848</td>\n",
       "      <td>0.869158</td>\n",
       "      <td>0.869904</td>\n",
       "      <td>0.996787</td>\n",
       "    </tr>\n",
       "    <tr>\n",
       "      <th>GTSRB</th>\n",
       "      <td>0.465133</td>\n",
       "      <td>0.642637</td>\n",
       "      <td>0.643882</td>\n",
       "      <td>0.995142</td>\n",
       "    </tr>\n",
       "    <tr>\n",
       "      <th>TinyImagenet</th>\n",
       "      <td>0.744527</td>\n",
       "      <td>0.745367</td>\n",
       "      <td>0.744868</td>\n",
       "      <td>0.651976</td>\n",
       "    </tr>\n",
       "    <tr>\n",
       "      <th>MNIST</th>\n",
       "      <td>0.664188</td>\n",
       "      <td>0.658297</td>\n",
       "      <td>0.658044</td>\n",
       "      <td>0.813544</td>\n",
       "    </tr>\n",
       "    <tr>\n",
       "      <th>Stanford Cars</th>\n",
       "      <td>0.956274</td>\n",
       "      <td>0.997317</td>\n",
       "      <td>0.997372</td>\n",
       "      <td>0.998555</td>\n",
       "    </tr>\n",
       "    <tr>\n",
       "      <th>SVHN</th>\n",
       "      <td>0.369453</td>\n",
       "      <td>0.305044</td>\n",
       "      <td>0.304241</td>\n",
       "      <td>0.799067</td>\n",
       "    </tr>\n",
       "  </tbody>\n",
       "</table>\n",
       "</div>"
      ],
      "text/plain": [
       "               MSP-0.01   MSP-1.0  MSP-100.0   MLS-1.0\n",
       "ID                                                    \n",
       "Caltech CUB    0.786523  0.959091   0.960081  0.998518\n",
       "Caltech101     0.879231  0.902955   0.902773  0.823847\n",
       "CIFAR10        0.772837  0.771989   0.771940  0.875550\n",
       "CIFAR100       0.685841  0.671870   0.671365  0.810137\n",
       "DTD            0.845364  0.882370   0.882503  0.934755\n",
       "Fashion MNIST  0.882068  0.916298   0.916426  0.970769\n",
       "Flowers102     0.783848  0.869158   0.869904  0.996787\n",
       "GTSRB          0.465133  0.642637   0.643882  0.995142\n",
       "TinyImagenet   0.744527  0.745367   0.744868  0.651976\n",
       "MNIST          0.664188  0.658297   0.658044  0.813544\n",
       "Stanford Cars  0.956274  0.997317   0.997372  0.998555\n",
       "SVHN           0.369453  0.305044   0.304241  0.799067"
      ]
     },
     "execution_count": 9,
     "metadata": {},
     "output_type": "execute_result"
    }
   ],
   "source": [
    "mcm_df"
   ]
  },
  {
   "cell_type": "code",
   "execution_count": 10,
   "id": "0e9e59e2-9bdd-455c-80d3-ec22e771da1e",
   "metadata": {},
   "outputs": [
    {
     "name": "stderr",
     "output_type": "stream",
     "text": [
      "/tmp/ipykernel_823/52842880.py:16: MatplotlibDeprecationWarning: Support for passing numbers through unit converters is deprecated since 3.5 and support will be removed two minor releases later; use Axis.convert_units instead.\n",
      "  ax.vlines([range(len(mcm_df))], ymin=0, ymax=mcm_df.max(axis=1),color='darkgrey', alpha=0.6)\n",
      "/tmp/ipykernel_823/52842880.py:19: UserWarning: FixedFormatter should only be used together with FixedLocator\n",
      "  ax.set_xticklabels(mcm_df.index, rotation=45, ha='right')\n"
     ]
    },
    {
     "data": {
      "image/png": "[encoded data removed]",
      "text/plain": [
       "<Figure size 425.197x226.772 with 1 Axes>"
      ]
     },
     "metadata": {},
     "output_type": "display_data"
    },
    {
     "name": "stdout",
     "output_type": "stream",
     "text": [
      "Saved to /mnt/c/Users/fmeyer/Git/ood-detection/data/plots/tickz/5_1\n",
      "Saved to /mnt/c/Users/fmeyer/Git/ood-detection/data/plots/svg/5_1\n",
      "Saved to /mnt/c/Users/fmeyer/Git/ood-detection/data/plots/5_1\n"
     ]
    },
    {
     "data": {
      "text/plain": [
       "True"
      ]
     },
     "execution_count": 10,
     "metadata": {},
     "output_type": "execute_result"
    },
    {
     "data": {
      "text/plain": [
       "<Figure size 432x288 with 0 Axes>"
      ]
     },
     "metadata": {},
     "output_type": "display_data"
    }
   ],
   "source": [
    "fig, ax = plt.subplots(figsize=figsize)\n",
    "\n",
    "# mean = df[value_column].mean().round(3)\n",
    "# std = u\"\\u00B1{})\".format(df[value_column+'-std'].mean().round(2))\n",
    "# label = name + f' (\\u03bc= {mean}' + std\n",
    "value_column='MLS-1.0'\n",
    "ax.plot(mcm_df[value_column], label=value_column, color='steelblue')\n",
    "value_column ='MSP-1.0'\n",
    "ax.plot(mcm_df[value_column], label=value_column,color='mediumseagreen')\n",
    "value_column = 'MSP-0.01'\n",
    "ax.plot(mcm_df[value_column], label=value_column, color='mediumvioletred')\n",
    "\n",
    "\n",
    "\n",
    "ax.hlines(0.5, xmin=-.5, xmax=[len(mcm_df)], colors='darkgrey', alpha=0.9, linestyles='--', lw=2, label='Uninformed Guesser')\n",
    "ax.vlines([range(len(mcm_df))], ymin=0, ymax=mcm_df.max(axis=1),color='darkgrey', alpha=0.6)\n",
    "\n",
    "ax.set_ylim(0.2,1.1)\n",
    "ax.set_xticklabels(mcm_df.index, rotation=45, ha='right')\n",
    "ax.legend(loc='lower left', fontsize=6)\n",
    "ax.set_xlabel('ID Dataset')\n",
    "ax.set_ylabel('mean AUROC')\n",
    "plt.tight_layout()\n",
    "plt.show()\n",
    "save_plot(fig, 'comparisonLines_presentation', '5_1', False)"
   ]
  },
  {
   "cell_type": "markdown",
   "id": "7cef6cb4-500b-4010-ba4c-58f160309f1d",
   "metadata": {
    "tags": []
   },
   "source": [
    "## Distances"
   ]
  },
  {
   "cell_type": "code",
   "execution_count": 11,
   "id": "fb15f730-ec5f-4ba4-8c57-e6ae3088936e",
   "metadata": {},
   "outputs": [],
   "source": [
    "# get distances...\n",
    "df = get_history_from_project('thesis-far-distances', set_name_index=False)\n",
    "distances_df = df.copy()\n",
    "distances_df['ID'] = distances_df.name.apply(lambda x: x.split(\"-\")[0])\n",
    "distances_df['OOD'] = distances_df.name.apply(lambda x: x.split(\"-\")[1])\n",
    "distances_df.set_index('name', drop=True, inplace=True)\n",
    "\n",
    "# get aurocs\n",
    "auroc_df = prep_far_ood('mls-1.0')\n",
    "auroc_df.drop(['ID', 'OOD'], axis=1, inplace=True)\n",
    "\n",
    "# get zsa... tip_df = get_history_from_project('thesis-tip-adapters-16_shots-test')\n",
    "tip_df = get_history_from_project('thesis-tip-adapters-16_shots-test')\n",
    "\n",
    "#add zsa to distances\n",
    "distances_df['ID ZSA'] = distances_df['ID'].apply(lambda x: tip_df['ZEROSHOT'][x])\n",
    "distances_df['OOD ZSA'] = distances_df['OOD'].apply(lambda x: tip_df['ZEROSHOT'][x])\n",
    "\n",
    "# create full table\n",
    "monstrum = pd.concat([auroc_df, distances_df], axis=1)"
   ]
  },
  {
   "cell_type": "code",
   "execution_count": 12,
   "id": "70079796-2a84-4112-94fe-d235d83a9f11",
   "metadata": {},
   "outputs": [
    {
     "name": "stderr",
     "output_type": "stream",
     "text": [
      "/tmp/ipykernel_823/1192820532.py:1: FutureWarning: The default value of numeric_only in DataFrame.corr is deprecated. In a future version, it will default to False. Select only valid columns or specify the value of numeric_only to silence this warning.\n",
      "  monstrum.corr().max()\n"
     ]
    },
    {
     "data": {
      "text/plain": [
       "MLS-1.0    1.0\n",
       "clp        1.0\n",
       "mmd        1.0\n",
       "ID ZSA     1.0\n",
       "OOD ZSA    1.0\n",
       "dtype: float64"
      ]
     },
     "execution_count": 12,
     "metadata": {},
     "output_type": "execute_result"
    }
   ],
   "source": [
    "monstrum.corr().max()"
   ]
  },
  {
   "cell_type": "markdown",
   "id": "96107528-26e1-4b2d-b7cc-0573c1be3ba5",
   "metadata": {},
   "source": [
    "### only weak correlation"
   ]
  },
  {
   "cell_type": "code",
   "execution_count": 13,
   "id": "81672c67-2022-4a8c-9756-70ac22013947",
   "metadata": {},
   "outputs": [
    {
     "data": {
      "text/plain": [
       "MLS-1.0          0.277\n",
       "clp             -3.073\n",
       "mmd              0.015\n",
       "ID         caltech cub\n",
       "OOD        caltech cub\n",
       "ID ZSA          24.946\n",
       "OOD ZSA         24.946\n",
       "dtype: object"
      ]
     },
     "execution_count": 13,
     "metadata": {},
     "output_type": "execute_result"
    }
   ],
   "source": [
    "monstrum.round(3).min()"
   ]
  },
  {
   "cell_type": "code",
   "execution_count": 14,
   "id": "95efc423-d168-43d2-a435-a44fedec667a",
   "metadata": {},
   "outputs": [
    {
     "data": {
      "text/plain": [
       "MLS-1.0      1.0\n",
       "clp       -0.049\n",
       "mmd         0.68\n",
       "ID          svhn\n",
       "OOD         svhn\n",
       "ID ZSA     89.83\n",
       "OOD ZSA    89.83\n",
       "dtype: object"
      ]
     },
     "execution_count": 14,
     "metadata": {},
     "output_type": "execute_result"
    }
   ],
   "source": [
    "monstrum.round(3).max()"
   ]
  },
  {
   "cell_type": "code",
   "execution_count": 15,
   "id": "46e4a45d-b1e6-4506-aec5-b5a158d4af03",
   "metadata": {},
   "outputs": [],
   "source": [
    "monstrum[['MLS-1.0', 'mmd', 'clp', 'ID ZSA', 'OOD ZSA']].corr()['MLS-1.0']\n",
    "save_csv(monstrum[['MLS-1.0', 'mmd', 'clp', 'ID ZSA', 'OOD ZSA']].corr().round(3)['MLS-1.0'], '5_1','far-corr-matrix')"
   ]
  },
  {
   "cell_type": "code",
   "execution_count": 16,
   "id": "48f168e6-b95e-476b-ad61-8711feb0fa61",
   "metadata": {},
   "outputs": [
    {
     "data": {
      "text/html": [
       "<div>\n",
       "<style scoped>\n",
       "    .dataframe tbody tr th:only-of-type {\n",
       "        vertical-align: middle;\n",
       "    }\n",
       "\n",
       "    .dataframe tbody tr th {\n",
       "        vertical-align: top;\n",
       "    }\n",
       "\n",
       "    .dataframe thead th {\n",
       "        text-align: right;\n",
       "    }\n",
       "</style>\n",
       "<table border=\"1\" class=\"dataframe\">\n",
       "  <thead>\n",
       "    <tr style=\"text-align: right;\">\n",
       "      <th></th>\n",
       "      <th>MLS-1.0</th>\n",
       "      <th>mmd</th>\n",
       "      <th>clp</th>\n",
       "    </tr>\n",
       "  </thead>\n",
       "  <tbody>\n",
       "    <tr>\n",
       "      <th>MLS-1.0</th>\n",
       "      <td>1.000000</td>\n",
       "      <td>0.410465</td>\n",
       "      <td>-0.118560</td>\n",
       "    </tr>\n",
       "    <tr>\n",
       "      <th>mmd</th>\n",
       "      <td>0.410465</td>\n",
       "      <td>1.000000</td>\n",
       "      <td>0.560099</td>\n",
       "    </tr>\n",
       "    <tr>\n",
       "      <th>clp</th>\n",
       "      <td>-0.118560</td>\n",
       "      <td>0.560099</td>\n",
       "      <td>1.000000</td>\n",
       "    </tr>\n",
       "  </tbody>\n",
       "</table>\n",
       "</div>"
      ],
      "text/plain": [
       "          MLS-1.0       mmd       clp\n",
       "MLS-1.0  1.000000  0.410465 -0.118560\n",
       "mmd      0.410465  1.000000  0.560099\n",
       "clp     -0.118560  0.560099  1.000000"
      ]
     },
     "execution_count": 16,
     "metadata": {},
     "output_type": "execute_result"
    }
   ],
   "source": [
    "monstrum[(monstrum['MLS-1.0'] >0.98) & (monstrum['ID'].isin(['stanford cars','caltech cub']))][['MLS-1.0', 'mmd', 'clp']].corr()"
   ]
  },
  {
   "cell_type": "markdown",
   "id": "b36663d5-dab4-4d43-bb83-27a04e9c4d4f",
   "metadata": {
    "tags": []
   },
   "source": [
    "### Deeper look into MSP 01"
   ]
  },
  {
   "cell_type": "code",
   "execution_count": 17,
   "id": "0ae5d156-4893-4860-95dd-9b9d1deb3fae",
   "metadata": {},
   "outputs": [],
   "source": [
    "working_df = get_history_from_project(frame_template.format('mls-1.0'), set_name_index=False)\n",
    "\n",
    "working_df['ID'] = working_df.name.apply(lambda x: x.split(\"-\")[0])\n",
    "working_df['OOD'] = working_df.name.apply(lambda x: x.split(\"-\")[1])"
   ]
  },
  {
   "cell_type": "code",
   "execution_count": 18,
   "id": "68a8070c-d154-4658-80a8-dfed32e836c8",
   "metadata": {},
   "outputs": [
    {
     "data": {
      "text/html": [
       "<div>\n",
       "<style scoped>\n",
       "    .dataframe tbody tr th:only-of-type {\n",
       "        vertical-align: middle;\n",
       "    }\n",
       "\n",
       "    .dataframe tbody tr th {\n",
       "        vertical-align: top;\n",
       "    }\n",
       "\n",
       "    .dataframe thead th {\n",
       "        text-align: right;\n",
       "    }\n",
       "</style>\n",
       "<table border=\"1\" class=\"dataframe\">\n",
       "  <thead>\n",
       "    <tr style=\"text-align: right;\">\n",
       "      <th></th>\n",
       "      <th>AUROC</th>\n",
       "    </tr>\n",
       "    <tr>\n",
       "      <th>ID</th>\n",
       "      <th></th>\n",
       "    </tr>\n",
       "  </thead>\n",
       "  <tbody>\n",
       "    <tr>\n",
       "      <th>stanford cars</th>\n",
       "      <td>0.998555</td>\n",
       "    </tr>\n",
       "    <tr>\n",
       "      <th>caltech cub</th>\n",
       "      <td>0.998518</td>\n",
       "    </tr>\n",
       "    <tr>\n",
       "      <th>flowers102</th>\n",
       "      <td>0.996787</td>\n",
       "    </tr>\n",
       "    <tr>\n",
       "      <th>gtsrb</th>\n",
       "      <td>0.995142</td>\n",
       "    </tr>\n",
       "    <tr>\n",
       "      <th>fashion mnist</th>\n",
       "      <td>0.970769</td>\n",
       "    </tr>\n",
       "    <tr>\n",
       "      <th>dtd</th>\n",
       "      <td>0.934755</td>\n",
       "    </tr>\n",
       "    <tr>\n",
       "      <th>cifar10</th>\n",
       "      <td>0.875550</td>\n",
       "    </tr>\n",
       "    <tr>\n",
       "      <th>caltech101</th>\n",
       "      <td>0.823847</td>\n",
       "    </tr>\n",
       "    <tr>\n",
       "      <th>mnist</th>\n",
       "      <td>0.813544</td>\n",
       "    </tr>\n",
       "    <tr>\n",
       "      <th>cifar100</th>\n",
       "      <td>0.810137</td>\n",
       "    </tr>\n",
       "    <tr>\n",
       "      <th>svhn</th>\n",
       "      <td>0.799067</td>\n",
       "    </tr>\n",
       "    <tr>\n",
       "      <th>imagenet</th>\n",
       "      <td>0.651976</td>\n",
       "    </tr>\n",
       "  </tbody>\n",
       "</table>\n",
       "</div>"
      ],
      "text/plain": [
       "                  AUROC\n",
       "ID                     \n",
       "stanford cars  0.998555\n",
       "caltech cub    0.998518\n",
       "flowers102     0.996787\n",
       "gtsrb          0.995142\n",
       "fashion mnist  0.970769\n",
       "dtd            0.934755\n",
       "cifar10        0.875550\n",
       "caltech101     0.823847\n",
       "mnist          0.813544\n",
       "cifar100       0.810137\n",
       "svhn           0.799067\n",
       "imagenet       0.651976"
      ]
     },
     "execution_count": 18,
     "metadata": {},
     "output_type": "execute_result"
    }
   ],
   "source": [
    "working_df.groupby('ID').mean('AUROC').sort_values(by='AUROC', ascending=False)"
   ]
  },
  {
   "cell_type": "markdown",
   "id": "a2b3d8e9-5d9d-450c-962d-7df1bbff1975",
   "metadata": {},
   "source": [
    "## Perfectly over 95% on 67!!! combinations --> to easy in many settings or the method is very good"
   ]
  },
  {
   "cell_type": "code",
   "execution_count": 19,
   "id": "884fc27c-8092-495c-bddc-139384d1be2c",
   "metadata": {},
   "outputs": [
    {
     "data": {
      "text/plain": [
       "AUROC                   1.0\n",
       "name     svhn-stanford cars\n",
       "ID                     svhn\n",
       "OOD                    svhn\n",
       "dtype: object"
      ]
     },
     "execution_count": 19,
     "metadata": {},
     "output_type": "execute_result"
    }
   ],
   "source": [
    "working_df.max()"
   ]
  },
  {
   "cell_type": "code",
   "execution_count": 20,
   "id": "c9a438b8-d256-41d4-acf4-517ee710c2ff",
   "metadata": {},
   "outputs": [
    {
     "data": {
      "text/plain": [
       "ID\n",
       "caltech cub      11\n",
       "stanford cars    11\n",
       "flowers102       10\n",
       "gtsrb            10\n",
       "fashion mnist     3\n",
       "cifar10           1\n",
       "dtd               1\n",
       "dtype: int64"
      ]
     },
     "execution_count": 20,
     "metadata": {},
     "output_type": "execute_result"
    }
   ],
   "source": [
    "# count by id\n",
    "working_df[(working_df['AUROC'] > 0.99)].value_counts('ID')"
   ]
  },
  {
   "cell_type": "code",
   "execution_count": 21,
   "id": "2ad2989f-92c8-482d-8574-6bfde9f44d2e",
   "metadata": {},
   "outputs": [
    {
     "data": {
      "text/html": [
       "<div>\n",
       "<style scoped>\n",
       "    .dataframe tbody tr th:only-of-type {\n",
       "        vertical-align: middle;\n",
       "    }\n",
       "\n",
       "    .dataframe tbody tr th {\n",
       "        vertical-align: top;\n",
       "    }\n",
       "\n",
       "    .dataframe thead th {\n",
       "        text-align: right;\n",
       "    }\n",
       "</style>\n",
       "<table border=\"1\" class=\"dataframe\">\n",
       "  <thead>\n",
       "    <tr style=\"text-align: right;\">\n",
       "      <th></th>\n",
       "      <th>AUROC</th>\n",
       "      <th>name</th>\n",
       "      <th>ID</th>\n",
       "      <th>OOD</th>\n",
       "    </tr>\n",
       "  </thead>\n",
       "  <tbody>\n",
       "    <tr>\n",
       "      <th>2</th>\n",
       "      <td>0.976149</td>\n",
       "      <td>svhn-imagenet</td>\n",
       "      <td>svhn</td>\n",
       "      <td>imagenet</td>\n",
       "    </tr>\n",
       "    <tr>\n",
       "      <th>9</th>\n",
       "      <td>0.971963</td>\n",
       "      <td>svhn-caltech cub</td>\n",
       "      <td>svhn</td>\n",
       "      <td>caltech cub</td>\n",
       "    </tr>\n",
       "    <tr>\n",
       "      <th>11</th>\n",
       "      <td>0.999986</td>\n",
       "      <td>stanford cars-svhn</td>\n",
       "      <td>stanford cars</td>\n",
       "      <td>svhn</td>\n",
       "    </tr>\n",
       "    <tr>\n",
       "      <th>12</th>\n",
       "      <td>1.000000</td>\n",
       "      <td>stanford cars-mnist</td>\n",
       "      <td>stanford cars</td>\n",
       "      <td>mnist</td>\n",
       "    </tr>\n",
       "    <tr>\n",
       "      <th>13</th>\n",
       "      <td>0.998066</td>\n",
       "      <td>stanford cars-imagenet</td>\n",
       "      <td>stanford cars</td>\n",
       "      <td>imagenet</td>\n",
       "    </tr>\n",
       "    <tr>\n",
       "      <th>...</th>\n",
       "      <td>...</td>\n",
       "      <td>...</td>\n",
       "      <td>...</td>\n",
       "      <td>...</td>\n",
       "    </tr>\n",
       "    <tr>\n",
       "      <th>117</th>\n",
       "      <td>0.999729</td>\n",
       "      <td>caltech cub-dtd</td>\n",
       "      <td>caltech cub</td>\n",
       "      <td>dtd</td>\n",
       "    </tr>\n",
       "    <tr>\n",
       "      <th>118</th>\n",
       "      <td>0.998458</td>\n",
       "      <td>caltech cub-cifar100</td>\n",
       "      <td>caltech cub</td>\n",
       "      <td>cifar100</td>\n",
       "    </tr>\n",
       "    <tr>\n",
       "      <th>119</th>\n",
       "      <td>0.991011</td>\n",
       "      <td>caltech cub-cifar10</td>\n",
       "      <td>caltech cub</td>\n",
       "      <td>cifar10</td>\n",
       "    </tr>\n",
       "    <tr>\n",
       "      <th>120</th>\n",
       "      <td>0.997648</td>\n",
       "      <td>caltech cub-caltech101</td>\n",
       "      <td>caltech cub</td>\n",
       "      <td>caltech101</td>\n",
       "    </tr>\n",
       "    <tr>\n",
       "      <th>122</th>\n",
       "      <td>0.950042</td>\n",
       "      <td>caltech101-stanford cars</td>\n",
       "      <td>caltech101</td>\n",
       "      <td>stanford cars</td>\n",
       "    </tr>\n",
       "  </tbody>\n",
       "</table>\n",
       "<p>67 rows × 4 columns</p>\n",
       "</div>"
      ],
      "text/plain": [
       "        AUROC                      name             ID            OOD\n",
       "2    0.976149             svhn-imagenet           svhn       imagenet\n",
       "9    0.971963          svhn-caltech cub           svhn    caltech cub\n",
       "11   0.999986        stanford cars-svhn  stanford cars           svhn\n",
       "12   1.000000       stanford cars-mnist  stanford cars          mnist\n",
       "13   0.998066    stanford cars-imagenet  stanford cars       imagenet\n",
       "..        ...                       ...            ...            ...\n",
       "117  0.999729           caltech cub-dtd    caltech cub            dtd\n",
       "118  0.998458      caltech cub-cifar100    caltech cub       cifar100\n",
       "119  0.991011       caltech cub-cifar10    caltech cub        cifar10\n",
       "120  0.997648    caltech cub-caltech101    caltech cub     caltech101\n",
       "122  0.950042  caltech101-stanford cars     caltech101  stanford cars\n",
       "\n",
       "[67 rows x 4 columns]"
      ]
     },
     "execution_count": 21,
     "metadata": {},
     "output_type": "execute_result"
    }
   ],
   "source": [
    "# count by od\n",
    "working_df[(working_df['AUROC'] > 0.95)]"
   ]
  },
  {
   "cell_type": "markdown",
   "id": "a439a26d-addf-4a09-af7c-e7c6dbcf7fa9",
   "metadata": {
    "tags": []
   },
   "source": [
    "# Not working on: 5 with 50% +-5. "
   ]
  },
  {
   "cell_type": "code",
   "execution_count": 22,
   "id": "dbe9f668-bbd4-471a-9629-267e21f1aeda",
   "metadata": {},
   "outputs": [
    {
     "data": {
      "text/html": [
       "<div>\n",
       "<style scoped>\n",
       "    .dataframe tbody tr th:only-of-type {\n",
       "        vertical-align: middle;\n",
       "    }\n",
       "\n",
       "    .dataframe tbody tr th {\n",
       "        vertical-align: top;\n",
       "    }\n",
       "\n",
       "    .dataframe thead th {\n",
       "        text-align: right;\n",
       "    }\n",
       "</style>\n",
       "<table border=\"1\" class=\"dataframe\">\n",
       "  <thead>\n",
       "    <tr style=\"text-align: right;\">\n",
       "      <th></th>\n",
       "      <th>AUROC</th>\n",
       "      <th>name</th>\n",
       "      <th>ID</th>\n",
       "      <th>OOD</th>\n",
       "    </tr>\n",
       "  </thead>\n",
       "  <tbody>\n",
       "    <tr>\n",
       "      <th>38</th>\n",
       "      <td>0.481631</td>\n",
       "      <td>imagenet-fashion mnist</td>\n",
       "      <td>imagenet</td>\n",
       "      <td>fashion mnist</td>\n",
       "    </tr>\n",
       "  </tbody>\n",
       "</table>\n",
       "</div>"
      ],
      "text/plain": [
       "       AUROC                    name        ID            OOD\n",
       "38  0.481631  imagenet-fashion mnist  imagenet  fashion mnist"
      ]
     },
     "execution_count": 22,
     "metadata": {},
     "output_type": "execute_result"
    }
   ],
   "source": [
    "working_df[(working_df['AUROC'] <0.53) & (working_df['AUROC'] > 0.47)]"
   ]
  },
  {
   "cell_type": "markdown",
   "id": "7306af03-4cd0-4ff6-a66c-c9331a102b19",
   "metadata": {},
   "source": [
    "## Confused on only 5"
   ]
  },
  {
   "cell_type": "code",
   "execution_count": 23,
   "id": "ed166fbf-fade-4b62-b956-a7b1a60271dc",
   "metadata": {},
   "outputs": [
    {
     "data": {
      "text/html": [
       "<div>\n",
       "<style scoped>\n",
       "    .dataframe tbody tr th:only-of-type {\n",
       "        vertical-align: middle;\n",
       "    }\n",
       "\n",
       "    .dataframe tbody tr th {\n",
       "        vertical-align: top;\n",
       "    }\n",
       "\n",
       "    .dataframe thead th {\n",
       "        text-align: right;\n",
       "    }\n",
       "</style>\n",
       "<table border=\"1\" class=\"dataframe\">\n",
       "  <thead>\n",
       "    <tr style=\"text-align: right;\">\n",
       "      <th></th>\n",
       "      <th>AUROC</th>\n",
       "      <th>name</th>\n",
       "      <th>ID</th>\n",
       "      <th>OOD</th>\n",
       "    </tr>\n",
       "  </thead>\n",
       "  <tbody>\n",
       "    <tr>\n",
       "      <th>1</th>\n",
       "      <td>0.466686</td>\n",
       "      <td>svhn-mnist</td>\n",
       "      <td>svhn</td>\n",
       "      <td>mnist</td>\n",
       "    </tr>\n",
       "    <tr>\n",
       "      <th>3</th>\n",
       "      <td>0.276946</td>\n",
       "      <td>svhn-gtsrb</td>\n",
       "      <td>svhn</td>\n",
       "      <td>gtsrb</td>\n",
       "    </tr>\n",
       "    <tr>\n",
       "      <th>25</th>\n",
       "      <td>0.373910</td>\n",
       "      <td>mnist-gtsrb</td>\n",
       "      <td>mnist</td>\n",
       "      <td>gtsrb</td>\n",
       "    </tr>\n",
       "    <tr>\n",
       "      <th>38</th>\n",
       "      <td>0.481631</td>\n",
       "      <td>imagenet-fashion mnist</td>\n",
       "      <td>imagenet</td>\n",
       "      <td>fashion mnist</td>\n",
       "    </tr>\n",
       "    <tr>\n",
       "      <th>108</th>\n",
       "      <td>0.456456</td>\n",
       "      <td>cifar10-caltech cub</td>\n",
       "      <td>cifar10</td>\n",
       "      <td>caltech cub</td>\n",
       "    </tr>\n",
       "  </tbody>\n",
       "</table>\n",
       "</div>"
      ],
      "text/plain": [
       "        AUROC                    name        ID            OOD\n",
       "1    0.466686              svhn-mnist      svhn          mnist\n",
       "3    0.276946              svhn-gtsrb      svhn          gtsrb\n",
       "25   0.373910             mnist-gtsrb     mnist          gtsrb\n",
       "38   0.481631  imagenet-fashion mnist  imagenet  fashion mnist\n",
       "108  0.456456     cifar10-caltech cub   cifar10    caltech cub"
      ]
     },
     "execution_count": 23,
     "metadata": {},
     "output_type": "execute_result"
    }
   ],
   "source": [
    "working_df[(working_df['AUROC'] <0.50)]"
   ]
  },
  {
   "cell_type": "markdown",
   "id": "8a6744f0-df2f-4377-80cf-77fc52c583d6",
   "metadata": {},
   "source": [
    "## Look into one run specifically"
   ]
  },
  {
   "cell_type": "code",
   "execution_count": 24,
   "id": "e23d00ed-949a-4a5e-af10-ca626f056600",
   "metadata": {},
   "outputs": [],
   "source": [
    "mls1 = prep_far_ood('mls-1.0')"
   ]
  },
  {
   "cell_type": "code",
   "execution_count": 25,
   "id": "3fd003d3-a415-4a3e-93c5-40f387af25e7",
   "metadata": {},
   "outputs": [
    {
     "data": {
      "text/html": [
       "<div>\n",
       "<style scoped>\n",
       "    .dataframe tbody tr th:only-of-type {\n",
       "        vertical-align: middle;\n",
       "    }\n",
       "\n",
       "    .dataframe tbody tr th {\n",
       "        vertical-align: top;\n",
       "    }\n",
       "\n",
       "    .dataframe thead th {\n",
       "        text-align: right;\n",
       "    }\n",
       "</style>\n",
       "<table border=\"1\" class=\"dataframe\">\n",
       "  <thead>\n",
       "    <tr style=\"text-align: right;\">\n",
       "      <th></th>\n",
       "      <th>MLS-1.0</th>\n",
       "      <th>ID</th>\n",
       "      <th>OOD</th>\n",
       "    </tr>\n",
       "    <tr>\n",
       "      <th>name</th>\n",
       "      <th></th>\n",
       "      <th></th>\n",
       "      <th></th>\n",
       "    </tr>\n",
       "  </thead>\n",
       "  <tbody>\n",
       "    <tr>\n",
       "      <th>cifar100-cifar10</th>\n",
       "      <td>0.689235</td>\n",
       "      <td>cifar100</td>\n",
       "      <td>cifar10</td>\n",
       "    </tr>\n",
       "  </tbody>\n",
       "</table>\n",
       "</div>"
      ],
      "text/plain": [
       "                   MLS-1.0        ID      OOD\n",
       "name                                         \n",
       "cifar100-cifar10  0.689235  cifar100  cifar10"
      ]
     },
     "execution_count": 25,
     "metadata": {},
     "output_type": "execute_result"
    }
   ],
   "source": [
    "mls1[(mls1['ID'] == 'cifar100') & (mls1['OOD'] == 'cifar10')]"
   ]
  },
  {
   "cell_type": "code",
   "execution_count": 26,
   "id": "2a27b25b-ef78-401f-99de-0dd22e77a233",
   "metadata": {},
   "outputs": [
    {
     "data": {
      "text/html": [
       "<div>\n",
       "<style scoped>\n",
       "    .dataframe tbody tr th:only-of-type {\n",
       "        vertical-align: middle;\n",
       "    }\n",
       "\n",
       "    .dataframe tbody tr th {\n",
       "        vertical-align: top;\n",
       "    }\n",
       "\n",
       "    .dataframe thead th {\n",
       "        text-align: right;\n",
       "    }\n",
       "</style>\n",
       "<table border=\"1\" class=\"dataframe\">\n",
       "  <thead>\n",
       "    <tr style=\"text-align: right;\">\n",
       "      <th></th>\n",
       "      <th>MLS-1.0</th>\n",
       "      <th>ID</th>\n",
       "      <th>OOD</th>\n",
       "    </tr>\n",
       "    <tr>\n",
       "      <th>name</th>\n",
       "      <th></th>\n",
       "      <th></th>\n",
       "      <th></th>\n",
       "    </tr>\n",
       "  </thead>\n",
       "  <tbody>\n",
       "    <tr>\n",
       "      <th>cifar10-cifar100</th>\n",
       "      <td>0.865039</td>\n",
       "      <td>cifar10</td>\n",
       "      <td>cifar100</td>\n",
       "    </tr>\n",
       "  </tbody>\n",
       "</table>\n",
       "</div>"
      ],
      "text/plain": [
       "                   MLS-1.0       ID       OOD\n",
       "name                                         \n",
       "cifar10-cifar100  0.865039  cifar10  cifar100"
      ]
     },
     "execution_count": 26,
     "metadata": {},
     "output_type": "execute_result"
    }
   ],
   "source": [
    "mls1[(mls1['ID'] == 'cifar10') & (mls1['OOD'] == 'cifar100')]"
   ]
  },
  {
   "cell_type": "code",
   "execution_count": 27,
   "id": "0bb84339-6c17-47be-ab2b-77d3254018f6",
   "metadata": {},
   "outputs": [
    {
     "data": {
      "text/html": [
       "<div>\n",
       "<style scoped>\n",
       "    .dataframe tbody tr th:only-of-type {\n",
       "        vertical-align: middle;\n",
       "    }\n",
       "\n",
       "    .dataframe tbody tr th {\n",
       "        vertical-align: top;\n",
       "    }\n",
       "\n",
       "    .dataframe thead th {\n",
       "        text-align: right;\n",
       "    }\n",
       "</style>\n",
       "<table border=\"1\" class=\"dataframe\">\n",
       "  <thead>\n",
       "    <tr style=\"text-align: right;\">\n",
       "      <th></th>\n",
       "      <th>MLS-1.0</th>\n",
       "      <th>ID</th>\n",
       "      <th>OOD</th>\n",
       "    </tr>\n",
       "    <tr>\n",
       "      <th>name</th>\n",
       "      <th></th>\n",
       "      <th></th>\n",
       "      <th></th>\n",
       "    </tr>\n",
       "  </thead>\n",
       "  <tbody>\n",
       "    <tr>\n",
       "      <th>cifar10-svhn</th>\n",
       "      <td>0.912709</td>\n",
       "      <td>cifar10</td>\n",
       "      <td>svhn</td>\n",
       "    </tr>\n",
       "  </tbody>\n",
       "</table>\n",
       "</div>"
      ],
      "text/plain": [
       "               MLS-1.0       ID   OOD\n",
       "name                                 \n",
       "cifar10-svhn  0.912709  cifar10  svhn"
      ]
     },
     "execution_count": 27,
     "metadata": {},
     "output_type": "execute_result"
    }
   ],
   "source": [
    "mls1[(mls1['ID'] == 'cifar10') & (mls1['OOD'] == 'svhn')]"
   ]
  }
 ],
 "metadata": {
  "kernelspec": {
   "display_name": "Python 3 (ipykernel)",
   "language": "python",
   "name": "python3"
  },
  "language_info": {
   "codemirror_mode": {
    "name": "ipython",
    "version": 3
   },
   "file_extension": ".py",
   "mimetype": "text/x-python",
   "name": "python",
   "nbconvert_exporter": "python",
   "pygments_lexer": "ipython3",
   "version": "3.8.13"
  }
 },
 "nbformat": 4,
 "nbformat_minor": 5
}
