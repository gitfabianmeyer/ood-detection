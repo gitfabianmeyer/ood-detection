{
 "cells": [
  {
   "cell_type": "code",
   "execution_count": 1,
   "id": "d9e94636-159e-423b-a281-c3d966d7bf5f",
   "metadata": {},
   "outputs": [
    {
     "name": "stderr",
     "output_type": "stream",
     "text": [
      "/home/fmeyer/miniconda3/envs/ood/lib/python3.8/site-packages/scipy/__init__.py:138: UserWarning: A NumPy version >=1.16.5 and <1.23.0 is required for this version of SciPy (detected version 1.24.1)\n",
      "  warnings.warn(f\"A NumPy version >={np_minversion} and <{np_maxversion} is required for this version of \"\n",
      "/home/fmeyer/miniconda3/envs/ood/lib/python3.8/site-packages/tqdm/auto.py:22: TqdmWarning: IProgress not found. Please update jupyter and ipywidgets. See https://ipywidgets.readthedocs.io/en/stable/user_install.html\n",
      "  from .autonotebook import tqdm as notebook_tqdm\n"
     ]
    }
   ],
   "source": [
    "%load_ext autoreload\n",
    "%autoreload 2\n",
    "\n",
    "import matplotlib.pyplot as plt\n",
    "# Configure Matplotlib to use LaTeX for text rendering\n",
    "plt.rcParams['text.usetex'] = True\n",
    "\n",
    "# Set fonts for Matplotlib\n",
    "plt.rcParams['font.serif'] = 'Palatino'\n",
    "plt.rcParams['font.sans-serif'] = 'Helvetica'\n",
    "plt.rcParams['font.monospace'] = 'Courier'\n",
    "plt.rcParams['font.size'] = 11\n",
    "width_cm = 15\n",
    "height_cm = 8\n",
    "# Convert centimeters to inches\n",
    "width_in = width_cm / 2.54\n",
    "height_in = height_cm / 2.54\n",
    "import seaborn as sns\n",
    "sns.set_theme()\n",
    "figsize= (width_in, height_in)\n",
    "import os\n",
    "from metrics.plotting_utils import save_plot ,get_history_from_project\n",
    "import numpy as np\n",
    "import seaborn as sns\n",
    "import matplotlib.pyplot as plt\n",
    "import pandas as pd \n",
    "import wandb\n",
    "api = wandb.Api()\n",
    "from ood_detection.config import Config\n",
    "from datasets.config import DATASETS_DICT\n"
   ]
  },
  {
   "cell_type": "code",
   "execution_count": 2,
   "id": "96ba8542-8cdf-4757-a92e-03395f65e1f9",
   "metadata": {},
   "outputs": [
    {
     "ename": "KeyError",
     "evalue": "\"None of ['name'] are in the columns\"",
     "output_type": "error",
     "traceback": [
      "\u001b[0;31m---------------------------------------------------------------------------\u001b[0m",
      "\u001b[0;31mKeyError\u001b[0m                                  Traceback (most recent call last)",
      "Input \u001b[0;32mIn [2]\u001b[0m, in \u001b[0;36m<cell line: 1>\u001b[0;34m()\u001b[0m\n\u001b[0;32m----> 1\u001b[0m df_log_class \u001b[38;5;241m=\u001b[39m \u001b[43mget_history_from_project\u001b[49m\u001b[43m(\u001b[49m\u001b[38;5;124;43m\"\u001b[39;49m\u001b[38;5;124;43mthesis-logreg-classification\u001b[39;49m\u001b[38;5;124;43m\"\u001b[39;49m\u001b[43m)\u001b[49m\u001b[38;5;241;43m.\u001b[39;49m\u001b[43mset_index\u001b[49m\u001b[43m(\u001b[49m\u001b[38;5;124;43m'\u001b[39;49m\u001b[38;5;124;43mname\u001b[39;49m\u001b[38;5;124;43m'\u001b[39;49m\u001b[43m,\u001b[49m\u001b[43m \u001b[49m\u001b[43mdrop\u001b[49m\u001b[38;5;241;43m=\u001b[39;49m\u001b[38;5;28;43;01mTrue\u001b[39;49;00m\u001b[43m)\u001b[49m\u001b[38;5;241m.\u001b[39mdrop(\u001b[38;5;124m'\u001b[39m\u001b[38;5;124mC\u001b[39m\u001b[38;5;124m'\u001b[39m, axis\u001b[38;5;241m=\u001b[39m\u001b[38;5;241m1\u001b[39m)\n\u001b[1;32m      2\u001b[0m df_log_large_class \u001b[38;5;241m=\u001b[39m get_history_from_project(\u001b[38;5;124m\"\u001b[39m\u001b[38;5;124mthesis-classification-logistic_head-large\u001b[39m\u001b[38;5;124m\"\u001b[39m)\u001b[38;5;241m.\u001b[39mset_index(\u001b[38;5;124m'\u001b[39m\u001b[38;5;124mname\u001b[39m\u001b[38;5;124m'\u001b[39m, drop\u001b[38;5;241m=\u001b[39m\u001b[38;5;28;01mTrue\u001b[39;00m)\n\u001b[1;32m      3\u001b[0m df_log_large_class \u001b[38;5;241m=\u001b[39m df_log_large_class\u001b[38;5;241m.\u001b[39mrename(columns\u001b[38;5;241m=\u001b[39m{\u001b[38;5;124m'\u001b[39m\u001b[38;5;124mtest accuracy\u001b[39m\u001b[38;5;124m'\u001b[39m:\u001b[38;5;124m'\u001b[39m\u001b[38;5;124mLARGE acc\u001b[39m\u001b[38;5;124m'\u001b[39m})\n",
      "File \u001b[0;32m~/miniconda3/envs/ood/lib/python3.8/site-packages/pandas/util/_decorators.py:331\u001b[0m, in \u001b[0;36mdeprecate_nonkeyword_arguments.<locals>.decorate.<locals>.wrapper\u001b[0;34m(*args, **kwargs)\u001b[0m\n\u001b[1;32m    325\u001b[0m \u001b[38;5;28;01mif\u001b[39;00m \u001b[38;5;28mlen\u001b[39m(args) \u001b[38;5;241m>\u001b[39m num_allow_args:\n\u001b[1;32m    326\u001b[0m     warnings\u001b[38;5;241m.\u001b[39mwarn(\n\u001b[1;32m    327\u001b[0m         msg\u001b[38;5;241m.\u001b[39mformat(arguments\u001b[38;5;241m=\u001b[39m_format_argument_list(allow_args)),\n\u001b[1;32m    328\u001b[0m         \u001b[38;5;167;01mFutureWarning\u001b[39;00m,\n\u001b[1;32m    329\u001b[0m         stacklevel\u001b[38;5;241m=\u001b[39mfind_stack_level(),\n\u001b[1;32m    330\u001b[0m     )\n\u001b[0;32m--> 331\u001b[0m \u001b[38;5;28;01mreturn\u001b[39;00m \u001b[43mfunc\u001b[49m\u001b[43m(\u001b[49m\u001b[38;5;241;43m*\u001b[39;49m\u001b[43margs\u001b[49m\u001b[43m,\u001b[49m\u001b[43m \u001b[49m\u001b[38;5;241;43m*\u001b[39;49m\u001b[38;5;241;43m*\u001b[39;49m\u001b[43mkwargs\u001b[49m\u001b[43m)\u001b[49m\n",
      "File \u001b[0;32m~/miniconda3/envs/ood/lib/python3.8/site-packages/pandas/core/frame.py:6009\u001b[0m, in \u001b[0;36mDataFrame.set_index\u001b[0;34m(self, keys, drop, append, inplace, verify_integrity)\u001b[0m\n\u001b[1;32m   6006\u001b[0m                 missing\u001b[38;5;241m.\u001b[39mappend(col)\n\u001b[1;32m   6008\u001b[0m \u001b[38;5;28;01mif\u001b[39;00m missing:\n\u001b[0;32m-> 6009\u001b[0m     \u001b[38;5;28;01mraise\u001b[39;00m \u001b[38;5;167;01mKeyError\u001b[39;00m(\u001b[38;5;124mf\u001b[39m\u001b[38;5;124m\"\u001b[39m\u001b[38;5;124mNone of \u001b[39m\u001b[38;5;132;01m{\u001b[39;00mmissing\u001b[38;5;132;01m}\u001b[39;00m\u001b[38;5;124m are in the columns\u001b[39m\u001b[38;5;124m\"\u001b[39m)\n\u001b[1;32m   6011\u001b[0m \u001b[38;5;28;01mif\u001b[39;00m inplace:\n\u001b[1;32m   6012\u001b[0m     frame \u001b[38;5;241m=\u001b[39m \u001b[38;5;28mself\u001b[39m\n",
      "\u001b[0;31mKeyError\u001b[0m: \"None of ['name'] are in the columns\""
     ]
    }
   ],
   "source": [
    "df_log_class = get_history_from_project(\"thesis-logreg-classification\").set_index('name', drop=True).drop('C', axis=1)\n",
    "df_log_large_class = get_history_from_project(\"thesis-classification-logistic_head-large\").set_index('name', drop=True)\n",
    "df_log_large_class = df_log_large_class.rename(columns={'test accuracy':'LARGE acc'})\n",
    "full_log_class = pd.concat([df_log_class, df_log_large_class],axis=1)"
   ]
  },
  {
   "cell_type": "code",
   "execution_count": null,
   "id": "b14f64ab-8b7c-4b6f-9911-8f1aa48b3f8c",
   "metadata": {},
   "outputs": [],
   "source": [
    "print(full_log_class.mean())\n",
    "full_log_class.plot(kind='bar', figsize=fig_size_bar)"
   ]
  },
  {
   "cell_type": "code",
   "execution_count": null,
   "id": "5fee3259-6aed-4061-aafd-23ade886e1c1",
   "metadata": {},
   "outputs": [],
   "source": [
    "df_log = get_history_from_project('thesis-ood-benchmark-logistic')\n",
    "df_log = df_log.drop('std', axis=1).set_index('name', drop=True).rename(columns={'AUC':'LARGE log'})\n",
    "df_lin = get_history_from_project('thesis-ood-benchmark-linear')\n",
    "df_lin = df_lin.drop('std', axis=1).set_index('name', drop=True).rename(columns={'AUC':'LARGE lin'})"
   ]
  },
  {
   "cell_type": "code",
   "execution_count": null,
   "id": "5316af82-5ff8-45ff-9fea-14035bc670fb",
   "metadata": {},
   "outputs": [],
   "source": [
    "full = pd.concat([df_lin, df_log],axis=1)\n",
    "print(full.mean())\n",
    "full.plot(kind='bar',figsize=fig_size_bar)"
   ]
  },
  {
   "cell_type": "code",
   "execution_count": null,
   "id": "e664b52d-6c4a-40eb-8d1d-987fc0f4e8c0",
   "metadata": {},
   "outputs": [],
   "source": [
    "df_baseline = get_history_from_project('thesis-ood_baseline-all-full_classes-test_sets')\n",
    "df_baseline = df_baseline.drop(['lin_std', 'log_std', 'lin_AUC'], axis=1).set_index('name', drop=True).rename(columns={'AUC':'log'})\n"
   ]
  },
  {
   "cell_type": "code",
   "execution_count": null,
   "id": "409694aa-5fbb-4497-96ad-3359c48edeca",
   "metadata": {},
   "outputs": [],
   "source": [
    "comparison = pd.concat([df_log, df_baseline], axis=1)"
   ]
  },
  {
   "cell_type": "code",
   "execution_count": null,
   "id": "26f49543-cc8e-42d2-8db4-06a9e00f2c71",
   "metadata": {},
   "outputs": [],
   "source": [
    "print(comparison.mean())\n",
    "comparison.plot(kind='bar',figsize=fig_size_bar)"
   ]
  },
  {
   "cell_type": "markdown",
   "id": "f2670b7d-115d-4f8d-bb5a-ae3276ccc0cb",
   "metadata": {},
   "source": [
    "## Ablation templates"
   ]
  },
  {
   "cell_type": "code",
   "execution_count": null,
   "id": "f0a9c99c-3ba9-4cfa-ab08-0043308cdf63",
   "metadata": {},
   "outputs": [],
   "source": [
    "custom"
   ]
  },
  {
   "cell_type": "code",
   "execution_count": null,
   "id": "fdcf3d76-8659-45d2-ad52-a8bb41f00366",
   "metadata": {},
   "outputs": [],
   "source": [
    "custom  = get_history_from_project('thesis-near_ood-temperature-ct-temps').drop(['msp', 'mlp_std', 'msp_std'], axis=1).set_index('name', drop=True)\n",
    "custom = custom.rename(columns={'mlp':'custom'})"
   ]
  },
  {
   "cell_type": "code",
   "execution_count": null,
   "id": "57491ee1-eeb1-4b3d-a10d-5cbcd0071634",
   "metadata": {},
   "outputs": [],
   "source": [
    "custom = custom.rename(columns={'mlp':'custom'})"
   ]
  },
  {
   "cell_type": "code",
   "execution_count": null,
   "id": "db167391-57d4-4298-b6dd-d35cc59c4d8f",
   "metadata": {},
   "outputs": [],
   "source": [
    "standart =  get_history_from_project('thesis-near_ood-temperature-dt-temps').drop(['msp', 'mlp_std', 'msp_std'], axis=1).set_index('name', drop=True)"
   ]
  },
  {
   "cell_type": "code",
   "execution_count": null,
   "id": "950d3c33-663e-4ef7-a090-a155240b50f9",
   "metadata": {},
   "outputs": [],
   "source": [
    "f = pd.concat([standart, custom], axis=1)"
   ]
  },
  {
   "cell_type": "code",
   "execution_count": null,
   "id": "188c31da-4fb2-4dc7-b6f4-7698ff7b61e8",
   "metadata": {
    "tags": []
   },
   "outputs": [],
   "source": [
    "f"
   ]
  },
  {
   "cell_type": "code",
   "execution_count": null,
   "id": "5bad839d-f784-4fb9-929c-da82bde49201",
   "metadata": {},
   "outputs": [],
   "source": []
  }
 ],
 "metadata": {
  "kernelspec": {
   "display_name": "Python 3 (ipykernel)",
   "language": "python",
   "name": "python3"
  },
  "language_info": {
   "codemirror_mode": {
    "name": "ipython",
    "version": 3
   },
   "file_extension": ".py",
   "mimetype": "text/x-python",
   "name": "python",
   "nbconvert_exporter": "python",
   "pygments_lexer": "ipython3",
   "version": "3.8.13"
  }
 },
 "nbformat": 4,
 "nbformat_minor": 5
}
