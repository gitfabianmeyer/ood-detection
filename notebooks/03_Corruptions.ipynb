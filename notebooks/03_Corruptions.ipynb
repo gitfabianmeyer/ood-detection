{
 "cells": [
  {
   "cell_type": "markdown",
   "id": "e78c673d-b39d-40de-abdb-2e26dca065d1",
   "metadata": {},
   "source": [
    "# IS ZOC/MCM ROBUST AGAINST CORRUPTIONS\n",
    "# DO METRICS STILL HOLD"
   ]
  },
  {
   "cell_type": "code",
   "execution_count": null,
   "id": "89062bbe-3ba1-4c44-9665-c0c58dce6346",
   "metadata": {},
   "outputs": [],
   "source": [
    "%load_ext autoreload\n",
    "%autoreload 2\n",
    "\n",
    "import matplotlib.pyplot as plt\n",
    "# Configure Matplotlib to use LaTeX for text rendering\n",
    "plt.rcParams['text.usetex'] = True\n",
    "\n",
    "# Set fonts for Matplotlib\n",
    "plt.rcParams['font.serif'] = 'Palatino'\n",
    "plt.rcParams['font.sans-serif'] = 'Helvetica'\n",
    "plt.rcParams['font.monospace'] = 'Courier'\n",
    "plt.rcParams['font.size'] = 11\n",
    "width_cm = 15\n",
    "height_cm = 8\n",
    "# Convert centimeters to inches\n",
    "width_in = width_cm / 2.54\n",
    "height_in = height_cm / 2.54\n",
    "import seaborn as sns\n",
    "sns.set_theme()\n",
    "figsize= (width_in, height_in)\n",
    "\n",
    "\n",
    "import os\n",
    "from metrics.plotting_utils import save_plot, get_history_from_project, save_csv, get_dataset_name_mapping\n",
    "import numpy as np\n",
    "import matplotlib.pyplot as plt\n",
    "import pandas as pd \n",
    "import wandb\n",
    "api = wandb.Api()\n",
    "from ood_detection.config import Config\n",
    "from datasets.config import DATASETS_DICT\n",
    "dataset_mapping = get_dataset_name_mapping()"
   ]
  },
  {
   "cell_type": "markdown",
   "id": "aea060ee-e6ea-4b88-b805-74c92fcba6cd",
   "metadata": {},
   "source": [
    "## 1. Show influence of corruptions on metrics. three small plots"
   ]
  },
  {
   "cell_type": "code",
   "execution_count": null,
   "id": "6d6f8bb8-f88e-4287-82fa-c5a927d7bc5d",
   "metadata": {},
   "outputs": [],
   "source": [
    "# base metrics\n",
    "clp = get_history_from_project('thesis-clp-temperature-100runs')\n",
    "mmd = get_history_from_project('thesis-mmd-100')\n",
    "zsa_class = tip_df = get_history_from_project('thesis-tip-adapters-16_shots-test')['ZEROSHOT']\n",
    "clp_one_temp = clp[(clp['temperature'] < 1.13) & (clp['temperature'] > 0.98)]\n",
    "clp_one_temp = clp_one_temp.drop(['temperature', 'std'], axis=1)\n",
    "mmd = mmd.drop('std', axis=1)\n",
    "distances = pd.concat([mmd, clp_one_temp, zsa_class], axis=1).rename(columns={'ZEROSHOT': 'zsa'})"
   ]
  },
  {
   "cell_type": "code",
   "execution_count": null,
   "id": "9ffab177-8cf4-4538-8571-73f86fcdc0c7",
   "metadata": {},
   "outputs": [],
   "source": [
    "base = distances.copy()\n",
    "base"
   ]
  },
  {
   "cell_type": "code",
   "execution_count": null,
   "id": "0e3bc3aa-a0a9-4320-affc-336634f75e1c",
   "metadata": {},
   "outputs": [],
   "source": [
    "corr_orig = get_history_from_project('thesis-corruption-distances-final', set_name_index=False)\n"
   ]
  },
  {
   "cell_type": "code",
   "execution_count": null,
   "id": "2d7d9b79-e95e-4d43-88e6-c5bdaee172cd",
   "metadata": {},
   "outputs": [],
   "source": [
    "corr_distances = corr_orig.copy()\n",
    "corr_distances['corruption'] = corr_distances['name'].apply(lambda x: x.split('_')[1])\n",
    "corr_distances['comboname'] = corr_distances['name'] +  '_' + corr_distances['severity'].astype(str)\n",
    "corr_distances['name'] = corr_distances['name'].apply(lambda x: x.split('_')[0])\n",
    "corr_distances = corr_distances.set_index('comboname').drop(['clp_std', 'mmd_std'], axis=1)\n",
    "for name in corr_distances.name.unique():\n",
    "    for c in corr_distances.corruption.unique():\n",
    "        new_values = {}\n",
    "        index_name = f\"{name}_{c}_0\"\n",
    "        new_values['severity']= 0\n",
    "        new_values['mmd'] = base.loc[name]['mmd']\n",
    "        new_values['zsa'] =base.loc[name]['zsa'] / 100\n",
    "        new_values['clp'] = base.loc[name]['clp']\n",
    "        new_values['name']= name\n",
    "        new_values['corruption']= c\n",
    "        corr_distances.loc[index_name]= new_values"
   ]
  },
  {
   "cell_type": "code",
   "execution_count": null,
   "id": "97f5e77e-d51f-452e-aec3-4d3115b5de10",
   "metadata": {},
   "outputs": [],
   "source": [
    "corr_distances[corr_distances['severity'] == 0]"
   ]
  },
  {
   "cell_type": "code",
   "execution_count": null,
   "id": "070bb47e-048a-4dda-b8bf-a027a2ff1329",
   "metadata": {},
   "outputs": [],
   "source": [
    "corr_distances.severity.unique()"
   ]
  },
  {
   "cell_type": "code",
   "execution_count": null,
   "id": "1a00c5e5-d12b-496a-9f73-9d38f0dc8a5e",
   "metadata": {},
   "outputs": [],
   "source": [
    "corr_distances.head(1)"
   ]
  },
  {
   "cell_type": "markdown",
   "id": "1d0de5ba-ba89-45ed-9191-a9ab55cf4865",
   "metadata": {},
   "source": [
    "### Express increase / decrease in percentual change from origin"
   ]
  },
  {
   "cell_type": "code",
   "execution_count": null,
   "id": "2969db97-507c-4963-abc1-28359069e018",
   "metadata": {},
   "outputs": [],
   "source": [
    "# group by name and corruption. take value from 4 and substract 0\n",
    "from collections import defaultdict\n",
    "diff_dict = defaultdict(list)\n",
    "difficulty_metrics = ['zsa', 'mmd', 'clp']\n",
    "for name, group in corr_distances.groupby(['name', 'corruption']):\n",
    "    min_df = group[group['severity']==0]\n",
    "    max_df = group[group['severity']==5]\n",
    "\n",
    "    for metric in difficulty_metrics:\n",
    "        diff_dict[metric].append(max_df[metric][0] - min_df[metric][0])"
   ]
  },
  {
   "cell_type": "code",
   "execution_count": null,
   "id": "c11d6e12-6e58-4b7f-b664-de9433a30609",
   "metadata": {},
   "outputs": [],
   "source": [
    "def get_mean_std(dicti, metric):\n",
    "    print(f\"{metric}: mean:{np.mean(dicti[metric])}, std:{np.std(dicti[metric])}\")\n",
    "\n",
    "for metric in difficulty_metrics:\n",
    "    get_mean_std(diff_dict, metric)"
   ]
  },
  {
   "cell_type": "code",
   "execution_count": null,
   "id": "3d2ae146-a206-4e69-a172-7db211b30003",
   "metadata": {},
   "outputs": [],
   "source": [
    "# 10 reduziert sich um 4, das sind: 4/10= 40%"
   ]
  },
  {
   "cell_type": "code",
   "execution_count": null,
   "id": "9726a327-b005-406a-ba9d-cd39b0bcffbf",
   "metadata": {},
   "outputs": [],
   "source": [
    "for metric in difficulty_metrics:\n",
    "    orig_met = np.abs(base.mean()[metric])\n",
    "    if metric=='zsa':\n",
    "        orig_met = orig_met / 100\n",
    "    change = np.abs(np.mean(diff_dict[metric]))\n",
    "    print(f\"{metric}: orig: {orig_met} to: {orig_met -change}, change: {change} is: {change/orig_met}\")\n"
   ]
  },
  {
   "cell_type": "markdown",
   "id": "1169974a-9ae5-4fa4-b8bc-4909ecad2507",
   "metadata": {},
   "source": [
    "#### --> take flowers brightness (zsa decreases nice), caltech snow (mmd) and caltech gaussian (clp)\n"
   ]
  },
  {
   "cell_type": "code",
   "execution_count": null,
   "id": "0018da3f-bd23-4513-ab7b-8e549e4cafb9",
   "metadata": {},
   "outputs": [],
   "source": [
    "mmd_groups = [('caltech101', 'Snow'), ('dtd', 'Gaussian'), ('flowers102', 'Brightness')]\n",
    "clp_groups = [('flowers102', 'Brightness'), ('caltech cub', 'Gaussian'), ('caltech101', 'Snow')]\n",
    "zsa_groups = [('caltech cub', 'Brightness'), ('flowers102', 'Gaussian'), ('dtd', 'Snow')]"
   ]
  },
  {
   "cell_type": "code",
   "execution_count": null,
   "id": "9c77715b-151a-46ab-b386-6720ac1183aa",
   "metadata": {},
   "outputs": [],
   "source": [
    "figsize"
   ]
  },
  {
   "cell_type": "code",
   "execution_count": null,
   "id": "556c460a-5430-4165-b1b7-719eefcedc90",
   "metadata": {},
   "outputs": [],
   "source": [
    "plt.rcParams['font.size'] = 14"
   ]
  },
  {
   "cell_type": "code",
   "execution_count": null,
   "id": "9657a53b-a28b-433c-81c8-493b884e5eb2",
   "metadata": {},
   "outputs": [],
   "source": [
    "metrix = 'zsa'\n",
    "fig, ax = plt.subplots(figsize=(5,5))\n",
    "for name, group in corr_distances[[metrix, 'corruption', 'severity','name']].groupby(['name', 'corruption']):\n",
    "    if name in zsa_groups:\n",
    "    # if name:\n",
    "        g = group.sort_values('severity')\n",
    "        label_name = f\"{dataset_mapping[name[0]]} - {name[1]}\"\n",
    "        ax.plot(g['severity'], g[metrix], label=label_name)\n",
    "        ax.set_xticks(g['severity'])\n",
    "        ax.set_xticklabels([0,1,3,5])\n",
    "ax.set_ylabel(metrix.upper(), fontsize=18)\n",
    "ax.set_xlabel('Severity of Corruption', fontsize=18)\n",
    "# ax.set_title('Corruptions - Zero-Shot Accuracy')\n",
    "ax.legend(fontsize=14)\n",
    "plt.tight_layout()\n",
    "save_plot(fig, metrix + 'corrupted', '5_3', False)"
   ]
  },
  {
   "cell_type": "code",
   "execution_count": null,
   "id": "74c21618-4f48-4ce8-9208-03e5001d26e2",
   "metadata": {
    "tags": []
   },
   "outputs": [],
   "source": [
    "metrix= 'mmd'\n",
    "fig, ax = plt.subplots(figsize=(5,5))\n",
    "for name, group in corr_distances[[metrix, 'corruption', 'severity','name']].groupby(['name', 'corruption']):\n",
    "    if name in mmd_groups:\n",
    "    # if name:\n",
    "        g = group.sort_values('severity')\n",
    "        label_name = f\"{dataset_mapping[name[0]]} - {name[1]}\"\n",
    "        ax.plot(g['severity'], g[metrix], label=label_name)\n",
    "        ax.set_xticks(g['severity'])\n",
    "        #ax.set_xticklabels([0,1,3,5])\n",
    "ax.set_ylabel(metrix.upper(), fontsize=18)\n",
    "ax.set_xlabel('Severity of Corruption', fontsize=18)\n",
    "# ax.set_title('Corruptions - Maximum Mean Discrepancy')\n",
    "ax.legend(fontsize=14)\n",
    "plt.tight_layout()\n",
    "save_plot(fig, metrix + 'corrupted', '5_3', False)"
   ]
  },
  {
   "cell_type": "code",
   "execution_count": null,
   "id": "959d8e14-1edd-4ab4-aecd-b4cdf413f954",
   "metadata": {
    "tags": []
   },
   "outputs": [],
   "source": [
    "metrix = 'clp'\n",
    "fig, ax = plt.subplots(figsize=(5,5))\n",
    "for name, group in corr_distances[[metrix, 'corruption', 'severity','name']].groupby(['name', 'corruption']):\n",
    "    if name in clp_groups:\n",
    "    #if name:\n",
    "        g = group.sort_values('severity')\n",
    "        label_name = f\"{dataset_mapping[name[0]]} - {name[1]}\"\n",
    "        ax.plot(g['severity'], g[metrix], label=label_name)\n",
    "        ax.set_xticks(g['severity'])\n",
    "ax.set_ylabel(metrix.upper(), fontsize=18)\n",
    "ax.set_xlabel('Severity of Corruption', fontsize=18)\n",
    "# ax.set_title('Corruptions -Confusion Log Probability')\n",
    "ax.legend(fontsize=14)\n",
    "plt.tight_layout()\n",
    "save_plot(fig, metrix + 'corrupted', '5_3', False)"
   ]
  },
  {
   "cell_type": "code",
   "execution_count": null,
   "id": "ee99b90c-d72e-469e-aa9f-485bfd54784d",
   "metadata": {},
   "outputs": [],
   "source": [
    "plt.rcParams['font.size'] = 11"
   ]
  },
  {
   "cell_type": "code",
   "execution_count": null,
   "id": "6b9bd66f-fceb-46ee-98d8-8363816b994b",
   "metadata": {},
   "outputs": [],
   "source": [
    "fig, axs = plt.subplots(ncols=3, figsize=figsize)\n",
    "for i, metrix in enumerate(['zsa', 'mmd', 'clp']):\n",
    "    ax = axs[i]\n",
    "    for name, group in corr_distances[[metrix, 'corruption', 'severity','name']].groupby(['name', 'corruption']):\n",
    "        if name in clp_groups:\n",
    "        #if name:\n",
    "            g = group.sort_values('severity')\n",
    "            label_name = f\"{dataset_mapping[name[0]]} - {name[1]}\"\n",
    "            ax.plot(g['severity'], g[metrix], label=label_name)\n",
    "            ax.set_xticks(g['severity'])\n",
    "    ax.set_ylabel(metrix.upper())\n",
    "    ax.set_xlabel('Severity of Corruption')\n",
    "    # ax.set_title('Corruptions -Confusion Log Probability')\n",
    "    ax.legend(fontsize=7)\n",
    "    \n",
    "    \n",
    "    \n",
    "plt.tight_layout()\n",
    "save_plot(fig, metrix + 'all_three_metrics', '5_3', False)"
   ]
  },
  {
   "cell_type": "markdown",
   "id": "6834d97f-ae0a-4dee-9cae-7ece3cb9b2ea",
   "metadata": {},
   "source": [
    "## 2. Show sample of performance descrease for 1 or 2 datasets. Look how crowded it gets"
   ]
  },
  {
   "cell_type": "markdown",
   "id": "bfe461f7-5575-4529-8f9c-be3ce45e06af",
   "metadata": {},
   "source": [
    "# show influence on zoc, linear base line and mcm (maybe values, tables)"
   ]
  },
  {
   "cell_type": "markdown",
   "id": "dfd919cd-922c-4048-981c-9a5cc87097f4",
   "metadata": {},
   "source": [
    "## 2.1 Show influence with table"
   ]
  },
  {
   "cell_type": "code",
   "execution_count": null,
   "id": "1a3239c6-b91d-4de7-ae61-8f0e0020b6f8",
   "metadata": {},
   "outputs": [],
   "source": [
    "og_zoc = get_history_from_project('thesis-corruptions-zoc-final-5', set_name_index=False)\n",
    "corr_auc = og_zoc.copy()\n",
    "corr_auc['severity'] = corr_auc['severity'].astype(int)\n",
    "corr_auc['comboname'] = corr_auc['name'] + '_' + corr_auc['severity'].astype(str)\n",
    "corr_auc['corruption'] = corr_auc['name'].apply(lambda x: x.split(\"_\")[1])\n",
    "corr_auc['name'] = corr_auc['name'].apply(lambda x: x.split(\"_\")[0])\n",
    "corr_auc = corr_auc.set_index('comboname')"
   ]
  },
  {
   "cell_type": "code",
   "execution_count": null,
   "id": "a1459054-6b4b-4e2b-87b6-83ac12b388c9",
   "metadata": {},
   "outputs": [],
   "source": [
    "# add zoc baselin\n",
    "# get zoc\n",
    "columns={'auc-sum': 'ZOC', 'auc-sum-std':'ZOC-std'}\n",
    "full_zoc_1 = get_history_from_project('thesis-zsoodd_10_runs-std')\n",
    "working = full_zoc_1.copy()\n",
    "metric_of_interest = ['auc-sum', 'auc-sum-std']\n",
    "working_zoc = working[metric_of_interest]"
   ]
  },
  {
   "cell_type": "code",
   "execution_count": null,
   "id": "d4b6560b-8b13-4115-af0e-bb1a59f092a0",
   "metadata": {},
   "outputs": [],
   "source": [
    "corr_auc.head(3)"
   ]
  },
  {
   "cell_type": "code",
   "execution_count": null,
   "id": "ad232ea6-ab31-4cf2-a030-ac2e73c27a33",
   "metadata": {},
   "outputs": [],
   "source": [
    "final_corr = corr_auc.copy()\n",
    "final_corr = final_corr[[col for col in final_corr.columns if col in ['auc-sum','name', 'auc-sum-std', 'corruption', 'severity']]]\n",
    "for name in final_corr.name.unique():\n",
    "    for c in final_corr.corruption.unique():\n",
    "        new_values = {}\n",
    "        index_name = f\"{name}_{c}_0\"\n",
    "        new_values['severity']= 0\n",
    "        new_values['auc-sum'] = working_zoc.loc[name]['auc-sum']\n",
    "        new_values['auc-sum-std'] = working_zoc.loc[name]['auc-sum-std']\n",
    "        new_values['name']= name\n",
    "        new_values['corruption']= c\n",
    "        final_corr.loc[index_name]= new_values"
   ]
  },
  {
   "cell_type": "markdown",
   "id": "6a90c92d-fdb3-46e4-83c9-9ff1c40c4cb8",
   "metadata": {},
   "source": [
    "## Plot to group & mean all names or corruptions, best to show a trend!"
   ]
  },
  {
   "cell_type": "code",
   "execution_count": null,
   "id": "777f31a2-cfe0-414d-aa46-500d8fae8a40",
   "metadata": {},
   "outputs": [],
   "source": [
    "# make it possible to create plots grouped by a corruption, a name, severity\n",
    "def plot_grouper_meaner(grouper, df, metric='zoc'):\n",
    "    \n",
    "    \n",
    "    if metric == 'zoc':\n",
    "        auroc = 'auc-sum'\n",
    "    else:\n",
    "        auroc = 'auc-max'\n",
    "    metric_of_interest = [auroc, auroc+ '-std']\n",
    "    all_groups = ['corruption','name']\n",
    "    all_groups.remove(grouper)\n",
    "    sevs = [0,1,3,5]\n",
    "\n",
    "    leftover=all_groups[0]\n",
    "    fig, ax = plt.subplots()\n",
    "    for name, group in df.groupby(grouper):\n",
    "        # for corruption\n",
    "        df = group[[auroc,'severity','name']].sort_values('severity')\n",
    "        # for each severity sum up all corruption values\n",
    "        means =[]\n",
    "        for sev in sevs:\n",
    "            means.append(df[df['severity']==sev][auroc].mean())\n",
    "        if grouper== 'name':\n",
    "            ax.plot(sevs, means, label=dataset_mapping[name])\n",
    "        else:\n",
    "            ax.plot(sevs, means, label=name)\n",
    "\n",
    "    # hline\n",
    "    ax.hlines(0.5, xmin=0, xmax=len(means)+1, colors='darkgrey', alpha=0.9, linestyles='--', lw=2, label='Uninformed Guesser')\n",
    "    ax.legend(loc='upper left', bbox_to_anchor=(1, 1), fontsize=7)\n",
    "    plt.subplots_adjust(right=0.75)\n",
    "\n",
    "    ax.set_xlabel('Severity of Corruption')\n",
    "    ax.set_ylabel('mean AUROC')\n",
    "    t = ax.set_xticks(sevs)\n",
    "    plt.tight_layout()\n",
    "\n",
    "    save_plot(fig, f'{metric}_grouped_{grouper}_mean_{leftover}', '5_3', False)\n"
   ]
  },
  {
   "cell_type": "code",
   "execution_count": null,
   "id": "496aca52-41bd-4a45-8527-3076b0f80598",
   "metadata": {},
   "outputs": [],
   "source": [
    "plot_grouper_meaner('name', final_corr)"
   ]
  },
  {
   "cell_type": "code",
   "execution_count": null,
   "id": "27faaeff-e605-489f-847c-b631391a38d0",
   "metadata": {},
   "outputs": [],
   "source": [
    "plot_grouper_meaner('corruption', final_corr)"
   ]
  },
  {
   "cell_type": "code",
   "execution_count": null,
   "id": "0c8b00cf-ccad-4bd1-a2f4-1f01e3a785f1",
   "metadata": {},
   "outputs": [],
   "source": [
    "for name, group in final_corr.groupby(['name', 'severity', 'corruption']):\n",
    "    if name[0] == 'gtsrb':\n",
    "        if name[2] == 'Brightness':\n",
    "            print(group)\n",
    "            print(\"\\n\\n\")"
   ]
  },
  {
   "cell_type": "code",
   "execution_count": null,
   "id": "9a2d310c-38ed-4adb-993b-ff755fb05a5e",
   "metadata": {},
   "outputs": [],
   "source": [
    "final_corr.corr()"
   ]
  },
  {
   "cell_type": "markdown",
   "id": "fcee2c6e-7af2-42d7-be54-3bff73db2c3f",
   "metadata": {},
   "source": [
    "## Create monstrum again"
   ]
  },
  {
   "cell_type": "code",
   "execution_count": null,
   "id": "772ed441-de13-4e11-befd-942b88b280cc",
   "metadata": {},
   "outputs": [],
   "source": [
    "full_corruption_zoc = pd.concat([corr_distances, final_corr[['auc-sum', 'auc-sum-std']]], axis=1)"
   ]
  },
  {
   "cell_type": "code",
   "execution_count": null,
   "id": "3290f0af-e57f-4dc6-8600-5351f1c46651",
   "metadata": {},
   "outputs": [],
   "source": [
    "of_interest = ['zsa', 'severity','mmd', 'clp', 'auc-sum','auc-sum-std']\n",
    "full_corruption_zoc.dropna()[of_interest].corr()['auc-sum'].round(3)"
   ]
  },
  {
   "cell_type": "markdown",
   "id": "79699b82-acc2-49a9-8711-84747235369d",
   "metadata": {},
   "source": [
    "## See, where the method breaks (ZOC)"
   ]
  },
  {
   "cell_type": "code",
   "execution_count": null,
   "id": "3932eddf-873d-4d4d-afe0-bd18d44a128a",
   "metadata": {},
   "outputs": [],
   "source": [
    "full_corruption_zoc[full_corruption_zoc['name'] == 'gtsrb']"
   ]
  },
  {
   "cell_type": "code",
   "execution_count": null,
   "id": "f7cc3962-60ae-4cd7-a3f0-d867db39595c",
   "metadata": {},
   "outputs": [],
   "source": [
    "threshold = .04\n",
    "full_corruption_zoc.dropna()[(full_corruption_zoc['auc-sum'] < 0.5 + threshold) & (full_corruption_zoc['auc-sum'] > 0.5-threshold)][of_interest].sort_index()"
   ]
  },
  {
   "cell_type": "markdown",
   "id": "4b9326dd-110b-459c-86e2-076eccd55fc4",
   "metadata": {},
   "source": [
    "## MLS: Funktioniert "
   ]
  },
  {
   "cell_type": "code",
   "execution_count": null,
   "id": "74a767bc-fb0b-4fee-a9ba-0a2253bccb65",
   "metadata": {},
   "outputs": [],
   "source": [
    "df_mls = get_history_from_project('thesis-corruptions-mls-1', set_name_index=False)\n",
    "mls_auc = df_mls.copy()\n",
    "mls_auc['severity'] = mls_auc['severity'].astype(int)\n",
    "mls_auc['comboname'] = mls_auc['name'] + '_' + mls_auc['severity'].astype(str)\n",
    "mls_auc['corruption'] = mls_auc['name'].apply(lambda x: x.split(\"_\")[1])\n",
    "mls_auc['name'] = mls_auc['name'].apply(lambda x: x.split(\"_\")[0])\n",
    "mls_auc = mls_auc.set_index('comboname')\n",
    "full_mls = get_history_from_project('thesis-near-mcm-mls-1.0')\n",
    "working = full_mls.copy()\n",
    "metric_of_interest = ['auc-max', 'auc-max-std']\n",
    "working_mls = working[metric_of_interest]\n",
    "final_mls = mls_auc.copy()\n",
    "final_mls = final_mls[[col for col in final_mls.columns if col in ['auc-max','name', 'auc-max-std', 'corruption', 'severity']]]\n",
    "for name in final_mls.name.unique():\n",
    "    for c in final_mls.corruption.unique():\n",
    "        new_values = {}\n",
    "        index_name = f\"{name}_{c}_0\"\n",
    "        new_values['severity']= 0\n",
    "        new_values['auc-max'] = working_mls.loc[name]['auc-max']\n",
    "        new_values['auc-max-std'] = working_mls.loc[name]['auc-max-std']\n",
    "        new_values['name']= name\n",
    "        new_values['corruption']= c\n",
    "        final_mls.loc[index_name]= new_values"
   ]
  },
  {
   "cell_type": "code",
   "execution_count": null,
   "id": "aad69d1b-df1e-4af5-8e34-cc6c2fd666c7",
   "metadata": {},
   "outputs": [],
   "source": [
    "for name, group in final_mls.groupby(['name', 'severity', 'corruption']):\n",
    "    if name[0] == 'gtsrb':\n",
    "        if name[2] == 'Brightness':\n",
    "            print(group)\n",
    "            print(\"\\n\\n\")"
   ]
  },
  {
   "cell_type": "code",
   "execution_count": null,
   "id": "dad01313-ffb8-4628-80d0-653c7584ead9",
   "metadata": {},
   "outputs": [],
   "source": [
    "def plot_grouper_meaner_double(groupers, df, metric):\n",
    "    fig, axs = plt.subplots(nrows=len(groupers), figsize=figsize, sharex=True)\n",
    "\n",
    "    for i, grouper in enumerate(groupers):\n",
    "        if metric == 'zoc':\n",
    "            auroc = 'auc-sum'\n",
    "        else:\n",
    "            auroc = 'auc-max'\n",
    "        metric_of_interest = [auroc, auroc+ '-std']\n",
    "        all_groups = ['corruption','name']\n",
    "        all_groups.remove(grouper)\n",
    "        sevs = [0,1,3,5]\n",
    "\n",
    "        leftover=all_groups[0]\n",
    "        for name, group in df.groupby(grouper):\n",
    "            interm_df = group[[auroc,'severity','name']].sort_values('severity')\n",
    "            means =[]\n",
    "            for sev in sevs:\n",
    "                means.append(interm_df[interm_df['severity']==sev][auroc].mean())\n",
    "            if i == 0:\n",
    "                axs[i].plot(sevs, means, label=dataset_mapping[name])\n",
    "            else:\n",
    "                axs[i].plot(sevs, means, label=name)\n",
    "        # set yticks\n",
    "        axs[i].set_yticks([0.5, 0.7, 0.9])\n",
    "            \n",
    "\n",
    "        axs[i].hlines(0.5, xmin=0, xmax=len(means)+1, colors='darkgrey', alpha=0.9, linestyles='--', lw=2, label='Uninformed Guesser')\n",
    "        axs[i].legend(loc='upper left', bbox_to_anchor=(1, 1), fontsize=7)\n",
    "\n",
    "    fig.text(0.4, 0, 'Severity of Corruption', ha='center')\n",
    "    fig.text(0.0, 0.5, 'mean AUROC', va='center', rotation='vertical')\n",
    "    \n",
    "    # set xticks\n",
    "    plt.xticks([0, 1, 3, 5])\n",
    "\n",
    "    # set yticks\n",
    "    plt.yticks([0.5, 0.7, 0.9])\n",
    "    \n",
    "    plt.tight_layout()\n",
    "    save_plot(fig, f'{metric}_grouped_{str(groupers)}_mean', '5_3', False)\n",
    "    \n",
    "    \n",
    "plot_grouper_meaner_double(['name', 'corruption'], final_mls, 'mls')"
   ]
  },
  {
   "cell_type": "code",
   "execution_count": null,
   "id": "ad1030f5-6228-49bd-9ecd-7e14ead814a8",
   "metadata": {},
   "outputs": [],
   "source": [
    "plot_grouper_meaner('name',final_mls, 'mls')"
   ]
  },
  {
   "cell_type": "code",
   "execution_count": null,
   "id": "e3d48232-5173-4a0a-b453-5b2fb4ebcb19",
   "metadata": {},
   "outputs": [],
   "source": [
    "plot_grouper_meaner('corruption',final_mls, 'mls')"
   ]
  },
  {
   "cell_type": "code",
   "execution_count": null,
   "id": "65d13ce4-27eb-4400-aa73-bd28d8516c2b",
   "metadata": {},
   "outputs": [],
   "source": [
    "full_corruption_df = pd.concat([corr_distances, final_mls[['auc-max', 'auc-max-std']]], axis=1)\n",
    "of_interest = ['zsa', 'severity','mmd', 'clp', 'auc-max','auc-max-std', 'name', 'corruption']\n",
    "\n",
    "full_corruption_mls = pd.concat([corr_distances, final_mls[['auc-max', 'auc-max-std']]], axis=1)\n",
    "threshold = .05\n",
    "full_corruption_mls.dropna()[(full_corruption_mls['auc-max'] < 0.5 + threshold) & (full_corruption_mls['auc-max'] > 0.5-threshold)][of_interest]"
   ]
  },
  {
   "cell_type": "code",
   "execution_count": null,
   "id": "a8c7b8f6-5cf5-4981-8d12-e5423df45e16",
   "metadata": {},
   "outputs": [],
   "source": [
    "full_corruption_df[full_corruption_df['severity'] ==0].sort_values('auc-max')"
   ]
  },
  {
   "cell_type": "markdown",
   "id": "29dcd76d-7545-4c87-96e4-551fbacbb897",
   "metadata": {},
   "source": [
    "## MSP"
   ]
  },
  {
   "cell_type": "code",
   "execution_count": null,
   "id": "7eec1017-8ec4-4fc9-bf7f-e49941a781b1",
   "metadata": {},
   "outputs": [],
   "source": [
    "df_msp = get_history_from_project('thesis-corruptions-msp-1', set_name_index=False)\n",
    "msp_auc = df_msp.copy()\n",
    "msp_auc['severity'] = msp_auc['severity'].astype(int)\n",
    "msp_auc['comboname'] = msp_auc['name'] + '_' + msp_auc['severity'].astype(str)\n",
    "msp_auc['corruption'] = msp_auc['name'].apply(lambda x: x.split(\"_\")[1])\n",
    "msp_auc['name'] = msp_auc['name'].apply(lambda x: x.split(\"_\")[0])\n",
    "msp_auc = msp_auc.set_index('comboname')\n",
    "full_msp = get_history_from_project('thesis-near-mcm-msp-1.0')\n",
    "working = full_msp.copy()\n",
    "metric_of_interest = ['auc-max', 'auc-max-std']\n",
    "working_msp = working[metric_of_interest]\n",
    "final_msp = msp_auc.copy()\n",
    "final_msp = final_msp[[col for col in final_msp.columns if col in ['auc-max','name', 'auc-max-std', 'corruption', 'severity']]]\n",
    "for name in final_msp.name.unique():\n",
    "    for c in final_msp.corruption.unique():\n",
    "        new_values = {}\n",
    "        index_name = f\"{name}_{c}_0\"\n",
    "        new_values['severity']= 0\n",
    "        new_values['auc-max'] = working_msp.loc[name]['auc-max']\n",
    "        new_values['auc-max-std'] = working_msp.loc[name]['auc-max-std']\n",
    "        new_values['name']= name\n",
    "        new_values['corruption']= c\n",
    "        final_msp.loc[index_name]= new_values"
   ]
  },
  {
   "cell_type": "code",
   "execution_count": null,
   "id": "e2c6c367-1e92-4126-b478-5d1c8538649c",
   "metadata": {},
   "outputs": [],
   "source": [
    "plot_grouper_meaner('name',final_msp, 'msp')\n",
    "plot_grouper_meaner('corruption',final_msp, 'msp')"
   ]
  },
  {
   "cell_type": "code",
   "execution_count": null,
   "id": "abe0224a-84a5-46e4-ac09-6d36c15b88f1",
   "metadata": {},
   "outputs": [],
   "source": [
    "full_corruption_msp = pd.concat([corr_distances, final_msp[['auc-max', 'auc-max-std']]], axis=1)\n",
    "of_interest = ['zsa', 'severity','mmd', 'clp', 'auc-max','auc-max-std', 'name', 'corruption']\n",
    "\n",
    "full_corruption_finals_mls = pd.concat([corr_distances, final_mls[['auc-max', 'auc-max-std']]], axis=1)\n"
   ]
  },
  {
   "cell_type": "code",
   "execution_count": null,
   "id": "390fa275-f2b5-41a7-952a-da0b79dadcb3",
   "metadata": {},
   "outputs": [],
   "source": [
    "threshold = .03\n",
    "print('MLS')\n",
    "full_corruption_mls.dropna()[(full_corruption_mls['auc-max'] < 0.5 + threshold) & (full_corruption_mls['auc-max'] > 0.5-threshold)][of_interest].sort_index()"
   ]
  },
  {
   "cell_type": "code",
   "execution_count": null,
   "id": "b79f9bf2-de5b-489a-9cdd-f47b3c255c51",
   "metadata": {},
   "outputs": [],
   "source": [
    "print('MSP')\n",
    "full_corruption_msp.dropna()[(full_corruption_msp['auc-max'] < 0.5 + threshold) & (full_corruption_msp['auc-max'] > 0.5-threshold)][of_interest].sort_index()"
   ]
  },
  {
   "cell_type": "code",
   "execution_count": null,
   "id": "e6fd57b9-930e-4fcb-ba28-c4676309f973",
   "metadata": {},
   "outputs": [],
   "source": [
    "final_corr"
   ]
  },
  {
   "cell_type": "code",
   "execution_count": null,
   "id": "7902f2c4-0b3e-41b3-a5ce-69d209f5abc2",
   "metadata": {},
   "outputs": [],
   "source": [
    "pd.concat([full_corruption_msp.rename(columns={'auc-max':'msp', 'auc-max-std': 'msp-std'})[['msp', 'msp-std']], full_corruption_mls.rename(columns={'auc-max':'mls','auc-max-std': 'mls-std'})[['mls', 'mls-std']], ], axis=1).mean()"
   ]
  },
  {
   "cell_type": "code",
   "execution_count": null,
   "id": "e3e6f7f4-2422-4c7d-8778-d295164b4005",
   "metadata": {},
   "outputs": [],
   "source": [
    "mls_msp = pd.concat([full_corruption_msp.rename(columns={'auc-max':'msp', 'auc-max-std': 'msp-std'})[['msp', 'msp-std']], full_corruption_mls.rename(columns={'auc-max':'mls','auc-max-std': 'mls-std'})[['mls', 'mls-std','name']]], axis=1)"
   ]
  },
  {
   "cell_type": "code",
   "execution_count": null,
   "id": "e7a3d8d3-8df5-4b1a-a4e4-1e9f39919d34",
   "metadata": {},
   "outputs": [],
   "source": [
    "mls_msp[['msp', 'mls','name']].groupby('name').corr()"
   ]
  },
  {
   "cell_type": "markdown",
   "id": "bc0cb3f3-1467-49e7-a10f-f94f222572ef",
   "metadata": {},
   "source": [
    "## Some hard facts"
   ]
  },
  {
   "cell_type": "code",
   "execution_count": null,
   "id": "29c7f321-4351-47ef-bc0f-b9b00167c3b9",
   "metadata": {},
   "outputs": [],
   "source": [
    "full_corruption_mls['auc-max'].mean()"
   ]
  },
  {
   "cell_type": "code",
   "execution_count": null,
   "id": "31d1d71b-d836-41ae-bab4-8ddf3cdc6983",
   "metadata": {},
   "outputs": [],
   "source": [
    "full_corruption_mls.groupby(['name', 'severity']).mean().round(3)"
   ]
  },
  {
   "cell_type": "code",
   "execution_count": null,
   "id": "684ff38f-006b-45e8-bee8-f21020f79458",
   "metadata": {},
   "outputs": [],
   "source": [
    "full_corruption_mls.groupby('corruption').mean()"
   ]
  },
  {
   "cell_type": "code",
   "execution_count": null,
   "id": "a10d1387-1654-4907-934c-32bcfec5290e",
   "metadata": {},
   "outputs": [],
   "source": [
    "full_corruption_mls[full_corruption_mls['auc-max'] < 0.6]"
   ]
  },
  {
   "cell_type": "markdown",
   "id": "1612191d-6b1c-4501-9688-7b646317c222",
   "metadata": {
    "tags": []
   },
   "source": [
    "### Now: look, where it breaks. Then, look for MMD, CLP & ZSA there. Theeeen, see if we reached these states with other and what happens"
   ]
  },
  {
   "cell_type": "markdown",
   "id": "90dd9c32-5315-4e79-a32e-697f51e2dabb",
   "metadata": {},
   "source": [
    "hol dir dir 0.5er indexe from orig. Dann sortier um nach clp. Dann schau, wo die 5er landen."
   ]
  },
  {
   "cell_type": "code",
   "execution_count": null,
   "id": "015963b9-e4a2-47b6-98fd-6530e4f3fe19",
   "metadata": {},
   "outputs": [],
   "source": [
    "threshold = 0.05"
   ]
  },
  {
   "cell_type": "code",
   "execution_count": null,
   "id": "a01180d3-7d02-4ae7-a365-51e6a876e36c",
   "metadata": {},
   "outputs": [],
   "source": [
    "resetted_index = full_corruption_mls.reset_index()"
   ]
  },
  {
   "cell_type": "code",
   "execution_count": null,
   "id": "1a8390e1-deea-4e70-a540-27f8be0ce99e",
   "metadata": {},
   "outputs": [],
   "source": [
    " resetted_index[(resetted_index['auc-max'] < 0.5+threshold ) & (resetted_index['auc-max'] > 0.5-threshold )].corr().round(2)"
   ]
  },
  {
   "cell_type": "code",
   "execution_count": null,
   "id": "4925f84b-dfa7-4b1b-9817-434233d6df67",
   "metadata": {},
   "outputs": [],
   "source": [
    "resetted_index[(resetted_index['auc-max'] < 0.5+threshold ) & (resetted_index['auc-max'] > 0.5-threshold )]"
   ]
  },
  {
   "cell_type": "code",
   "execution_count": null,
   "id": "d543370c-7ac1-4b6b-914c-f6ee61411878",
   "metadata": {},
   "outputs": [],
   "source": [
    "resetted_index.corr()['auc-max'].round(2)"
   ]
  },
  {
   "cell_type": "code",
   "execution_count": null,
   "id": "fcc7e71c-fda0-4208-93c0-b56f171491e6",
   "metadata": {},
   "outputs": [],
   "source": [
    "below_threshold = resetted_index[(resetted_index['auc-max'] < 0.5+threshold ) & (resetted_index['auc-max'] > 0.5-threshold )].index.values.astype(int)"
   ]
  },
  {
   "cell_type": "code",
   "execution_count": null,
   "id": "056eec22-e44b-4244-83d1-7ed1a9bdda86",
   "metadata": {},
   "outputs": [],
   "source": [
    "below_threshold # indices from 0.5er"
   ]
  },
  {
   "cell_type": "code",
   "execution_count": null,
   "id": "c8d108eb-339a-4b16-b0d1-9ed97940cc22",
   "metadata": {},
   "outputs": [],
   "source": [
    "resort = full_corruption_mls.reset_index().sort_values('mmd', ascending=True).reset_index()\n",
    "indice = []\n",
    "for b in below_threshold:\n",
    "    # such im resorteten nach dem alten index b. hol dir davon den neuen Index, der Position in MMD Sortierung zeigt\n",
    "    rb = resort[resort['index'] == b].index.values.astype(int)[0]\n",
    "    indice.append(rb)\n",
    "resort.loc[indice].sort_index()"
   ]
  },
  {
   "cell_type": "code",
   "execution_count": null,
   "id": "77af6a8b-c746-4a40-b7ea-ca3b00483121",
   "metadata": {},
   "outputs": [],
   "source": [
    "resort = full_corruption_mls.reset_index().sort_values('zsa', ascending=True).reset_index()\n",
    "indice = []\n",
    "for b in below_threshold:\n",
    "    rb = resort[resort['index'] == b].index.values.astype(int)[0]\n",
    "    indice.append(rb)\n",
    "resort.loc[indice].sort_index()"
   ]
  },
  {
   "cell_type": "code",
   "execution_count": null,
   "id": "376de7fb-84ab-441f-9ad3-ef7ed8c885a1",
   "metadata": {},
   "outputs": [],
   "source": [
    "resort = full_corruption_mls.reset_index().sort_values('clp', ascending=False).reset_index()\n",
    "indice = []\n",
    "for b in below_threshold:\n",
    "    rb = resort[resort['index'] == b].index.values.astype(int)[0]\n",
    "    indice.append(rb)\n",
    "resort.loc[indice].sort_index()"
   ]
  },
  {
   "cell_type": "markdown",
   "id": "56306a7d-6a89-4e4c-a41e-b07228e7502b",
   "metadata": {},
   "source": [
    "## ZOC VS MLS"
   ]
  },
  {
   "cell_type": "code",
   "execution_count": null,
   "id": "a7c3271b-fbd8-4a15-8bae-f5ee8c12c6a5",
   "metadata": {},
   "outputs": [],
   "source": [
    "def plot_errorbar(df, value_column):\n",
    "    error_corr = .5 * df[value_column + '-std']\n",
    "    lower = df[value_column] - error_corr\n",
    "    upper = df[value_column] + error_corr\n",
    "    if value_column=='auc-max':\n",
    "        name= 'MCM'\n",
    "    else:\n",
    "        name='ZOC'\n",
    "    # mean = df[value_column].mean().round(3)\n",
    "    # std = u\"\\u00B1{})\".format(df[value_column+'-std'].mean().round(2))\n",
    "    # label = name + f' (\\u03bc= {mean}' + std\n",
    "    label = name\n",
    "    ax.plot(df[value_column], label = label)\n",
    "    ax.plot(lower, color='tab:blue', alpha=.1)\n",
    "    ax.plot(upper, color='tab:blue', alpha=.1)\n",
    "    ax.fill_between(range(len(df)), lower, upper, alpha=.3)"
   ]
  },
  {
   "cell_type": "code",
   "execution_count": null,
   "id": "a298624d-bfe6-4c8d-906d-814327650c45",
   "metadata": {},
   "outputs": [],
   "source": [
    "zoc_mls = pd.concat([full_corruption_zoc[['auc-sum', 'auc-sum-std']], full_corruption_mls[['auc-max', 'auc-max-std', 'name', 'corruption','severity']]],axis=1).dropna().sort_index()"
   ]
  },
  {
   "cell_type": "code",
   "execution_count": null,
   "id": "4fc700fd-ad95-4b2b-8425-24516f6f72fd",
   "metadata": {},
   "outputs": [],
   "source": [
    "fig, ax = plt.subplots(figsize=(20,4))\n",
    "plot_errorbar(zoc_mls, 'auc-max')\n",
    "plot_errorbar(zoc_mls, 'auc-sum')\n",
    "ax.hlines(0.5, xmin=-.5, xmax=[len(zoc_mls)], colors='darkgrey', alpha=0.9, linestyles='--', lw=2, label='Uninformed Guesser')\n",
    "ticks = [dataset_mapping[col.split(\"_\")[0]] for col in zoc_mls.index]\n",
    "cotick = [col.split(\"_\")[1] for col in zoc_mls.index]\n",
    "_ = ax.set_xticklabels([ticks[i]+\" / \"+cotick[i] for i in range(len(zoc_mls))], rotation=90, ha='right')\n",
    "ax.legend(fontsize=7)\n",
    "ax.set_ylabel('AUROC')\n",
    "ax.set_xlabel('Combination')\n",
    "xticks = ax.get_xticks()\n",
    "print(xticks)\n",
    "for xtick in xticks[::2]:\n",
    "    ax.axvline(x=xtick+0.5, color='gray', linestyle='--', alpha=0.5)\n",
    "xticks = [i + 0.25 for i in range(1, len(xticks), 3)]\n",
    "_ = ax.set_xticks(xticks)\n",
    "plt.tight_layout()\n",
    "save_plot(fig, 'corruption_zoc_mcm', '5_3', False)"
   ]
  },
  {
   "cell_type": "code",
   "execution_count": null,
   "id": "3aa84a87-480a-4b5d-a8e1-9058b5aa9738",
   "metadata": {},
   "outputs": [],
   "source": [
    "zoc_mls[zoc_mls['auc-sum']<0.53][['auc-max', 'auc-sum', 'auc-sum-std'] ]"
   ]
  },
  {
   "cell_type": "code",
   "execution_count": null,
   "id": "7f648eed-dab3-4dee-8e28-7d0525908399",
   "metadata": {},
   "outputs": [],
   "source": [
    "zoc_mls.mean().round(3)"
   ]
  },
  {
   "cell_type": "code",
   "execution_count": null,
   "id": "719cdace-6860-4e01-a2ec-3526f9bdf10e",
   "metadata": {},
   "outputs": [],
   "source": [
    "zoc_mls.corr().round(3)"
   ]
  },
  {
   "cell_type": "code",
   "execution_count": null,
   "id": "5b6f602f-031d-4d0b-b00a-1ea3436143b4",
   "metadata": {},
   "outputs": [],
   "source": [
    "zoc_mls[['auc-max', 'auc-sum']].mean().round(3)"
   ]
  },
  {
   "cell_type": "code",
   "execution_count": null,
   "id": "d44aa6b5-56a3-47dd-8768-5be6b2268059",
   "metadata": {},
   "outputs": [],
   "source": [
    "zoc_mls[['auc-max', 'auc-sum']].std().round(3)"
   ]
  },
  {
   "cell_type": "code",
   "execution_count": null,
   "id": "b031a236-2fad-4e81-9081-8ca0f32213ac",
   "metadata": {},
   "outputs": [],
   "source": [
    "zoc_mls[['auc-max', 'auc-sum','name']].groupby('name').corr()"
   ]
  },
  {
   "cell_type": "code",
   "execution_count": null,
   "id": "0092be1c-39a1-4cf0-9fb2-5b7c578ad7e0",
   "metadata": {},
   "outputs": [],
   "source": [
    "zoc_mls[['auc-max', 'auc-sum','corruption']].groupby('corruption').corr()"
   ]
  },
  {
   "cell_type": "code",
   "execution_count": null,
   "id": "2e655e0d-945a-412e-a858-b7d55566a4c6",
   "metadata": {},
   "outputs": [],
   "source": [
    "zoc_mls[['auc-max', 'auc-sum','severity']].groupby('severity').corr()"
   ]
  },
  {
   "cell_type": "code",
   "execution_count": null,
   "id": "ca485933-7945-4917-9cbb-423af411c755",
   "metadata": {},
   "outputs": [],
   "source": []
  }
 ],
 "metadata": {
  "kernelspec": {
   "display_name": "Python 3 (ipykernel)",
   "language": "python",
   "name": "python3"
  },
  "language_info": {
   "codemirror_mode": {
    "name": "ipython",
    "version": 3
   },
   "file_extension": ".py",
   "mimetype": "text/x-python",
   "name": "python",
   "nbconvert_exporter": "python",
   "pygments_lexer": "ipython3",
   "version": "3.8.13"
  }
 },
 "nbformat": 4,
 "nbformat_minor": 5
}
