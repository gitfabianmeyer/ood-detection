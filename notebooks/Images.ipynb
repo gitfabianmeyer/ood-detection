{
 "cells": [
  {
   "cell_type": "code",
   "execution_count": 1,
   "id": "bfe854d5-930c-4b9b-ba5f-c0eed6b76469",
   "metadata": {
    "tags": []
   },
   "outputs": [
    {
     "name": "stderr",
     "output_type": "stream",
     "text": [
      "/home/fmeyer/miniconda3/envs/ood/lib/python3.8/site-packages/tqdm/auto.py:22: TqdmWarning: IProgress not found. Please update jupyter and ipywidgets. See https://ipywidgets.readthedocs.io/en/stable/user_install.html\n",
      "  from .autonotebook import tqdm as notebook_tqdm\n"
     ]
    }
   ],
   "source": [
    "%matplotlib inline\n",
    "import time\n",
    "import matplotlib.pyplot as plt\n",
    "from IPython import display\n",
    "\n",
    "import os\n",
    "from ood_detection.classification_utils import full_classification\n",
    "from ood_detection.config import Config\n",
    "import torchvision\n",
    "\n",
    "from datasets import caltech, flowers102, caltech_cub, svhn, mvtech\n",
    "from torch.utils.data import DataLoader\n",
    "import clip\n",
    "\n",
    "def plot_pairs(dataset, seconds = 4.):\n",
    "    dataloader = DataLoader(dataset, batch_size=1, shuffle=True)    \n",
    "    for img, label in dataloader:\n",
    "        img = img.squeeze().permute(1,2,0)\n",
    "        print(f\"Label is: {label}, a {dataset.idx_to_class[int(label)]}\")\n",
    "        display.display(plt.imshow(img))\n",
    "        plt.show()\n",
    "        display.clear_output(wait=True)\n",
    "        time.sleep(seconds)"
   ]
  },
  {
   "cell_type": "code",
   "execution_count": 2,
   "id": "7f38ce5a-c2c0-48ae-ad99-ccba33435b9a",
   "metadata": {
    "tags": []
   },
   "outputs": [],
   "source": [
    "data_path = Config.DATAPATH\n",
    "train = False\n",
    "clip_model, transform_clip = clip.load(Config.VISION_MODEL)\n",
    "transform = torchvision.transforms.Compose(transform_clip.transforms[:-1])"
   ]
  },
  {
   "cell_type": "code",
   "execution_count": 3,
   "id": "bbde5b22-185e-45d4-91ca-30683326a8eb",
   "metadata": {
    "tags": []
   },
   "outputs": [],
   "source": [
    "#dataset = caltech.OodCaltech101(data_path, transform, train)\n",
    "#dataset = caltech_cub.OodCub2011(data_path, transform, train)\n",
    "#dataset = flowers102.OodFlowers102(data_path, transform, False)\n",
    "#dataset = svhn.OodSVHN(data_path, transform, train)\n",
    "dataset = mvtech.OodMVTecADDataset(data_path, target='bottle', transforms= transform,train= train)"
   ]
  },
  {
   "cell_type": "code",
   "execution_count": 4,
   "id": "491c4a41-55f2-4e51-9948-4576064aa755",
   "metadata": {},
   "outputs": [
    {
     "name": "stdout",
     "output_type": "stream",
     "text": [
      "Transforming image\n"
     ]
    },
    {
     "ename": "AttributeError",
     "evalue": "'OodMVTecADDataset' object has no attribute 'idx_to_class'",
     "output_type": "error",
     "traceback": [
      "\u001b[0;31m---------------------------------------------------------------------------\u001b[0m",
      "\u001b[0;31mAttributeError\u001b[0m                            Traceback (most recent call last)",
      "Input \u001b[0;32mIn [4]\u001b[0m, in \u001b[0;36m<cell line: 1>\u001b[0;34m()\u001b[0m\n\u001b[0;32m----> 1\u001b[0m \u001b[43mplot_pairs\u001b[49m\u001b[43m(\u001b[49m\u001b[43mdataset\u001b[49m\u001b[43m,\u001b[49m\u001b[43m \u001b[49m\u001b[38;5;241;43m4\u001b[39;49m\u001b[43m)\u001b[49m\n",
      "Input \u001b[0;32mIn [1]\u001b[0m, in \u001b[0;36mplot_pairs\u001b[0;34m(dataset, seconds)\u001b[0m\n\u001b[1;32m     17\u001b[0m \u001b[38;5;28;01mfor\u001b[39;00m img, label \u001b[38;5;129;01min\u001b[39;00m dataloader:\n\u001b[1;32m     18\u001b[0m     img \u001b[38;5;241m=\u001b[39m img\u001b[38;5;241m.\u001b[39msqueeze()\u001b[38;5;241m.\u001b[39mpermute(\u001b[38;5;241m1\u001b[39m,\u001b[38;5;241m2\u001b[39m,\u001b[38;5;241m0\u001b[39m)\n\u001b[0;32m---> 19\u001b[0m     \u001b[38;5;28mprint\u001b[39m(\u001b[38;5;124mf\u001b[39m\u001b[38;5;124m\"\u001b[39m\u001b[38;5;124mLabel is: \u001b[39m\u001b[38;5;132;01m{\u001b[39;00mlabel\u001b[38;5;132;01m}\u001b[39;00m\u001b[38;5;124m, a \u001b[39m\u001b[38;5;132;01m{\u001b[39;00mdataset\u001b[38;5;241m.\u001b[39midx_to_class[\u001b[38;5;28mint\u001b[39m(label)]\u001b[38;5;132;01m}\u001b[39;00m\u001b[38;5;124m\"\u001b[39m)\n\u001b[1;32m     20\u001b[0m     display\u001b[38;5;241m.\u001b[39mdisplay(plt\u001b[38;5;241m.\u001b[39mimshow(img))\n\u001b[1;32m     21\u001b[0m     plt\u001b[38;5;241m.\u001b[39mshow()\n",
      "\u001b[0;31mAttributeError\u001b[0m: 'OodMVTecADDataset' object has no attribute 'idx_to_class'"
     ]
    }
   ],
   "source": [
    "plot_pairs(dataset, 4)"
   ]
  }
 ],
 "metadata": {
  "kernelspec": {
   "display_name": "Python 3 (ipykernel)",
   "language": "python",
   "name": "python3"
  },
  "language_info": {
   "codemirror_mode": {
    "name": "ipython",
    "version": 3
   },
   "file_extension": ".py",
   "mimetype": "text/x-python",
   "name": "python",
   "nbconvert_exporter": "python",
   "pygments_lexer": "ipython3",
   "version": "3.8.13"
  }
 },
 "nbformat": 4,
 "nbformat_minor": 5
}
