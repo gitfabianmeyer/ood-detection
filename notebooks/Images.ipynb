{
 "cells": [
  {
   "cell_type": "code",
   "execution_count": 1,
   "id": "bfe854d5-930c-4b9b-ba5f-c0eed6b76469",
   "metadata": {
    "tags": []
   },
   "outputs": [
    {
     "name": "stderr",
     "output_type": "stream",
     "text": [
      "/home/fmeyer/miniconda3/envs/ood/lib/python3.8/site-packages/tqdm/auto.py:22: TqdmWarning: IProgress not found. Please update jupyter and ipywidgets. See https://ipywidgets.readthedocs.io/en/stable/user_install.html\n",
      "  from .autonotebook import tqdm as notebook_tqdm\n"
     ]
    }
   ],
   "source": [
    "%matplotlib inline\n",
    "import time\n",
    "import matplotlib.pyplot as plt\n",
    "from IPython import display\n",
    "\n",
    "import os\n",
    "from ood_detection.classification_utils import full_classification\n",
    "from ood_detection.config import Config\n",
    "import torchvision\n",
    "\n",
    "from datasets import caltech, flowers102, caltech_cub, svhn\n",
    "from torch.utils.data import DataLoader\n",
    "import clip\n",
    "\n",
    "def plot_pairs(dataset, seconds = 4.):\n",
    "    dataloader = DataLoader(dataset, batch_size=1, shuffle=True)    \n",
    "    for img, label in dataloader:\n",
    "        img = img.squeeze().permute(1,2,0)\n",
    "        print(f\"Label is: {label}, a {dataset.idx_to_class[int(label)]}\")\n",
    "        display.display(plt.imshow(img))\n",
    "        plt.show()\n",
    "        display.clear_output(wait=True)\n",
    "        time.sleep(seconds)"
   ]
  },
  {
   "cell_type": "code",
   "execution_count": 2,
   "id": "7f38ce5a-c2c0-48ae-ad99-ccba33435b9a",
   "metadata": {
    "tags": []
   },
   "outputs": [],
   "source": [
    "data_path = Config.DATAPATH\n",
    "train = False\n",
    "clip_model, transform_clip = clip.load(Config.VISION_MODEL)\n",
    "transform = torchvision.transforms.Compose(transform_clip.transforms[:-1])"
   ]
  },
  {
   "cell_type": "code",
   "execution_count": 4,
   "id": "bbde5b22-185e-45d4-91ca-30683326a8eb",
   "metadata": {
    "tags": []
   },
   "outputs": [
    {
     "name": "stdout",
     "output_type": "stream",
     "text": [
      "Using downloaded and verified file: /mnt/c/Users/fmeyer/Git/ood-detection/data/svhn/test_32x32.mat\n"
     ]
    }
   ],
   "source": [
    "#dataset = caltech.OodCaltech101(data_path, transform, train)\n",
    "#dataset = caltech_cub.OodCub2011(data_path, transform, train)\n",
    "#dataset = flowers102.OodFlowers102(data_path, transform, False)\n",
    "dataset = svhn.OodSVHN(data_path, transform, train)"
   ]
  },
  {
   "cell_type": "code",
   "execution_count": 5,
   "id": "491c4a41-55f2-4e51-9948-4576064aa755",
   "metadata": {},
   "outputs": [
    {
     "ename": "KeyboardInterrupt",
     "evalue": "",
     "output_type": "error",
     "traceback": [
      "\u001b[0;31m---------------------------------------------------------------------------\u001b[0m",
      "\u001b[0;31mKeyboardInterrupt\u001b[0m                         Traceback (most recent call last)",
      "Input \u001b[0;32mIn [5]\u001b[0m, in \u001b[0;36m<cell line: 1>\u001b[0;34m()\u001b[0m\n\u001b[0;32m----> 1\u001b[0m \u001b[43mplot_pairs\u001b[49m\u001b[43m(\u001b[49m\u001b[43mdataset\u001b[49m\u001b[43m,\u001b[49m\u001b[43m \u001b[49m\u001b[38;5;241;43m4\u001b[39;49m\u001b[43m)\u001b[49m\n",
      "Input \u001b[0;32mIn [1]\u001b[0m, in \u001b[0;36mplot_pairs\u001b[0;34m(dataset, seconds)\u001b[0m\n\u001b[1;32m     21\u001b[0m plt\u001b[38;5;241m.\u001b[39mshow()\n\u001b[1;32m     22\u001b[0m display\u001b[38;5;241m.\u001b[39mclear_output(wait\u001b[38;5;241m=\u001b[39m\u001b[38;5;28;01mTrue\u001b[39;00m)\n\u001b[0;32m---> 23\u001b[0m \u001b[43mtime\u001b[49m\u001b[38;5;241;43m.\u001b[39;49m\u001b[43msleep\u001b[49m\u001b[43m(\u001b[49m\u001b[43mseconds\u001b[49m\u001b[43m)\u001b[49m\n",
      "\u001b[0;31mKeyboardInterrupt\u001b[0m: "
     ]
    }
   ],
   "source": [
    "plot_pairs(dataset, 4)"
   ]
  },
  {
   "cell_type": "code",
   "execution_count": 24,
   "id": "56aea4ed-a105-4094-8207-59d689d2bf25",
   "metadata": {},
   "outputs": [
    {
     "name": "stdout",
     "output_type": "stream",
     "text": [
      "0 / 5794\n",
      "100 / 5794\n",
      "200 / 5794\n",
      "300 / 5794\n",
      "400 / 5794\n",
      "500 / 5794\n",
      "600 / 5794\n",
      "700 / 5794\n",
      "800 / 5794\n",
      "900 / 5794\n",
      "1000 / 5794\n",
      "1100 / 5794\n",
      "1200 / 5794\n",
      "1300 / 5794\n",
      "1400 / 5794\n",
      "1500 / 5794\n",
      "1600 / 5794\n",
      "1700 / 5794\n",
      "1800 / 5794\n",
      "1900 / 5794\n",
      "2000 / 5794\n",
      "2100 / 5794\n",
      "2200 / 5794\n",
      "2300 / 5794\n",
      "2400 / 5794\n",
      "2500 / 5794\n",
      "2600 / 5794\n",
      "2700 / 5794\n",
      "2800 / 5794\n",
      "2900 / 5794\n",
      "3000 / 5794\n",
      "3100 / 5794\n",
      "3200 / 5794\n",
      "3300 / 5794\n",
      "3400 / 5794\n",
      "3500 / 5794\n",
      "3600 / 5794\n",
      "3700 / 5794\n",
      "3800 / 5794\n",
      "3900 / 5794\n",
      "4000 / 5794\n",
      "4100 / 5794\n",
      "4200 / 5794\n",
      "4300 / 5794\n",
      "4400 / 5794\n",
      "4500 / 5794\n",
      "4600 / 5794\n",
      "4700 / 5794\n",
      "4800 / 5794\n",
      "4900 / 5794\n",
      "5000 / 5794\n",
      "5100 / 5794\n",
      "5200 / 5794\n",
      "5300 / 5794\n",
      "5400 / 5794\n",
      "5500 / 5794\n",
      "5600 / 5794\n",
      "5700 / 5794\n",
      "5793 / 5794\n"
     ]
    }
   ],
   "source": [
    "for i, (f, t) in enumerate(zip(dataset.data, dataset.targets)):\n",
    "    \n",
    "    _, filename = os.path.split(f)\n",
    "    filename = \" \".join(filename.split(\"_\"))\n",
    "    lab = dataset.idx_to_class[t]\n",
    "    if lab.lower() not in filename.lower():\n",
    "        print(lab)\n",
    "        print(filename)\n",
    "        print(i)\n",
    "        break\n",
    "    if i%100==0:\n",
    "        print(f\"{i} / {len(dataset.data)}\")\n",
    "print(f\"{i} / {len(dataset.data)}\")\n"
   ]
  },
  {
   "cell_type": "code",
   "execution_count": 17,
   "id": "1d188251-d870-44fb-b394-d6c28d51be63",
   "metadata": {},
   "outputs": [
    {
     "data": {
      "text/plain": [
       "True"
      ]
     },
     "execution_count": 17,
     "metadata": {},
     "output_type": "execute_result"
    }
   ],
   "source": [
    "lab in filename"
   ]
  },
  {
   "cell_type": "code",
   "execution_count": 18,
   "id": "7b166d8c-a254-4a23-b545-eed205f9ddf5",
   "metadata": {},
   "outputs": [
    {
     "data": {
      "text/plain": [
       "'Common Yellowthroat'"
      ]
     },
     "execution_count": 18,
     "metadata": {},
     "output_type": "execute_result"
    }
   ],
   "source": [
    "lab"
   ]
  },
  {
   "cell_type": "code",
   "execution_count": 19,
   "id": "0ba2a964-2caf-4224-a559-a5b887faa3ec",
   "metadata": {},
   "outputs": [
    {
     "data": {
      "text/plain": [
       "'Common Yellowthroat 0055 190967.jpg'"
      ]
     },
     "execution_count": 19,
     "metadata": {},
     "output_type": "execute_result"
    }
   ],
   "source": [
    "filename"
   ]
  },
  {
   "cell_type": "code",
   "execution_count": 20,
   "id": "a75d1adb-ef73-4fb3-a01f-2996a9eb176c",
   "metadata": {},
   "outputs": [
    {
     "data": {
      "text/plain": [
       "False"
      ]
     },
     "execution_count": 20,
     "metadata": {},
     "output_type": "execute_result"
    }
   ],
   "source": [
    "'Black footed Albatross' == \"Black Footed Albatross\""
   ]
  },
  {
   "cell_type": "code",
   "execution_count": null,
   "id": "7580ee9d-7788-4e4e-aee2-398ebc61426a",
   "metadata": {},
   "outputs": [],
   "source": []
  }
 ],
 "metadata": {
  "kernelspec": {
   "display_name": "Python 3 (ipykernel)",
   "language": "python",
   "name": "python3"
  },
  "language_info": {
   "codemirror_mode": {
    "name": "ipython",
    "version": 3
   },
   "file_extension": ".py",
   "mimetype": "text/x-python",
   "name": "python",
   "nbconvert_exporter": "python",
   "pygments_lexer": "ipython3",
   "version": "3.8.13"
  }
 },
 "nbformat": 4,
 "nbformat_minor": 5
}
