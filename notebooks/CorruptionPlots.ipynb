{
 "cells": [
  {
   "cell_type": "code",
   "execution_count": null,
   "id": "c9bd10d2-b48c-4b76-9462-1daa0bce617c",
   "metadata": {},
   "outputs": [],
   "source": [
    "import os\n",
    "import seaborn as sns\n",
    "import matplotlib.pyplot as plt\n",
    "import pandas as pd \n",
    "import wandb\n",
    "api = wandb.Api()\n",
    "from ood_detection.config import Config\n",
    "\n",
    "csv_path = os.path.join(Config.DATAPATH, 'csvs')\n",
    "os.makedirs(csv_path, exist_ok=True)\n",
    "plot_path = os.path.join(Config.DATAPATH, 'plots')\n",
    "os.makedirs(plot_path, exist_ok=True)\n",
    "def save_csv(dataframe, name):\n",
    "    dataframe.to_csv(os.path.join(csv_path, name))\n",
    "\n",
    "def save_plot(plot, name):\n",
    "    plot.savefig(os.path.join(plot_path, name), dpi=1200)\n",
    "    \n",
    "def plot_errorbar(df, value_column):\n",
    "    error_corr = .5 * df[value_column + '_std']\n",
    "    lower = df[value_column] - error_corr\n",
    "    upper = df[value_column] + error_corr\n",
    "    ax.plot(df.temperature, df[value_column], label = value_column)\n",
    "    ax.plot(df.temperature, lower, color='tab:blue', alpha=.1)\n",
    "    ax.plot(df.temperature, upper, color='tab:blue', alpha=.1)\n",
    "    ax.fill_between(df.temperature, lower, upper, alpha=.2)\n",
    "    \n",
    "def get_history_from_project(project):\n",
    "    #Project is specified by <entity/project-name>\n",
    "    runs = api.runs(project)\n",
    "    histories = []\n",
    "    for run in runs:\n",
    "        # run.summary are the output key/values like accuracy.\n",
    "        # We call ._json_dict to omit large files\n",
    "        history = run.history()\n",
    "        history['name'] = run.name\n",
    "        histories.append(history)\n",
    "\n",
    "    return pd.concat(histories)\n"
   ]
  },
  {
   "cell_type": "code",
   "execution_count": null,
   "id": "1628ac81-81f7-4224-8109-d3fa782d5e35",
   "metadata": {},
   "outputs": [],
   "source": [
    "full_df = get_history_from_project('thesis-datasets')"
   ]
  },
  {
   "cell_type": "code",
   "execution_count": null,
   "id": "60c6f7c9-9935-417b-9cbf-8319dba958bd",
   "metadata": {},
   "outputs": [],
   "source": [
    "names_df = full_df.set_index('name')"
   ]
  },
  {
   "cell_type": "code",
   "execution_count": null,
   "id": "b7e7c892-9612-432a-8210-6ebfc24c0ea7",
   "metadata": {},
   "outputs": [],
   "source": [
    "names_df = names_df.drop(['_step','_runtime','_timestamp', 'id_split_size', 'splits', 'zsa_baseline', 'mmd_std', 'clp_std', 'model'], axis=1).sort_values('name')\n"
   ]
  }
 ],
 "metadata": {
  "kernelspec": {
   "display_name": "Python 3 (ipykernel)",
   "language": "python",
   "name": "python3"
  },
  "language_info": {
   "codemirror_mode": {
    "name": "ipython",
    "version": 3
   },
   "file_extension": ".py",
   "mimetype": "text/x-python",
   "name": "python",
   "nbconvert_exporter": "python",
   "pygments_lexer": "ipython3",
   "version": "3.8.13"
  }
 },
 "nbformat": 4,
 "nbformat_minor": 5
}
